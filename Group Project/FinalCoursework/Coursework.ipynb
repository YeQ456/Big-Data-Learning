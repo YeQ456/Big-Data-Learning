{
 "cells": [
  {
   "cell_type": "code",
   "execution_count": 1,
   "id": "68e4b268",
   "metadata": {},
   "outputs": [],
   "source": [
    "from pyspark.sql import SparkSession\n",
    "\n",
    "spark = SparkSession \\\n",
    "    .builder \\\n",
    "    .master(\"local[*]\") \\\n",
    "    .appName(\"FinalCoursework\") \\\n",
    "    .getOrCreate()\n",
    "\n",
    "sc = spark.sparkContext"
   ]
  },
  {
   "cell_type": "code",
   "execution_count": 2,
   "id": "f061c593",
   "metadata": {},
   "outputs": [],
   "source": [
    "%matplotlib inline \n",
    "import matplotlib.pyplot as plt\n",
    "import pyspark.sql.functions as F\n",
    "from pyspark.sql import Row\n",
    "\n",
    "# Helper function to test the correctness of the solutions\n",
    "def test(var, val, msg=\"\"):\n",
    "    print(\"1 test passed.\") if var == val else print(\"1 test failed. \" + msg)"
   ]
  },
  {
   "cell_type": "code",
   "execution_count": 11,
   "id": "879d748c",
   "metadata": {},
   "outputs": [],
   "source": [
    "from pyspark.sql import SparkSession\n",
    "from pyspark.sql.types import StructType, StructField, StringType, IntegerType, DoubleType\n",
    "\n",
    "schema = StructType([\n",
    "    StructField(\"created_at\", StringType(), True),\n",
    "    StructField(\"tweet_id\", DoubleType(), True),\n",
    "    StructField(\"tweet\", StringType(), True),\n",
    "    StructField(\"likes\", IntegerType(), True),\n",
    "    StructField(\"retweet_count\", IntegerType(), True),\n",
    "    StructField(\"source\", StringType(), True),\n",
    "    StructField(\"user_id\", DoubleType(), True),\n",
    "    StructField(\"user_name\", StringType(), True),\n",
    "    StructField(\"user_screen_name\", StringType(), True),\n",
    "    StructField(\"user_description\", StringType(), True),\n",
    "    StructField(\"user_join_date\", StringType(), True),\n",
    "    StructField(\"user_followers_count\", IntegerType(), True),\n",
    "    StructField(\"user_location\", StringType(), True),\n",
    "    StructField(\"lat\", DoubleType(), True),\n",
    "    StructField(\"long\", DoubleType(), True),\n",
    "    StructField(\"city\", StringType(), True),\n",
    "    StructField(\"country\", StringType(), True),\n",
    "    StructField(\"continent\", StringType(), True),\n",
    "    StructField(\"state\", StringType(), True),\n",
    "    StructField(\"state_code\", StringType(), True),\n",
    "    StructField(\"collected_at\", StringType(), True)\n",
    "    # Add more StructFields as needed for your dataset\n",
    "])"
   ]
  },
  {
   "cell_type": "code",
   "execution_count": 17,
   "id": "28aab010",
   "metadata": {},
   "outputs": [
    {
     "data": {
      "text/plain": [
       "DataFrame[created_at: string, tweet_id: double, tweet: string, likes: int, retweet_count: int, source: string, user_id: double, user_name: string, user_screen_name: string, user_description: string, user_join_date: string, user_followers_count: int, user_location: string, lat: double, long: double, city: string, country: string, continent: string, state: string, state_code: string, collected_at: string]"
      ]
     },
     "execution_count": 17,
     "metadata": {},
     "output_type": "execute_result"
    }
   ],
   "source": [
    "# <FILL-IN WITH YOUR CODE>\n",
    "df_trump = spark.read.option(\"multiline\", True).csv(\"data/hashtag_donaldtrump.csv\", schema=schema, header=True)\n",
    "df_biden = spark.read.option(\"multiline\", True).csv(\"data/hashtag_joebiden.csv\", schema=schema, header=True)\n",
    "# Cache your DataFrame\n",
    "df_trump.cache()\n",
    "df_biden.cache()\n",
    "# <FILL-IN WITH YOUR CODE>"
   ]
  },
  {
   "cell_type": "code",
   "execution_count": 4,
   "id": "9a1c0b16",
   "metadata": {},
   "outputs": [
    {
     "data": {
      "text/plain": [
       "2310698"
      ]
     },
     "execution_count": 4,
     "metadata": {},
     "output_type": "execute_result"
    }
   ],
   "source": [
    "df_trump.count()"
   ]
  },
  {
   "cell_type": "code",
   "execution_count": 5,
   "id": "2b91858d",
   "metadata": {},
   "outputs": [
    {
     "data": {
      "text/plain": [
       "1812041"
      ]
     },
     "execution_count": 5,
     "metadata": {},
     "output_type": "execute_result"
    }
   ],
   "source": [
    "df_biden.count()"
   ]
  },
  {
   "cell_type": "code",
   "execution_count": 18,
   "id": "aff130ca",
   "metadata": {},
   "outputs": [
    {
     "name": "stdout",
     "output_type": "stream",
     "text": [
      "+-------------------+--------------------+--------------------+-----+-------------+------------------+--------------------+--------------------+----------------+--------------------+-------------------+--------------------+--------------------+----------+------------+----------+--------------------+-------------+--------------------+----------+--------------------+\n",
      "|         created_at|            tweet_id|               tweet|likes|retweet_count|            source|             user_id|           user_name|user_screen_name|    user_description|     user_join_date|user_followers_count|       user_location|       lat|        long|      city|             country|    continent|               state|state_code|        collected_at|\n",
      "+-------------------+--------------------+--------------------+-----+-------------+------------------+--------------------+--------------------+----------------+--------------------+-------------------+--------------------+--------------------+----------+------------+----------+--------------------+-------------+--------------------+----------+--------------------+\n",
      "|2020-10-15 00:00:01|1.316529221557252...|#Elecciones2020 |...| null|         null|         TweetDeck|        3.60666534E8|  El Sol Latino News| elsollatinonews|🌐 Noticias de in...|2011-08-23 15:33:45|                null|Philadelphia, PA ...|  25.77427|   -80.19366|      null|United States of ...|North America|             Florida|        FL| 2020-10-21 00:00:00|\n",
      "|2020-10-15 00:00:01|1.316529222748430...|Usa 2020, Trump c...| null|         null|  Social Mediaset |        3.31617619E8|             Tgcom24| MediasetTgcom24|Profilo ufficiale...|2011-07-08 13:12:20|                null|                null|      null|        null|      null|                null|         null|                null|      null|2020-10-21 00:00:...|\n",
      "|2020-10-15 00:00:02|1.316529228091846...|#Trump: As a stud...| null|         null|   Twitter Web App|           8436472.0|              snarke|          snarke|Will mock for foo...|2007-08-26 05:56:11|                null|            Portland|45.5202471|-122.6741949|  Portland|United States of ...|North America|              Oregon|        OR|2020-10-21 00:00:...|\n",
      "|2020-10-15 00:00:02|1.316529227471237...|2 hours since las...| null|         null|     Trumpytweeter|8.283555892060569...|       Trumpytweeter|   trumpytweeter|If he doesn't twe...|2017-02-05 21:32:17|                null|                null|      null|        null|      null|                null|         null|                null|      null|2020-10-21 00:00:...|\n",
      "|2020-10-15 00:00:08|1.316529252301451...|You get a tie! An...| null|         null|Twitter for iPhone|         4.7413798E7|Rana Abtar - رنا ...|       Ranaabtar|Washington Corres...|2009-06-15 19:05:35|                null|       Washington DC|38.8949924| -77.0365581|Washington|United States of ...|North America|District of Columbia|        DC|2020-10-21 00:00:...|\n",
      "+-------------------+--------------------+--------------------+-----+-------------+------------------+--------------------+--------------------+----------------+--------------------+-------------------+--------------------+--------------------+----------+------------+----------+--------------------+-------------+--------------------+----------+--------------------+\n",
      "only showing top 5 rows\n",
      "\n"
     ]
    }
   ],
   "source": [
    "df_trump.show(5)"
   ]
  },
  {
   "cell_type": "code",
   "execution_count": null,
   "id": "4f56edd5",
   "metadata": {},
   "outputs": [],
   "source": []
  }
 ],
 "metadata": {
  "kernelspec": {
   "display_name": "Python 3 (ipykernel)",
   "language": "python",
   "name": "python3"
  },
  "language_info": {
   "codemirror_mode": {
    "name": "ipython",
    "version": 3
   },
   "file_extension": ".py",
   "mimetype": "text/x-python",
   "name": "python",
   "nbconvert_exporter": "python",
   "pygments_lexer": "ipython3",
   "version": "3.9.12"
  }
 },
 "nbformat": 4,
 "nbformat_minor": 5
}
