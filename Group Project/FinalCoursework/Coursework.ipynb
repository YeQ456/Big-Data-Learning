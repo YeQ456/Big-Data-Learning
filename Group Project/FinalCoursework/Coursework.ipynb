{
 "cells": [
  {
   "cell_type": "code",
   "execution_count": 1,
   "id": "68e4b268",
   "metadata": {},
   "outputs": [],
   "source": [
    "from pyspark.sql import SparkSession\n",
    "\n",
    "spark = SparkSession \\\n",
    "    .builder \\\n",
    "    .master(\"local[*]\") \\\n",
    "    .appName(\"FinalCoursework\") \\\n",
    "    .getOrCreate()\n",
    "\n",
    "sc = spark.sparkContext"
   ]
  },
  {
   "cell_type": "code",
   "execution_count": 2,
   "id": "f061c593",
   "metadata": {},
   "outputs": [],
   "source": [
    "%matplotlib inline \n",
    "import matplotlib.pyplot as plt\n",
    "import pyspark.sql.functions as F\n",
    "from pyspark.sql import Row\n",
    "\n",
    "# Helper function to test the correctness of the solutions\n",
    "def test(var, val, msg=\"\"):\n",
    "    print(\"1 test passed.\") if var == val else print(\"1 test failed. \" + msg)"
   ]
  },
  {
   "cell_type": "code",
   "execution_count": 20,
   "id": "28aab010",
   "metadata": {},
   "outputs": [
    {
     "data": {
      "text/plain": [
       "DataFrame[created_at: string, tweet_id: string, tweet: string, likes: string, retweet_count: string, source: string, user_id: string, user_name: string, user_screen_name: string, user_description: string, user_join_date: string, user_followers_count: string, user_location: string, lat: string, long: string, city: string, country: string, continent: string, state: string, state_code: string, collected_at: string]"
      ]
     },
     "execution_count": 20,
     "metadata": {},
     "output_type": "execute_result"
    }
   ],
   "source": [
    "# <FILL-IN WITH YOUR CODE>\n",
    "df_trump = spark.read.option(\"multiline\", True).csv(\"data/hashtag_donaldtrump.csv\", header=True, inferSchema=True)\n",
    "df_biden = spark.read.option(\"multiline\", True).csv(\"data/hashtag_joebiden.csv\", header=True, inferSchema=True)\n",
    "# Cache your DataFrame\n",
    "df_trump.cache()\n",
    "df_biden.cache()\n",
    "# <FILL-IN WITH YOUR CODE>"
   ]
  },
  {
   "cell_type": "code",
   "execution_count": 21,
   "id": "9a1c0b16",
   "metadata": {},
   "outputs": [
    {
     "data": {
      "text/plain": [
       "1041276"
      ]
     },
     "execution_count": 21,
     "metadata": {},
     "output_type": "execute_result"
    }
   ],
   "source": [
    "df_trump.count()"
   ]
  },
  {
   "cell_type": "code",
   "execution_count": 5,
   "id": "2b91858d",
   "metadata": {},
   "outputs": [
    {
     "data": {
      "text/plain": [
       "1812041"
      ]
     },
     "execution_count": 5,
     "metadata": {},
     "output_type": "execute_result"
    }
   ],
   "source": [
    "df_biden.count()"
   ]
  },
  {
   "cell_type": "code",
   "execution_count": 22,
   "id": "aff130ca",
   "metadata": {},
   "outputs": [
    {
     "name": "stdout",
     "output_type": "stream",
     "text": [
      "+-------------------+--------------------+--------------------+-----+-------------+------------------+--------------------+--------------------+----------------+--------------------+-------------------+--------------------+--------------------+----------+------------+----------+--------------------+-------------+--------------------+----------+--------------------+\n",
      "|         created_at|            tweet_id|               tweet|likes|retweet_count|            source|             user_id|           user_name|user_screen_name|    user_description|     user_join_date|user_followers_count|       user_location|       lat|        long|      city|             country|    continent|               state|state_code|        collected_at|\n",
      "+-------------------+--------------------+--------------------+-----+-------------+------------------+--------------------+--------------------+----------------+--------------------+-------------------+--------------------+--------------------+----------+------------+----------+--------------------+-------------+--------------------+----------+--------------------+\n",
      "|2020-10-15 00:00:01|1.316529221557252...|#Elecciones2020 |...|  0.0|          0.0|         TweetDeck|         360666534.0|  El Sol Latino News| elsollatinonews|🌐 Noticias de in...|2011-08-23 15:33:45|              1860.0|Philadelphia, PA ...|  25.77427|   -80.19366|      null|United States of ...|North America|             Florida|        FL| 2020-10-21 00:00:00|\n",
      "|2020-10-15 00:00:01|1.316529222748430...|Usa 2020, Trump c...| 26.0|          9.0|  Social Mediaset |         331617619.0|             Tgcom24| MediasetTgcom24|Profilo ufficiale...|2011-07-08 13:12:20|           1067661.0|                null|      null|        null|      null|                null|         null|                null|      null|2020-10-21 00:00:...|\n",
      "|2020-10-15 00:00:02|1.316529228091847...|#Trump: As a stud...|  2.0|          1.0|   Twitter Web App|           8436472.0|              snarke|          snarke|Will mock for foo...|2007-08-26 05:56:11|              1185.0|            Portland|45.5202471|-122.6741949|  Portland|United States of ...|North America|              Oregon|        OR|2020-10-21 00:00:...|\n",
      "|2020-10-15 00:00:02|1.316529227471237...|2 hours since las...|  0.0|          0.0|     Trumpytweeter|8.28355589206057e+17|       Trumpytweeter|   trumpytweeter|If he doesn't twe...|2017-02-05 21:32:17|                32.0|                null|      null|        null|      null|                null|         null|                null|      null|2020-10-21 00:00:...|\n",
      "|2020-10-15 00:00:08|1.316529252301451...|You get a tie! An...|  4.0|          3.0|Twitter for iPhone|          47413798.0|Rana Abtar - رنا ...|       Ranaabtar|Washington Corres...|2009-06-15 19:05:35|              5393.0|       Washington DC|38.8949924| -77.0365581|Washington|United States of ...|North America|District of Columbia|        DC|2020-10-21 00:00:...|\n",
      "+-------------------+--------------------+--------------------+-----+-------------+------------------+--------------------+--------------------+----------------+--------------------+-------------------+--------------------+--------------------+----------+------------+----------+--------------------+-------------+--------------------+----------+--------------------+\n",
      "only showing top 5 rows\n",
      "\n"
     ]
    }
   ],
   "source": [
    "df_trump.show(5)"
   ]
  },
  {
   "cell_type": "code",
   "execution_count": 23,
   "id": "4f56edd5",
   "metadata": {},
   "outputs": [
    {
     "name": "stdout",
     "output_type": "stream",
     "text": [
      "+-------------------+--------------------+--------------------+-----+-------------+------------------+--------------------+------------------+----------------+--------------------+-------------------+--------------------+--------------------+----------+-------------------+----+--------------------+-------------+----------+----------+--------------------+\n",
      "|         created_at|            tweet_id|               tweet|likes|retweet_count|            source|             user_id|         user_name|user_screen_name|    user_description|     user_join_date|user_followers_count|       user_location|       lat|               long|city|             country|    continent|     state|state_code|        collected_at|\n",
      "+-------------------+--------------------+--------------------+-----+-------------+------------------+--------------------+------------------+----------------+--------------------+-------------------+--------------------+--------------------+----------+-------------------+----+--------------------+-------------+----------+----------+--------------------+\n",
      "|2020-10-15 00:00:01|1.316529221557252...|#Elecciones2020 |...|  0.0|          0.0|         TweetDeck|         360666534.0|El Sol Latino News| elsollatinonews|🌐 Noticias de in...|2011-08-23 15:33:45|              1860.0|Philadelphia, PA ...|  25.77427|          -80.19366|null|United States of ...|North America|   Florida|        FL| 2020-10-21 00:00:00|\n",
      "|2020-10-15 00:00:18|1.31652929585929e+18|#HunterBiden #Hun...|  0.0|          0.0|  Twitter for iPad|         809904438.0|     Cheri A. 🇺🇸|    Biloximeemaw|Locked and loaded...|2012-09-08 01:03:57|              6628.0|                null|      null|               null|null|                null|         null|      null|      null|2020-10-21 00:00:...|\n",
      "|2020-10-15 00:00:20|1.316529305006952...|@IslandGirlPRV @B...|  0.0|          0.0|   Twitter Web App|        3494182277.0|        Flag Waver|     Flag_Wavers|                null|2015-08-30 19:38:21|              1536.0|Golden Valley Ari...|46.3040364|-109.17143119999999|null|United States of ...|North America|   Montana|        MT|2020-10-21 00:00:...|\n",
      "|2020-10-15 00:00:21|1.316529308081557...|@chrislongview Wa...|  0.0|          0.0|Twitter for iPhone|8.242596012018524...|     Michelle Ferg|   MichelleFerg4|                null|2017-01-25 14:16:17|                27.0|                null|      null|               null|null|                null|         null|      null|      null|2020-10-21 00:00:...|\n",
      "|2020-10-15 00:00:22|1.316529312741253...|#censorship #Hunt...|  1.0|          0.0|   Twitter Web App|1.032806955356545...|    the Gold State|   theegoldstate|A Silicon Valley ...|2018-08-24 01:49:01|               390.0|     California, USA|36.7014631|-118.75599740000001|null|United States of ...|North America|California|        CA|2020-10-21 00:00:...|\n",
      "+-------------------+--------------------+--------------------+-----+-------------+------------------+--------------------+------------------+----------------+--------------------+-------------------+--------------------+--------------------+----------+-------------------+----+--------------------+-------------+----------+----------+--------------------+\n",
      "only showing top 5 rows\n",
      "\n"
     ]
    }
   ],
   "source": [
    "df_biden.show(5)"
   ]
  },
  {
   "cell_type": "code",
   "execution_count": null,
   "id": "aa0a2133",
   "metadata": {},
   "outputs": [],
   "source": []
  }
 ],
 "metadata": {
  "kernelspec": {
   "display_name": "Python 3 (ipykernel)",
   "language": "python",
   "name": "python3"
  },
  "language_info": {
   "codemirror_mode": {
    "name": "ipython",
    "version": 3
   },
   "file_extension": ".py",
   "mimetype": "text/x-python",
   "name": "python",
   "nbconvert_exporter": "python",
   "pygments_lexer": "ipython3",
   "version": "3.9.12"
  }
 },
 "nbformat": 4,
 "nbformat_minor": 5
}
