{
 "cells": [
  {
   "cell_type": "code",
   "execution_count": 1,
   "id": "68e4b268",
   "metadata": {},
   "outputs": [],
   "source": [
    "from pyspark.sql import SparkSession\n",
    "\n",
    "spark = SparkSession \\\n",
    "    .builder \\\n",
    "    .master(\"local[*]\") \\\n",
    "    .appName(\"FinalCoursework\") \\\n",
    "    .getOrCreate()\n",
    "\n",
    "sc = spark.sparkContext"
   ]
  },
  {
   "cell_type": "code",
   "execution_count": 2,
   "id": "f061c593",
   "metadata": {},
   "outputs": [],
   "source": [
    "%matplotlib inline \n",
    "import matplotlib.pyplot as plt\n",
    "import pyspark.sql.functions as F\n",
    "from pyspark.sql import Row\n",
    "\n",
    "# Helper function to test the correctness of the solutions\n",
    "def test(var, val, msg=\"\"):\n",
    "    print(\"1 test passed.\") if var == val else print(\"1 test failed. \" + msg)"
   ]
  },
  {
   "cell_type": "code",
   "execution_count": 3,
   "id": "28aab010",
   "metadata": {},
   "outputs": [
    {
     "data": {
      "text/plain": [
       "DataFrame[created_at: string, tweet_id: string, tweet: string, likes: string, retweet_count: string, source: string, user_id: string, user_name: string, user_screen_name: string, user_description: string, user_join_date: string, user_followers_count: string, user_location: string, lat: string, long: string, city: string, country: string, continent: string, state: string, state_code: string, collected_at: string]"
      ]
     },
     "execution_count": 3,
     "metadata": {},
     "output_type": "execute_result"
    }
   ],
   "source": [
    "# <FILL-IN WITH YOUR CODE>\n",
    "df_trump = spark.read.option(\"multiline\", True).csv(\"data/hashtag_donaldtrump.csv\", header=True, inferSchema=True)\n",
    "df_biden = spark.read.option(\"multiline\", True).csv(\"data/hashtag_joebiden.csv\", header=True, inferSchema=True)\n",
    "# Cache your DataFrame\n",
    "df_trump.cache()\n",
    "df_biden.cache()\n",
    "# <FILL-IN WITH YOUR CODE>"
   ]
  },
  {
   "cell_type": "code",
   "execution_count": 4,
   "id": "9a1c0b16",
   "metadata": {},
   "outputs": [
    {
     "data": {
      "text/plain": [
       "1041276"
      ]
     },
     "execution_count": 4,
     "metadata": {},
     "output_type": "execute_result"
    }
   ],
   "source": [
    "df_trump.count()"
   ]
  },
  {
   "cell_type": "code",
   "execution_count": 5,
   "id": "2b91858d",
   "metadata": {},
   "outputs": [
    {
     "data": {
      "text/plain": [
       "823970"
      ]
     },
     "execution_count": 5,
     "metadata": {},
     "output_type": "execute_result"
    }
   ],
   "source": [
    "df_biden.count()"
   ]
  },
  {
   "cell_type": "code",
   "execution_count": 6,
   "id": "aff130ca",
   "metadata": {},
   "outputs": [
    {
     "name": "stdout",
     "output_type": "stream",
     "text": [
      "+-------------------+--------------------+--------------------+-----+-------------+------------------+--------------------+--------------------+----------------+--------------------+-------------------+--------------------+--------------------+----------+------------+----------+--------------------+-------------+--------------------+----------+--------------------+\n",
      "|         created_at|            tweet_id|               tweet|likes|retweet_count|            source|             user_id|           user_name|user_screen_name|    user_description|     user_join_date|user_followers_count|       user_location|       lat|        long|      city|             country|    continent|               state|state_code|        collected_at|\n",
      "+-------------------+--------------------+--------------------+-----+-------------+------------------+--------------------+--------------------+----------------+--------------------+-------------------+--------------------+--------------------+----------+------------+----------+--------------------+-------------+--------------------+----------+--------------------+\n",
      "|2020-10-15 00:00:01|1.316529221557252...|#Elecciones2020 |...|  0.0|          0.0|         TweetDeck|         360666534.0|  El Sol Latino News| elsollatinonews|🌐 Noticias de in...|2011-08-23 15:33:45|              1860.0|Philadelphia, PA ...|  25.77427|   -80.19366|      null|United States of ...|North America|             Florida|        FL| 2020-10-21 00:00:00|\n",
      "|2020-10-15 00:00:01|1.316529222748430...|Usa 2020, Trump c...| 26.0|          9.0|  Social Mediaset |         331617619.0|             Tgcom24| MediasetTgcom24|Profilo ufficiale...|2011-07-08 13:12:20|           1067661.0|                null|      null|        null|      null|                null|         null|                null|      null|2020-10-21 00:00:...|\n",
      "|2020-10-15 00:00:02|1.316529228091847...|#Trump: As a stud...|  2.0|          1.0|   Twitter Web App|           8436472.0|              snarke|          snarke|Will mock for foo...|2007-08-26 05:56:11|              1185.0|            Portland|45.5202471|-122.6741949|  Portland|United States of ...|North America|              Oregon|        OR|2020-10-21 00:00:...|\n",
      "|2020-10-15 00:00:02|1.316529227471237...|2 hours since las...|  0.0|          0.0|     Trumpytweeter|8.28355589206057e+17|       Trumpytweeter|   trumpytweeter|If he doesn't twe...|2017-02-05 21:32:17|                32.0|                null|      null|        null|      null|                null|         null|                null|      null|2020-10-21 00:00:...|\n",
      "|2020-10-15 00:00:08|1.316529252301451...|You get a tie! An...|  4.0|          3.0|Twitter for iPhone|          47413798.0|Rana Abtar - رنا ...|       Ranaabtar|Washington Corres...|2009-06-15 19:05:35|              5393.0|       Washington DC|38.8949924| -77.0365581|Washington|United States of ...|North America|District of Columbia|        DC|2020-10-21 00:00:...|\n",
      "+-------------------+--------------------+--------------------+-----+-------------+------------------+--------------------+--------------------+----------------+--------------------+-------------------+--------------------+--------------------+----------+------------+----------+--------------------+-------------+--------------------+----------+--------------------+\n",
      "only showing top 5 rows\n",
      "\n"
     ]
    }
   ],
   "source": [
    "df_trump.show(5)"
   ]
  },
  {
   "cell_type": "code",
   "execution_count": 7,
   "id": "4f56edd5",
   "metadata": {},
   "outputs": [
    {
     "name": "stdout",
     "output_type": "stream",
     "text": [
      "+-------------------+--------------------+--------------------+-----+-------------+------------------+--------------------+------------------+----------------+--------------------+-------------------+--------------------+--------------------+----------+-------------------+----+--------------------+-------------+----------+----------+--------------------+\n",
      "|         created_at|            tweet_id|               tweet|likes|retweet_count|            source|             user_id|         user_name|user_screen_name|    user_description|     user_join_date|user_followers_count|       user_location|       lat|               long|city|             country|    continent|     state|state_code|        collected_at|\n",
      "+-------------------+--------------------+--------------------+-----+-------------+------------------+--------------------+------------------+----------------+--------------------+-------------------+--------------------+--------------------+----------+-------------------+----+--------------------+-------------+----------+----------+--------------------+\n",
      "|2020-10-15 00:00:01|1.316529221557252...|#Elecciones2020 |...|  0.0|          0.0|         TweetDeck|         360666534.0|El Sol Latino News| elsollatinonews|🌐 Noticias de in...|2011-08-23 15:33:45|              1860.0|Philadelphia, PA ...|  25.77427|          -80.19366|null|United States of ...|North America|   Florida|        FL| 2020-10-21 00:00:00|\n",
      "|2020-10-15 00:00:18|1.31652929585929e+18|#HunterBiden #Hun...|  0.0|          0.0|  Twitter for iPad|         809904438.0|     Cheri A. 🇺🇸|    Biloximeemaw|Locked and loaded...|2012-09-08 01:03:57|              6628.0|                null|      null|               null|null|                null|         null|      null|      null|2020-10-21 00:00:...|\n",
      "|2020-10-15 00:00:20|1.316529305006952...|@IslandGirlPRV @B...|  0.0|          0.0|   Twitter Web App|        3494182277.0|        Flag Waver|     Flag_Wavers|                null|2015-08-30 19:38:21|              1536.0|Golden Valley Ari...|46.3040364|-109.17143119999999|null|United States of ...|North America|   Montana|        MT|2020-10-21 00:00:...|\n",
      "|2020-10-15 00:00:21|1.316529308081557...|@chrislongview Wa...|  0.0|          0.0|Twitter for iPhone|8.242596012018524...|     Michelle Ferg|   MichelleFerg4|                null|2017-01-25 14:16:17|                27.0|                null|      null|               null|null|                null|         null|      null|      null|2020-10-21 00:00:...|\n",
      "|2020-10-15 00:00:22|1.316529312741253...|#censorship #Hunt...|  1.0|          0.0|   Twitter Web App|1.032806955356545...|    the Gold State|   theegoldstate|A Silicon Valley ...|2018-08-24 01:49:01|               390.0|     California, USA|36.7014631|-118.75599740000001|null|United States of ...|North America|California|        CA|2020-10-21 00:00:...|\n",
      "+-------------------+--------------------+--------------------+-----+-------------+------------------+--------------------+------------------+----------------+--------------------+-------------------+--------------------+--------------------+----------+-------------------+----+--------------------+-------------+----------+----------+--------------------+\n",
      "only showing top 5 rows\n",
      "\n"
     ]
    }
   ],
   "source": [
    "df_biden.show(5)"
   ]
  },
  {
   "cell_type": "code",
   "execution_count": 8,
   "id": "aa0a2133",
   "metadata": {},
   "outputs": [
    {
     "name": "stdout",
     "output_type": "stream",
     "text": [
      "+--------------------+-----+-------------+-------------------+--------------------+--------------------+--------------------+-----------------+--------------------+-------------+--------------------+\n",
      "|               tweet|likes|retweet_count|             source|           user_name|    user_description|user_followers_count|             city|             country|    continent|               state|\n",
      "+--------------------+-----+-------------+-------------------+--------------------+--------------------+--------------------+-----------------+--------------------+-------------+--------------------+\n",
      "|#Trump: As a stud...|  2.0|          1.0|    Twitter Web App|              snarke|Will mock for foo...|              1185.0|         Portland|United States of ...|North America|              Oregon|\n",
      "|You get a tie! An...|  4.0|          3.0| Twitter for iPhone|Rana Abtar - رنا ...|Washington Corres...|              5393.0|       Washington|United States of ...|North America|District of Columbia|\n",
      "|In 2020, #NYPost ...|  0.0|          0.0| Twitter for iPhone|Change Illinois |...|Illinois, home of...|              1396.0|          Chicago|United States of ...|North America|            Illinois|\n",
      "|#Trump #President...|  3.0|          5.0|Twitter for Android|        Ron Burgundy|I'm kind of a Big...|               496.0|        San Diego|United States of ...|North America|          California|\n",
      "|@Susan_Hutch @Joe...|  2.0|          0.0|    Twitter Web App|     Sebastian White|Tortured, literar...|              2755.0|City of Edinburgh|      United Kingdom|       Europe|            Scotland|\n",
      "+--------------------+-----+-------------+-------------------+--------------------+--------------------+--------------------+-----------------+--------------------+-------------+--------------------+\n",
      "only showing top 5 rows\n",
      "\n"
     ]
    }
   ],
   "source": [
    "#Dropping columns\n",
    "remove_columns = ['created_at', 'tweet_id', 'user_id', 'user_screen_name', 'user_join_date', 'user_location', 'lat', 'long', 'state_code', \n",
    "                  'collected_at']\n",
    "df_trump = df_trump.drop(*remove_columns)\n",
    "df_biden = df_biden.drop(*remove_columns)\n",
    "\n",
    "#Dropping rows with na values\n",
    "df_trump = df_trump.na.drop()\n",
    "df_biden = df_biden.na.drop()\n",
    "\n",
    "df_trump.show(5)"
   ]
  },
  {
   "cell_type": "code",
   "execution_count": 9,
   "id": "7e6d4c3c",
   "metadata": {},
   "outputs": [
    {
     "name": "stdout",
     "output_type": "stream",
     "text": [
      "+--------------------+-----+-------------+-------------------+--------------------+--------------------+--------------------+-----------+--------------------+-------------+----------+\n",
      "|               tweet|likes|retweet_count|             source|           user_name|    user_description|user_followers_count|       city|             country|    continent|     state|\n",
      "+--------------------+-----+-------------+-------------------+--------------------+--------------------+--------------------+-----------+--------------------+-------------+----------+\n",
      "|In 2020, #NYPost ...|  0.0|          0.0| Twitter for iPhone|Change Illinois |...|Illinois, home of...|              1397.0|    Chicago|United States of ...|North America|  Illinois|\n",
      "|\"Comments on this...|  0.0|          0.0|    Twitter Web App|         John Ubaldi|Just Facts... No ...|                83.0|      Tampa|United States of ...|North America|   Florida|\n",
      "|@RealJamesWoods #...|  0.0|          0.0|Twitter for Android|            Sam KEYS|             Patriot|                29.0|Los Angeles|United States of ...|North America|California|\n",
      "|#Trump #Obama #Cl...|  0.0|          0.0| Twitter for iPhone|  Saroop Rooprai FIA|🌶G20 YEA UK DELE...|               841.0|     London|      United Kingdom|       Europe|   England|\n",
      "|Come on @ABC PLEA...|  0.0|          0.0|    Twitter Web App|           Elphygirl|#imwithher - fore...|               166.0|   New York|United States of ...|North America|  New York|\n",
      "+--------------------+-----+-------------+-------------------+--------------------+--------------------+--------------------+-----------+--------------------+-------------+----------+\n",
      "only showing top 5 rows\n",
      "\n"
     ]
    }
   ],
   "source": [
    "df_biden.show(5)"
   ]
  },
  {
   "cell_type": "code",
   "execution_count": 10,
   "id": "b8d34651",
   "metadata": {},
   "outputs": [
    {
     "data": {
      "text/plain": [
       "204952"
      ]
     },
     "execution_count": 10,
     "metadata": {},
     "output_type": "execute_result"
    }
   ],
   "source": [
    "df_trump.count()"
   ]
  },
  {
   "cell_type": "code",
   "execution_count": 11,
   "id": "be272240",
   "metadata": {},
   "outputs": [
    {
     "data": {
      "text/plain": [
       "167881"
      ]
     },
     "execution_count": 11,
     "metadata": {},
     "output_type": "execute_result"
    }
   ],
   "source": [
    "df_biden.count()"
   ]
  },
  {
   "cell_type": "code",
   "execution_count": 12,
   "id": "ca1fd880",
   "metadata": {},
   "outputs": [],
   "source": [
    "from pyspark.sql.functions import lit\n",
    "\n",
    "#Adding a presidents column where 0 represents trump and 1 represents biden. This will turn it into a classification problem\n",
    "df_trump = df_trump.withColumn('President', lit(0))\n",
    "df_biden = df_biden.withColumn('President', lit(1))\n",
    "\n",
    "#Merging the 2 datasets\n",
    "df = df_trump.union(df_biden)"
   ]
  },
  {
   "cell_type": "code",
   "execution_count": 13,
   "id": "6b206d65",
   "metadata": {},
   "outputs": [
    {
     "data": {
      "text/plain": [
       "372833"
      ]
     },
     "execution_count": 13,
     "metadata": {},
     "output_type": "execute_result"
    }
   ],
   "source": [
    "df.count()"
   ]
  },
  {
   "cell_type": "code",
   "execution_count": 14,
   "id": "b44d6aa4",
   "metadata": {},
   "outputs": [],
   "source": [
    "from pyspark.sql.functions import col, lower\n",
    "from pyspark.ml.feature import StopWordsRemover, Tokenizer\n",
    "\n",
    "#Converting all of the words in tweets into lowercase\n",
    "df = df.withColumn(\"tweet\", lower(col(\"tweet\")))\n",
    "\n",
    "#Tokenizing the tweets\n",
    "tokenizer = Tokenizer(inputCol = \"tweet\", outputCol = \"tokenized_tweets\")\n",
    "df = tokenizer.transform(df)\n",
    "\n",
    "#Column consisting of different stop words which can appear in a tweet\n",
    "stop_words = [\n",
    "    \"rt\", \"amp\", \"via\", \"...'\", \"’\", \"…\", \"'s\", \"n't\", \"'re\", \"'m\", \"'ve\", \"'ll\",\n",
    "    \"lol\", \"omg\", \"wtf\", \"rofl\", \"brb\", \"btw\", \"idk\", \"imho\", \"fyi\",\n",
    "    \"http\", \"https\", \"www\", \"com\", \"org\", \"net\", \"html\", \"co\", \"ly\",\n",
    "    \"jan\", \"feb\", \"mar\", \"apr\", \"may\", \"jun\", \"jul\", \"aug\", \"sep\", \"oct\", \"nov\", \"dec\",\n",
    "    \"mon\", \"tue\", \"wed\", \"thu\", \"fri\", \"sat\", \"sun\",\n",
    "    \"january\", \"february\", \"march\", \"april\", \"june\", \"july\", \"august\", \"september\", \"october\", \n",
    "    \"november\", \"december\",\n",
    "    \"monday\", \"tuesday\", \"wednesday\", \"thursday\", \"friday\", \"saturday\", \"sunday\",\n",
    "    \"one\", \"two\", \"three\", \"four\", \"five\", \"six\", \"seven\", \"eight\", \"nine\", \"ten\"\n",
    "]\n",
    "\n",
    "#Removing all the stop words\n",
    "remover = StopWordsRemover(inputCol = \"tokenized_tweets\", outputCol = \"preprocessed_tweets\", \n",
    "                           stopWords = stop_words)\n",
    "df = remover.transform(df)"
   ]
  },
  {
   "cell_type": "code",
   "execution_count": 15,
   "id": "54ca5972",
   "metadata": {},
   "outputs": [
    {
     "name": "stdout",
     "output_type": "stream",
     "text": [
      "+--------------------+--------------------+--------------------+\n",
      "|               tweet|    tokenized_tweets| preprocessed_tweets|\n",
      "+--------------------+--------------------+--------------------+\n",
      "|#trump: as a stud...|[#trump:, as, a, ...|[#trump:, as, a, ...|\n",
      "|you get a tie! an...|[you, get, a, tie...|[you, get, a, tie...|\n",
      "|in 2020, #nypost ...|[in, 2020,, #nypo...|[in, 2020,, #nypo...|\n",
      "|#trump #president...|[#trump, #preside...|[#trump, #preside...|\n",
      "|@susan_hutch @joe...|[@susan_hutch, @j...|[@susan_hutch, @j...|\n",
      "+--------------------+--------------------+--------------------+\n",
      "only showing top 5 rows\n",
      "\n"
     ]
    }
   ],
   "source": [
    "df.select(\"tweet\", \"tokenized_tweets\", \"preprocessed_tweets\").show(5)"
   ]
  },
  {
   "cell_type": "code",
   "execution_count": 16,
   "id": "29ec8c67",
   "metadata": {},
   "outputs": [],
   "source": [
    "remove_columns = [\"tweet\", \"tokenized_tweets\"]\n",
    "df = df.drop(*remove_columns)"
   ]
  },
  {
   "cell_type": "code",
   "execution_count": 17,
   "id": "ef79d70d",
   "metadata": {},
   "outputs": [
    {
     "name": "stdout",
     "output_type": "stream",
     "text": [
      "+-----+-------------+-------------------+--------------------+--------------------+--------------------+-----------------+--------------------+-------------+--------------------+---------+--------------------+\n",
      "|likes|retweet_count|             source|           user_name|    user_description|user_followers_count|             city|             country|    continent|               state|President| preprocessed_tweets|\n",
      "+-----+-------------+-------------------+--------------------+--------------------+--------------------+-----------------+--------------------+-------------+--------------------+---------+--------------------+\n",
      "|  2.0|          1.0|    Twitter Web App|              snarke|Will mock for foo...|              1185.0|         Portland|United States of ...|North America|              Oregon|        0|[#trump:, as, a, ...|\n",
      "|  4.0|          3.0| Twitter for iPhone|Rana Abtar - رنا ...|Washington Corres...|              5393.0|       Washington|United States of ...|North America|District of Columbia|        0|[you, get, a, tie...|\n",
      "|  0.0|          0.0| Twitter for iPhone|Change Illinois |...|Illinois, home of...|              1396.0|          Chicago|United States of ...|North America|            Illinois|        0|[in, 2020,, #nypo...|\n",
      "|  3.0|          5.0|Twitter for Android|        Ron Burgundy|I'm kind of a Big...|               496.0|        San Diego|United States of ...|North America|          California|        0|[#trump, #preside...|\n",
      "|  2.0|          0.0|    Twitter Web App|     Sebastian White|Tortured, literar...|              2755.0|City of Edinburgh|      United Kingdom|       Europe|            Scotland|        0|[@susan_hutch, @j...|\n",
      "+-----+-------------+-------------------+--------------------+--------------------+--------------------+-----------------+--------------------+-------------+--------------------+---------+--------------------+\n",
      "only showing top 5 rows\n",
      "\n"
     ]
    }
   ],
   "source": [
    "df.show(5)"
   ]
  },
  {
   "cell_type": "code",
   "execution_count": null,
   "id": "50de4798",
   "metadata": {},
   "outputs": [],
   "source": []
  }
 ],
 "metadata": {
  "kernelspec": {
   "display_name": "Python 3 (ipykernel)",
   "language": "python",
   "name": "python3"
  },
  "language_info": {
   "codemirror_mode": {
    "name": "ipython",
    "version": 3
   },
   "file_extension": ".py",
   "mimetype": "text/x-python",
   "name": "python",
   "nbconvert_exporter": "python",
   "pygments_lexer": "ipython3",
   "version": "3.9.12"
  }
 },
 "nbformat": 4,
 "nbformat_minor": 5
}
