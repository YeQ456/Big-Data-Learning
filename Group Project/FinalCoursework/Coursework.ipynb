{
 "cells": [
  {
   "cell_type": "code",
   "execution_count": 1,
   "id": "e9319d4c",
   "metadata": {},
   "outputs": [],
   "source": [
    "import findspark\n",
    "findspark.init()"
   ]
  },
  {
   "cell_type": "code",
   "execution_count": 2,
   "id": "68e4b268",
   "metadata": {
    "ExecuteTime": {
     "end_time": "2024-05-11T16:24:13.921249100Z",
     "start_time": "2024-05-11T16:24:13.609264700Z"
    }
   },
   "outputs": [],
   "source": [
    "from pyspark.sql import SparkSession\n",
    "\n",
    "spark = SparkSession \\\n",
    "    .builder \\\n",
    "    .master(\"local[*]\") \\\n",
    "    .appName(\"FinalCoursework\") \\\n",
    "    .config(\"spark.driver.memory\", \"4g\")\\\n",
    "    .getOrCreate()\n",
    "\n",
    "sc = spark.sparkContext"
   ]
  },
  {
   "cell_type": "code",
   "execution_count": 3,
   "id": "f061c593",
   "metadata": {
    "ExecuteTime": {
     "end_time": "2024-05-11T16:24:16.677145600Z",
     "start_time": "2024-05-11T16:24:13.615068400Z"
    }
   },
   "outputs": [],
   "source": [
    "dir_path=\"/mnt/data/project-data/2020tweets\"\n",
    "\n",
    "df_trump = spark.read.option(\"multiline\", True).csv(\"data/hashtag_donaldtrump.csv\", header=True, inferSchema=True)\n",
    "df_biden = spark.read.option(\"multiline\", True).csv(\"data/hashtag_joebiden.csv\", header=True, inferSchema=True)"
   ]
  },
  {
   "cell_type": "code",
   "execution_count": 4,
   "id": "28aab010",
   "metadata": {
    "ExecuteTime": {
     "end_time": "2024-05-11T16:24:16.708428600Z",
     "start_time": "2024-05-11T16:24:16.680150Z"
    }
   },
   "outputs": [],
   "source": [
    "def transer_data_type(data):\n",
    "  data = data.withColumn(\"likes\", data[\"likes\"].cast(\"int\"))\n",
    "  data = data.withColumn(\"retweet_count\", data[\"retweet_count\"].cast(\"int\"))\n",
    "  data = data.withColumn(\"user_followers_count\", data[\"user_followers_count\"].cast(\"int\"))\n",
    "  data = data.withColumn(\"lat\", data[\"lat\"].cast(\"float\"))\n",
    "  data = data.withColumn(\"long\", data[\"long\"].cast(\"float\"))\n",
    "  return data\n",
    "\n",
    "df_trump = transer_data_type(df_trump)\n",
    "df_biden = transer_data_type(df_biden)"
   ]
  },
  {
   "cell_type": "code",
   "execution_count": 5,
   "id": "9a1c0b16",
   "metadata": {
    "ExecuteTime": {
     "end_time": "2024-05-11T16:24:16.718932900Z",
     "start_time": "2024-05-11T16:24:16.706402200Z"
    }
   },
   "outputs": [],
   "source": [
    "#Dropping columns\n",
    "remove_columns = ['created_at', 'tweet_id', 'user_id', 'user_screen_name', 'user_join_date', 'collected_at', 'user_name', 'user_description', 'user_location', 'lat', 'long', 'city', 'country', 'continent', 'state', 'state_code']\n",
    "df_trump = df_trump.drop(*remove_columns)\n",
    "df_biden = df_biden.drop(*remove_columns)\n",
    "\n",
    "#Dropping rows with na values\n",
    "df_trump = df_trump.na.drop()\n",
    "df_biden = df_biden.na.drop()"
   ]
  },
  {
   "cell_type": "code",
   "execution_count": 6,
   "id": "2b91858d",
   "metadata": {
    "ExecuteTime": {
     "end_time": "2024-05-11T16:24:20.894208200Z",
     "start_time": "2024-05-11T16:24:16.719966Z"
    }
   },
   "outputs": [
    {
     "data": {
      "image/png": "[encoded data removed]",
      "text/plain": [
       "<Figure size 432x288 with 1 Axes>"
      ]
     },
     "metadata": {
      "needs_background": "light"
     },
     "output_type": "display_data"
    }
   ],
   "source": [
    "import matplotlib.pyplot as plt\n",
    "\n",
    "# Create a bar plot\n",
    "plt.bar(['Trump', 'Biden'], [df_trump.count(), df_biden.count()])\n",
    "plt.xlabel('Candidate')\n",
    "plt.ylabel('Number of Tweets')\n",
    "plt.title('Number of Tweets for Trump and Biden')\n",
    "plt.show()"
   ]
  },
  {
   "cell_type": "code",
   "execution_count": 7,
   "id": "aff130ca",
   "metadata": {
    "ExecuteTime": {
     "end_time": "2024-05-11T16:24:20.903795Z",
     "start_time": "2024-05-11T16:24:20.893208300Z"
    }
   },
   "outputs": [],
   "source": [
    "from pyspark.sql.functions import lit\n",
    "\n",
    "#Adding a presidents column where 0 represents trump and 1 represents biden. This will turn it into a classification problem\n",
    "df_trump = df_trump.withColumn('President', lit(0))\n",
    "df_biden = df_biden.withColumn('President', lit(1))\n",
    "\n",
    "#Merging the 2 datasets\n",
    "df = df_trump.union(df_biden)"
   ]
  },
  {
   "cell_type": "code",
   "execution_count": 8,
   "id": "4f56edd5",
   "metadata": {
    "ExecuteTime": {
     "end_time": "2024-05-11T16:24:20.966203500Z",
     "start_time": "2024-05-11T16:24:20.904794100Z"
    }
   },
   "outputs": [
    {
     "name": "stdout",
     "output_type": "stream",
     "text": [
      "+--------------------+-----+-------------+------------------+--------------------+---------+\n",
      "|               tweet|likes|retweet_count|            source|user_followers_count|President|\n",
      "+--------------------+-----+-------------+------------------+--------------------+---------+\n",
      "|#Elecciones2020 |...|    0|            0|         TweetDeck|                1860|        0|\n",
      "|Usa 2020, Trump c...|   26|            9|  Social Mediaset |             1067661|        0|\n",
      "|#Trump: As a stud...|    2|            1|   Twitter Web App|                1185|        0|\n",
      "|2 hours since las...|    0|            0|     Trumpytweeter|                  32|        0|\n",
      "|You get a tie! An...|    4|            3|Twitter for iPhone|                5393|        0|\n",
      "+--------------------+-----+-------------+------------------+--------------------+---------+\n",
      "only showing top 5 rows\n",
      "\n"
     ]
    }
   ],
   "source": [
    "df.show(5)"
   ]
  },
  {
   "cell_type": "code",
   "execution_count": 9,
   "id": "655d594d",
   "metadata": {
    "ExecuteTime": {
     "end_time": "2024-05-11T16:24:20.979326200Z",
     "start_time": "2024-05-11T16:24:20.966203500Z"
    }
   },
   "outputs": [],
   "source": [
    "from pyspark.sql.functions import udf\n",
    "from pyspark.sql.types import ArrayType, StringType\n",
    "from collections import Counter\n",
    "import re\n",
    "\n",
    "#Extracts all the hastags from the tweet and stores them in a list\n",
    "@udf(returnType=ArrayType(StringType()))\n",
    "def getHashtagList(tweet):\n",
    "  tweet = tweet.lower()\n",
    "  tweet = re.sub(r'[^\\w\\s#]', '', tweet)\n",
    "  hashtag_list = []\n",
    "\n",
    "  for word in tweet.split():\n",
    "    if word[0] == '#':\n",
    "      hashtag_list.append(word)\n",
    "  \n",
    "  #Creates a dictionary where the hashtags are the key and their frequency in the list is the value\n",
    "  count_hashtags = Counter(hashtag_list)\n",
    "\n",
    "  #Remove duplicate hashtags\n",
    "  unique_hashtags = [hashtag for hashtag, frequency in count_hashtags.items() if frequency == 1]\n",
    "\n",
    "  return hashtag_list\n",
    "\n",
    "#Creates a column called hashtags which stores a hastag list for all the tweets\n",
    "df = df.withColumn('hashtags', getHashtagList(df['tweet']))"
   ]
  },
  {
   "cell_type": "code",
   "execution_count": 10,
   "id": "5896c8ec",
   "metadata": {
    "ExecuteTime": {
     "end_time": "2024-05-11T16:24:21.614984Z",
     "start_time": "2024-05-11T16:24:20.980327800Z"
    }
   },
   "outputs": [
    {
     "name": "stdout",
     "output_type": "stream",
     "text": [
      "+--------------------+-----+-------------+------------------+--------------------+---------+--------------------+\n",
      "|               tweet|likes|retweet_count|            source|user_followers_count|President|            hashtags|\n",
      "+--------------------+-----+-------------+------------------+--------------------+---------+--------------------+\n",
      "|#Elecciones2020 |...|    0|            0|         TweetDeck|                1860|        0|[#elecciones2020,...|\n",
      "|Usa 2020, Trump c...|   26|            9|  Social Mediaset |             1067661|        0|      [#donaldtrump]|\n",
      "|#Trump: As a stud...|    2|            1|   Twitter Web App|                1185|        0|            [#trump]|\n",
      "|2 hours since las...|    0|            0|     Trumpytweeter|                  32|        0|            [#trump]|\n",
      "|You get a tie! An...|    4|            3|Twitter for iPhone|                5393|        0|     [#trump, #iowa]|\n",
      "+--------------------+-----+-------------+------------------+--------------------+---------+--------------------+\n",
      "only showing top 5 rows\n",
      "\n"
     ]
    }
   ],
   "source": [
    "df.show(5)"
   ]
  },
  {
   "cell_type": "code",
   "execution_count": null,
   "id": "45b46b3f14f6bb94",
   "metadata": {
    "ExecuteTime": {
     "end_time": "2024-05-11T16:24:21.615988100Z",
     "start_time": "2024-05-11T16:24:21.614984Z"
    }
   },
   "outputs": [],
   "source": []
  },
  {
   "cell_type": "code",
   "execution_count": 11,
   "id": "e78b32cd",
   "metadata": {
    "ExecuteTime": {
     "end_time": "2024-05-11T16:24:21.673831200Z",
     "start_time": "2024-05-11T16:24:21.617987700Z"
    }
   },
   "outputs": [],
   "source": [
    "from pyspark.sql import functions as F\n",
    "    \n",
    "#Splits the hashtag list and displays each hashtag in its own row in column hashtag\n",
    "df_exploded = df.withColumn('hashtag', F.explode(df['hashtags']))\n",
    "\n",
    "#Creates a new column called count which displays how many rows the hashtag appears in\n",
    "#The counts will be used in TF-IDF calculation\n",
    "df_count = df_exploded.groupBy(\"hashtag\").count()\n",
    "\n",
    "#Renaming count to hashtag_count\n",
    "df_count = df_count.withColumnRenamed('count', 'hashtag_count')\n",
    "\n",
    "#Joining df_count with df_exploded on hashtag\n",
    "df_exploded = df_exploded.join(df_count, on=\"hashtag\", how=\"left\")\n",
    "\n",
    "# Group by original columns and collect list of counts\n",
    "df = df_exploded.groupBy(df.columns).agg(F.collect_list(\"hashtag_count\").alias(\"hashtag_counts\"))"
   ]
  },
  {
   "cell_type": "code",
   "execution_count": 12,
   "id": "afe0564c",
   "metadata": {
    "ExecuteTime": {
     "end_time": "2024-05-11T16:24:46.762510200Z",
     "start_time": "2024-05-11T16:24:21.652830100Z"
    }
   },
   "outputs": [
    {
     "name": "stdout",
     "output_type": "stream",
     "text": [
      "+--------------------+-----+-------------+-------------------+--------------------+---------+--------------------+--------------------+\n",
      "|               tweet|likes|retweet_count|             source|user_followers_count|President|            hashtags|      hashtag_counts|\n",
      "+--------------------+-----+-------------+-------------------+--------------------+---------+--------------------+--------------------+\n",
      "| He’s nothing mor...|    0|            0|    Twitter Web App|                  71|        0|            [#trump]|            [968674]|\n",
      "| it shows that #t...|    1|            0|Twitter for Android|                  11|        0|            [#trump]|            [968674]|\n",
      "| media-sourced po...|    0|            0|Twitter for Android|                 657|        0|            [#biden]|            [631862]|\n",
      "| mientras hace ca...|    0|            0| Twitter for iPhone|                  14|        1|[#electionday, #d...|[631862, 78352, 6...|\n",
      "| so Please get a ...|    0|            0|Twitter for Android|                 208|        0|             [#mask]|          [682, 682]|\n",
      "+--------------------+-----+-------------+-------------------+--------------------+---------+--------------------+--------------------+\n",
      "only showing top 5 rows\n",
      "\n"
     ]
    }
   ],
   "source": [
    "df.show(5)"
   ]
  },
  {
   "cell_type": "code",
   "execution_count": 13,
   "id": "181a3996",
   "metadata": {
    "ExecuteTime": {
     "end_time": "2024-05-11T16:24:59.171721400Z",
     "start_time": "2024-05-11T16:24:46.762510200Z"
    }
   },
   "outputs": [
    {
     "name": "stdout",
     "output_type": "stream",
     "text": [
      "1643761\n"
     ]
    }
   ],
   "source": [
    "#Total number of rows\n",
    "#This value is used to calculate TF-IDF\n",
    "df_count = df.count()\n",
    "print(df_count)"
   ]
  },
  {
   "cell_type": "code",
   "execution_count": 14,
   "id": "511cd441",
   "metadata": {
    "ExecuteTime": {
     "end_time": "2024-05-11T16:24:59.186494100Z",
     "start_time": "2024-05-11T16:24:59.172722300Z"
    }
   },
   "outputs": [],
   "source": [
    "from pyspark.sql.types import FloatType\n",
    "import math\n",
    "\n",
    "#Creates the TF_IDF list column\n",
    "@udf(returnType=FloatType())\n",
    "def getAvg_TF_IDF(hashtags, hashtag_counts, df_count):\n",
    "  avg_TF_IDF = 0\n",
    "  count = 0\n",
    "\n",
    "  #If there are no hashtags the tweet will be given a value of 0\n",
    "  if len(hashtags) == 0:\n",
    "    return 0.0\n",
    "\n",
    "  for hashtag in hashtags:\n",
    "    #Calculating TF\n",
    "    #Since all the hastags are unique 1 is being divided by the total number of hastags\n",
    "    TF = 1 / len(hashtags)\n",
    "    #nDocs is the number of rows/tweets the hastag is used\n",
    "    nDocs = hashtag_counts[count]\n",
    "    #Calculating IDF\n",
    "    #df_count is the total number of rows/tweets\n",
    "    IDF = math.log(df_count / nDocs)\n",
    "    TF_IDF = TF * IDF\n",
    "    avg_TF_IDF += TF_IDF\n",
    "    count += 1\n",
    "\n",
    "  avg_TF_IDF /= count\n",
    "  return avg_TF_IDF\n",
    "\n",
    "# Apply the UDF to your DataFrame\n",
    "df = df.withColumn('TF_IDF', getAvg_TF_IDF(df['hashtags'], df['hashtag_counts'], lit(df_count)))"
   ]
  },
  {
   "cell_type": "code",
   "execution_count": 15,
   "id": "7e3623ff",
   "metadata": {
    "ExecuteTime": {
     "end_time": "2024-05-11T16:25:25.858887900Z",
     "start_time": "2024-05-11T16:24:59.186494100Z"
    }
   },
   "outputs": [
    {
     "name": "stdout",
     "output_type": "stream",
     "text": [
      "+--------------------+-----+-------------+-------------------+--------------------+---------+--------------------+--------------------+---------+\n",
      "|               tweet|likes|retweet_count|             source|user_followers_count|President|            hashtags|      hashtag_counts|   TF_IDF|\n",
      "+--------------------+-----+-------------+-------------------+--------------------+---------+--------------------+--------------------+---------+\n",
      "| He’s nothing mor...|    0|            0|    Twitter Web App|                  71|        0|            [#trump]|            [968674]|0.5288141|\n",
      "| it shows that #t...|    1|            0|Twitter for Android|                  11|        0|            [#trump]|            [968674]|0.5288141|\n",
      "| media-sourced po...|    0|            0|Twitter for Android|                 657|        0|            [#biden]|            [631862]|0.9560712|\n",
      "| mientras hace ca...|    0|            0| Twitter for iPhone|                  14|        1|[#electionday, #d...|[631862, 78352, 6...|0.7559104|\n",
      "| so Please get a ...|    0|            0|Twitter for Android|                 208|        0|             [#mask]|          [682, 682]| 7.787468|\n",
      "+--------------------+-----+-------------+-------------------+--------------------+---------+--------------------+--------------------+---------+\n",
      "only showing top 5 rows\n",
      "\n"
     ]
    }
   ],
   "source": [
    "df.show(5)"
   ]
  },
  {
   "cell_type": "code",
   "execution_count": 16,
   "id": "72b59403",
   "metadata": {
    "ExecuteTime": {
     "end_time": "2024-05-11T16:25:25.873610800Z",
     "start_time": "2024-05-11T16:25:25.859888100Z"
    }
   },
   "outputs": [],
   "source": [
    "from pyspark.sql.types import FloatType\n",
    "import math\n",
    "\n",
    "#Creates the TF_IDF list column\n",
    "@udf(returnType=ArrayType(FloatType()))\n",
    "def getAvg_TF_IDF(hashtags, hashtag_counts, df_count):\n",
    "  TF_IDF_list = []\n",
    "  count = 0\n",
    "\n",
    "  #If there are no hashtags the tweet will be given a value of 0\n",
    "  if len(hashtags) == 0:\n",
    "    return 0.0\n",
    "\n",
    "  for hashtag in hashtags:\n",
    "    #Calculating TF\n",
    "    #Since all the hastags are unique 1 is being divided by the total number of hastags\n",
    "    TF = 1 / len(hashtags)\n",
    "    #nDocs is the number of rows/tweets the hastag is used\n",
    "    nDocs = hashtag_counts[count]\n",
    "    #Calculating IDF\n",
    "    #df_count is the total number of rows/tweets\n",
    "    IDF = math.log(df_count / nDocs)\n",
    "    TF_IDF = TF * IDF\n",
    "    TF_IDF_list.append(TF_IDF)\n",
    "    count += 1\n",
    "\n",
    "  return TF_IDF_list\n",
    "\n",
    "# Apply the UDF to your DataFrame\n",
    "df = df.withColumn('TF_IDF_list', getAvg_TF_IDF(df['hashtags'], df['hashtag_counts'], lit(df_count)))"
   ]
  },
  {
   "cell_type": "code",
   "execution_count": 17,
   "id": "29d037cc",
   "metadata": {
    "ExecuteTime": {
     "end_time": "2024-05-11T16:25:53.058230Z",
     "start_time": "2024-05-11T16:25:25.874610200Z"
    }
   },
   "outputs": [
    {
     "name": "stdout",
     "output_type": "stream",
     "text": [
      "+--------------------+-----+-------------+-------------------+--------------------+---------+--------------------+--------------------+---------+--------------------+\n",
      "|               tweet|likes|retweet_count|             source|user_followers_count|President|            hashtags|      hashtag_counts|   TF_IDF|         TF_IDF_list|\n",
      "+--------------------+-----+-------------+-------------------+--------------------+---------+--------------------+--------------------+---------+--------------------+\n",
      "| He’s nothing mor...|    0|            0|    Twitter Web App|                  71|        0|            [#trump]|            [968674]|0.5288141|         [0.5288141]|\n",
      "| it shows that #t...|    1|            0|Twitter for Android|                  11|        0|            [#trump]|            [968674]|0.5288141|         [0.5288141]|\n",
      "| media-sourced po...|    0|            0|Twitter for Android|                 657|        0|            [#biden]|            [631862]|0.9560712|         [0.9560712]|\n",
      "| mientras hace ca...|    0|            0| Twitter for iPhone|                  14|        1|[#electionday, #d...|[631862, 78352, 6...|0.7559104|[0.1593452, 0.507...|\n",
      "| so Please get a ...|    0|            0|Twitter for Android|                 208|        0|             [#mask]|          [682, 682]| 7.787468|          [7.787468]|\n",
      "+--------------------+-----+-------------+-------------------+--------------------+---------+--------------------+--------------------+---------+--------------------+\n",
      "only showing top 5 rows\n",
      "\n"
     ]
    }
   ],
   "source": [
    "df.show(5)"
   ]
  },
  {
   "cell_type": "code",
   "execution_count": 18,
   "id": "aa0a2133",
   "metadata": {
    "ExecuteTime": {
     "end_time": "2024-05-11T16:25:53.061772500Z",
     "start_time": "2024-05-11T16:25:53.059229800Z"
    }
   },
   "outputs": [],
   "source": [
    "import re,string\n",
    "# This code defines a function named \"tokenize\" that tokenizes the input text.\n",
    "# It removes special characters, converts the text to lowercase, and removes stopwords and punctuation.\n",
    "# The resulting tokens are added to a list and returned.\n",
    "\n",
    "# This code defines a list of stopwords to be removed from the text.\n",
    "stopwords = [u'rt', u're', u'i', u'me', u'my', u'myself', u'we', u'our', u'ours', u'ourselves', u'you', u'your',\n",
    "             u'yours', u'yourself', u'yourselves', u'he', u'him', u'his', u'himself', u'she', u'her', u'hers',\n",
    "             u'herself', u'it', u'its', u'itself', u'they', u'them', u'their', u'theirs', u'themselves', u'what',\n",
    "             u'which', u'who', u'whom', u'this', u'that', u'these', u'those', u'am', u'is', u'are', u'was', u'were',\n",
    "             u'be', u'been', u'being', u'have', u'has', u'had', u'having', u'do', u'does', u'did', u'doing', u'a',\n",
    "             u'an', u'the', u'and', u'but', u'if', u'or', u'because', u'as', u'until', u'while', u'of', u'at', u'by',\n",
    "             u'for', u'with', u'about', u'against', u'between', u'into', u'through', u'during', u'before', u'after',\n",
    "             u'above', u'below', u'to', u'from', u'up', u'down', u'in', u'out', u'on', u'off', u'over', u'under',\n",
    "             u'again', u'further', u'then', u'once', u'here', u'there', u'when', u'where', u'why', u'how', u'all',\n",
    "             u'any', u'both', u'each', u'few', u'more', u'most', u'other', u'some', u'such', u'no', u'nor', u'not',\n",
    "             u'only', u'own', u'same', u'so', u'than', u'too', u'very', u's', u't', u'can', u'will', u'just', u'don',\n",
    "             u'should', u'now']\n",
    "def tokenize(text):\n",
    "    # Remove URLs\n",
    "    text = re.sub('http[s]?://(?:[a-zA-Z]|[0-9]|[$-_@.&+]|[!*(),]|(?:%[0-9a-fA-F][0-9a-fA-F]))+', '', text)\n",
    "    \n",
    "    # Remove special characters\n",
    "    text = re.sub('[%s]' % re.escape(string.punctuation), ' ', text)\n",
    "    \n",
    "    # Convert text to lowercase\n",
    "    text = text.lower()\n",
    "    \n",
    "    # Split text into tokens and filter out stopwords, single characters, and '``'\n",
    "    tokens = [word for word in text.split() if word not in stopwords and len(word) > 1 and word != '``']\n",
    "    \n",
    "    return tokens"
   ]
  },
  {
   "cell_type": "code",
   "execution_count": 19,
   "id": "7e6d4c3c",
   "metadata": {
    "ExecuteTime": {
     "end_time": "2024-05-11T16:25:53.130149400Z",
     "start_time": "2024-05-11T16:25:53.066773Z"
    }
   },
   "outputs": [
    {
     "name": "stderr",
     "output_type": "stream",
     "text": [
      "C:\\Users\\nikhi\\anaconda3\\lib\\site-packages\\scipy\\__init__.py:146: UserWarning: A NumPy version >=1.16.5 and <1.23.0 is required for this version of SciPy (detected version 1.26.4\n",
      "  warnings.warn(f\"A NumPy version >={np_minversion} and <{np_maxversion}\"\n",
      "[nltk_data] Downloading package vader_lexicon to\n",
      "[nltk_data]     C:\\Users\\nikhi\\AppData\\Roaming\\nltk_data...\n",
      "[nltk_data]   Package vader_lexicon is already up-to-date!\n"
     ]
    }
   ],
   "source": [
    "import nltk\n",
    "nltk.download('vader_lexicon')\n",
    "from nltk.sentiment import SentimentIntensityAnalyzer\n",
    "sia = SentimentIntensityAnalyzer()\n",
    "sc.broadcast(sia)\n",
    "\n",
    "def calculate_sentiment(text):\n",
    "    #sia = SentimentIntensityAnalyzer()\n",
    "    if isinstance(text, list):\n",
    "        text = ' '.join(text)\n",
    "    sentiment_scores = sia.polarity_scores(text)['compound']\n",
    "\n",
    "    return sentiment_scores"
   ]
  },
  {
   "cell_type": "code",
   "execution_count": 20,
   "id": "b8d34651",
   "metadata": {
    "ExecuteTime": {
     "end_time": "2024-05-11T16:25:53.155144100Z",
     "start_time": "2024-05-11T16:25:53.088375500Z"
    }
   },
   "outputs": [],
   "source": [
    "from pyspark.sql.types import *\n",
    "\n",
    "# Define UDF to tokenize the tweet attribute\n",
    "@udf(returnType=FloatType())\n",
    "def polarize_tweet(text):\n",
    "    # Write code here to tokenize the tweet using the desired method/function\n",
    "    tokens = tokenize(text)\n",
    "    sent=calculate_sentiment(tokens)\n",
    "    return sent\n",
    "\n",
    "# Add a new column 'Tokens' to the DataFrame 'df' by calling the 'tokenize_tweet' UDF on the 'tweet' column\n",
    "df=df.withColumn('polarity', polarize_tweet(df['tweet']))"
   ]
  },
  {
   "cell_type": "code",
   "execution_count": 21,
   "id": "be272240",
   "metadata": {
    "ExecuteTime": {
     "end_time": "2024-05-11T16:26:21.263554100Z",
     "start_time": "2024-05-11T16:25:53.119132Z"
    }
   },
   "outputs": [
    {
     "name": "stdout",
     "output_type": "stream",
     "text": [
      "+--------------------+-----+-------------+-------------------+--------------------+---------+--------------------+--------------------+---------+--------------------+--------+\n",
      "|               tweet|likes|retweet_count|             source|user_followers_count|President|            hashtags|      hashtag_counts|   TF_IDF|         TF_IDF_list|polarity|\n",
      "+--------------------+-----+-------------+-------------------+--------------------+---------+--------------------+--------------------+---------+--------------------+--------+\n",
      "| He’s nothing mor...|    0|            0|    Twitter Web App|                  71|        0|            [#trump]|            [968674]|0.5288141|         [0.5288141]|  0.0772|\n",
      "| it shows that #t...|    1|            0|Twitter for Android|                  11|        0|            [#trump]|            [968674]|0.5288141|         [0.5288141]|  -0.128|\n",
      "| media-sourced po...|    0|            0|Twitter for Android|                 657|        0|            [#biden]|            [631862]|0.9560712|         [0.9560712]|  0.7579|\n",
      "| mientras hace ca...|    0|            0| Twitter for iPhone|                  14|        1|[#electionday, #d...|[631862, 78352, 6...|0.7559104|[0.1593452, 0.507...|     0.0|\n",
      "| so Please get a ...|    0|            0|Twitter for Android|                 208|        0|             [#mask]|          [682, 682]| 7.787468|          [7.787468]|  0.5994|\n",
      "+--------------------+-----+-------------+-------------------+--------------------+---------+--------------------+--------------------+---------+--------------------+--------+\n",
      "only showing top 5 rows\n",
      "\n"
     ]
    }
   ],
   "source": [
    "df.show(5)"
   ]
  },
  {
   "cell_type": "code",
   "execution_count": 22,
   "id": "8dbbd4fd78b94523",
   "metadata": {
    "ExecuteTime": {
     "end_time": "2024-05-11T16:26:21.276157200Z",
     "start_time": "2024-05-11T16:26:21.263554100Z"
    }
   },
   "outputs": [],
   "source": [
    "df=df.select('likes', 'retweet_count', 'user_followers_count','polarity','TF_IDF','President')"
   ]
  },
  {
   "cell_type": "code",
   "execution_count": 23,
   "id": "66103c7e5d3f0a2d",
   "metadata": {
    "ExecuteTime": {
     "end_time": "2024-05-11T16:28:01.876919600Z",
     "start_time": "2024-05-11T16:26:21.276157200Z"
    }
   },
   "outputs": [],
   "source": [
    "#normalization\n",
    "#from pyspark.ml.feature import StandardScaler, VectorAssembler\n",
    "\n",
    "# Assemble features into a vector\n",
    "#standardVA = VectorAssembler(inputCols=[\"likes\", \"retweet_count\", \"user_followers_count\",'polarity','TF_IDF'], outputCol=\"features\")\n",
    "#df = standardVA.transform(df)\n",
    "\n",
    "\n",
    "# Initialize and fit the StandardScaler\n",
    "#scaler = StandardScaler(inputCol=\"features\", outputCol=\"scaled_features\", withStd=True, withMean=False)\n",
    "#scalerModel = scaler.fit(df)\n",
    "#df=scalerModel.transform(df)\n",
    "\n",
    "#df.show(truncate=False)"
   ]
  },
  {
   "cell_type": "code",
   "execution_count": 24,
   "id": "fbe4ec264f7f4249",
   "metadata": {
    "ExecuteTime": {
     "end_time": "2024-05-11T16:33:26.846963700Z",
     "start_time": "2024-05-11T16:28:01.875919500Z"
    }
   },
   "outputs": [
    {
     "name": "stdout",
     "output_type": "stream",
     "text": [
      "Execution Started\n",
      "Sampling centroids\n",
      "Broadcast current centroids\n",
      "Assigning each point to the closest centroid\n",
      "Compute new centroids\n",
      "Calculating difference\n",
      "diff:\n",
      "0.9077786250878408\n",
      "Assigning Noise Points\n",
      "Removing Noise Points\n",
      "Execution Complete\n"
     ]
    }
   ],
   "source": [
    "from pyspark.sql.types import IntegerType\n",
    "from pyspark.sql import functions as F\n",
    "import numpy as np\n",
    "\n",
    "def dist(a, b):\n",
    "  return np.sqrt(np.sum((a - b)**2))\n",
    "\n",
    "def getCentroidDistances(point, centroids):\n",
    "    distances = []\n",
    "    \n",
    "    for centroid in centroids:\n",
    "        distances.append(dist(centroid, point))\n",
    "        \n",
    "    return distances\n",
    "\n",
    "def modified_kmeans(df, k, threshold, minDistance, SEED = 1):\n",
    "    #1. Get initial centroids\n",
    "    print(\"Execution Started\")\n",
    "    sample_fraction = k / df_count\n",
    "    print(\"Sampling centroids\")\n",
    "    centroids = df.select('TF_IDF').sample(fraction = sample_fraction, seed = SEED).limit(k).collect()\n",
    "\n",
    "    converged = False\n",
    "\n",
    "    while not converged:\n",
    "        #2. Broadcast current centroids\n",
    "        print(\"Broadcast current centroids\")\n",
    "        centroids_bc = sc.broadcast(np.array(centroids).squeeze())\n",
    "    \n",
    "        print(\"Assigning each point to the closest centroid\")\n",
    "        #3. Assign each data point to closest centroid\n",
    "        @udf(IntegerType())\n",
    "        def getClosestCentroid(value):\n",
    "            distances = []\n",
    "            centroids = centroids_bc.value\n",
    "\n",
    "            for centroid in centroids:\n",
    "                distances.append(dist(centroid, value))\n",
    "\n",
    "            return int(np.argmin(distances))\n",
    "\n",
    "        df = df.withColumn('closest', getClosestCentroid(df['TF_IDF']))\n",
    "        \n",
    "        df.persist()\n",
    "    \n",
    "        print(\"Compute new centroids\")\n",
    "        #4. Compute new centroids and bring back to driver\n",
    "        new_centroids_df = df.groupBy('closest') \\\n",
    "            .agg(F.avg('TF_IDF').alias('TF_IDF')) \\\n",
    "            .orderBy('closest')\n",
    "        \n",
    "        new_centroids = np.array(new_centroids_df.select('TF_IDF').collect()).squeeze()\n",
    "        \n",
    "        count = 0\n",
    "        diff = 0\n",
    "        cent_bc = centroids_bc.value\n",
    "        \n",
    "        print(\"Calculating difference\")\n",
    "        for c in new_centroids:\n",
    "            diff += dist(c, cent_bc[count])\n",
    "            count += 1\n",
    "        \n",
    "        print(\"diff:\")\n",
    "        print(diff)\n",
    "        \n",
    "        if diff < threshold:\n",
    "            converged = True\n",
    "        else:\n",
    "            centroids_bc.unpersist()\n",
    "            centroids = new_centroids\n",
    "        \n",
    "        df.unpersist()\n",
    "    \n",
    "    print(\"Assigning Noise Points\")\n",
    "    \n",
    "    @udf(IntegerType())\n",
    "    def isNoisePoint(value):\n",
    "        centroids = centroids_bc.value\n",
    "        distances = getCentroidDistances(value, centroids)\n",
    "        closestCentroid = int(np.argmin(distances))\n",
    "        \n",
    "        if distances[closestCentroid] < minDistance:\n",
    "            return 0\n",
    "        else:\n",
    "            return 1\n",
    "        \n",
    "    df = df.withColumn('is_noise_point', isNoisePoint(df['TF_IDF']))\n",
    "    \n",
    "    print(\"Removing Noise Points\")\n",
    "    df = df.filter(df['is_noise_point'] == 0)\n",
    "    \n",
    "    centroids_bc.unpersist()\n",
    "    \n",
    "    print(\"Execution Complete\")\n",
    "    return centroids, df\n",
    "\n",
    "k = 10\n",
    "threshold = 1\n",
    "minDistance = 5\n",
    "centroids, df = modified_kmeans(df, k, threshold, minDistance)"
   ]
  },
  {
   "cell_type": "code",
   "execution_count": 25,
   "id": "b56ead8a",
   "metadata": {},
   "outputs": [
    {
     "name": "stdout",
     "output_type": "stream",
     "text": [
      "+-----+-------------+--------------------+--------+---------+---------+-------+--------------+\n",
      "|likes|retweet_count|user_followers_count|polarity|   TF_IDF|President|closest|is_noise_point|\n",
      "+-----+-------------+--------------------+--------+---------+---------+-------+--------------+\n",
      "|    0|            0|                  71|  0.0772|0.5288141|        0|      6|             0|\n",
      "|    1|            0|                  11|  -0.128|0.5288141|        0|      6|             0|\n",
      "|    0|            0|                 657|  0.7579|0.9560712|        0|      3|             0|\n",
      "|    0|            0|                  14|     0.0|0.7559104|        1|      3|             0|\n",
      "|  117|           61|               14304|     0.0| 2.734459|        0|      4|             0|\n",
      "+-----+-------------+--------------------+--------+---------+---------+-------+--------------+\n",
      "only showing top 5 rows\n",
      "\n"
     ]
    }
   ],
   "source": [
    "df.show(5)"
   ]
  },
  {
   "cell_type": "code",
   "execution_count": 27,
   "id": "5cbdab1487319914",
   "metadata": {
    "ExecuteTime": {
     "end_time": "2024-05-11T16:34:02.012513600Z",
     "start_time": "2024-05-11T16:33:26.846963700Z"
    }
   },
   "outputs": [
    {
     "name": "stdout",
     "output_type": "stream",
     "text": [
      "['likes', 'retweet_count', 'user_followers_count', 'polarity', 'TF_IDF', 'closest']\n",
      "+-----+-------------+--------------------+--------+---------+---------+-------+--------------+--------------------+\n",
      "|likes|retweet_count|user_followers_count|polarity|   TF_IDF|President|closest|is_noise_point|   features_clusters|\n",
      "+-----+-------------+--------------------+--------+---------+---------+-------+--------------+--------------------+\n",
      "|    0|            0|                  71|  0.0772|0.5288141|        0|      6|             0|[0.0,0.0,71.0,0.0...|\n",
      "|    1|            0|                  11|  -0.128|0.5288141|        0|      6|             0|[1.0,0.0,11.0,-0....|\n",
      "|    0|            0|                 657|  0.7579|0.9560712|        0|      3|             0|[0.0,0.0,657.0,0....|\n",
      "|    0|            0|                  14|     0.0|0.7559104|        1|      3|             0|[0.0,0.0,14.0,0.0...|\n",
      "|  117|           61|               14304|     0.0| 2.734459|        0|      4|             0|[117.0,61.0,14304...|\n",
      "+-----+-------------+--------------------+--------+---------+---------+-------+--------------+--------------------+\n",
      "only showing top 5 rows\n",
      "\n"
     ]
    }
   ],
   "source": [
    "from pyspark.ml.feature import VectorAssembler\n",
    "#feature_columns_xgb = ['scaled_features']\n",
    "feature_columns_xgb=['likes', 'retweet_count', 'user_followers_count','polarity','TF_IDF', 'closest']\n",
    "#feature_columns_xgb = ['scaled_features','kmeans']\n",
    "#feature_columns_xgb = ['kmeans']\n",
    "#feature_columns=df.columns\n",
    "print(feature_columns_xgb)\n",
    "assemblerXGB = VectorAssembler(inputCols=feature_columns_xgb, outputCol=\"features_clusters\")\n",
    "df = assemblerXGB.transform(df)\n",
    "df.show(5)"
   ]
  },
  {
   "cell_type": "code",
   "execution_count": 28,
   "id": "b44d6aa4",
   "metadata": {
    "ExecuteTime": {
     "end_time": "2024-05-11T16:34:02.077362800Z",
     "start_time": "2024-05-11T16:34:02.012513600Z"
    }
   },
   "outputs": [
    {
     "data": {
      "text/plain": [
       "DataFrame[likes: int, retweet_count: int, user_followers_count: int, polarity: float, TF_IDF: float, President: int, closest: int, is_noise_point: int, features_clusters: vector]"
      ]
     },
     "execution_count": 28,
     "metadata": {},
     "output_type": "execute_result"
    }
   ],
   "source": [
    "seed = 654321\n",
    "train_df, test_df = df.randomSplit([0.7, 0.3], seed=seed)\n",
    "train_df.cache()\n",
    "test_df.cache()"
   ]
  },
  {
   "cell_type": "code",
   "execution_count": 29,
   "id": "a4a54df28bbb10c4",
   "metadata": {
    "ExecuteTime": {
     "end_time": "2024-05-11T17:06:19.134396200Z",
     "start_time": "2024-05-11T17:06:12.847214400Z"
    }
   },
   "outputs": [
    {
     "name": "stderr",
     "output_type": "stream",
     "text": [
      "2024-05-12 04:21:11,609 WARNING SparkXGBClassifier: _validate_gpu_params You have enabled GPU in spark local mode. Please make sure your local node has at least 1 GPUs\n",
      "2024-05-12 04:30:15,099 INFO XGBoost-PySpark: _fit Running xgboost-2.0.1 on 1 workers with\n",
      "\tbooster params: {'objective': 'binary:logistic', 'device': 'cuda', 'learning_rate': 0.15, 'numRound': 100, 'maxDepth': 7, 'alpha': 0.0, 'nthread': 1}\n",
      "\ttrain_call_kwargs_params: {'verbose_eval': True, 'num_boost_round': 100}\n",
      "\tdmatrix_kwargs: {'nthread': 1, 'missing': 0.0}\n",
      "2024-05-12 04:30:16,841 INFO SparkXGBClassifier: _skip_stage_level_scheduling Stage-level scheduling in xgboost requires spark standalone or local-cluster mode\n",
      "2024-05-12 04:30:27,960 INFO XGBoost-PySpark: _fit Finished xgboost training!\n"
     ]
    }
   ],
   "source": [
    "\n",
    "from xgboost.spark import SparkXGBClassifier\n",
    "\n",
    "# Initialize the XGBoost classifier\n",
    "xgb = SparkXGBClassifier(\n",
    "    enable_sparse_data_optim=True,\n",
    "    missing=0.0,\n",
    "    features_col='features_clusters',\n",
    "    label_col=\"President\",\n",
    "    prediction_col=\"prediction\",\n",
    "    numRound=100,\n",
    "    learning_rate=0.15,\n",
    "    maxDepth=7,\n",
    "    alpha=0.0,\n",
    "    device='cuda'\n",
    ")\n",
    "\n",
    "from pyspark.ml import Pipeline\n",
    "\n",
    "# Set up the pipeline\n",
    "pipeline = Pipeline(stages=[xgb])\n",
    "\n",
    "# Train the model\n",
    "model = pipeline.fit(train_df)\n"
   ]
  },
  {
   "cell_type": "code",
   "execution_count": 30,
   "id": "60bb7c3ce09b12a3",
   "metadata": {
    "ExecuteTime": {
     "end_time": "2024-05-11T17:06:41.878923500Z",
     "start_time": "2024-05-11T17:06:25.281297500Z"
    }
   },
   "outputs": [
    {
     "name": "stdout",
     "output_type": "stream",
     "text": [
      "Test Accuracy: 0.6660312363455305\n"
     ]
    }
   ],
   "source": [
    "from pyspark.ml.evaluation import MulticlassClassificationEvaluator\n",
    "\n",
    "# Make predictions\n",
    "predictions = model.transform(test_df)\n",
    "\n",
    "# Evaluate the model\n",
    "evaluator = MulticlassClassificationEvaluator(labelCol=\"President\", predictionCol=\"prediction\", metricName=\"accuracy\")\n",
    "accuracy = evaluator.evaluate(predictions)\n",
    "print(f\"Test Accuracy: {accuracy}\")\n"
   ]
  },
  {
   "cell_type": "code",
   "execution_count": null,
   "id": "dc475f0ff4120eb",
   "metadata": {
    "ExecuteTime": {
     "end_time": "2024-05-11T16:42:37.714268800Z",
     "start_time": "2024-05-11T16:42:37.694721900Z"
    }
   },
   "outputs": [],
   "source": [
    "from pyspark.ml.tuning import ParamGridBuilder\n",
    "\n",
    "paramGrid = ParamGridBuilder() \\\n",
    "    .addGrid(xgb.max_depth, [3, 5, 7]) \\\n",
    "    .addGrid(xgb.learning_rate, [0.15, 0.01, 0.001]) \\\n",
    "    .build()\n",
    "\n"
   ]
  },
  {
   "cell_type": "code",
   "execution_count": null,
   "id": "132190cc1f33f8fe",
   "metadata": {
    "ExecuteTime": {
     "end_time": "2024-05-11T16:42:58.637563500Z",
     "start_time": "2024-05-11T16:42:58.613900400Z"
    }
   },
   "outputs": [],
   "source": [
    "from pyspark.ml.evaluation import MulticlassClassificationEvaluator\n",
    "\n",
    "evaluator = MulticlassClassificationEvaluator(labelCol=\"President\")"
   ]
  },
  {
   "cell_type": "code",
   "execution_count": null,
   "id": "21c7255d8c910d73",
   "metadata": {
    "ExecuteTime": {
     "end_time": "2024-05-11T16:43:00.242282200Z",
     "start_time": "2024-05-11T16:43:00.210293200Z"
    }
   },
   "outputs": [],
   "source": [
    "from pyspark.ml.tuning import CrossValidator\n",
    "\n",
    "cv = CrossValidator(\n",
    "    estimator=xgb,\n",
    "    estimatorParamMaps=paramGrid,\n",
    "    evaluator=evaluator,\n",
    "    numFolds=3  \n",
    ")\n",
    "\n"
   ]
  },
  {
   "cell_type": "code",
   "execution_count": null,
   "id": "a1ca29187de36e29",
   "metadata": {
    "ExecuteTime": {
     "end_time": "2024-05-11T17:03:35.787103800Z",
     "start_time": "2024-05-11T16:43:15.091576Z"
    }
   },
   "outputs": [],
   "source": [
    "cvModel = cv.fit(df)"
   ]
  },
  {
   "cell_type": "code",
   "execution_count": null,
   "id": "1c2d690c75158cb3",
   "metadata": {
    "ExecuteTime": {
     "end_time": "2024-05-11T17:05:28.806325600Z",
     "start_time": "2024-05-11T17:05:28.790758800Z"
    }
   },
   "outputs": [],
   "source": [
    "print(cvModel.bestModel.getOrDefault('learning_rate'),cvModel.bestModel.getOrDefault('max_depth'))\n"
   ]
  }
 ],
 "metadata": {
  "kernelspec": {
   "display_name": "Python 3 (ipykernel)",
   "language": "python",
   "name": "python3"
  },
  "language_info": {
   "codemirror_mode": {
    "name": "ipython",
    "version": 3
   },
   "file_extension": ".py",
   "mimetype": "text/x-python",
   "name": "python",
   "nbconvert_exporter": "python",
   "pygments_lexer": "ipython3",
   "version": "3.9.12"
  }
 },
 "nbformat": 4,
 "nbformat_minor": 5
}
