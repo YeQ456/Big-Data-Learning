{
 "cells": [
  {
   "cell_type": "code",
   "execution_count": 61,
   "metadata": {
    "application/vnd.databricks.v1+cell": {
     "cellMetadata": {
      "byteLimit": 2048000,
      "rowLimit": 10000
     },
     "inputWidgets": {},
     "nuid": "2bc4e05e-724b-4e2d-85e6-85790d17ac8d",
     "showTitle": false,
     "title": ""
    },
    "ExecuteTime": {
     "end_time": "2024-05-07T08:06:40.432766900Z",
     "start_time": "2024-05-07T08:06:40.358668600Z"
    }
   },
   "outputs": [],
   "source": [
    "from pyspark.sql import SparkSession\n",
    "\n",
    "spark = SparkSession \\\n",
    "    .builder \\\n",
    "    .master(\"local[*]\") \\\n",
    "    .appName(\"FinalCoursework\") \\\n",
    "    .getOrCreate()\n",
    "\n",
    "sc = spark.sparkContext"
   ]
  },
  {
   "cell_type": "markdown",
   "metadata": {
    "application/vnd.databricks.v1+cell": {
     "cellMetadata": {
      "byteLimit": 2048000,
      "rowLimit": 10000
     },
     "inputWidgets": {},
     "nuid": "88cb4c35-30d8-403e-b660-49a3be569bfa",
     "showTitle": false,
     "title": ""
    }
   },
   "source": [
    "Read the File"
   ]
  },
  {
   "cell_type": "code",
   "execution_count": 62,
   "metadata": {
    "application/vnd.databricks.v1+cell": {
     "cellMetadata": {
      "byteLimit": 2048000,
      "rowLimit": 10000
     },
     "inputWidgets": {},
     "nuid": "69d6f535-36a2-4414-8b11-ff1c13e13091",
     "showTitle": false,
     "title": ""
    },
    "ExecuteTime": {
     "end_time": "2024-05-07T08:06:43.274546300Z",
     "start_time": "2024-05-07T08:06:40.363763500Z"
    }
   },
   "outputs": [],
   "source": [
    "dir_path=\"/mnt/data/project-data/2020tweets\"\n",
    "# <FILL-IN WITH YOUR CODE>\n",
    "df_trump = spark.read.option(\"multiline\", True).csv(\"data/hashtag_donaldtrump.csv\", header=True, inferSchema=True)\n",
    "df_biden = spark.read.option(\"multiline\", True).csv(\"data/hashtag_joebiden.csv\", header=True, inferSchema=True)\n",
    "# <FILL-IN WITH YOUR CODE>"
   ]
  },
  {
   "cell_type": "code",
   "execution_count": 63,
   "metadata": {
    "application/vnd.databricks.v1+cell": {
     "cellMetadata": {
      "byteLimit": 2048000,
      "rowLimit": 10000
     },
     "inputWidgets": {},
     "nuid": "8a2dc94f-5768-47fe-9675-ef7835334335",
     "showTitle": false,
     "title": ""
    },
    "ExecuteTime": {
     "end_time": "2024-05-07T08:06:43.303234100Z",
     "start_time": "2024-05-07T08:06:43.274546300Z"
    }
   },
   "outputs": [],
   "source": [
    "def transer_data_type(data):\n",
    "  data = data.withColumn(\"likes\", data[\"likes\"].cast(\"int\"))\n",
    "  data = data.withColumn(\"retweet_count\", data[\"retweet_count\"].cast(\"int\"))\n",
    "  data = data.withColumn(\"user_followers_count\", data[\"user_followers_count\"].cast(\"int\"))\n",
    "  data = data.withColumn(\"lat\", data[\"lat\"].cast(\"float\"))\n",
    "  data = data.withColumn(\"long\", data[\"long\"].cast(\"float\"))\n",
    "  return data\n",
    "\n",
    "df_trump = transer_data_type(df_trump)\n",
    "df_biden = transer_data_type(df_biden)"
   ]
  },
  {
   "cell_type": "code",
   "execution_count": 64,
   "metadata": {
    "application/vnd.databricks.v1+cell": {
     "cellMetadata": {
      "byteLimit": 2048000,
      "rowLimit": 10000
     },
     "inputWidgets": {},
     "nuid": "305e3b79-b6c2-4899-91b2-52dad2d94e71",
     "showTitle": false,
     "title": ""
    },
    "ExecuteTime": {
     "end_time": "2024-05-07T08:06:43.318764300Z",
     "start_time": "2024-05-07T08:06:43.304234400Z"
    }
   },
   "outputs": [],
   "source": [
    "#Dropping columns\n",
    "remove_columns = ['created_at', 'tweet_id', 'user_id', 'user_screen_name', 'user_join_date', 'collected_at']\n",
    "df_trump = df_trump.drop(*remove_columns)\n",
    "df_biden = df_biden.drop(*remove_columns)\n",
    "\n",
    "#Dropping rows with na values\n",
    "df_trump = df_trump.na.drop()\n",
    "df_biden = df_biden.na.drop()"
   ]
  },
  {
   "cell_type": "markdown",
   "metadata": {
    "application/vnd.databricks.v1+cell": {
     "cellMetadata": {
      "byteLimit": 2048000,
      "rowLimit": 10000
     },
     "inputWidgets": {},
     "nuid": "c679f358-0334-4cd6-89bf-24702518d7d7",
     "showTitle": false,
     "title": ""
    }
   },
   "source": [
    "Compared the number between biden and trump"
   ]
  },
  {
   "cell_type": "code",
   "execution_count": 65,
   "metadata": {
    "application/vnd.databricks.v1+cell": {
     "cellMetadata": {
      "byteLimit": 2048000,
      "rowLimit": 10000
     },
     "inputWidgets": {},
     "nuid": "877d291c-a2ec-454b-820c-c2cc77379f0e",
     "showTitle": false,
     "title": ""
    },
    "ExecuteTime": {
     "end_time": "2024-05-07T08:06:48.935623800Z",
     "start_time": "2024-05-07T08:06:43.320763300Z"
    }
   },
   "outputs": [
    {
     "data": {
      "text/plain": "<Figure size 640x480 with 1 Axes>",
      "image/png": "[encoded data removed]"
     },
     "metadata": {},
     "output_type": "display_data"
    }
   ],
   "source": [
    "import matplotlib.pyplot as plt\n",
    "\n",
    "# Create a bar plot\n",
    "plt.bar(['Trump', 'Biden'], [df_trump.count(), df_biden.count()])\n",
    "plt.xlabel('Candidate')\n",
    "plt.ylabel('Number of Tweets')\n",
    "plt.title('Number of Tweets for Trump and Biden')\n",
    "plt.show()"
   ]
  },
  {
   "cell_type": "code",
   "execution_count": 66,
   "metadata": {
    "application/vnd.databricks.v1+cell": {
     "cellMetadata": {
      "byteLimit": 2048000,
      "rowLimit": 10000
     },
     "inputWidgets": {},
     "nuid": "ef8c5b55-a749-4229-b027-8e5efeebc0b5",
     "showTitle": false,
     "title": ""
    },
    "ExecuteTime": {
     "end_time": "2024-05-07T08:06:48.947132400Z",
     "start_time": "2024-05-07T08:06:48.930624400Z"
    }
   },
   "outputs": [],
   "source": [
    "from pyspark.sql.functions import lit\n",
    "\n",
    "#Adding a presidents column where 0 represents trump and 1 represents biden. This will turn it into a classification problem\n",
    "df_trump = df_trump.withColumn('President', lit(0))\n",
    "df_biden = df_biden.withColumn('President', lit(1))\n",
    "\n",
    "#Merging the 2 datasets\n",
    "df = df_trump.union(df_biden)"
   ]
  },
  {
   "cell_type": "code",
   "execution_count": 67,
   "metadata": {
    "application/vnd.databricks.v1+cell": {
     "cellMetadata": {
      "byteLimit": 2048000,
      "rowLimit": 10000
     },
     "inputWidgets": {},
     "nuid": "a5ad88aa-5361-43c6-9c70-7771d9decc96",
     "showTitle": false,
     "title": ""
    },
    "ExecuteTime": {
     "end_time": "2024-05-07T08:06:49.027344900Z",
     "start_time": "2024-05-07T08:06:48.946132200Z"
    }
   },
   "outputs": [
    {
     "name": "stdout",
     "output_type": "stream",
     "text": [
      "+--------------------+-----+-------------+-------------------+--------------------+--------------------+--------------------+--------------------+---------+-----------+-----------------+--------------------+-------------+--------------------+----------+---------+\n",
      "|               tweet|likes|retweet_count|             source|           user_name|    user_description|user_followers_count|       user_location|      lat|       long|             city|             country|    continent|               state|state_code|President|\n",
      "+--------------------+-----+-------------+-------------------+--------------------+--------------------+--------------------+--------------------+---------+-----------+-----------------+--------------------+-------------+--------------------+----------+---------+\n",
      "|#Trump: As a stud...|    2|            1|    Twitter Web App|              snarke|Will mock for foo...|                1185|            Portland| 45.52025|-122.674194|         Portland|United States of ...|North America|              Oregon|        OR|        0|\n",
      "|You get a tie! An...|    4|            3| Twitter for iPhone|Rana Abtar - رنا ...|Washington Corres...|                5393|       Washington DC|38.894993|  -77.03656|       Washington|United States of ...|North America|District of Columbia|        DC|        0|\n",
      "|In 2020, #NYPost ...|    0|            0| Twitter for iPhone|Change Illinois |...|Illinois, home of...|                1396|   Chicago, Illinois| 41.87556|  -87.62442|          Chicago|United States of ...|North America|            Illinois|        IL|        0|\n",
      "|#Trump #President...|    3|            5|Twitter for Android|        Ron Burgundy|I'm kind of a Big...|                 496|       San Diego, CA|32.717422| -117.16277|        San Diego|United States of ...|North America|          California|        CA|        0|\n",
      "|@Susan_Hutch @Joe...|    2|            0|    Twitter Web App|     Sebastian White|Tortured, literar...|                2755|Edinburgh ~ Heart...|55.953346|  -3.188375|City of Edinburgh|      United Kingdom|       Europe|            Scotland|       SCT|        0|\n",
      "+--------------------+-----+-------------+-------------------+--------------------+--------------------+--------------------+--------------------+---------+-----------+-----------------+--------------------+-------------+--------------------+----------+---------+\n"
     ]
    }
   ],
   "source": [
    "df.show(5)"
   ]
  },
  {
   "cell_type": "markdown",
   "metadata": {
    "application/vnd.databricks.v1+cell": {
     "cellMetadata": {
      "byteLimit": 2048000,
      "rowLimit": 10000
     },
     "inputWidgets": {},
     "nuid": "55af88e6-2b25-43b0-a259-c52668cf0160",
     "showTitle": false,
     "title": ""
    }
   },
   "source": [
    "Pre-processing\n",
    "\n",
    "(1)we remove stop_words,special punction and url from the text"
   ]
  },
  {
   "cell_type": "code",
   "execution_count": 68,
   "metadata": {
    "application/vnd.databricks.v1+cell": {
     "cellMetadata": {
      "byteLimit": 2048000,
      "rowLimit": 10000
     },
     "inputWidgets": {},
     "nuid": "473ed749-ccd4-485a-9189-727fbbc6a5f6",
     "showTitle": false,
     "title": ""
    },
    "ExecuteTime": {
     "end_time": "2024-05-07T08:06:49.027344900Z",
     "start_time": "2024-05-07T08:06:49.023107600Z"
    }
   },
   "outputs": [],
   "source": [
    "import re,string\n",
    "# This code defines a function named \"tokenize\" that tokenizes the input text.\n",
    "# It removes special characters, converts the text to lowercase, and removes stopwords and punctuation.\n",
    "# The resulting tokens are added to a list and returned.\n",
    "\n",
    "# This code defines a list of stopwords to be removed from the text.\n",
    "stopwords = [u'rt', u're', u'i', u'me', u'my', u'myself', u'we', u'our', u'ours', u'ourselves', u'you', u'your',\n",
    "             u'yours', u'yourself', u'yourselves', u'he', u'him', u'his', u'himself', u'she', u'her', u'hers',\n",
    "             u'herself', u'it', u'its', u'itself', u'they', u'them', u'their', u'theirs', u'themselves', u'what',\n",
    "             u'which', u'who', u'whom', u'this', u'that', u'these', u'those', u'am', u'is', u'are', u'was', u'were',\n",
    "             u'be', u'been', u'being', u'have', u'has', u'had', u'having', u'do', u'does', u'did', u'doing', u'a',\n",
    "             u'an', u'the', u'and', u'but', u'if', u'or', u'because', u'as', u'until', u'while', u'of', u'at', u'by',\n",
    "             u'for', u'with', u'about', u'against', u'between', u'into', u'through', u'during', u'before', u'after',\n",
    "             u'above', u'below', u'to', u'from', u'up', u'down', u'in', u'out', u'on', u'off', u'over', u'under',\n",
    "             u'again', u'further', u'then', u'once', u'here', u'there', u'when', u'where', u'why', u'how', u'all',\n",
    "             u'any', u'both', u'each', u'few', u'more', u'most', u'other', u'some', u'such', u'no', u'nor', u'not',\n",
    "             u'only', u'own', u'same', u'so', u'than', u'too', u'very', u's', u't', u'can', u'will', u'just', u'don',\n",
    "             u'should', u'now']\n",
    "def tokenize(text):\n",
    "    # Remove URLs\n",
    "    text = re.sub('http[s]?://(?:[a-zA-Z]|[0-9]|[$-_@.&+]|[!*(),]|(?:%[0-9a-fA-F][0-9a-fA-F]))+', '', text)\n",
    "    \n",
    "    # Remove special characters\n",
    "    text = re.sub('[%s]' % re.escape(string.punctuation), ' ', text)\n",
    "    \n",
    "    # Convert text to lowercase\n",
    "    text = text.lower()\n",
    "    \n",
    "    # Split text into tokens and filter out stopwords, single characters, and '``'\n",
    "    tokens = [word for word in text.split() if word not in stopwords and len(word) > 1 and word != '``']\n",
    "    \n",
    "    return tokens"
   ]
  },
  {
   "cell_type": "code",
   "execution_count": 69,
   "metadata": {
    "application/vnd.databricks.v1+cell": {
     "cellMetadata": {
      "byteLimit": 2048000,
      "rowLimit": 10000
     },
     "inputWidgets": {},
     "nuid": "8e8aa245-e49f-4b40-a927-82a8cfdf3868",
     "showTitle": false,
     "title": ""
    },
    "ExecuteTime": {
     "end_time": "2024-05-07T08:06:49.063685400Z",
     "start_time": "2024-05-07T08:06:49.029348300Z"
    }
   },
   "outputs": [],
   "source": [
    "from pyspark.sql.functions import udf\n",
    "from pyspark.sql.types import ArrayType, StringType,IntegerType\n",
    "\n",
    "# Define UDF to tokenize the tweet attribute\n",
    "@udf(returnType=ArrayType(StringType()))\n",
    "def tokenize_tweet(text):\n",
    "    # Write code here to tokenize the tweet using the desired method/function\n",
    "    tokens = tokenize(text)\n",
    "    return tokens\n",
    "\n",
    "# Add a new column 'Tokens' to the DataFrame 'df' by calling the 'tokenize_tweet' UDF on the 'tweet' column\n",
    "df=df.withColumn('Tokens', tokenize_tweet(df['tweet']))"
   ]
  },
  {
   "cell_type": "code",
   "execution_count": 70,
   "metadata": {
    "application/vnd.databricks.v1+cell": {
     "cellMetadata": {
      "byteLimit": 2048000,
      "rowLimit": 10000
     },
     "inputWidgets": {},
     "nuid": "11d6eb98-0f49-4f92-85b6-9e1defa16b9b",
     "showTitle": false,
     "title": ""
    },
    "ExecuteTime": {
     "end_time": "2024-05-07T08:06:49.723561200Z",
     "start_time": "2024-05-07T08:06:49.049681800Z"
    }
   },
   "outputs": [
    {
     "name": "stdout",
     "output_type": "stream",
     "text": [
      "+--------------------+-----+-------------+------------------+--------------------+--------------------+--------------------+-----------------+---------+-----------+----------+--------------------+-------------+--------------------+----------+---------+--------------------+\n",
      "|               tweet|likes|retweet_count|            source|           user_name|    user_description|user_followers_count|    user_location|      lat|       long|      city|             country|    continent|               state|state_code|President|              Tokens|\n",
      "+--------------------+-----+-------------+------------------+--------------------+--------------------+--------------------+-----------------+---------+-----------+----------+--------------------+-------------+--------------------+----------+---------+--------------------+\n",
      "|#Trump: As a stud...|    2|            1|   Twitter Web App|              snarke|Will mock for foo...|                1185|         Portland| 45.52025|-122.674194|  Portland|United States of ...|North America|              Oregon|        OR|        0|[trump, student, ...|\n",
      "|You get a tie! An...|    4|            3|Twitter for iPhone|Rana Abtar - رنا ...|Washington Corres...|                5393|    Washington DC|38.894993|  -77.03656|Washington|United States of ...|North America|District of Columbia|        DC|        0|[get, tie, get, t...|\n",
      "|In 2020, #NYPost ...|    0|            0|Twitter for iPhone|Change Illinois |...|Illinois, home of...|                1396|Chicago, Illinois| 41.87556|  -87.62442|   Chicago|United States of ...|North America|            Illinois|        IL|        0|[2020, nypost, ce...|\n",
      "+--------------------+-----+-------------+------------------+--------------------+--------------------+--------------------+-----------------+---------+-----------+----------+--------------------+-------------+--------------------+----------+---------+--------------------+\n"
     ]
    }
   ],
   "source": [
    "df.show(3)"
   ]
  },
  {
   "cell_type": "markdown",
   "metadata": {
    "application/vnd.databricks.v1+cell": {
     "cellMetadata": {
      "byteLimit": 2048000,
      "rowLimit": 10000
     },
     "inputWidgets": {},
     "nuid": "0e80eb68-0ce6-4bdd-a048-30148479131f",
     "showTitle": false,
     "title": ""
    }
   },
   "source": [
    "(2)To use word2Vec,we download the pre-trained word2Vec model and broatcast them to the worker computer"
   ]
  },
  {
   "cell_type": "code",
   "execution_count": 71,
   "metadata": {
    "application/vnd.databricks.v1+cell": {
     "cellMetadata": {
      "byteLimit": 2048000,
      "rowLimit": 10000
     },
     "inputWidgets": {},
     "nuid": "2f59dd96-a0e8-4694-9539-16fbbda45fb3",
     "showTitle": false,
     "title": ""
    },
    "ExecuteTime": {
     "end_time": "2024-05-07T08:06:50.055766800Z",
     "start_time": "2024-05-07T08:06:49.724561200Z"
    }
   },
   "outputs": [
    {
     "name": "stdout",
     "output_type": "stream",
     "text": [
      "root\n",
      " |-- word: string (nullable = true)\n",
      " |-- vector: array (nullable = true)\n",
      " |    |-- element: float (containsNull = true)\n"
     ]
    },
    {
     "name": "stderr",
     "output_type": "stream",
     "text": [
      "C:\\Users\\ALLEN AN\\AppData\\Roaming\\Python\\Python311\\site-packages\\pyspark\\sql\\context.py:113: FutureWarning: Deprecated in 3.0.0. Use SparkSession.builder.getOrCreate() instead.\n",
      "  warnings.warn(\n"
     ]
    }
   ],
   "source": [
    "from pyspark import SQLContext\n",
    "sqlContext = SQLContext(sc)\n",
    "lookup = sqlContext.read.parquet(\"word2vecM_simple/data\").alias(\"lookup\")\n",
    "lookup.printSchema()\n",
    "lookup_bd = sc.broadcast(lookup.rdd.collectAsMap())"
   ]
  },
  {
   "cell_type": "markdown",
   "metadata": {
    "application/vnd.databricks.v1+cell": {
     "cellMetadata": {
      "byteLimit": 2048000,
      "rowLimit": 10000
     },
     "inputWidgets": {},
     "nuid": "428bde5e-b609-452b-9cba-038d87d207ae",
     "showTitle": false,
     "title": ""
    }
   },
   "source": [
    "(3)doc2vec methos is iterate each comment and tranfer the comment into an array which contains many word vectors"
   ]
  },
  {
   "cell_type": "code",
   "execution_count": 72,
   "metadata": {
    "application/vnd.databricks.v1+cell": {
     "cellMetadata": {
      "byteLimit": 2048000,
      "rowLimit": 10000
     },
     "inputWidgets": {},
     "nuid": "fff0d456-d8bd-4baa-b26b-d2895fd5ccd9",
     "showTitle": false,
     "title": ""
    },
    "ExecuteTime": {
     "end_time": "2024-05-07T08:06:50.063967600Z",
     "start_time": "2024-05-07T08:06:50.055766800Z"
    }
   },
   "outputs": [],
   "source": [
    "# Change the return type of the function from ndarray to list\n",
    "def doc2vec(document):\n",
    "    doc_vec = [0] * 100\n",
    "    tot_words = 0\n",
    "    \n",
    "    for word in document:\n",
    "        try:\n",
    "            vec = lookup_bd.value.get(word)\n",
    "            if vec is not None:\n",
    "                doc_vec = [a + b + 1 for a, b in zip(doc_vec, vec)]\n",
    "                tot_words += 1\n",
    "        except:\n",
    "            continue\n",
    "    \n",
    "    if tot_words > 0:\n",
    "        doc_vec = [a / float(tot_words) for a in doc_vec]\n",
    "    \n",
    "    return doc_vec"
   ]
  },
  {
   "cell_type": "code",
   "execution_count": 73,
   "metadata": {
    "application/vnd.databricks.v1+cell": {
     "cellMetadata": {
      "byteLimit": 2048000,
      "rowLimit": 10000
     },
     "inputWidgets": {},
     "nuid": "7e749191-843d-41db-b234-1ee6751e39a7",
     "showTitle": false,
     "title": ""
    },
    "ExecuteTime": {
     "end_time": "2024-05-07T08:06:50.074209100Z",
     "start_time": "2024-05-07T08:06:50.059967400Z"
    }
   },
   "outputs": [],
   "source": [
    "from pyspark.sql.functions import udf\n",
    "from pyspark.sql.types import ArrayType, StringType,FloatType\n",
    "\n",
    "# Define UDF to calculate the vector representation of the document by summing up the feature values of each word in the document\n",
    "@udf(returnType=ArrayType(FloatType()))\n",
    "def doc_to_vec(tokens):\n",
    "    token=tokenize(tokens)\n",
    "    # Write code here to calculate the vector representation of the document using the desired method/function\n",
    "    vector = doc2vec(token)\n",
    "    return vector\n",
    "  \n",
    "# Add a new column 'DocVec' to the DataFrame 'df' by calling the 'doc_to_vec' UDF on the 'Tokens' column\n",
    "df=df.withColumn('DocVec', doc_to_vec(df['tweet']))"
   ]
  },
  {
   "cell_type": "code",
   "execution_count": 74,
   "metadata": {
    "application/vnd.databricks.v1+cell": {
     "cellMetadata": {
      "byteLimit": 2048000,
      "rowLimit": 10000
     },
     "inputWidgets": {},
     "nuid": "275402f2-1ba8-4286-8a1c-a6c08d4cda89",
     "showTitle": false,
     "title": ""
    },
    "ExecuteTime": {
     "end_time": "2024-05-07T08:06:50.739113500Z",
     "start_time": "2024-05-07T08:06:50.075208700Z"
    }
   },
   "outputs": [
    {
     "name": "stdout",
     "output_type": "stream",
     "text": [
      "+--------------------+\n",
      "|              DocVec|\n",
      "+--------------------+\n",
      "|[1.0615877, 1.028...|\n",
      "|[1.0815177, 1.128...|\n",
      "|[1.054553, 0.9993...|\n",
      "|[0.9313747, 0.990...|\n",
      "|[1.2355838, 1.145...|\n",
      "+--------------------+\n"
     ]
    }
   ],
   "source": [
    "df.select(\"DocVec\").show(5)"
   ]
  },
  {
   "cell_type": "markdown",
   "metadata": {
    "application/vnd.databricks.v1+cell": {
     "cellMetadata": {
      "byteLimit": 2048000,
      "rowLimit": 10000
     },
     "inputWidgets": {},
     "nuid": "11ccc48c-5af9-4518-9a41-85ce61693424",
     "showTitle": false,
     "title": ""
    }
   },
   "source": [
    "（4）caculate polarity with sentiment analysis"
   ]
  },
  {
   "cell_type": "code",
   "execution_count": 75,
   "metadata": {
    "application/vnd.databricks.v1+cell": {
     "cellMetadata": {
      "byteLimit": 2048000,
      "rowLimit": 10000
     },
     "inputWidgets": {},
     "nuid": "41c660fc-b343-4850-b829-cf3117e05c5b",
     "showTitle": false,
     "title": ""
    },
    "ExecuteTime": {
     "end_time": "2024-05-07T08:06:50.749290300Z",
     "start_time": "2024-05-07T08:06:50.734114200Z"
    }
   },
   "outputs": [
    {
     "name": "stderr",
     "output_type": "stream",
     "text": [
      "[nltk_data] Downloading package vader_lexicon to C:\\Users\\ALLEN\n",
      "[nltk_data]     AN\\AppData\\Roaming\\nltk_data...\n",
      "[nltk_data]   Package vader_lexicon is already up-to-date!\n"
     ]
    }
   ],
   "source": [
    "import nltk\n",
    "nltk.download('vader_lexicon')\n",
    "from nltk.sentiment import SentimentIntensityAnalyzer\n",
    "sia = SentimentIntensityAnalyzer()\n",
    "sc.broadcast(sia)\n",
    "\n",
    "def calculate_sentiment(text):\n",
    "    #sia = SentimentIntensityAnalyzer()\n",
    "    if isinstance(text, list):\n",
    "        text = ' '.join(text)\n",
    "    sentiment_scores = sia.polarity_scores(text)['compound']\n",
    "\n",
    "    '''if(sentiment_scores>0):\n",
    "      sentiment_scores=1\n",
    "    elif(sentiment_scores<0):\n",
    "      sentiment_scores=-1\n",
    "    else:\n",
    "      sentiment_scores=0'''\n",
    "    return sentiment_scores"
   ]
  },
  {
   "cell_type": "code",
   "execution_count": 76,
   "metadata": {
    "application/vnd.databricks.v1+cell": {
     "cellMetadata": {
      "byteLimit": 2048000,
      "rowLimit": 10000
     },
     "inputWidgets": {},
     "nuid": "74a015b0-8766-41c0-8033-ef939c70c11f",
     "showTitle": false,
     "title": ""
    },
    "ExecuteTime": {
     "end_time": "2024-05-07T08:06:50.828676400Z",
     "start_time": "2024-05-07T08:06:50.750291600Z"
    }
   },
   "outputs": [],
   "source": [
    "from pyspark.sql.types import *\n",
    "\n",
    "# Define UDF to tokenize the tweet attribute\n",
    "@udf(returnType=FloatType())\n",
    "def tokenize_tweet(text):\n",
    "    # Write code here to tokenize the tweet using the desired method/function\n",
    "    tokens = tokenize(text)\n",
    "    sent=calculate_sentiment(tokens)\n",
    "    return sent\n",
    "\n",
    "# Add a new column 'Tokens' to the DataFrame 'df' by calling the 'tokenize_tweet' UDF on the 'tweet' column\n",
    "df=df.withColumn('polarity', tokenize_tweet(df['tweet']))\n"
   ]
  },
  {
   "cell_type": "code",
   "execution_count": 77,
   "metadata": {
    "application/vnd.databricks.v1+cell": {
     "cellMetadata": {
      "byteLimit": 2048000,
      "rowLimit": 10000
     },
     "inputWidgets": {},
     "nuid": "355a84b9-7d21-47c8-83d2-b89d22fb8845",
     "showTitle": false,
     "title": ""
    },
    "ExecuteTime": {
     "end_time": "2024-05-07T08:06:52.080089Z",
     "start_time": "2024-05-07T08:06:50.772677400Z"
    }
   },
   "outputs": [
    {
     "name": "stdout",
     "output_type": "stream",
     "text": [
      "+--------+\n",
      "|polarity|\n",
      "+--------+\n",
      "|  0.3612|\n",
      "|     0.0|\n",
      "| -0.1027|\n",
      "+--------+\n"
     ]
    }
   ],
   "source": [
    "df.select(\"polarity\").show(3)"
   ]
  },
  {
   "cell_type": "markdown",
   "metadata": {
    "application/vnd.databricks.v1+cell": {
     "cellMetadata": {},
     "inputWidgets": {},
     "nuid": "3e1e19d2-a6b4-4a42-9cc3-32fca5dc0c7e",
     "showTitle": false,
     "title": ""
    }
   },
   "source": [
    "(5)Labeled the cloassfication\n",
    "if polarity>0 sent=1\n",
    "if polarity=0 sent=0\n",
    "if polarity<0 sent=-1"
   ]
  },
  {
   "cell_type": "code",
   "execution_count": 78,
   "metadata": {
    "application/vnd.databricks.v1+cell": {
     "cellMetadata": {
      "byteLimit": 2048000,
      "rowLimit": 10000
     },
     "inputWidgets": {},
     "nuid": "e7c54c3d-9480-43f2-b117-83c03be01d89",
     "showTitle": false,
     "title": ""
    },
    "ExecuteTime": {
     "end_time": "2024-05-07T08:06:52.081093300Z",
     "start_time": "2024-05-07T08:06:52.070741500Z"
    }
   },
   "outputs": [],
   "source": [
    "from pyspark.sql.functions import when, col\n",
    "\n",
    "df = df.withColumn('sent', when(col('polarity') > 0, 1)\n",
    "                        .when(col('polarity') <= 0, -1)\n",
    "                        .otherwise(0))"
   ]
  },
  {
   "cell_type": "code",
   "execution_count": 79,
   "metadata": {
    "application/vnd.databricks.v1+cell": {
     "cellMetadata": {
      "byteLimit": 2048000,
      "rowLimit": 10000
     },
     "inputWidgets": {},
     "nuid": "8d1fa71e-9954-4b5a-b330-055aeefdf358",
     "showTitle": false,
     "title": ""
    },
    "ExecuteTime": {
     "end_time": "2024-05-07T08:06:53.430401600Z",
     "start_time": "2024-05-07T08:06:52.082093800Z"
    }
   },
   "outputs": [
    {
     "name": "stdout",
     "output_type": "stream",
     "text": [
      "+--------------------+-----+-------------+-------------------+--------------------+--------------------+--------------------+--------------------+---------+-----------+-----------------+--------------------+-------------+--------------------+----------+---------+--------------------+--------------------+--------+----+\n",
      "|               tweet|likes|retweet_count|             source|           user_name|    user_description|user_followers_count|       user_location|      lat|       long|             city|             country|    continent|               state|state_code|President|              Tokens|              DocVec|polarity|sent|\n",
      "+--------------------+-----+-------------+-------------------+--------------------+--------------------+--------------------+--------------------+---------+-----------+-----------------+--------------------+-------------+--------------------+----------+---------+--------------------+--------------------+--------+----+\n",
      "|#Trump: As a stud...|    2|            1|    Twitter Web App|              snarke|Will mock for foo...|                1185|            Portland| 45.52025|-122.674194|         Portland|United States of ...|North America|              Oregon|        OR|        0|[trump, student, ...|[1.0615877, 1.028...|  0.3612|   1|\n",
      "|You get a tie! An...|    4|            3| Twitter for iPhone|Rana Abtar - رنا ...|Washington Corres...|                5393|       Washington DC|38.894993|  -77.03656|       Washington|United States of ...|North America|District of Columbia|        DC|        0|[get, tie, get, t...|[1.0815177, 1.128...|     0.0|  -1|\n",
      "|In 2020, #NYPost ...|    0|            0| Twitter for iPhone|Change Illinois |...|Illinois, home of...|                1396|   Chicago, Illinois| 41.87556|  -87.62442|          Chicago|United States of ...|North America|            Illinois|        IL|        0|[2020, nypost, ce...|[1.054553, 0.9993...| -0.1027|  -1|\n",
      "|#Trump #President...|    3|            5|Twitter for Android|        Ron Burgundy|I'm kind of a Big...|                 496|       San Diego, CA|32.717422| -117.16277|        San Diego|United States of ...|North America|          California|        CA|        0|[trump, president...|[0.9313747, 0.990...|  0.5267|   1|\n",
      "|@Susan_Hutch @Joe...|    2|            0|    Twitter Web App|     Sebastian White|Tortured, literar...|                2755|Edinburgh ~ Heart...|55.953346|  -3.188375|City of Edinburgh|      United Kingdom|       Europe|            Scotland|       SCT|        0|[susan, hutch, jo...|[1.2355838, 1.145...| -0.3818|  -1|\n",
      "+--------------------+-----+-------------+-------------------+--------------------+--------------------+--------------------+--------------------+---------+-----------+-----------------+--------------------+-------------+--------------------+----------+---------+--------------------+--------------------+--------+----+\n"
     ]
    }
   ],
   "source": [
    "df.show(5)"
   ]
  },
  {
   "cell_type": "markdown",
   "metadata": {
    "application/vnd.databricks.v1+cell": {
     "cellMetadata": {
      "byteLimit": 2048000,
      "rowLimit": 10000
     },
     "inputWidgets": {},
     "nuid": "e6283fc7-3b3b-4692-aa17-b2c0ff0dbf3b",
     "showTitle": false,
     "title": ""
    }
   },
   "source": [
    "Build Train_Data and Split Test and train Data"
   ]
  },
  {
   "cell_type": "code",
   "execution_count": 133,
   "metadata": {
    "application/vnd.databricks.v1+cell": {
     "cellMetadata": {
      "byteLimit": 2048000,
      "rowLimit": 10000
     },
     "inputWidgets": {},
     "nuid": "7ad042a1-d2b6-433f-b056-91442c774647",
     "showTitle": false,
     "title": ""
    },
    "ExecuteTime": {
     "end_time": "2024-05-07T08:31:11.092774Z",
     "start_time": "2024-05-07T08:29:24.524790400Z"
    }
   },
   "outputs": [
    {
     "name": "stdout",
     "output_type": "stream",
     "text": [
      "Number of rows in training set: 228605\n",
      "Number of rows in test set: 97948\n"
     ]
    }
   ],
   "source": [
    "seed = 654321\n",
    "from pyspark.sql.functions import udf\n",
    "from pyspark.ml.linalg import Vectors, VectorUDT\n",
    "\n",
    "# Define a UDF to convert array of float to Vectors\n",
    "array_to_vector = udf(lambda x: Vectors.dense(x), VectorUDT())\n",
    "\n",
    "# Apply the UDF to the DocVec column\n",
    "df = df.withColumn(\"DocVec\", array_to_vector(\"DocVec\"))\n",
    "df=df.drop('tweet','source','user_name','user_description','user_location','city','country','continent','state','state_code','Tokens')\n",
    "\n",
    "train_df, test_df = df.randomSplit([0.7, 0.3], seed=seed)\n",
    "\n",
    "train_df.cache()\n",
    "test_df.cache()\n",
    "\n",
    "print(\"Number of rows in training set:\", train_df.count())\n",
    "print(\"Number of rows in test set:\", test_df.count())\n"
   ]
  },
  {
   "cell_type": "code",
   "execution_count": 134,
   "outputs": [
    {
     "name": "stdout",
     "output_type": "stream",
     "text": [
      "+-----+-------------+--------------------+---------+-----------+---------+--------------------+--------+----+\n",
      "|likes|retweet_count|user_followers_count|      lat|       long|President|              DocVec|polarity|sent|\n",
      "+-----+-------------+--------------------+---------+-----------+---------+--------------------+--------+----+\n",
      "|    2|            1|                1185| 45.52025|-122.674194|        0|[1.06158768587435...|  0.3612|   1|\n",
      "|    4|            3|                5393|38.894993|  -77.03656|        0|[1.08151774201542...|     0.0|  -1|\n",
      "|    0|            0|                1396| 41.87556|  -87.62442|        0|[1.05455307082997...| -0.1027|  -1|\n",
      "|    3|            5|                 496|32.717422| -117.16277|        0|[0.93137471253673...|  0.5267|   1|\n",
      "|    2|            0|                2755|55.953346|  -3.188375|        0|[1.23558372259140...| -0.3818|  -1|\n",
      "+-----+-------------+--------------------+---------+-----------+---------+--------------------+--------+----+\n"
     ]
    }
   ],
   "source": [
    "df.show(5)"
   ],
   "metadata": {
    "collapsed": false,
    "ExecuteTime": {
     "end_time": "2024-05-07T08:31:36.646093900Z",
     "start_time": "2024-05-07T08:31:35.153143400Z"
    }
   }
  },
  {
   "cell_type": "markdown",
   "metadata": {
    "application/vnd.databricks.v1+cell": {
     "cellMetadata": {},
     "inputWidgets": {},
     "nuid": "9764eb75-e336-42ad-a0e5-98a44522caeb",
     "showTitle": false,
     "title": ""
    }
   },
   "source": [
    "Create a PipeLine with Spark ML <br>\n",
    "(1) Please use RandomForest model <br>\n",
    "(2) train features is doc2vec,likes,retweet_count,user_followers_count <br>\n",
    "(3) train target label is sent"
   ]
  },
  {
   "cell_type": "code",
   "execution_count": 165,
   "outputs": [],
   "source": [
    "from pyspark.sql import SparkSession\n",
    "\n",
    "spark = SparkSession.builder \\\n",
    "    .appName(\"DT Pipeline\") \\\n",
    "    .getOrCreate()"
   ],
   "metadata": {
    "collapsed": false,
    "ExecuteTime": {
     "end_time": "2024-05-07T08:35:04.326436400Z",
     "start_time": "2024-05-07T08:35:04.301067800Z"
    }
   }
  },
  {
   "cell_type": "code",
   "execution_count": 176,
   "outputs": [
    {
     "name": "stdout",
     "output_type": "stream",
     "text": [
      "['likes', 'retweet_count', 'user_followers_count', 'sent', 'DocVec', 'polarity', 'lat', 'long']\n"
     ]
    }
   ],
   "source": [
    "from pyspark.ml.feature import VectorAssembler,StringIndexer\n",
    "feature_columns = ['likes', 'retweet_count', 'user_followers_count','sent','DocVec','polarity','lat','long']\n",
    "#feature_columns=df.columns\n",
    "print(feature_columns)\n",
    "assembler = VectorAssembler(inputCols=feature_columns, outputCol=\"features\")\n",
    "# Index the label column \"President\" if it's categorical\n",
    "label_indexer = StringIndexer(inputCol=\"President\", outputCol=\"label\")"
   ],
   "metadata": {
    "collapsed": false,
    "ExecuteTime": {
     "end_time": "2024-05-07T08:42:32.341866700Z",
     "start_time": "2024-05-07T08:42:32.323114400Z"
    }
   }
  },
  {
   "cell_type": "code",
   "execution_count": 177,
   "outputs": [],
   "source": [
    "from pyspark.ml.classification import DecisionTreeClassifier\n",
    "\n",
    "# Initialize the Decision Tree classifier\n",
    "dt = DecisionTreeClassifier(featuresCol=\"features\", labelCol=\"label\",maxDepth=10)"
   ],
   "metadata": {
    "collapsed": false,
    "ExecuteTime": {
     "end_time": "2024-05-07T08:42:32.341866700Z",
     "start_time": "2024-05-07T08:42:32.329009Z"
    }
   }
  },
  {
   "cell_type": "code",
   "execution_count": 178,
   "outputs": [],
   "source": [
    "from pyspark.ml import Pipeline\n",
    "\n",
    "# Set up the pipeline\n",
    "pipeline = Pipeline(stages=[assembler, label_indexer, dt])"
   ],
   "metadata": {
    "collapsed": false,
    "ExecuteTime": {
     "end_time": "2024-05-07T08:42:32.341866700Z",
     "start_time": "2024-05-07T08:42:32.334815600Z"
    }
   }
  },
  {
   "cell_type": "code",
   "execution_count": 179,
   "outputs": [],
   "source": [
    "# Train the model\n",
    "model = pipeline.fit(train_df)"
   ],
   "metadata": {
    "collapsed": false,
    "ExecuteTime": {
     "end_time": "2024-05-07T08:42:36.426287600Z",
     "start_time": "2024-05-07T08:42:32.337646900Z"
    }
   }
  },
  {
   "cell_type": "code",
   "execution_count": 180,
   "outputs": [
    {
     "name": "stdout",
     "output_type": "stream",
     "text": [
      "Test Accuracy: 0.5765814513823662\n"
     ]
    }
   ],
   "source": [
    "from pyspark.ml.evaluation import MulticlassClassificationEvaluator\n",
    "\n",
    "# Make predictions\n",
    "predictions = model.transform(test_df)\n",
    "\n",
    "# Evaluate the model\n",
    "evaluator = MulticlassClassificationEvaluator(labelCol=\"label\", predictionCol=\"prediction\", metricName=\"accuracy\")\n",
    "accuracy = evaluator.evaluate(predictions)\n",
    "print(f\"Test Accuracy: {accuracy}\")\n",
    "print(\"dd\")"
   ],
   "metadata": {
    "collapsed": false,
    "ExecuteTime": {
     "end_time": "2024-05-07T08:42:36.976297100Z",
     "start_time": "2024-05-07T08:42:36.426287600Z"
    }
   }
  }
 ],
 "metadata": {
  "application/vnd.databricks.v1+notebook": {
   "dashboards": [],
   "language": "python",
   "notebookMetadata": {
    "pythonIndentUnit": 2
   },
   "notebookName": "Coursework",
   "widgets": {}
  },
  "kernelspec": {
   "display_name": "Python 3 (ipykernel)",
   "language": "python",
   "name": "python3"
  },
  "language_info": {
   "codemirror_mode": {
    "name": "ipython",
    "version": 3
   },
   "file_extension": ".py",
   "mimetype": "text/x-python",
   "name": "python",
   "nbconvert_exporter": "python",
   "pygments_lexer": "ipython3",
   "version": "3.8.2"
  }
 },
 "nbformat": 4,
 "nbformat_minor": 0
}
