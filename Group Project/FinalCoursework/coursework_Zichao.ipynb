{
 "cells": [
  {
   "cell_type": "code",
   "execution_count": 156,
   "id": "68e4b268",
   "metadata": {
    "ExecuteTime": {
     "end_time": "2024-05-11T16:24:13.921249100Z",
     "start_time": "2024-05-11T16:24:13.609264700Z"
    }
   },
   "outputs": [],
   "source": [
    "from pyspark.sql import SparkSession\n",
    "\n",
    "spark = SparkSession \\\n",
    "    .builder \\\n",
    "    .master(\"local[*]\") \\\n",
    "    .appName(\"FinalCoursework\") \\\n",
    "    .config(\"spark.driver.memory\", \"4g\")\\\n",
    "    .getOrCreate()\n",
    "\n",
    "sc = spark.sparkContext"
   ]
  },
  {
   "cell_type": "code",
   "execution_count": 157,
   "id": "f061c593",
   "metadata": {
    "ExecuteTime": {
     "end_time": "2024-05-11T16:24:16.677145600Z",
     "start_time": "2024-05-11T16:24:13.615068400Z"
    }
   },
   "outputs": [],
   "source": [
    "dir_path=\"/mnt/data/project-data/2020tweets\"\n",
    "\n",
    "df_trump = spark.read.option(\"multiline\", True).csv(\"/hashtag_donaldtrump.csv\", header=True, inferSchema=True)\n",
    "df_biden = spark.read.option(\"multiline\", True).csv(\"/hashtag_joebiden.csv\", header=True, inferSchema=True)"
   ]
  },
  {
   "cell_type": "code",
   "execution_count": 158,
   "id": "28aab010",
   "metadata": {
    "ExecuteTime": {
     "end_time": "2024-05-11T16:24:16.708428600Z",
     "start_time": "2024-05-11T16:24:16.680150Z"
    }
   },
   "outputs": [],
   "source": [
    "def transer_data_type(data):\n",
    "  data = data.withColumn(\"likes\", data[\"likes\"].cast(\"int\"))\n",
    "  data = data.withColumn(\"retweet_count\", data[\"retweet_count\"].cast(\"int\"))\n",
    "  data = data.withColumn(\"user_followers_count\", data[\"user_followers_count\"].cast(\"int\"))\n",
    "  data = data.withColumn(\"lat\", data[\"lat\"].cast(\"float\"))\n",
    "  data = data.withColumn(\"long\", data[\"long\"].cast(\"float\"))\n",
    "  return data\n",
    "\n",
    "df_trump = transer_data_type(df_trump)\n",
    "df_biden = transer_data_type(df_biden)"
   ]
  },
  {
   "cell_type": "code",
   "execution_count": 159,
   "id": "9a1c0b16",
   "metadata": {
    "ExecuteTime": {
     "end_time": "2024-05-11T16:24:16.718932900Z",
     "start_time": "2024-05-11T16:24:16.706402200Z"
    }
   },
   "outputs": [],
   "source": [
    "#Dropping columns\n",
    "remove_columns = ['created_at', 'tweet_id', 'user_id', 'user_screen_name', 'user_join_date', 'collected_at', 'user_name', 'user_description', 'user_location', 'lat', 'long', 'city', 'country', 'continent', 'state', 'state_code']\n",
    "df_trump = df_trump.drop(*remove_columns)\n",
    "df_biden = df_biden.drop(*remove_columns)\n",
    "\n",
    "#Dropping rows with na values\n",
    "df_trump = df_trump.na.drop()\n",
    "df_biden = df_biden.na.drop()"
   ]
  },
  {
   "cell_type": "code",
   "execution_count": 160,
   "id": "2b91858d",
   "metadata": {
    "ExecuteTime": {
     "end_time": "2024-05-11T16:24:20.894208200Z",
     "start_time": "2024-05-11T16:24:16.719966Z"
    }
   },
   "outputs": [
    {
     "data": {
      "text/plain": "<Figure size 640x480 with 1 Axes>",
      "image/png": "[encoded data removed]"
     },
     "metadata": {},
     "output_type": "display_data"
    }
   ],
   "source": [
    "import matplotlib.pyplot as plt\n",
    "\n",
    "# Create a bar plot\n",
    "plt.bar(['Trump', 'Biden'], [df_trump.count(), df_biden.count()])\n",
    "plt.xlabel('Candidate')\n",
    "plt.ylabel('Number of Tweets')\n",
    "plt.title('Number of Tweets for Trump and Biden')\n",
    "plt.show()"
   ]
  },
  {
   "cell_type": "code",
   "execution_count": 161,
   "id": "aff130ca",
   "metadata": {
    "ExecuteTime": {
     "end_time": "2024-05-11T16:24:20.903795Z",
     "start_time": "2024-05-11T16:24:20.893208300Z"
    }
   },
   "outputs": [],
   "source": [
    "from pyspark.sql.functions import lit\n",
    "\n",
    "#Adding a presidents column where 0 represents trump and 1 represents biden. This will turn it into a classification problem\n",
    "df_trump = df_trump.withColumn('President', lit(0))\n",
    "df_biden = df_biden.withColumn('President', lit(1))\n",
    "\n",
    "#Merging the 2 datasets\n",
    "df = df_trump.union(df_biden)"
   ]
  },
  {
   "cell_type": "code",
   "execution_count": 162,
   "id": "4f56edd5",
   "metadata": {
    "ExecuteTime": {
     "end_time": "2024-05-11T16:24:20.966203500Z",
     "start_time": "2024-05-11T16:24:20.904794100Z"
    }
   },
   "outputs": [
    {
     "name": "stdout",
     "output_type": "stream",
     "text": [
      "+--------------------+-----+-------------+------------------+--------------------+---------+\n",
      "|               tweet|likes|retweet_count|            source|user_followers_count|President|\n",
      "+--------------------+-----+-------------+------------------+--------------------+---------+\n",
      "|#Elecciones2020 |...|    0|            0|         TweetDeck|                1860|        0|\n",
      "|Usa 2020, Trump c...|   26|            9|  Social Mediaset |             1067661|        0|\n",
      "|#Trump: As a stud...|    2|            1|   Twitter Web App|                1185|        0|\n",
      "|2 hours since las...|    0|            0|     Trumpytweeter|                  32|        0|\n",
      "|You get a tie! An...|    4|            3|Twitter for iPhone|                5393|        0|\n",
      "+--------------------+-----+-------------+------------------+--------------------+---------+\n"
     ]
    }
   ],
   "source": [
    "df.show(5)"
   ]
  },
  {
   "cell_type": "code",
   "execution_count": 163,
   "id": "655d594d",
   "metadata": {
    "ExecuteTime": {
     "end_time": "2024-05-11T16:24:20.979326200Z",
     "start_time": "2024-05-11T16:24:20.966203500Z"
    }
   },
   "outputs": [],
   "source": [
    "from pyspark.sql.functions import udf\n",
    "from pyspark.sql.types import ArrayType, StringType\n",
    "from collections import Counter\n",
    "import re\n",
    "\n",
    "#Extracts all the hastags from the tweet and stores them in a list\n",
    "@udf(returnType=ArrayType(StringType()))\n",
    "def getHashtagList(tweet):\n",
    "  tweet = tweet.lower()\n",
    "  tweet = re.sub(r'[^\\w\\s#]', '', tweet)\n",
    "  hashtag_list = []\n",
    "\n",
    "  for word in tweet.split():\n",
    "    if word[0] == '#':\n",
    "      hashtag_list.append(word)\n",
    "  \n",
    "  #Creates a dictionary where the hashtags are the key and their frequency in the list is the value\n",
    "  count_hashtags = Counter(hashtag_list)\n",
    "\n",
    "  #Remove duplicate hashtags\n",
    "  unique_hashtags = [hashtag for hashtag, frequency in count_hashtags.items() if frequency == 1]\n",
    "\n",
    "  return hashtag_list\n",
    "\n",
    "#Creates a column called hashtags which stores a hastag list for all the tweets\n",
    "df = df.withColumn('hashtags', getHashtagList(df['tweet']))"
   ]
  },
  {
   "cell_type": "code",
   "execution_count": 164,
   "id": "5896c8ec",
   "metadata": {
    "ExecuteTime": {
     "end_time": "2024-05-11T16:24:21.614984Z",
     "start_time": "2024-05-11T16:24:20.980327800Z"
    }
   },
   "outputs": [
    {
     "name": "stdout",
     "output_type": "stream",
     "text": [
      "+--------------------+-----+-------------+------------------+--------------------+---------+--------------------+\n",
      "|               tweet|likes|retweet_count|            source|user_followers_count|President|            hashtags|\n",
      "+--------------------+-----+-------------+------------------+--------------------+---------+--------------------+\n",
      "|#Elecciones2020 |...|    0|            0|         TweetDeck|                1860|        0|[#elecciones2020,...|\n",
      "|Usa 2020, Trump c...|   26|            9|  Social Mediaset |             1067661|        0|      [#donaldtrump]|\n",
      "|#Trump: As a stud...|    2|            1|   Twitter Web App|                1185|        0|            [#trump]|\n",
      "|2 hours since las...|    0|            0|     Trumpytweeter|                  32|        0|            [#trump]|\n",
      "|You get a tie! An...|    4|            3|Twitter for iPhone|                5393|        0|     [#trump, #iowa]|\n",
      "+--------------------+-----+-------------+------------------+--------------------+---------+--------------------+\n"
     ]
    }
   ],
   "source": [
    "df.show(5)"
   ]
  },
  {
   "cell_type": "code",
   "execution_count": 164,
   "outputs": [],
   "source": [],
   "metadata": {
    "collapsed": false,
    "ExecuteTime": {
     "end_time": "2024-05-11T16:24:21.615988100Z",
     "start_time": "2024-05-11T16:24:21.614984Z"
    }
   },
   "id": "45b46b3f14f6bb94"
  },
  {
   "cell_type": "code",
   "execution_count": 165,
   "id": "e78b32cd",
   "metadata": {
    "ExecuteTime": {
     "end_time": "2024-05-11T16:24:21.673831200Z",
     "start_time": "2024-05-11T16:24:21.617987700Z"
    }
   },
   "outputs": [],
   "source": [
    "from pyspark.sql import functions as F\n",
    "    \n",
    "#Splits the hashtag list and displays each hashtag in its own row in column hashtag\n",
    "df_exploded = df.withColumn('hashtag', F.explode(df['hashtags']))\n",
    "\n",
    "#Creates a new column called count which displays how many rows the hashtag appears in\n",
    "#The counts will be used in TF-IDF calculation\n",
    "df_count = df_exploded.groupBy(\"hashtag\").count()\n",
    "\n",
    "#Renaming count to hashtag_count\n",
    "df_count = df_count.withColumnRenamed('count', 'hashtag_count')\n",
    "\n",
    "#Joining df_count with df_exploded on hashtag\n",
    "df_exploded = df_exploded.join(df_count, on=\"hashtag\", how=\"left\")\n",
    "\n",
    "# Group by original columns and collect list of counts\n",
    "df = df_exploded.groupBy(df.columns).agg(F.collect_list(\"hashtag_count\").alias(\"hashtag_counts\"))"
   ]
  },
  {
   "cell_type": "code",
   "execution_count": 166,
   "id": "afe0564c",
   "metadata": {
    "ExecuteTime": {
     "end_time": "2024-05-11T16:24:46.762510200Z",
     "start_time": "2024-05-11T16:24:21.652830100Z"
    }
   },
   "outputs": [
    {
     "name": "stdout",
     "output_type": "stream",
     "text": [
      "+--------------------+-----+-------------+-------------------+--------------------+---------+--------------------+--------------------+\n",
      "|               tweet|likes|retweet_count|             source|user_followers_count|President|            hashtags|      hashtag_counts|\n",
      "+--------------------+-----+-------------+-------------------+--------------------+---------+--------------------+--------------------+\n",
      "| He’s nothing mor...|    0|            0|    Twitter Web App|                  71|        0|            [#trump]|            [968674]|\n",
      "| it shows that #t...|    1|            0|Twitter for Android|                  11|        0|            [#trump]|            [968674]|\n",
      "| media-sourced po...|    0|            0|Twitter for Android|                 657|        0|            [#biden]|            [631862]|\n",
      "| mientras hace ca...|    0|            0| Twitter for iPhone|                  14|        1|[#electionday, #d...|[631862, 78352, 6...|\n",
      "| so Please get a ...|    0|            0|Twitter for Android|                 208|        0|             [#mask]|          [682, 682]|\n",
      "+--------------------+-----+-------------+-------------------+--------------------+---------+--------------------+--------------------+\n"
     ]
    }
   ],
   "source": [
    "df.show(5)"
   ]
  },
  {
   "cell_type": "code",
   "execution_count": 167,
   "id": "181a3996",
   "metadata": {
    "ExecuteTime": {
     "end_time": "2024-05-11T16:24:59.171721400Z",
     "start_time": "2024-05-11T16:24:46.762510200Z"
    }
   },
   "outputs": [
    {
     "name": "stdout",
     "output_type": "stream",
     "text": [
      "1643761\n"
     ]
    }
   ],
   "source": [
    "#Total number of rows\n",
    "#This value is used to calculate TF-IDF\n",
    "df_count = df.count()\n",
    "print(df_count)"
   ]
  },
  {
   "cell_type": "code",
   "execution_count": 168,
   "id": "511cd441",
   "metadata": {
    "ExecuteTime": {
     "end_time": "2024-05-11T16:24:59.186494100Z",
     "start_time": "2024-05-11T16:24:59.172722300Z"
    }
   },
   "outputs": [],
   "source": [
    "from pyspark.sql.types import FloatType\n",
    "import math\n",
    "\n",
    "#Creates the TF_IDF list column\n",
    "@udf(returnType=FloatType())\n",
    "def getAvg_TF_IDF(hashtags, hashtag_counts, df_count):\n",
    "  avg_TF_IDF = 0\n",
    "  count = 0\n",
    "\n",
    "  #If there are no hashtags the tweet will be given a value of 0\n",
    "  if len(hashtags) == 0:\n",
    "    return 0.0\n",
    "\n",
    "  for hashtag in hashtags:\n",
    "    #Calculating TF\n",
    "    #Since all the hastags are unique 1 is being divided by the total number of hastags\n",
    "    TF = 1 / len(hashtags)\n",
    "    #nDocs is the number of rows/tweets the hastag is used\n",
    "    nDocs = hashtag_counts[count]\n",
    "    #Calculating IDF\n",
    "    #df_count is the total number of rows/tweets\n",
    "    IDF = math.log(df_count / nDocs)\n",
    "    TF_IDF = TF * IDF\n",
    "    avg_TF_IDF += TF_IDF\n",
    "    count += 1\n",
    "\n",
    "  avg_TF_IDF /= count\n",
    "  return avg_TF_IDF\n",
    "\n",
    "# Apply the UDF to your DataFrame\n",
    "df = df.withColumn('TF_IDF', getAvg_TF_IDF(df['hashtags'], df['hashtag_counts'], lit(df_count)))"
   ]
  },
  {
   "cell_type": "code",
   "execution_count": 169,
   "id": "7e3623ff",
   "metadata": {
    "ExecuteTime": {
     "end_time": "2024-05-11T16:25:25.858887900Z",
     "start_time": "2024-05-11T16:24:59.186494100Z"
    }
   },
   "outputs": [
    {
     "name": "stdout",
     "output_type": "stream",
     "text": [
      "+--------------------+-----+-------------+-------------------+--------------------+---------+--------------------+--------------------+---------+\n",
      "|               tweet|likes|retweet_count|             source|user_followers_count|President|            hashtags|      hashtag_counts|   TF_IDF|\n",
      "+--------------------+-----+-------------+-------------------+--------------------+---------+--------------------+--------------------+---------+\n",
      "| He’s nothing mor...|    0|            0|    Twitter Web App|                  71|        0|            [#trump]|            [968674]|0.5288141|\n",
      "| it shows that #t...|    1|            0|Twitter for Android|                  11|        0|            [#trump]|            [968674]|0.5288141|\n",
      "| media-sourced po...|    0|            0|Twitter for Android|                 657|        0|            [#biden]|            [631862]|0.9560712|\n",
      "| mientras hace ca...|    0|            0| Twitter for iPhone|                  14|        1|[#electionday, #d...|[631862, 78352, 6...|0.7559104|\n",
      "| so Please get a ...|    0|            0|Twitter for Android|                 208|        0|             [#mask]|          [682, 682]| 7.787468|\n",
      "+--------------------+-----+-------------+-------------------+--------------------+---------+--------------------+--------------------+---------+\n"
     ]
    }
   ],
   "source": [
    "df.show(5)"
   ]
  },
  {
   "cell_type": "code",
   "execution_count": 170,
   "id": "72b59403",
   "metadata": {
    "ExecuteTime": {
     "end_time": "2024-05-11T16:25:25.873610800Z",
     "start_time": "2024-05-11T16:25:25.859888100Z"
    }
   },
   "outputs": [],
   "source": [
    "from pyspark.sql.types import FloatType\n",
    "import math\n",
    "\n",
    "#Creates the TF_IDF list column\n",
    "@udf(returnType=ArrayType(FloatType()))\n",
    "def getAvg_TF_IDF(hashtags, hashtag_counts, df_count):\n",
    "  TF_IDF_list = []\n",
    "  count = 0\n",
    "\n",
    "  #If there are no hashtags the tweet will be given a value of 0\n",
    "  if len(hashtags) == 0:\n",
    "    return 0.0\n",
    "\n",
    "  for hashtag in hashtags:\n",
    "    #Calculating TF\n",
    "    #Since all the hastags are unique 1 is being divided by the total number of hastags\n",
    "    TF = 1 / len(hashtags)\n",
    "    #nDocs is the number of rows/tweets the hastag is used\n",
    "    nDocs = hashtag_counts[count]\n",
    "    #Calculating IDF\n",
    "    #df_count is the total number of rows/tweets\n",
    "    IDF = math.log(df_count / nDocs)\n",
    "    TF_IDF = TF * IDF\n",
    "    TF_IDF_list.append(TF_IDF)\n",
    "    count += 1\n",
    "\n",
    "  return TF_IDF_list\n",
    "\n",
    "# Apply the UDF to your DataFrame\n",
    "df = df.withColumn('TF_IDF_list', getAvg_TF_IDF(df['hashtags'], df['hashtag_counts'], lit(df_count)))"
   ]
  },
  {
   "cell_type": "code",
   "execution_count": 171,
   "id": "29d037cc",
   "metadata": {
    "ExecuteTime": {
     "end_time": "2024-05-11T16:25:53.058230Z",
     "start_time": "2024-05-11T16:25:25.874610200Z"
    }
   },
   "outputs": [
    {
     "name": "stdout",
     "output_type": "stream",
     "text": [
      "+--------------------+-----+-------------+-------------------+--------------------+---------+--------------------+--------------------+---------+--------------------+\n",
      "|               tweet|likes|retweet_count|             source|user_followers_count|President|            hashtags|      hashtag_counts|   TF_IDF|         TF_IDF_list|\n",
      "+--------------------+-----+-------------+-------------------+--------------------+---------+--------------------+--------------------+---------+--------------------+\n",
      "| He’s nothing mor...|    0|            0|    Twitter Web App|                  71|        0|            [#trump]|            [968674]|0.5288141|         [0.5288141]|\n",
      "| it shows that #t...|    1|            0|Twitter for Android|                  11|        0|            [#trump]|            [968674]|0.5288141|         [0.5288141]|\n",
      "| media-sourced po...|    0|            0|Twitter for Android|                 657|        0|            [#biden]|            [631862]|0.9560712|         [0.9560712]|\n",
      "| mientras hace ca...|    0|            0| Twitter for iPhone|                  14|        1|[#electionday, #d...|[631862, 78352, 6...|0.7559104|[0.1593452, 0.507...|\n",
      "| so Please get a ...|    0|            0|Twitter for Android|                 208|        0|             [#mask]|          [682, 682]| 7.787468|          [7.787468]|\n",
      "+--------------------+-----+-------------+-------------------+--------------------+---------+--------------------+--------------------+---------+--------------------+\n"
     ]
    }
   ],
   "source": [
    "df.show(5)"
   ]
  },
  {
   "cell_type": "code",
   "execution_count": 172,
   "id": "aa0a2133",
   "metadata": {
    "ExecuteTime": {
     "end_time": "2024-05-11T16:25:53.061772500Z",
     "start_time": "2024-05-11T16:25:53.059229800Z"
    }
   },
   "outputs": [],
   "source": [
    "import re,string\n",
    "# This code defines a function named \"tokenize\" that tokenizes the input text.\n",
    "# It removes special characters, converts the text to lowercase, and removes stopwords and punctuation.\n",
    "# The resulting tokens are added to a list and returned.\n",
    "\n",
    "# This code defines a list of stopwords to be removed from the text.\n",
    "stopwords = [u'rt', u're', u'i', u'me', u'my', u'myself', u'we', u'our', u'ours', u'ourselves', u'you', u'your',\n",
    "             u'yours', u'yourself', u'yourselves', u'he', u'him', u'his', u'himself', u'she', u'her', u'hers',\n",
    "             u'herself', u'it', u'its', u'itself', u'they', u'them', u'their', u'theirs', u'themselves', u'what',\n",
    "             u'which', u'who', u'whom', u'this', u'that', u'these', u'those', u'am', u'is', u'are', u'was', u'were',\n",
    "             u'be', u'been', u'being', u'have', u'has', u'had', u'having', u'do', u'does', u'did', u'doing', u'a',\n",
    "             u'an', u'the', u'and', u'but', u'if', u'or', u'because', u'as', u'until', u'while', u'of', u'at', u'by',\n",
    "             u'for', u'with', u'about', u'against', u'between', u'into', u'through', u'during', u'before', u'after',\n",
    "             u'above', u'below', u'to', u'from', u'up', u'down', u'in', u'out', u'on', u'off', u'over', u'under',\n",
    "             u'again', u'further', u'then', u'once', u'here', u'there', u'when', u'where', u'why', u'how', u'all',\n",
    "             u'any', u'both', u'each', u'few', u'more', u'most', u'other', u'some', u'such', u'no', u'nor', u'not',\n",
    "             u'only', u'own', u'same', u'so', u'than', u'too', u'very', u's', u't', u'can', u'will', u'just', u'don',\n",
    "             u'should', u'now']\n",
    "def tokenize(text):\n",
    "    # Remove URLs\n",
    "    text = re.sub('http[s]?://(?:[a-zA-Z]|[0-9]|[$-_@.&+]|[!*(),]|(?:%[0-9a-fA-F][0-9a-fA-F]))+', '', text)\n",
    "    \n",
    "    # Remove special characters\n",
    "    text = re.sub('[%s]' % re.escape(string.punctuation), ' ', text)\n",
    "    \n",
    "    # Convert text to lowercase\n",
    "    text = text.lower()\n",
    "    \n",
    "    # Split text into tokens and filter out stopwords, single characters, and '``'\n",
    "    tokens = [word for word in text.split() if word not in stopwords and len(word) > 1 and word != '``']\n",
    "    \n",
    "    return tokens"
   ]
  },
  {
   "cell_type": "code",
   "execution_count": 173,
   "id": "7e6d4c3c",
   "metadata": {
    "ExecuteTime": {
     "end_time": "2024-05-11T16:25:53.130149400Z",
     "start_time": "2024-05-11T16:25:53.066773Z"
    }
   },
   "outputs": [
    {
     "name": "stderr",
     "output_type": "stream",
     "text": [
      "[nltk_data] Downloading package vader_lexicon to C:\\Users\\ALLEN\n",
      "[nltk_data]     AN\\AppData\\Roaming\\nltk_data...\n",
      "[nltk_data]   Package vader_lexicon is already up-to-date!\n"
     ]
    }
   ],
   "source": [
    "import nltk\n",
    "nltk.download('vader_lexicon')\n",
    "from nltk.sentiment import SentimentIntensityAnalyzer\n",
    "sia = SentimentIntensityAnalyzer()\n",
    "sc.broadcast(sia)\n",
    "\n",
    "def calculate_sentiment(text):\n",
    "    #sia = SentimentIntensityAnalyzer()\n",
    "    if isinstance(text, list):\n",
    "        text = ' '.join(text)\n",
    "    sentiment_scores = sia.polarity_scores(text)['compound']\n",
    "\n",
    "    return sentiment_scores"
   ]
  },
  {
   "cell_type": "code",
   "execution_count": 174,
   "id": "b8d34651",
   "metadata": {
    "ExecuteTime": {
     "end_time": "2024-05-11T16:25:53.155144100Z",
     "start_time": "2024-05-11T16:25:53.088375500Z"
    }
   },
   "outputs": [],
   "source": [
    "from pyspark.sql.types import *\n",
    "\n",
    "# Define UDF to tokenize the tweet attribute\n",
    "@udf(returnType=FloatType())\n",
    "def polarize_tweet(text):\n",
    "    # Write code here to tokenize the tweet using the desired method/function\n",
    "    tokens = tokenize(text)\n",
    "    sent=calculate_sentiment(tokens)\n",
    "    return sent\n",
    "\n",
    "# Add a new column 'Tokens' to the DataFrame 'df' by calling the 'tokenize_tweet' UDF on the 'tweet' column\n",
    "df=df.withColumn('polarity', polarize_tweet(df['tweet']))"
   ]
  },
  {
   "cell_type": "code",
   "execution_count": 175,
   "id": "be272240",
   "metadata": {
    "ExecuteTime": {
     "end_time": "2024-05-11T16:26:21.263554100Z",
     "start_time": "2024-05-11T16:25:53.119132Z"
    }
   },
   "outputs": [
    {
     "name": "stdout",
     "output_type": "stream",
     "text": [
      "+--------------------+-----+-------------+-------------------+--------------------+---------+--------------------+--------------------+---------+--------------------+--------+\n",
      "|               tweet|likes|retweet_count|             source|user_followers_count|President|            hashtags|      hashtag_counts|   TF_IDF|         TF_IDF_list|polarity|\n",
      "+--------------------+-----+-------------+-------------------+--------------------+---------+--------------------+--------------------+---------+--------------------+--------+\n",
      "| He’s nothing mor...|    0|            0|    Twitter Web App|                  71|        0|            [#trump]|            [968674]|0.5288141|         [0.5288141]|  0.0772|\n",
      "| it shows that #t...|    1|            0|Twitter for Android|                  11|        0|            [#trump]|            [968674]|0.5288141|         [0.5288141]|  -0.128|\n",
      "| media-sourced po...|    0|            0|Twitter for Android|                 657|        0|            [#biden]|            [631862]|0.9560712|         [0.9560712]|  0.7579|\n",
      "| mientras hace ca...|    0|            0| Twitter for iPhone|                  14|        1|[#electionday, #d...|[631862, 78352, 6...|0.7559104|[0.1593452, 0.507...|     0.0|\n",
      "| so Please get a ...|    0|            0|Twitter for Android|                 208|        0|             [#mask]|          [682, 682]| 7.787468|          [7.787468]|  0.5994|\n",
      "+--------------------+-----+-------------+-------------------+--------------------+---------+--------------------+--------------------+---------+--------------------+--------+\n"
     ]
    }
   ],
   "source": [
    "df.show(5)"
   ]
  },
  {
   "cell_type": "code",
   "execution_count": 176,
   "outputs": [],
   "source": [
    "df=df.select('likes', 'retweet_count', 'user_followers_count','polarity','TF_IDF','President')"
   ],
   "metadata": {
    "collapsed": false,
    "ExecuteTime": {
     "end_time": "2024-05-11T16:26:21.276157200Z",
     "start_time": "2024-05-11T16:26:21.263554100Z"
    }
   },
   "id": "8dbbd4fd78b94523"
  },
  {
   "cell_type": "code",
   "execution_count": 177,
   "outputs": [
    {
     "name": "stdout",
     "output_type": "stream",
     "text": [
      "+-----+-------------+--------------------+--------+----------+---------+---------------------------------------------------------+--------------------------------------------------------------------------------------+\n",
      "|likes|retweet_count|user_followers_count|polarity|TF_IDF    |President|features                                                 |scaled_features                                                                       |\n",
      "+-----+-------------+--------------------+--------+----------+---------+---------------------------------------------------------+--------------------------------------------------------------------------------------+\n",
      "|0    |0            |71                  |0.0772  |0.5288141 |0        |[0.0,0.0,71.0,0.07720000296831131,0.5288140773773193]    |[0.0,0.0,1.9663724743819338E-4,0.18262645031915758,0.5686079571871255]                |\n",
      "|1    |0            |11                  |-0.128  |0.5288141 |0        |[1.0,0.0,11.0,-0.12800000607967377,0.5288140773773193]   |[0.003415502271234873,0.0,3.046492565943841E-5,-0.3028003348750745,0.5686079571871255]|\n",
      "|0    |0            |657                 |0.7579  |0.9560712 |0        |[0.0,0.0,657.0,0.7578999996185303,0.9560711979866028]    |[0.0,0.0,0.0018195869234773668,1.7929090842656834,1.0280166774469575]                 |\n",
      "|0    |0            |14                  |0.0     |0.7559104 |1        |(5,[2,4],[14.0,0.7559103965759277])                      |(5,[2,4],[3.8773541748376156E-5,0.8127935408702547])                                  |\n",
      "|0    |0            |208                 |0.5994  |7.787468  |0        |[0.0,0.0,208.0,0.599399983882904,7.787467956542969]      |[0.0,0.0,5.760640488330172E-4,1.4179570876807899,8.373484057744966]                   |\n",
      "|117  |61           |14304               |0.0     |2.734459  |0        |[117.0,61.0,14304.0,0.0,2.7344589233398438]              |[0.39961376573448015,0.8375793646226711,0.039615481512055184,0.0,2.9402301658149117]  |\n",
      "|1    |0            |1480                |0.0     |2.1684015 |0        |[1.0,0.0,1480.0,0.0,2.1684014797210693]                  |[0.003415502271234873,0.0,0.004098917270542623,0.0,2.331576235376935]                 |\n",
      "|1    |0            |2324                |0.8689  |0.31051412|0        |[1.0,0.0,2324.0,0.8689000010490417,0.3105141222476959]   |[0.003415502271234873,0.0,0.006436407930230442,2.0554937405771176,0.333880674290439]  |\n",
      "|0    |0            |23                  |0.0     |0.5839849 |1        |(5,[2,4],[23.0,0.583984911441803])                       |(5,[2,4],[6.36993900151894E-5,0.62793046124999])                                      |\n",
      "|0    |0            |87                  |0.0     |1.1130831 |1        |(5,[2,4],[87.0,1.1130831241607666])                      |(5,[2,4],[2.409498665791947E-4,1.1968439352966105])                                   |\n",
      "|0    |0            |0                   |0.0     |0.88706917|1        |(5,[4],[0.8870691657066345])                             |(5,[4],[0.9538221612739739])                                                          |\n",
      "|80   |14           |6131                |0.0     |0.3712213 |1        |[80.0,14.0,6131.0,0.0,0.37122130393981934]               |[0.27324018169878983,0.19223132958553107,0.016980041747092445,0.0,0.39915614263602966]|\n",
      "|1    |0            |24475               |0.0     |1.3342106 |0        |[1.0,0.0,24475.0,0.0,1.3342106342315674]                 |[0.003415502271234873,0.0,0.06778445959225046,0.0,1.4346115499615264]                 |\n",
      "|0    |0            |24486               |-0.1531 |1.1489387 |0        |[0.0,0.0,24486.0,-0.15309999883174896,1.1489386558532715]|[0.0,0.0,0.06781492451790991,-0.3621775680758253,1.2353976378202791]                  |\n",
      "|1    |0            |24480               |-0.7096 |0.95033973|0        |[1.0,0.0,24480.0,-0.7095999717712402,0.9503397345542908] |[0.003415502271234873,0.0,0.06779830728573202,-1.6786492099534014,1.021853914666317]  |\n",
      "|0    |0            |24470               |0.0     |1.1590799 |0        |(5,[2,4],[24470.0,1.159079909324646])                    |(5,[2,4],[0.0677706118987689,1.246302032514675])                                      |\n",
      "|0    |0            |24486               |0.6369  |1.1590799 |0        |[0.0,0.0,24486.0,0.636900007724762,1.159079909324646]    |[0.0,0.0,0.06781492451790991,1.5066681754761286,1.246302032514675]                    |\n",
      "|0    |0            |24475               |0.5859  |1.1590799 |0        |[0.0,0.0,24475.0,0.5859000086784363,1.159079909324646]   |[0.0,0.0,0.06778445959225046,1.3860211750358045,1.246302032514675]                    |\n",
      "|0    |0            |24486               |0.5106  |1.1590799 |0        |[0.0,0.0,24486.0,0.5105999708175659,1.159079909324646]   |[0.0,0.0,0.06781492451790991,1.207889334431165,1.246302032514675]                     |\n",
      "|0    |0            |24487               |0.0     |1.1590799 |0        |(5,[2,4],[24487.0,1.159079909324646])                    |(5,[2,4],[0.06781769405660622,1.246302032514675])                                     |\n",
      "+-----+-------------+--------------------+--------+----------+---------+---------------------------------------------------------+--------------------------------------------------------------------------------------+\n"
     ]
    }
   ],
   "source": [
    "#normalization\n",
    "from pyspark.ml.feature import StandardScaler, VectorAssembler\n",
    "\n",
    "# Assemble features into a vector\n",
    "standardVA = VectorAssembler(inputCols=[\"likes\", \"retweet_count\", \"user_followers_count\",'polarity','TF_IDF'], outputCol=\"features\")\n",
    "df = standardVA.transform(df)\n",
    "\n",
    "\n",
    "# Initialize and fit the StandardScaler\n",
    "scaler = StandardScaler(inputCol=\"features\", outputCol=\"scaled_features\", withStd=True, withMean=False)\n",
    "scalerModel = scaler.fit(df)\n",
    "df=scalerModel.transform(df)\n",
    "\n",
    "df.show(truncate=False)"
   ],
   "metadata": {
    "collapsed": false,
    "ExecuteTime": {
     "end_time": "2024-05-11T16:28:01.876919600Z",
     "start_time": "2024-05-11T16:26:21.276157200Z"
    }
   },
   "id": "66103c7e5d3f0a2d"
  },
  {
   "cell_type": "code",
   "execution_count": 178,
   "outputs": [
    {
     "name": "stdout",
     "output_type": "stream",
     "text": [
      "Cluster Centers: \n",
      "[0.03183348 0.02650363 0.08467901 0.52819705 1.06258562]\n",
      "[ 0.02301958  0.02201351  0.0342825  -0.96966151  1.82666815]\n",
      "+-----+-------------+--------------------+--------+----------+---------+--------------------+--------------------+------+\n",
      "|likes|retweet_count|user_followers_count|polarity|    TF_IDF|President|            features|     scaled_features|kmeans|\n",
      "+-----+-------------+--------------------+--------+----------+---------+--------------------+--------------------+------+\n",
      "|    0|            0|                  71|  0.0772| 0.5288141|        0|[0.0,0.0,71.0,0.0...|[0.0,0.0,1.966372...|     0|\n",
      "|    1|            0|                  11|  -0.128| 0.5288141|        0|[1.0,0.0,11.0,-0....|[0.00341550227123...|     0|\n",
      "|    0|            0|                 657|  0.7579| 0.9560712|        0|[0.0,0.0,657.0,0....|[0.0,0.0,0.001819...|     0|\n",
      "|    0|            0|                  14|     0.0| 0.7559104|        1|(5,[2,4],[14.0,0....|(5,[2,4],[3.87735...|     0|\n",
      "|    0|            0|                 208|  0.5994|  7.787468|        0|[0.0,0.0,208.0,0....|[0.0,0.0,5.760640...|     1|\n",
      "|  117|           61|               14304|     0.0|  2.734459|        0|[117.0,61.0,14304...|[0.39961376573448...|     1|\n",
      "|    1|            0|                1480|     0.0| 2.1684015|        0|[1.0,0.0,1480.0,0...|[0.00341550227123...|     1|\n",
      "|    1|            0|                2324|  0.8689|0.31051412|        0|[1.0,0.0,2324.0,0...|[0.00341550227123...|     0|\n",
      "|    0|            0|                  23|     0.0| 0.5839849|        1|(5,[2,4],[23.0,0....|(5,[2,4],[6.36993...|     0|\n",
      "|    0|            0|                  87|     0.0| 1.1130831|        1|(5,[2,4],[87.0,1....|(5,[2,4],[2.40949...|     0|\n",
      "|    0|            0|                   0|     0.0|0.88706917|        1|(5,[4],[0.8870691...|(5,[4],[0.9538221...|     0|\n",
      "|   80|           14|                6131|     0.0| 0.3712213|        1|[80.0,14.0,6131.0...|[0.27324018169878...|     0|\n",
      "|    1|            0|               24475|     0.0| 1.3342106|        0|[1.0,0.0,24475.0,...|[0.00341550227123...|     0|\n",
      "|    0|            0|               24486| -0.1531| 1.1489387|        0|[0.0,0.0,24486.0,...|[0.0,0.0,0.067814...|     1|\n",
      "|    1|            0|               24480| -0.7096|0.95033973|        0|[1.0,0.0,24480.0,...|[0.00341550227123...|     1|\n",
      "|    0|            0|               24470|     0.0| 1.1590799|        0|(5,[2,4],[24470.0...|(5,[2,4],[0.06777...|     0|\n",
      "|    0|            0|               24486|  0.6369| 1.1590799|        0|[0.0,0.0,24486.0,...|[0.0,0.0,0.067814...|     0|\n",
      "|    0|            0|               24475|  0.5859| 1.1590799|        0|[0.0,0.0,24475.0,...|[0.0,0.0,0.067784...|     0|\n",
      "|    0|            0|               24486|  0.5106| 1.1590799|        0|[0.0,0.0,24486.0,...|[0.0,0.0,0.067814...|     0|\n",
      "|    0|            0|               24487|     0.0| 1.1590799|        0|(5,[2,4],[24487.0...|(5,[2,4],[0.06781...|     0|\n",
      "+-----+-------------+--------------------+--------+----------+---------+--------------------+--------------------+------+\n",
      "only showing top 20 rows\n"
     ]
    }
   ],
   "source": [
    "#kmeans\n",
    "from pyspark.ml.clustering import KMeans\n",
    "kmeans = KMeans().setK(2).setSeed(1).setFeaturesCol(('scaled_features')).setPredictionCol(\"kmeans\")\n",
    "kmModel = kmeans.fit(df)\n",
    "\n",
    "# Cluster Centers\n",
    "centers = kmModel.clusterCenters()\n",
    "print(\"Cluster Centers: \")\n",
    "for center in centers:\n",
    "    print(center)\n",
    "\n",
    "df = kmModel.transform(df)\n",
    "df.show()"
   ],
   "metadata": {
    "collapsed": false,
    "ExecuteTime": {
     "end_time": "2024-05-11T16:33:26.846963700Z",
     "start_time": "2024-05-11T16:28:01.875919500Z"
    }
   },
   "id": "fbe4ec264f7f4249"
  },
  {
   "cell_type": "code",
   "execution_count": 179,
   "outputs": [
    {
     "name": "stdout",
     "output_type": "stream",
     "text": [
      "['likes', 'retweet_count', 'user_followers_count', 'polarity', 'TF_IDF', 'kmeans']\n",
      "+-----+-------------+--------------------+--------+---------+---------+--------------------+--------------------+------+--------------------+\n",
      "|likes|retweet_count|user_followers_count|polarity|   TF_IDF|President|            features|     scaled_features|kmeans|   features_clusters|\n",
      "+-----+-------------+--------------------+--------+---------+---------+--------------------+--------------------+------+--------------------+\n",
      "|    0|            0|                  71|  0.0772|0.5288141|        0|[0.0,0.0,71.0,0.0...|[0.0,0.0,1.966372...|     0|[0.0,0.0,71.0,0.0...|\n",
      "|    1|            0|                  11|  -0.128|0.5288141|        0|[1.0,0.0,11.0,-0....|[0.00341550227123...|     0|[1.0,0.0,11.0,-0....|\n",
      "|    0|            0|                 657|  0.7579|0.9560712|        0|[0.0,0.0,657.0,0....|[0.0,0.0,0.001819...|     0|[0.0,0.0,657.0,0....|\n",
      "|    0|            0|                  14|     0.0|0.7559104|        1|(5,[2,4],[14.0,0....|(5,[2,4],[3.87735...|     0|(6,[2,4],[14.0,0....|\n",
      "|    0|            0|                 208|  0.5994| 7.787468|        0|[0.0,0.0,208.0,0....|[0.0,0.0,5.760640...|     1|[0.0,0.0,208.0,0....|\n",
      "+-----+-------------+--------------------+--------+---------+---------+--------------------+--------------------+------+--------------------+\n",
      "only showing top 5 rows\n"
     ]
    }
   ],
   "source": [
    "\n",
    "#feature_columns_xgb = ['scaled_features']\n",
    "feature_columns_xgb=['likes', 'retweet_count', 'user_followers_count','polarity','TF_IDF','kmeans']\n",
    "#feature_columns_xgb = ['scaled_features','kmeans']\n",
    "#feature_columns_xgb = ['kmeans']\n",
    "#feature_columns=df.columns\n",
    "print(feature_columns_xgb)\n",
    "assemblerXGB = VectorAssembler(inputCols=feature_columns_xgb, outputCol=\"features_clusters\")\n",
    "df = assemblerXGB.transform(df)\n",
    "df.show(5)"
   ],
   "metadata": {
    "collapsed": false,
    "ExecuteTime": {
     "end_time": "2024-05-11T16:34:02.012513600Z",
     "start_time": "2024-05-11T16:33:26.846963700Z"
    }
   },
   "id": "5cbdab1487319914"
  },
  {
   "cell_type": "code",
   "execution_count": 180,
   "id": "b44d6aa4",
   "metadata": {
    "ExecuteTime": {
     "end_time": "2024-05-11T16:34:02.077362800Z",
     "start_time": "2024-05-11T16:34:02.012513600Z"
    }
   },
   "outputs": [
    {
     "data": {
      "text/plain": "DataFrame[likes: int, retweet_count: int, user_followers_count: int, polarity: float, TF_IDF: float, President: int, features: vector, scaled_features: vector, kmeans: int, features_clusters: vector]"
     },
     "execution_count": 180,
     "metadata": {},
     "output_type": "execute_result"
    }
   ],
   "source": [
    "seed = 654321\n",
    "train_df, test_df = df.randomSplit([0.7, 0.3], seed=seed)\n",
    "train_df.cache()\n",
    "test_df.cache()"
   ]
  },
  {
   "cell_type": "code",
   "execution_count": 205,
   "outputs": [
    {
     "name": "stderr",
     "output_type": "stream",
     "text": [
      "2024-05-12 01:06:12,849 WARNING SparkXGBClassifier: _validate_gpu_params You have enabled GPU in spark local mode. Please make sure your local node has at least 1 GPUs\n",
      "2024-05-12 01:06:13,064 INFO XGBoost-PySpark: _fit Running xgboost-2.0.3 on 1 workers with\n",
      "\tbooster params: {'objective': 'binary:logistic', 'device': 'cuda', 'learning_rate': 0.15, 'numRound': 100, 'maxDepth': 5, 'alpha': 0.0, 'nthread': 1}\n",
      "\ttrain_call_kwargs_params: {'verbose_eval': True, 'num_boost_round': 100}\n",
      "\tdmatrix_kwargs: {'nthread': 1, 'missing': 0.0}\n",
      "2024-05-12 01:06:13,188 INFO SparkXGBClassifier: _skip_stage_level_scheduling Stage-level scheduling in xgboost requires spark standalone or local-cluster mode\n",
      "2024-05-12 01:06:19,093 INFO XGBoost-PySpark: _fit Finished xgboost training!\n"
     ]
    }
   ],
   "source": [
    "\n",
    "from xgboost.spark import SparkXGBClassifier\n",
    "\n",
    "# Initialize the XGBoost classifier\n",
    "xgb = SparkXGBClassifier(\n",
    "    enable_sparse_data_optim=True,\n",
    "    missing=0.0,\n",
    "    features_col='features_clusters',\n",
    "    label_col=\"President\",\n",
    "    prediction_col=\"prediction\",\n",
    "    numRound=100,\n",
    "    learning_rate=0.15,\n",
    "    maxDepth=7,\n",
    "    alpha=0.0,\n",
    "    device='cuda'\n",
    ")\n",
    "\n",
    "from pyspark.ml import Pipeline\n",
    "\n",
    "# Set up the pipeline\n",
    "pipeline = Pipeline(stages=[xgb])\n",
    "\n",
    "# Train the model\n",
    "model = pipeline.fit(train_df)\n"
   ],
   "metadata": {
    "collapsed": false,
    "ExecuteTime": {
     "end_time": "2024-05-11T17:06:19.134396200Z",
     "start_time": "2024-05-11T17:06:12.847214400Z"
    }
   },
   "id": "a4a54df28bbb10c4"
  },
  {
   "cell_type": "code",
   "execution_count": 206,
   "outputs": [
    {
     "name": "stdout",
     "output_type": "stream",
     "text": [
      "Test Accuracy: 0.6622190213422057\n"
     ]
    }
   ],
   "source": [
    "from pyspark.ml.evaluation import MulticlassClassificationEvaluator\n",
    "\n",
    "# Make predictions\n",
    "predictions = model.transform(test_df)\n",
    "\n",
    "# Evaluate the model\n",
    "evaluator = MulticlassClassificationEvaluator(labelCol=\"President\", predictionCol=\"prediction\", metricName=\"accuracy\")\n",
    "accuracy = evaluator.evaluate(predictions)\n",
    "print(f\"Test Accuracy: {accuracy}\")\n"
   ],
   "metadata": {
    "collapsed": false,
    "ExecuteTime": {
     "end_time": "2024-05-11T17:06:41.878923500Z",
     "start_time": "2024-05-11T17:06:25.281297500Z"
    }
   },
   "id": "60bb7c3ce09b12a3"
  },
  {
   "cell_type": "code",
   "execution_count": 194,
   "outputs": [],
   "source": [
    "from pyspark.ml.tuning import ParamGridBuilder\n",
    "\n",
    "paramGrid = ParamGridBuilder() \\\n",
    "    .addGrid(xgb.max_depth, [3, 5, 7]) \\\n",
    "    .addGrid(xgb.learning_rate, [0.15, 0.01, 0.001]) \\\n",
    "    .build()\n",
    "\n"
   ],
   "metadata": {
    "collapsed": false,
    "ExecuteTime": {
     "end_time": "2024-05-11T16:42:37.714268800Z",
     "start_time": "2024-05-11T16:42:37.694721900Z"
    }
   },
   "id": "dc475f0ff4120eb"
  },
  {
   "cell_type": "code",
   "execution_count": 195,
   "outputs": [],
   "source": [
    "from pyspark.ml.evaluation import MulticlassClassificationEvaluator\n",
    "\n",
    "evaluator = MulticlassClassificationEvaluator(labelCol=\"President\")"
   ],
   "metadata": {
    "collapsed": false,
    "ExecuteTime": {
     "end_time": "2024-05-11T16:42:58.637563500Z",
     "start_time": "2024-05-11T16:42:58.613900400Z"
    }
   },
   "id": "132190cc1f33f8fe"
  },
  {
   "cell_type": "code",
   "execution_count": 196,
   "outputs": [],
   "source": [
    "from pyspark.ml.tuning import CrossValidator\n",
    "\n",
    "cv = CrossValidator(\n",
    "    estimator=xgb,\n",
    "    estimatorParamMaps=paramGrid,\n",
    "    evaluator=evaluator,\n",
    "    numFolds=3  \n",
    ")\n",
    "\n"
   ],
   "metadata": {
    "collapsed": false,
    "ExecuteTime": {
     "end_time": "2024-05-11T16:43:00.242282200Z",
     "start_time": "2024-05-11T16:43:00.210293200Z"
    }
   },
   "id": "21c7255d8c910d73"
  },
  {
   "cell_type": "code",
   "execution_count": 198,
   "outputs": [
    {
     "name": "stderr",
     "output_type": "stream",
     "text": [
      "2024-05-12 00:43:15,195 WARNING SparkXGBClassifier: _validate_gpu_params You have enabled GPU in spark local mode. Please make sure your local node has at least 1 GPUs\n",
      "2024-05-12 00:44:23,377 INFO XGBoost-PySpark: _fit Running xgboost-2.0.3 on 1 workers with\n",
      "\tbooster params: {'device': 'cuda', 'learning_rate': 0.15, 'max_depth': 3, 'objective': 'binary:logistic', 'numRound': 100, 'maxDepth': 5, 'alpha': 0.0, 'nthread': 1}\n",
      "\ttrain_call_kwargs_params: {'verbose_eval': True, 'num_boost_round': 100}\n",
      "\tdmatrix_kwargs: {'nthread': 1, 'missing': 0.0}\n",
      "2024-05-12 00:44:23,599 INFO SparkXGBClassifier: _skip_stage_level_scheduling Stage-level scheduling in xgboost requires spark standalone or local-cluster mode\n",
      "2024-05-12 00:44:29,654 INFO XGBoost-PySpark: _fit Finished xgboost training!\n",
      "2024-05-12 00:45:56,001 WARNING SparkXGBClassifier: _validate_gpu_params You have enabled GPU in spark local mode. Please make sure your local node has at least 1 GPUs\n",
      "2024-05-12 00:45:56,310 INFO XGBoost-PySpark: _fit Running xgboost-2.0.3 on 1 workers with\n",
      "\tbooster params: {'device': 'cuda', 'learning_rate': 0.01, 'max_depth': 3, 'objective': 'binary:logistic', 'numRound': 100, 'maxDepth': 5, 'alpha': 0.0, 'nthread': 1}\n",
      "\ttrain_call_kwargs_params: {'verbose_eval': True, 'num_boost_round': 100}\n",
      "\tdmatrix_kwargs: {'nthread': 1, 'missing': 0.0}\n",
      "2024-05-12 00:45:56,455 INFO SparkXGBClassifier: _skip_stage_level_scheduling Stage-level scheduling in xgboost requires spark standalone or local-cluster mode\n",
      "2024-05-12 00:46:02,246 INFO XGBoost-PySpark: _fit Finished xgboost training!\n",
      "2024-05-12 00:46:19,667 WARNING SparkXGBClassifier: _validate_gpu_params You have enabled GPU in spark local mode. Please make sure your local node has at least 1 GPUs\n",
      "2024-05-12 00:46:19,963 INFO XGBoost-PySpark: _fit Running xgboost-2.0.3 on 1 workers with\n",
      "\tbooster params: {'device': 'cuda', 'learning_rate': 0.001, 'max_depth': 3, 'objective': 'binary:logistic', 'numRound': 100, 'maxDepth': 5, 'alpha': 0.0, 'nthread': 1}\n",
      "\ttrain_call_kwargs_params: {'verbose_eval': True, 'num_boost_round': 100}\n",
      "\tdmatrix_kwargs: {'nthread': 1, 'missing': 0.0}\n",
      "2024-05-12 00:46:20,093 INFO SparkXGBClassifier: _skip_stage_level_scheduling Stage-level scheduling in xgboost requires spark standalone or local-cluster mode\n",
      "2024-05-12 00:46:25,818 INFO XGBoost-PySpark: _fit Finished xgboost training!\n",
      "2024-05-12 00:46:43,074 WARNING SparkXGBClassifier: _validate_gpu_params You have enabled GPU in spark local mode. Please make sure your local node has at least 1 GPUs\n",
      "2024-05-12 00:46:43,365 INFO XGBoost-PySpark: _fit Running xgboost-2.0.3 on 1 workers with\n",
      "\tbooster params: {'device': 'cuda', 'learning_rate': 0.15, 'max_depth': 5, 'objective': 'binary:logistic', 'numRound': 100, 'maxDepth': 5, 'alpha': 0.0, 'nthread': 1}\n",
      "\ttrain_call_kwargs_params: {'verbose_eval': True, 'num_boost_round': 100}\n",
      "\tdmatrix_kwargs: {'nthread': 1, 'missing': 0.0}\n",
      "2024-05-12 00:46:43,486 INFO SparkXGBClassifier: _skip_stage_level_scheduling Stage-level scheduling in xgboost requires spark standalone or local-cluster mode\n",
      "2024-05-12 00:46:49,287 INFO XGBoost-PySpark: _fit Finished xgboost training!\n",
      "2024-05-12 00:47:06,449 WARNING SparkXGBClassifier: _validate_gpu_params You have enabled GPU in spark local mode. Please make sure your local node has at least 1 GPUs\n",
      "2024-05-12 00:47:06,736 INFO XGBoost-PySpark: _fit Running xgboost-2.0.3 on 1 workers with\n",
      "\tbooster params: {'device': 'cuda', 'learning_rate': 0.01, 'max_depth': 5, 'objective': 'binary:logistic', 'numRound': 100, 'maxDepth': 5, 'alpha': 0.0, 'nthread': 1}\n",
      "\ttrain_call_kwargs_params: {'verbose_eval': True, 'num_boost_round': 100}\n",
      "\tdmatrix_kwargs: {'nthread': 1, 'missing': 0.0}\n",
      "2024-05-12 00:47:06,858 INFO SparkXGBClassifier: _skip_stage_level_scheduling Stage-level scheduling in xgboost requires spark standalone or local-cluster mode\n",
      "2024-05-12 00:47:12,791 INFO XGBoost-PySpark: _fit Finished xgboost training!\n",
      "2024-05-12 00:47:30,042 WARNING SparkXGBClassifier: _validate_gpu_params You have enabled GPU in spark local mode. Please make sure your local node has at least 1 GPUs\n",
      "2024-05-12 00:47:30,338 INFO XGBoost-PySpark: _fit Running xgboost-2.0.3 on 1 workers with\n",
      "\tbooster params: {'device': 'cuda', 'learning_rate': 0.001, 'max_depth': 5, 'objective': 'binary:logistic', 'numRound': 100, 'maxDepth': 5, 'alpha': 0.0, 'nthread': 1}\n",
      "\ttrain_call_kwargs_params: {'verbose_eval': True, 'num_boost_round': 100}\n",
      "\tdmatrix_kwargs: {'nthread': 1, 'missing': 0.0}\n",
      "2024-05-12 00:47:30,467 INFO SparkXGBClassifier: _skip_stage_level_scheduling Stage-level scheduling in xgboost requires spark standalone or local-cluster mode\n",
      "2024-05-12 00:47:36,324 INFO XGBoost-PySpark: _fit Finished xgboost training!\n",
      "2024-05-12 00:47:53,561 WARNING SparkXGBClassifier: _validate_gpu_params You have enabled GPU in spark local mode. Please make sure your local node has at least 1 GPUs\n",
      "2024-05-12 00:47:53,829 INFO XGBoost-PySpark: _fit Running xgboost-2.0.3 on 1 workers with\n",
      "\tbooster params: {'device': 'cuda', 'learning_rate': 0.15, 'max_depth': 7, 'objective': 'binary:logistic', 'numRound': 100, 'maxDepth': 5, 'alpha': 0.0, 'nthread': 1}\n",
      "\ttrain_call_kwargs_params: {'verbose_eval': True, 'num_boost_round': 100}\n",
      "\tdmatrix_kwargs: {'nthread': 1, 'missing': 0.0}\n",
      "2024-05-12 00:47:53,958 INFO SparkXGBClassifier: _skip_stage_level_scheduling Stage-level scheduling in xgboost requires spark standalone or local-cluster mode\n",
      "2024-05-12 00:48:00,062 INFO XGBoost-PySpark: _fit Finished xgboost training!\n",
      "2024-05-12 00:48:17,545 WARNING SparkXGBClassifier: _validate_gpu_params You have enabled GPU in spark local mode. Please make sure your local node has at least 1 GPUs\n",
      "2024-05-12 00:48:17,855 INFO XGBoost-PySpark: _fit Running xgboost-2.0.3 on 1 workers with\n",
      "\tbooster params: {'device': 'cuda', 'learning_rate': 0.01, 'max_depth': 7, 'objective': 'binary:logistic', 'numRound': 100, 'maxDepth': 5, 'alpha': 0.0, 'nthread': 1}\n",
      "\ttrain_call_kwargs_params: {'verbose_eval': True, 'num_boost_round': 100}\n",
      "\tdmatrix_kwargs: {'nthread': 1, 'missing': 0.0}\n",
      "2024-05-12 00:48:17,978 INFO SparkXGBClassifier: _skip_stage_level_scheduling Stage-level scheduling in xgboost requires spark standalone or local-cluster mode\n",
      "2024-05-12 00:48:24,118 INFO XGBoost-PySpark: _fit Finished xgboost training!\n",
      "2024-05-12 00:48:41,915 WARNING SparkXGBClassifier: _validate_gpu_params You have enabled GPU in spark local mode. Please make sure your local node has at least 1 GPUs\n",
      "2024-05-12 00:48:42,223 INFO XGBoost-PySpark: _fit Running xgboost-2.0.3 on 1 workers with\n",
      "\tbooster params: {'device': 'cuda', 'learning_rate': 0.001, 'max_depth': 7, 'objective': 'binary:logistic', 'numRound': 100, 'maxDepth': 5, 'alpha': 0.0, 'nthread': 1}\n",
      "\ttrain_call_kwargs_params: {'verbose_eval': True, 'num_boost_round': 100}\n",
      "\tdmatrix_kwargs: {'nthread': 1, 'missing': 0.0}\n",
      "2024-05-12 00:48:42,353 INFO SparkXGBClassifier: _skip_stage_level_scheduling Stage-level scheduling in xgboost requires spark standalone or local-cluster mode\n",
      "2024-05-12 00:48:48,407 INFO XGBoost-PySpark: _fit Finished xgboost training!\n",
      "2024-05-12 00:49:05,972 WARNING SparkXGBClassifier: _validate_gpu_params You have enabled GPU in spark local mode. Please make sure your local node has at least 1 GPUs\n",
      "2024-05-12 00:50:23,608 INFO XGBoost-PySpark: _fit Running xgboost-2.0.3 on 1 workers with\n",
      "\tbooster params: {'device': 'cuda', 'learning_rate': 0.15, 'max_depth': 3, 'objective': 'binary:logistic', 'numRound': 100, 'maxDepth': 5, 'alpha': 0.0, 'nthread': 1}\n",
      "\ttrain_call_kwargs_params: {'verbose_eval': True, 'num_boost_round': 100}\n",
      "\tdmatrix_kwargs: {'nthread': 1, 'missing': 0.0}\n",
      "2024-05-12 00:50:23,739 INFO SparkXGBClassifier: _skip_stage_level_scheduling Stage-level scheduling in xgboost requires spark standalone or local-cluster mode\n",
      "2024-05-12 00:50:29,494 INFO XGBoost-PySpark: _fit Finished xgboost training!\n",
      "2024-05-12 00:51:59,666 WARNING SparkXGBClassifier: _validate_gpu_params You have enabled GPU in spark local mode. Please make sure your local node has at least 1 GPUs\n",
      "2024-05-12 00:51:59,954 INFO XGBoost-PySpark: _fit Running xgboost-2.0.3 on 1 workers with\n",
      "\tbooster params: {'device': 'cuda', 'learning_rate': 0.01, 'max_depth': 3, 'objective': 'binary:logistic', 'numRound': 100, 'maxDepth': 5, 'alpha': 0.0, 'nthread': 1}\n",
      "\ttrain_call_kwargs_params: {'verbose_eval': True, 'num_boost_round': 100}\n",
      "\tdmatrix_kwargs: {'nthread': 1, 'missing': 0.0}\n",
      "2024-05-12 00:52:00,166 INFO SparkXGBClassifier: _skip_stage_level_scheduling Stage-level scheduling in xgboost requires spark standalone or local-cluster mode\n",
      "2024-05-12 00:52:05,996 INFO XGBoost-PySpark: _fit Finished xgboost training!\n",
      "2024-05-12 00:52:23,637 WARNING SparkXGBClassifier: _validate_gpu_params You have enabled GPU in spark local mode. Please make sure your local node has at least 1 GPUs\n",
      "2024-05-12 00:52:23,930 INFO XGBoost-PySpark: _fit Running xgboost-2.0.3 on 1 workers with\n",
      "\tbooster params: {'device': 'cuda', 'learning_rate': 0.001, 'max_depth': 3, 'objective': 'binary:logistic', 'numRound': 100, 'maxDepth': 5, 'alpha': 0.0, 'nthread': 1}\n",
      "\ttrain_call_kwargs_params: {'verbose_eval': True, 'num_boost_round': 100}\n",
      "\tdmatrix_kwargs: {'nthread': 1, 'missing': 0.0}\n",
      "2024-05-12 00:52:24,055 INFO SparkXGBClassifier: _skip_stage_level_scheduling Stage-level scheduling in xgboost requires spark standalone or local-cluster mode\n",
      "2024-05-12 00:52:29,909 INFO XGBoost-PySpark: _fit Finished xgboost training!\n",
      "2024-05-12 00:52:49,074 WARNING SparkXGBClassifier: _validate_gpu_params You have enabled GPU in spark local mode. Please make sure your local node has at least 1 GPUs\n",
      "2024-05-12 00:52:49,385 INFO XGBoost-PySpark: _fit Running xgboost-2.0.3 on 1 workers with\n",
      "\tbooster params: {'device': 'cuda', 'learning_rate': 0.15, 'max_depth': 5, 'objective': 'binary:logistic', 'numRound': 100, 'maxDepth': 5, 'alpha': 0.0, 'nthread': 1}\n",
      "\ttrain_call_kwargs_params: {'verbose_eval': True, 'num_boost_round': 100}\n",
      "\tdmatrix_kwargs: {'nthread': 1, 'missing': 0.0}\n",
      "2024-05-12 00:52:49,524 INFO SparkXGBClassifier: _skip_stage_level_scheduling Stage-level scheduling in xgboost requires spark standalone or local-cluster mode\n",
      "2024-05-12 00:52:55,401 INFO XGBoost-PySpark: _fit Finished xgboost training!\n",
      "2024-05-12 00:53:15,099 WARNING SparkXGBClassifier: _validate_gpu_params You have enabled GPU in spark local mode. Please make sure your local node has at least 1 GPUs\n",
      "2024-05-12 00:53:15,413 INFO XGBoost-PySpark: _fit Running xgboost-2.0.3 on 1 workers with\n",
      "\tbooster params: {'device': 'cuda', 'learning_rate': 0.01, 'max_depth': 5, 'objective': 'binary:logistic', 'numRound': 100, 'maxDepth': 5, 'alpha': 0.0, 'nthread': 1}\n",
      "\ttrain_call_kwargs_params: {'verbose_eval': True, 'num_boost_round': 100}\n",
      "\tdmatrix_kwargs: {'nthread': 1, 'missing': 0.0}\n",
      "2024-05-12 00:53:15,549 INFO SparkXGBClassifier: _skip_stage_level_scheduling Stage-level scheduling in xgboost requires spark standalone or local-cluster mode\n",
      "2024-05-12 00:53:21,448 INFO XGBoost-PySpark: _fit Finished xgboost training!\n",
      "2024-05-12 00:53:39,100 WARNING SparkXGBClassifier: _validate_gpu_params You have enabled GPU in spark local mode. Please make sure your local node has at least 1 GPUs\n",
      "2024-05-12 00:53:39,392 INFO XGBoost-PySpark: _fit Running xgboost-2.0.3 on 1 workers with\n",
      "\tbooster params: {'device': 'cuda', 'learning_rate': 0.001, 'max_depth': 5, 'objective': 'binary:logistic', 'numRound': 100, 'maxDepth': 5, 'alpha': 0.0, 'nthread': 1}\n",
      "\ttrain_call_kwargs_params: {'verbose_eval': True, 'num_boost_round': 100}\n",
      "\tdmatrix_kwargs: {'nthread': 1, 'missing': 0.0}\n",
      "2024-05-12 00:53:39,527 INFO SparkXGBClassifier: _skip_stage_level_scheduling Stage-level scheduling in xgboost requires spark standalone or local-cluster mode\n",
      "2024-05-12 00:53:45,465 INFO XGBoost-PySpark: _fit Finished xgboost training!\n",
      "2024-05-12 00:54:03,627 WARNING SparkXGBClassifier: _validate_gpu_params You have enabled GPU in spark local mode. Please make sure your local node has at least 1 GPUs\n",
      "2024-05-12 00:54:03,923 INFO XGBoost-PySpark: _fit Running xgboost-2.0.3 on 1 workers with\n",
      "\tbooster params: {'device': 'cuda', 'learning_rate': 0.15, 'max_depth': 7, 'objective': 'binary:logistic', 'numRound': 100, 'maxDepth': 5, 'alpha': 0.0, 'nthread': 1}\n",
      "\ttrain_call_kwargs_params: {'verbose_eval': True, 'num_boost_round': 100}\n",
      "\tdmatrix_kwargs: {'nthread': 1, 'missing': 0.0}\n",
      "2024-05-12 00:54:04,052 INFO SparkXGBClassifier: _skip_stage_level_scheduling Stage-level scheduling in xgboost requires spark standalone or local-cluster mode\n",
      "2024-05-12 00:54:10,089 INFO XGBoost-PySpark: _fit Finished xgboost training!\n",
      "2024-05-12 00:54:27,461 WARNING SparkXGBClassifier: _validate_gpu_params You have enabled GPU in spark local mode. Please make sure your local node has at least 1 GPUs\n",
      "2024-05-12 00:54:27,749 INFO XGBoost-PySpark: _fit Running xgboost-2.0.3 on 1 workers with\n",
      "\tbooster params: {'device': 'cuda', 'learning_rate': 0.01, 'max_depth': 7, 'objective': 'binary:logistic', 'numRound': 100, 'maxDepth': 5, 'alpha': 0.0, 'nthread': 1}\n",
      "\ttrain_call_kwargs_params: {'verbose_eval': True, 'num_boost_round': 100}\n",
      "\tdmatrix_kwargs: {'nthread': 1, 'missing': 0.0}\n",
      "2024-05-12 00:54:27,875 INFO SparkXGBClassifier: _skip_stage_level_scheduling Stage-level scheduling in xgboost requires spark standalone or local-cluster mode\n",
      "2024-05-12 00:54:33,909 INFO XGBoost-PySpark: _fit Finished xgboost training!\n",
      "2024-05-12 00:54:51,399 WARNING SparkXGBClassifier: _validate_gpu_params You have enabled GPU in spark local mode. Please make sure your local node has at least 1 GPUs\n",
      "2024-05-12 00:54:51,698 INFO XGBoost-PySpark: _fit Running xgboost-2.0.3 on 1 workers with\n",
      "\tbooster params: {'device': 'cuda', 'learning_rate': 0.001, 'max_depth': 7, 'objective': 'binary:logistic', 'numRound': 100, 'maxDepth': 5, 'alpha': 0.0, 'nthread': 1}\n",
      "\ttrain_call_kwargs_params: {'verbose_eval': True, 'num_boost_round': 100}\n",
      "\tdmatrix_kwargs: {'nthread': 1, 'missing': 0.0}\n",
      "2024-05-12 00:54:51,823 INFO SparkXGBClassifier: _skip_stage_level_scheduling Stage-level scheduling in xgboost requires spark standalone or local-cluster mode\n",
      "2024-05-12 00:54:57,847 INFO XGBoost-PySpark: _fit Finished xgboost training!\n",
      "2024-05-12 00:55:17,048 WARNING SparkXGBClassifier: _validate_gpu_params You have enabled GPU in spark local mode. Please make sure your local node has at least 1 GPUs\n",
      "2024-05-12 00:56:32,629 INFO XGBoost-PySpark: _fit Running xgboost-2.0.3 on 1 workers with\n",
      "\tbooster params: {'device': 'cuda', 'learning_rate': 0.15, 'max_depth': 3, 'objective': 'binary:logistic', 'numRound': 100, 'maxDepth': 5, 'alpha': 0.0, 'nthread': 1}\n",
      "\ttrain_call_kwargs_params: {'verbose_eval': True, 'num_boost_round': 100}\n",
      "\tdmatrix_kwargs: {'nthread': 1, 'missing': 0.0}\n",
      "2024-05-12 00:56:32,850 INFO SparkXGBClassifier: _skip_stage_level_scheduling Stage-level scheduling in xgboost requires spark standalone or local-cluster mode\n",
      "2024-05-12 00:56:38,593 INFO XGBoost-PySpark: _fit Finished xgboost training!\n",
      "2024-05-12 00:58:12,404 WARNING SparkXGBClassifier: _validate_gpu_params You have enabled GPU in spark local mode. Please make sure your local node has at least 1 GPUs\n",
      "2024-05-12 00:58:12,729 INFO XGBoost-PySpark: _fit Running xgboost-2.0.3 on 1 workers with\n",
      "\tbooster params: {'device': 'cuda', 'learning_rate': 0.01, 'max_depth': 3, 'objective': 'binary:logistic', 'numRound': 100, 'maxDepth': 5, 'alpha': 0.0, 'nthread': 1}\n",
      "\ttrain_call_kwargs_params: {'verbose_eval': True, 'num_boost_round': 100}\n",
      "\tdmatrix_kwargs: {'nthread': 1, 'missing': 0.0}\n",
      "2024-05-12 00:58:12,936 INFO SparkXGBClassifier: _skip_stage_level_scheduling Stage-level scheduling in xgboost requires spark standalone or local-cluster mode\n",
      "2024-05-12 00:58:18,706 INFO XGBoost-PySpark: _fit Finished xgboost training!\n",
      "2024-05-12 00:58:36,330 WARNING SparkXGBClassifier: _validate_gpu_params You have enabled GPU in spark local mode. Please make sure your local node has at least 1 GPUs\n",
      "2024-05-12 00:58:36,640 INFO XGBoost-PySpark: _fit Running xgboost-2.0.3 on 1 workers with\n",
      "\tbooster params: {'device': 'cuda', 'learning_rate': 0.001, 'max_depth': 3, 'objective': 'binary:logistic', 'numRound': 100, 'maxDepth': 5, 'alpha': 0.0, 'nthread': 1}\n",
      "\ttrain_call_kwargs_params: {'verbose_eval': True, 'num_boost_round': 100}\n",
      "\tdmatrix_kwargs: {'nthread': 1, 'missing': 0.0}\n",
      "2024-05-12 00:58:36,772 INFO SparkXGBClassifier: _skip_stage_level_scheduling Stage-level scheduling in xgboost requires spark standalone or local-cluster mode\n",
      "2024-05-12 00:58:42,568 INFO XGBoost-PySpark: _fit Finished xgboost training!\n",
      "2024-05-12 00:59:01,633 WARNING SparkXGBClassifier: _validate_gpu_params You have enabled GPU in spark local mode. Please make sure your local node has at least 1 GPUs\n",
      "2024-05-12 00:59:01,937 INFO XGBoost-PySpark: _fit Running xgboost-2.0.3 on 1 workers with\n",
      "\tbooster params: {'device': 'cuda', 'learning_rate': 0.15, 'max_depth': 5, 'objective': 'binary:logistic', 'numRound': 100, 'maxDepth': 5, 'alpha': 0.0, 'nthread': 1}\n",
      "\ttrain_call_kwargs_params: {'verbose_eval': True, 'num_boost_round': 100}\n",
      "\tdmatrix_kwargs: {'nthread': 1, 'missing': 0.0}\n",
      "2024-05-12 00:59:02,075 INFO SparkXGBClassifier: _skip_stage_level_scheduling Stage-level scheduling in xgboost requires spark standalone or local-cluster mode\n",
      "2024-05-12 00:59:07,960 INFO XGBoost-PySpark: _fit Finished xgboost training!\n",
      "2024-05-12 00:59:27,692 WARNING SparkXGBClassifier: _validate_gpu_params You have enabled GPU in spark local mode. Please make sure your local node has at least 1 GPUs\n",
      "2024-05-12 00:59:27,997 INFO XGBoost-PySpark: _fit Running xgboost-2.0.3 on 1 workers with\n",
      "\tbooster params: {'device': 'cuda', 'learning_rate': 0.01, 'max_depth': 5, 'objective': 'binary:logistic', 'numRound': 100, 'maxDepth': 5, 'alpha': 0.0, 'nthread': 1}\n",
      "\ttrain_call_kwargs_params: {'verbose_eval': True, 'num_boost_round': 100}\n",
      "\tdmatrix_kwargs: {'nthread': 1, 'missing': 0.0}\n",
      "2024-05-12 00:59:28,132 INFO SparkXGBClassifier: _skip_stage_level_scheduling Stage-level scheduling in xgboost requires spark standalone or local-cluster mode\n",
      "2024-05-12 00:59:34,029 INFO XGBoost-PySpark: _fit Finished xgboost training!\n",
      "2024-05-12 00:59:53,654 WARNING SparkXGBClassifier: _validate_gpu_params You have enabled GPU in spark local mode. Please make sure your local node has at least 1 GPUs\n",
      "2024-05-12 00:59:53,937 INFO XGBoost-PySpark: _fit Running xgboost-2.0.3 on 1 workers with\n",
      "\tbooster params: {'device': 'cuda', 'learning_rate': 0.001, 'max_depth': 5, 'objective': 'binary:logistic', 'numRound': 100, 'maxDepth': 5, 'alpha': 0.0, 'nthread': 1}\n",
      "\ttrain_call_kwargs_params: {'verbose_eval': True, 'num_boost_round': 100}\n",
      "\tdmatrix_kwargs: {'nthread': 1, 'missing': 0.0}\n",
      "2024-05-12 00:59:54,076 INFO SparkXGBClassifier: _skip_stage_level_scheduling Stage-level scheduling in xgboost requires spark standalone or local-cluster mode\n",
      "2024-05-12 00:59:59,962 INFO XGBoost-PySpark: _fit Finished xgboost training!\n",
      "2024-05-12 01:00:18,357 WARNING SparkXGBClassifier: _validate_gpu_params You have enabled GPU in spark local mode. Please make sure your local node has at least 1 GPUs\n",
      "2024-05-12 01:00:18,661 INFO XGBoost-PySpark: _fit Running xgboost-2.0.3 on 1 workers with\n",
      "\tbooster params: {'device': 'cuda', 'learning_rate': 0.15, 'max_depth': 7, 'objective': 'binary:logistic', 'numRound': 100, 'maxDepth': 5, 'alpha': 0.0, 'nthread': 1}\n",
      "\ttrain_call_kwargs_params: {'verbose_eval': True, 'num_boost_round': 100}\n",
      "\tdmatrix_kwargs: {'nthread': 1, 'missing': 0.0}\n",
      "2024-05-12 01:00:18,784 INFO SparkXGBClassifier: _skip_stage_level_scheduling Stage-level scheduling in xgboost requires spark standalone or local-cluster mode\n",
      "2024-05-12 01:00:24,879 INFO XGBoost-PySpark: _fit Finished xgboost training!\n",
      "2024-05-12 01:00:42,332 WARNING SparkXGBClassifier: _validate_gpu_params You have enabled GPU in spark local mode. Please make sure your local node has at least 1 GPUs\n",
      "2024-05-12 01:00:42,604 INFO XGBoost-PySpark: _fit Running xgboost-2.0.3 on 1 workers with\n",
      "\tbooster params: {'device': 'cuda', 'learning_rate': 0.01, 'max_depth': 7, 'objective': 'binary:logistic', 'numRound': 100, 'maxDepth': 5, 'alpha': 0.0, 'nthread': 1}\n",
      "\ttrain_call_kwargs_params: {'verbose_eval': True, 'num_boost_round': 100}\n",
      "\tdmatrix_kwargs: {'nthread': 1, 'missing': 0.0}\n",
      "2024-05-12 01:00:42,739 INFO SparkXGBClassifier: _skip_stage_level_scheduling Stage-level scheduling in xgboost requires spark standalone or local-cluster mode\n",
      "2024-05-12 01:00:48,786 INFO XGBoost-PySpark: _fit Finished xgboost training!\n",
      "2024-05-12 01:01:06,353 WARNING SparkXGBClassifier: _validate_gpu_params You have enabled GPU in spark local mode. Please make sure your local node has at least 1 GPUs\n",
      "2024-05-12 01:01:06,647 INFO XGBoost-PySpark: _fit Running xgboost-2.0.3 on 1 workers with\n",
      "\tbooster params: {'device': 'cuda', 'learning_rate': 0.001, 'max_depth': 7, 'objective': 'binary:logistic', 'numRound': 100, 'maxDepth': 5, 'alpha': 0.0, 'nthread': 1}\n",
      "\ttrain_call_kwargs_params: {'verbose_eval': True, 'num_boost_round': 100}\n",
      "\tdmatrix_kwargs: {'nthread': 1, 'missing': 0.0}\n",
      "2024-05-12 01:01:06,771 INFO SparkXGBClassifier: _skip_stage_level_scheduling Stage-level scheduling in xgboost requires spark standalone or local-cluster mode\n",
      "2024-05-12 01:01:12,882 INFO XGBoost-PySpark: _fit Finished xgboost training!\n",
      "2024-05-12 01:01:30,483 WARNING SparkXGBClassifier: _validate_gpu_params You have enabled GPU in spark local mode. Please make sure your local node has at least 1 GPUs\n",
      "2024-05-12 01:02:18,151 INFO XGBoost-PySpark: _fit Running xgboost-2.0.3 on 1 workers with\n",
      "\tbooster params: {'device': 'cuda', 'learning_rate': 0.15, 'max_depth': 7, 'objective': 'binary:logistic', 'numRound': 100, 'maxDepth': 5, 'alpha': 0.0, 'nthread': 1}\n",
      "\ttrain_call_kwargs_params: {'verbose_eval': True, 'num_boost_round': 100}\n",
      "\tdmatrix_kwargs: {'nthread': 1, 'missing': 0.0}\n",
      "2024-05-12 01:03:28,489 INFO SparkXGBClassifier: _skip_stage_level_scheduling Stage-level scheduling in xgboost requires spark standalone or local-cluster mode\n",
      "2024-05-12 01:03:35,725 INFO XGBoost-PySpark: _fit Finished xgboost training!\n"
     ]
    }
   ],
   "source": [
    "cvModel = cv.fit(df)"
   ],
   "metadata": {
    "collapsed": false,
    "ExecuteTime": {
     "end_time": "2024-05-11T17:03:35.787103800Z",
     "start_time": "2024-05-11T16:43:15.091576Z"
    }
   },
   "id": "a1ca29187de36e29"
  },
  {
   "cell_type": "code",
   "execution_count": 202,
   "outputs": [
    {
     "name": "stdout",
     "output_type": "stream",
     "text": [
      "0.15 7\n"
     ]
    }
   ],
   "source": [
    "print(cvModel.bestModel.getOrDefault('learning_rate'),cvModel.bestModel.getOrDefault('max_depth'))\n"
   ],
   "metadata": {
    "collapsed": false,
    "ExecuteTime": {
     "end_time": "2024-05-11T17:05:28.806325600Z",
     "start_time": "2024-05-11T17:05:28.790758800Z"
    }
   },
   "id": "1c2d690c75158cb3"
  }
 ],
 "metadata": {
  "kernelspec": {
   "display_name": "Python 3 (ipykernel)",
   "language": "python",
   "name": "python3"
  },
  "language_info": {
   "codemirror_mode": {
    "name": "ipython",
    "version": 3
   },
   "file_extension": ".py",
   "mimetype": "text/x-python",
   "name": "python",
   "nbconvert_exporter": "python",
   "pygments_lexer": "ipython3",
   "version": "3.9.12"
  }
 },
 "nbformat": 4,
 "nbformat_minor": 5
}
