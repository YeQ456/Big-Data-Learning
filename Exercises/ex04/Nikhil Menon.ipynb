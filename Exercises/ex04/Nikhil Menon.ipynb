{
 "cells": [
  {
   "cell_type": "markdown",
   "metadata": {
    "deletable": false,
    "editable": false,
    "nbgrader": {
     "cell_type": "markdown",
     "checksum": "f0adc4065b1b8db86b577781b2de5fef",
     "grade": false,
     "grade_id": "cell-12059b68c07e81bd",
     "locked": true,
     "schema_version": 3,
     "solution": false,
     "task": false
    }
   },
   "source": [
    "# Spark MLlib\n",
    "## Lab assignment: Example with the MLlib\n",
    "\n",
    "The aim of this notebook is to play with the MLlib of Apache Spark to create a Machine Learning pipeline that preprocess a dataset, train a model and make predictions. In particular, we are going to deal with a regression problem. The content of this lab has been inspired by the sample provided in the [DataBricks documentation](https://databricks-prod-cloudfront.cloud.databricks.com/public/4027ec902e239c93eaaa8714f173bcfc/2854662143668609/2084788691983918/6837869239396014/latest.html).\n",
    "\n",
    "\n",
    "## Appliances Energy Prediction\n",
    "\n",
    "**Data**: This dataset contains Energy consumption from appliances at 10 min resolution for about 4.5 months. The house temperature and humidity conditions were monitored with a wireless sensor network. Each wireless node transmitted the temperature and humidity conditions around 3.3 min. Then, the wireless data was averaged for 10 minutes periods. The energy data was logged every 10 minutes. Weather from the nearest airport weather station (Chievres Airport, Belgium) was also logged. This dataset is from [Candanedo et al](http://dx.doi.org/10.1016/j.enbuild.2017.01.083) and is hosted by the UCI Machine Learning Repository. [UCI Machine Learning Repository](http://archive.ics.uci.edu/ml/datasets/Appliances+energy+prediction).\n",
    "\n",
    "\n",
    "**Goal**: We want to learn to predict appliances' energy consumption based on weather information. It would also be nice to know which input features are the most relevant to make predictions.\n",
    "\n",
    "**Approach**: We will use Spark ML Pipelines, which help users piece together parts of a workflow such as feature processing and model training. We will also demonstrate model selection (a.k.a. hyperparameter tuning) using Cross Validation in order to fine-tune and improve our ML model."
   ]
  },
  {
   "cell_type": "markdown",
   "metadata": {},
   "source": [
    "## Submission and marking criteria\n",
    "\n",
    "You should complete this notebook and add your solutions to it. When you are done, rename your completed notebook as `ex04.ipynb`. \n",
    "\n",
    "Important notes:\n",
    "- The **group leader** must submit the `ex04.ipynb` file on Moodle.\n",
    "- **Each member of the group** must complete the peer review survey and their contribution statement using this [link](https://forms.office.com/Pages/ResponsePage.aspx?id=7qe9Z4D970GskTWEGCkKHjZupmfSK6JKqlvGZrucaoBURFJJWllYWVhQS09PMFNBVzlCT05JUjM4VCQlQCN0PWcu). **You can only submit this survey ONCE**.\n",
    "- This lab is marked out of 100 marks, and each section is allocated a number of marks that are indicated below.\n",
    "- The marking will be focused on the efficiency of the solution and its functionality. Minor mistakes will deduct marks from each exercise.\n",
    "\n",
    "- **Submission deadline: 8th April 2024 at 3pm**"
   ]
  },
  {
   "cell_type": "markdown",
   "metadata": {
    "deletable": false,
    "editable": false,
    "nbgrader": {
     "cell_type": "markdown",
     "checksum": "cf2627390795c147f1b0b52a2fda98d5",
     "grade": false,
     "grade_id": "cell-a106ca0b67125ec8",
     "locked": true,
     "schema_version": 3,
     "solution": false,
     "task": false
    }
   },
   "source": [
    "The first thing we need to do to start working with Spark is to initialize the `SparkSession`. We will also import a few libraries we will use. *Remember if you are using Databricks that `spark` and `sc` are already available to you and don't need initializing.* "
   ]
  },
  {
   "cell_type": "code",
   "execution_count": 1,
   "metadata": {},
   "outputs": [],
   "source": [
    "from pyspark.sql import SparkSession\n",
    "\n",
    "spark = SparkSession \\\n",
    "    .builder \\\n",
    "    .master(\"local[*]\") \\\n",
    "    .appName(\"MLlib lab\") \\\n",
    "    .getOrCreate()\n",
    "\n",
    "sc = spark.sparkContext"
   ]
  },
  {
   "cell_type": "code",
   "execution_count": 2,
   "metadata": {},
   "outputs": [],
   "source": [
    "%matplotlib inline \n",
    "import matplotlib.pyplot as plt\n",
    "import pyspark.sql.functions as F\n",
    "from pyspark.sql import Row\n",
    "\n",
    "# Helper function to test the correctness of the solutions\n",
    "def test(var, val, msg=\"\"):\n",
    "    print(\"1 test passed.\") if var == val else print(\"1 test failed. \" + msg)"
   ]
  },
  {
   "cell_type": "markdown",
   "metadata": {
    "deletable": false,
    "editable": false,
    "nbgrader": {
     "cell_type": "markdown",
     "checksum": "632d5f2de7960dfc5d178a675e8e7499",
     "grade": false,
     "grade_id": "cell-8937897c4473abfa",
     "locked": true,
     "schema_version": 3,
     "solution": false,
     "task": false
    }
   },
   "source": [
    "## Load and understand the data  [10 marks]\n",
    "\n",
    "We begin by loading the data, which is in Comma-Separated Value (CSV) format. For that, you should use `spark.read` to read the file. Then, you should also cache the data so that we only read it from disk once."
   ]
  },
  {
   "cell_type": "code",
   "execution_count": 3,
   "metadata": {
    "deletable": false,
    "nbgrader": {
     "cell_type": "code",
     "checksum": "6152d43a83ada31996ee66e1f65cc4a8",
     "grade": false,
     "grade_id": "cell-3aadc724e217ea88",
     "locked": false,
     "schema_version": 3,
     "solution": true,
     "task": false
    }
   },
   "outputs": [
    {
     "data": {
      "text/plain": [
       "DataFrame[date: timestamp, Appliances: double, lights: double, T1: double, RH_1: double, T2: double, RH_2: double, T3: double, RH_3: double, T4: double, RH_4: double, T5: double, RH_5: double, T6: double, RH_6: double, T7: double, RH_7: double, T8: double, RH_8: double, T9: double, RH_9: double, T_out: double, Press_mm_hg: double, RH_out: double, Windspeed: double, Visibility: double, Tdewpoint: double, rv1: double, rv2: double]"
      ]
     },
     "execution_count": 3,
     "metadata": {},
     "output_type": "execute_result"
    }
   ],
   "source": [
    "# <FILL-IN WITH YOUR CODE>\n",
    "df = spark.read.csv(\"data/energydata_complete.csv\", header=True, inferSchema=True)\n",
    "# Cache your DataFrame\n",
    "df.cache()\n",
    "# <FILL-IN WITH YOUR CODE>\n"
   ]
  },
  {
   "cell_type": "code",
   "execution_count": 4,
   "metadata": {
    "deletable": false,
    "editable": false,
    "nbgrader": {
     "cell_type": "code",
     "checksum": "d7d9cebbd79c647f5e4c382bedb3ea68",
     "grade": true,
     "grade_id": "cell-28b65c981c65a16d",
     "locked": true,
     "points": 0,
     "schema_version": 3,
     "solution": false,
     "task": false
    }
   },
   "outputs": [
    {
     "name": "stdout",
     "output_type": "stream",
     "text": [
      "1 test passed.\n",
      "1 test passed.\n"
     ]
    }
   ],
   "source": [
    "test(df.count(), 19735, 'Incorrect number of rows')\n",
    "test(df.is_cached, True, 'df not cached')"
   ]
  },
  {
   "cell_type": "markdown",
   "metadata": {
    "deletable": false,
    "editable": false,
    "nbgrader": {
     "cell_type": "markdown",
     "checksum": "0bf8ff1c31febe73356ef34d9909c796",
     "grade": false,
     "grade_id": "cell-c8a8f77c243d18c0",
     "locked": true,
     "schema_version": 3,
     "solution": false,
     "task": false
    }
   },
   "source": [
    "#### Data description\n",
    "\n",
    "From the UCI ML Repository description, we know that the columns have the following meanings.\n",
    "\n",
    "**Attribute information**:\n",
    "```\n",
    "date time year-month-day hour:minute:second\n",
    "Appliances, energy use in Wh\n",
    "lights, energy use of light fixtures in the house in Wh\n",
    "T1, Temperature in kitchen area, in Celsius\n",
    "RH_1, Humidity in kitchen area, in %\n",
    "T2, Temperature in living room area, in Celsius\n",
    "RH_2, Humidity in living room area, in %\n",
    "T3, Temperature in laundry room area\n",
    "RH_3, Humidity in laundry room area, in %\n",
    "T4, Temperature in office room, in Celsius\n",
    "RH_4, Humidity in office room, in %\n",
    "T5, Temperature in bathroom, in Celsius\n",
    "RH_5, Humidity in bathroom, in %\n",
    "T6, Temperature outside the building (north side), in Celsius\n",
    "RH_6, Humidity outside the building (north side), in %\n",
    "T7, Temperature in ironing room , in Celsius\n",
    "RH_7, Humidity in ironing room, in %\n",
    "T8, Temperature in teenager room 2, in Celsius\n",
    "RH_8, Humidity in teenager room 2, in %\n",
    "T9, Temperature in parents room, in Celsius\n",
    "RH_9, Humidity in parents room, in %\n",
    "To, Temperature outside (from Chievres weather station), in Celsius\n",
    "Pressure (from Chievres weather station), in mm Hg\n",
    "RH_out, Humidity outside (from Chievres weather station), in %\n",
    "Wind speed (from Chievres weather station), in m/s\n",
    "Visibility (from Chievres weather station), in km\n",
    "Tdewpoint (from Chievres weather station), Â°C\n",
    "rv1, Random variable 1, nondimensional\n",
    "rv2, Random variable 2, nondimensional\n",
    "```\n",
    "\n",
    "**The target variable is the energy use of the Appliances.**\n",
    "\n",
    "For now, we will leave the two variables `rv1` and `rv2` in our dataset, to see if they are affecting much our methods, then we can try to remove them and see if we improve the results."
   ]
  },
  {
   "cell_type": "markdown",
   "metadata": {
    "deletable": false,
    "editable": false,
    "nbgrader": {
     "cell_type": "markdown",
     "checksum": "88d022c810ed35b8e96cbf869d6e7f7b",
     "grade": false,
     "grade_id": "cell-5c3b6f3c781e12af",
     "locked": true,
     "schema_version": 3,
     "solution": false,
     "task": false
    }
   },
   "source": [
    "Use `show` to visualise the data. Be careful not to show the entire data frame :-), only 5 rows!"
   ]
  },
  {
   "cell_type": "code",
   "execution_count": 5,
   "metadata": {
    "deletable": false,
    "nbgrader": {
     "cell_type": "code",
     "checksum": "878e1d8e3b57f231ba0b3d5f11fcf209",
     "grade": false,
     "grade_id": "cell-0bc3c84df797cc37",
     "locked": false,
     "schema_version": 3,
     "solution": true,
     "task": false
    }
   },
   "outputs": [
    {
     "name": "stdout",
     "output_type": "stream",
     "text": [
      "+-------------------+----------+------+-----+----------------+----+----------------+-----+----------------+----------------+----------------+----------------+-----+----------------+----------------+----------------+----------------+----+----------------+----------------+-----+----------------+-----------+------+----------------+----------------+---------+------------------+------------------+\n",
      "|               date|Appliances|lights|   T1|            RH_1|  T2|            RH_2|   T3|            RH_3|              T4|            RH_4|              T5| RH_5|              T6|            RH_6|              T7|            RH_7|  T8|            RH_8|              T9| RH_9|           T_out|Press_mm_hg|RH_out|       Windspeed|      Visibility|Tdewpoint|               rv1|               rv2|\n",
      "+-------------------+----------+------+-----+----------------+----+----------------+-----+----------------+----------------+----------------+----------------+-----+----------------+----------------+----------------+----------------+----+----------------+----------------+-----+----------------+-----------+------+----------------+----------------+---------+------------------+------------------+\n",
      "|2016-01-11 17:00:00|      60.0|  30.0|19.89|47.5966666666667|19.2|           44.79|19.79|           44.73|            19.0|45.5666666666667|17.1666666666667| 55.2|7.02666666666667|84.2566666666667|            17.2|41.6266666666667|18.2|            48.9|17.0333333333333|45.53|             6.6|      733.5|  92.0|             7.0|            63.0|      5.3|13.275433157104999|13.275433157104999|\n",
      "|2016-01-11 17:10:00|      60.0|  30.0|19.89|46.6933333333333|19.2|         44.7225|19.79|           44.79|            19.0|         45.9925|17.1666666666667| 55.2|6.83333333333333|84.0633333333333|            17.2|           41.56|18.2|48.8633333333333|17.0666666666667|45.56|6.48333333333333|      733.6|  92.0|6.66666666666667|59.1666666666667|      5.2|18.606194981839508|18.606194981839508|\n",
      "|2016-01-11 17:20:00|      50.0|  30.0|19.89|            46.3|19.2|44.6266666666667|19.79|44.9333333333333|18.9266666666667|           45.89|17.1666666666667|55.09|            6.56|83.1566666666667|            17.2|41.4333333333333|18.2|           48.73|            17.0| 45.5|6.36666666666667|      733.7|  92.0|6.33333333333333|55.3333333333333|      5.1| 28.64266816759482| 28.64266816759482|\n",
      "|2016-01-11 17:30:00|      50.0|  40.0|19.89|46.0666666666667|19.2|           44.59|19.79|            45.0|           18.89|45.7233333333333|17.1666666666667|55.09|6.43333333333333|83.4233333333333|17.1333333333333|           41.29|18.1|           48.59|            17.0| 45.4|            6.25|      733.8|  92.0|             6.0|            51.5|      5.0| 45.41038949973881| 45.41038949973881|\n",
      "|2016-01-11 17:40:00|      60.0|  40.0|19.89|46.3333333333333|19.2|           44.53|19.79|            45.0|           18.89|           45.53|            17.2|55.09|6.36666666666667|84.8933333333333|            17.2|           41.23|18.1|           48.59|            17.0| 45.4|6.13333333333333|      733.9|  92.0|5.66666666666667|47.6666666666667|      4.9| 10.08409655187279| 10.08409655187279|\n",
      "+-------------------+----------+------+-----+----------------+----+----------------+-----+----------------+----------------+----------------+----------------+-----+----------------+----------------+----------------+----------------+----+----------------+----------------+-----+----------------+-----------+------+----------------+----------------+---------+------------------+------------------+\n",
      "only showing top 5 rows\n",
      "\n"
     ]
    }
   ],
   "source": [
    "# <FILL-IN WITH YOUR CODE>\n",
    "df.show(5)"
   ]
  },
  {
   "cell_type": "markdown",
   "metadata": {
    "deletable": false,
    "editable": false,
    "nbgrader": {
     "cell_type": "markdown",
     "checksum": "05cd3b9f24849db9e42ef79841c0e720",
     "grade": false,
     "grade_id": "cell-6a7113523db1a125",
     "locked": true,
     "schema_version": 3,
     "solution": false,
     "task": false
    }
   },
   "source": [
    "# Data preprocessing [10 marks]"
   ]
  },
  {
   "cell_type": "markdown",
   "metadata": {
    "deletable": false,
    "editable": false,
    "nbgrader": {
     "cell_type": "markdown",
     "checksum": "970010c7e6d30c24b9ca1ad857187d49",
     "grade": false,
     "grade_id": "cell-74870c89983edfb6",
     "locked": true,
     "schema_version": 3,
     "solution": false,
     "task": false
    }
   },
   "source": [
    "This dataset is nicely prepared for Machine Learning and required very little preprocessing. However, rather than keeping the date as a timestamp, we would like to have some additional columns, including 'day of the year', 'hour', and 'month of the year'. Please use the naming `dayofyear`, `hour` and `month`, respectively.\n",
    "\n",
    "**Hint**: Of course the SparkSQL library has a function to transform strings with datetime!\n",
    "\n",
    "Would you like to have any other information from the datetime? Feel free to add other features."
   ]
  },
  {
   "cell_type": "code",
   "execution_count": 6,
   "metadata": {
    "deletable": false,
    "nbgrader": {
     "cell_type": "code",
     "checksum": "07e65cfc87797b262029012fc92ea89a",
     "grade": false,
     "grade_id": "cell-1f648a6d01eb2952",
     "locked": false,
     "schema_version": 3,
     "solution": true,
     "task": false
    }
   },
   "outputs": [
    {
     "name": "stdout",
     "output_type": "stream",
     "text": [
      "+-------------------+----------+------+-----+----------------+----+----------------+-----+----------------+----------------+----------------+----------------+-----+----------------+----------------+----------------+----------------+----+----------------+----------------+-----+----------------+-----------+------+----------------+----------------+---------+------------------+------------------+---------+----+-----+\n",
      "|               date|Appliances|lights|   T1|            RH_1|  T2|            RH_2|   T3|            RH_3|              T4|            RH_4|              T5| RH_5|              T6|            RH_6|              T7|            RH_7|  T8|            RH_8|              T9| RH_9|           T_out|Press_mm_hg|RH_out|       Windspeed|      Visibility|Tdewpoint|               rv1|               rv2|dayofyear|hour|month|\n",
      "+-------------------+----------+------+-----+----------------+----+----------------+-----+----------------+----------------+----------------+----------------+-----+----------------+----------------+----------------+----------------+----+----------------+----------------+-----+----------------+-----------+------+----------------+----------------+---------+------------------+------------------+---------+----+-----+\n",
      "|2016-01-11 17:00:00|      60.0|  30.0|19.89|47.5966666666667|19.2|           44.79|19.79|           44.73|            19.0|45.5666666666667|17.1666666666667| 55.2|7.02666666666667|84.2566666666667|            17.2|41.6266666666667|18.2|            48.9|17.0333333333333|45.53|             6.6|      733.5|  92.0|             7.0|            63.0|      5.3|13.275433157104999|13.275433157104999|       11|  17|    1|\n",
      "|2016-01-11 17:10:00|      60.0|  30.0|19.89|46.6933333333333|19.2|         44.7225|19.79|           44.79|            19.0|         45.9925|17.1666666666667| 55.2|6.83333333333333|84.0633333333333|            17.2|           41.56|18.2|48.8633333333333|17.0666666666667|45.56|6.48333333333333|      733.6|  92.0|6.66666666666667|59.1666666666667|      5.2|18.606194981839508|18.606194981839508|       11|  17|    1|\n",
      "|2016-01-11 17:20:00|      50.0|  30.0|19.89|            46.3|19.2|44.6266666666667|19.79|44.9333333333333|18.9266666666667|           45.89|17.1666666666667|55.09|            6.56|83.1566666666667|            17.2|41.4333333333333|18.2|           48.73|            17.0| 45.5|6.36666666666667|      733.7|  92.0|6.33333333333333|55.3333333333333|      5.1| 28.64266816759482| 28.64266816759482|       11|  17|    1|\n",
      "|2016-01-11 17:30:00|      50.0|  40.0|19.89|46.0666666666667|19.2|           44.59|19.79|            45.0|           18.89|45.7233333333333|17.1666666666667|55.09|6.43333333333333|83.4233333333333|17.1333333333333|           41.29|18.1|           48.59|            17.0| 45.4|            6.25|      733.8|  92.0|             6.0|            51.5|      5.0| 45.41038949973881| 45.41038949973881|       11|  17|    1|\n",
      "|2016-01-11 17:40:00|      60.0|  40.0|19.89|46.3333333333333|19.2|           44.53|19.79|            45.0|           18.89|           45.53|            17.2|55.09|6.36666666666667|84.8933333333333|            17.2|           41.23|18.1|           48.59|            17.0| 45.4|6.13333333333333|      733.9|  92.0|5.66666666666667|47.6666666666667|      4.9| 10.08409655187279| 10.08409655187279|       11|  17|    1|\n",
      "+-------------------+----------+------+-----+----------------+----+----------------+-----+----------------+----------------+----------------+----------------+-----+----------------+----------------+----------------+----------------+----+----------------+----------------+-----+----------------+-----------+------+----------------+----------------+---------+------------------+------------------+---------+----+-----+\n",
      "only showing top 5 rows\n",
      "\n"
     ]
    }
   ],
   "source": [
    "# <FILL-IN WITH YOUR CODE>\n",
    "from pyspark.sql.functions import col, dayofyear, hour, month, to_timestamp\n",
    "df = df.withColumn(\"date\", to_timestamp(col(\"date\")))\n",
    "df = df.withColumn(\"dayofyear\", dayofyear(\"date\"))\n",
    "df = df.withColumn(\"hour\", hour(\"date\"))\n",
    "df = df.withColumn(\"month\", month(\"date\"))\n",
    "df.show(5)"
   ]
  },
  {
   "cell_type": "markdown",
   "metadata": {
    "deletable": false,
    "editable": false,
    "nbgrader": {
     "cell_type": "markdown",
     "checksum": "a237d70ebe45116a4ab9989acab8793a",
     "grade": false,
     "grade_id": "cell-2561535e29742ef2",
     "locked": true,
     "schema_version": 3,
     "solution": false,
     "task": false
    }
   },
   "source": [
    "When you dataframe `df` has the additional columns, please remove the column `date`:"
   ]
  },
  {
   "cell_type": "code",
   "execution_count": 7,
   "metadata": {
    "deletable": false,
    "nbgrader": {
     "cell_type": "code",
     "checksum": "dd69e01e8acc0c2713da407a568d68ec",
     "grade": false,
     "grade_id": "cell-96bed972cec4c7a1",
     "locked": false,
     "schema_version": 3,
     "solution": true,
     "task": false
    }
   },
   "outputs": [],
   "source": [
    "# <FILL-IN WITH YOUR CODE>\n",
    "df = df.drop(\"date\")"
   ]
  },
  {
   "cell_type": "code",
   "execution_count": 8,
   "metadata": {
    "deletable": false,
    "editable": false,
    "nbgrader": {
     "cell_type": "code",
     "checksum": "953bd28b595e05ed7f44ab32a6fea599",
     "grade": true,
     "grade_id": "cell-78b3ae64d5564833",
     "locked": true,
     "points": 0,
     "schema_version": 3,
     "solution": false,
     "task": false
    }
   },
   "outputs": [
    {
     "name": "stdout",
     "output_type": "stream",
     "text": [
      "1 test passed.\n",
      "1 test passed.\n",
      "1 test passed.\n",
      "1 test passed.\n"
     ]
    }
   ],
   "source": [
    "test(\"date\" in df.columns, False, \"Column date has not been remove!\")\n",
    "test(\"hour\" in df.columns, True, \"The hour hasn't been added\")\n",
    "test(\"dayofyear\" in df.columns, True, \"The dayofyear hasn't been added\")\n",
    "test(\"month\" in df.columns, True, \"The month hasn't been added\")"
   ]
  },
  {
   "cell_type": "markdown",
   "metadata": {
    "deletable": false,
    "editable": false,
    "nbgrader": {
     "cell_type": "markdown",
     "checksum": "49da810aa91d5bc53aaa1808269c1c68",
     "grade": false,
     "grade_id": "cell-2e4f9de42e7d939c",
     "locked": true,
     "schema_version": 3,
     "solution": false,
     "task": false
    }
   },
   "source": [
    "Check the schema of your dataframe:"
   ]
  },
  {
   "cell_type": "code",
   "execution_count": 9,
   "metadata": {
    "deletable": false,
    "nbgrader": {
     "cell_type": "code",
     "checksum": "c81ba660837e2c443af0b45e2927987d",
     "grade": false,
     "grade_id": "cell-f5ee1e564ac14dff",
     "locked": false,
     "schema_version": 3,
     "solution": true,
     "task": false
    }
   },
   "outputs": [
    {
     "name": "stdout",
     "output_type": "stream",
     "text": [
      "root\n",
      " |-- Appliances: double (nullable = true)\n",
      " |-- lights: double (nullable = true)\n",
      " |-- T1: double (nullable = true)\n",
      " |-- RH_1: double (nullable = true)\n",
      " |-- T2: double (nullable = true)\n",
      " |-- RH_2: double (nullable = true)\n",
      " |-- T3: double (nullable = true)\n",
      " |-- RH_3: double (nullable = true)\n",
      " |-- T4: double (nullable = true)\n",
      " |-- RH_4: double (nullable = true)\n",
      " |-- T5: double (nullable = true)\n",
      " |-- RH_5: double (nullable = true)\n",
      " |-- T6: double (nullable = true)\n",
      " |-- RH_6: double (nullable = true)\n",
      " |-- T7: double (nullable = true)\n",
      " |-- RH_7: double (nullable = true)\n",
      " |-- T8: double (nullable = true)\n",
      " |-- RH_8: double (nullable = true)\n",
      " |-- T9: double (nullable = true)\n",
      " |-- RH_9: double (nullable = true)\n",
      " |-- T_out: double (nullable = true)\n",
      " |-- Press_mm_hg: double (nullable = true)\n",
      " |-- RH_out: double (nullable = true)\n",
      " |-- Windspeed: double (nullable = true)\n",
      " |-- Visibility: double (nullable = true)\n",
      " |-- Tdewpoint: double (nullable = true)\n",
      " |-- rv1: double (nullable = true)\n",
      " |-- rv2: double (nullable = true)\n",
      " |-- dayofyear: integer (nullable = true)\n",
      " |-- hour: integer (nullable = true)\n",
      " |-- month: integer (nullable = true)\n",
      "\n"
     ]
    }
   ],
   "source": [
    "# <FILL-IN WITH YOUR CODE>\n",
    "df.printSchema()"
   ]
  },
  {
   "cell_type": "markdown",
   "metadata": {
    "deletable": false,
    "editable": false,
    "nbgrader": {
     "cell_type": "markdown",
     "checksum": "fde4e3d21705e439d696d67b156e5db4",
     "grade": false,
     "grade_id": "cell-6bb2857862d64352",
     "locked": true,
     "schema_version": 3,
     "solution": false,
     "task": false
    }
   },
   "source": [
    "Dammit, all the input features have been inferred as strings rather than numeric values. This is because we read the data from a CSV file with the data in between quotes.\n",
    "\n",
    "Your task now is to transform that into numerical values. All of the features are actually numeric, so you could cast all of them. You are recommended to use functions like `cast` and `col` to do this. You could try to leave out the datetime columns we created, but it's fine if you transform them to float."
   ]
  },
  {
   "cell_type": "code",
   "execution_count": 10,
   "metadata": {
    "deletable": false,
    "nbgrader": {
     "cell_type": "code",
     "checksum": "fc404f3266ba831cad5a3757dd1a204e",
     "grade": false,
     "grade_id": "cell-f72f135db795ec70",
     "locked": false,
     "schema_version": 3,
     "solution": true,
     "task": false
    }
   },
   "outputs": [],
   "source": [
    "# <FILL-IN WITH YOUR CODE>\n",
    "exclude_cols = [\"day\", \"month\", \"year\", \"dayofyear\", \"hour\"]\n",
    "cols_to_cast = [col_name for col_name in df.columns if col_name not in exclude_cols]\n",
    "for col_name in cols_to_cast:\n",
    "    df = df.withColumn(col_name, col(col_name).cast(\"float\"))"
   ]
  },
  {
   "cell_type": "code",
   "execution_count": 11,
   "metadata": {
    "deletable": false,
    "nbgrader": {
     "cell_type": "code",
     "checksum": "05cde717adfaa2f94bf219ef440e1ec9",
     "grade": false,
     "grade_id": "cell-6291c14f0a17fcf0",
     "locked": false,
     "schema_version": 3,
     "solution": true,
     "task": false
    }
   },
   "outputs": [
    {
     "name": "stdout",
     "output_type": "stream",
     "text": [
      "root\n",
      " |-- Appliances: float (nullable = true)\n",
      " |-- lights: float (nullable = true)\n",
      " |-- T1: float (nullable = true)\n",
      " |-- RH_1: float (nullable = true)\n",
      " |-- T2: float (nullable = true)\n",
      " |-- RH_2: float (nullable = true)\n",
      " |-- T3: float (nullable = true)\n",
      " |-- RH_3: float (nullable = true)\n",
      " |-- T4: float (nullable = true)\n",
      " |-- RH_4: float (nullable = true)\n",
      " |-- T5: float (nullable = true)\n",
      " |-- RH_5: float (nullable = true)\n",
      " |-- T6: float (nullable = true)\n",
      " |-- RH_6: float (nullable = true)\n",
      " |-- T7: float (nullable = true)\n",
      " |-- RH_7: float (nullable = true)\n",
      " |-- T8: float (nullable = true)\n",
      " |-- RH_8: float (nullable = true)\n",
      " |-- T9: float (nullable = true)\n",
      " |-- RH_9: float (nullable = true)\n",
      " |-- T_out: float (nullable = true)\n",
      " |-- Press_mm_hg: float (nullable = true)\n",
      " |-- RH_out: float (nullable = true)\n",
      " |-- Windspeed: float (nullable = true)\n",
      " |-- Visibility: float (nullable = true)\n",
      " |-- Tdewpoint: float (nullable = true)\n",
      " |-- rv1: float (nullable = true)\n",
      " |-- rv2: float (nullable = true)\n",
      " |-- dayofyear: integer (nullable = true)\n",
      " |-- hour: integer (nullable = true)\n",
      " |-- month: integer (nullable = true)\n",
      "\n"
     ]
    }
   ],
   "source": [
    "#print the schema again.\n",
    "# <FILL-IN WITH YOUR CODE>\n",
    "df.printSchema()"
   ]
  },
  {
   "cell_type": "markdown",
   "metadata": {
    "deletable": false,
    "editable": false,
    "nbgrader": {
     "cell_type": "markdown",
     "checksum": "9aa8da36c2f5aad4873cd224f39fc192",
     "grade": false,
     "grade_id": "cell-c937a928bbbec3d7",
     "locked": true,
     "schema_version": 3,
     "solution": false,
     "task": false
    }
   },
   "source": [
    "## Split data into training and test sets [10 marks]\n",
    "\n",
    "Our final data preparation step is to split our dataset into training and test sets. We will train and tune our model on the training set, and then see how well we do in the test."
   ]
  },
  {
   "cell_type": "markdown",
   "metadata": {
    "deletable": false,
    "editable": false,
    "nbgrader": {
     "cell_type": "markdown",
     "checksum": "7f65b3344ebf606806a358c7646592cd",
     "grade": false,
     "grade_id": "cell-557ed884643dbca0",
     "locked": true,
     "schema_version": 3,
     "solution": false,
     "task": false
    }
   },
   "source": [
    "Your task is to split the dataframe `df` into 70% for training and 30% for test. Please use the same random seed."
   ]
  },
  {
   "cell_type": "code",
   "execution_count": 12,
   "metadata": {
    "deletable": false,
    "nbgrader": {
     "cell_type": "code",
     "checksum": "eb421493c6c4f2ab70a5af3b768541a6",
     "grade": false,
     "grade_id": "cell-56849a52128319c8",
     "locked": false,
     "schema_version": 3,
     "solution": true,
     "task": false
    }
   },
   "outputs": [
    {
     "name": "stdout",
     "output_type": "stream",
     "text": [
      "Number of rows in training set: 13752\n",
      "Number of rows in test set: 5983\n"
     ]
    }
   ],
   "source": [
    "# <FILL-IN WITH YOUR CODE>\n",
    "seed = 654321\n",
    "train_df, test_df = df.randomSplit([0.7, 0.3], seed = seed)\n",
    "print(\"Number of rows in training set:\", train_df.count())\n",
    "print(\"Number of rows in test set:\", test_df.count())"
   ]
  },
  {
   "cell_type": "markdown",
   "metadata": {
    "deletable": false,
    "editable": false,
    "nbgrader": {
     "cell_type": "markdown",
     "checksum": "de538983c5838ffdcae437945b597825",
     "grade": false,
     "grade_id": "cell-1fb4a0da2280473a",
     "locked": true,
     "schema_version": 3,
     "solution": false,
     "task": false
    }
   },
   "source": [
    "Even though we have fixed the random seed, you will not get the exact same split. "
   ]
  },
  {
   "cell_type": "markdown",
   "metadata": {
    "deletable": false,
    "editable": false,
    "nbgrader": {
     "cell_type": "markdown",
     "checksum": "e6221ab1e4248679667e9c967a15b7d1",
     "grade": false,
     "grade_id": "cell-d4c519e050e792fd",
     "locked": true,
     "schema_version": 3,
     "solution": false,
     "task": false
    }
   },
   "source": [
    "Note that this is the simplest way of validating your results. You may want to carry out a [k-fold cross validation](https://en.wikipedia.org/wiki/Cross-validation_(statistics)) and split the dataset into *k* folds, and build and test *k* models. We will do later cross validation but for parameter tuning! not to validate our approach!"
   ]
  },
  {
   "cell_type": "markdown",
   "metadata": {
    "deletable": false,
    "editable": false,
    "nbgrader": {
     "cell_type": "markdown",
     "checksum": "a40fd1e90f18d39214e084d3a966dee6",
     "grade": false,
     "grade_id": "cell-254b4625d65edbab",
     "locked": true,
     "schema_version": 3,
     "solution": false,
     "task": false
    }
   },
   "source": [
    "## Data visualisation [10 marks]\n",
    "\n",
    "Before applying any machine learning algorithm, it is a good practice to try to visualise your data. For example, we could see how much energy is spent in appliances depending on the month. "
   ]
  },
  {
   "cell_type": "code",
   "execution_count": 13,
   "metadata": {
    "deletable": false,
    "nbgrader": {
     "cell_type": "code",
     "checksum": "8415b6e2ff9d674308ace1f95366681e",
     "grade": false,
     "grade_id": "cell-5521c415bf5963be",
     "locked": false,
     "schema_version": 3,
     "solution": true,
     "task": false
    }
   },
   "outputs": [
    {
     "name": "stdout",
     "output_type": "stream",
     "text": [
      "+-----+---------------+\n",
      "|month|sum(Appliances)|\n",
      "+-----+---------------+\n",
      "|    1|       283510.0|\n",
      "|    2|       421550.0|\n",
      "|    3|       432800.0|\n",
      "|    4|       427200.0|\n",
      "|    5|       362950.0|\n",
      "+-----+---------------+\n",
      "\n"
     ]
    }
   ],
   "source": [
    "# create a variable `hist_elect` that contains the histogram of total energy consumed by the Appliances, grouped by month\n",
    "# <FILL-IN WITH YOUR CODE>\n",
    "hist_elect = df.select('month', 'Appliances').groupBy('month').agg({'Appliances':'sum'}).orderBy('month')\n",
    "hist_elect.show()\n",
    "hist_elect = hist_elect.collect()"
   ]
  },
  {
   "cell_type": "code",
   "execution_count": 14,
   "metadata": {},
   "outputs": [
    {
     "data": {
      "image/png": "[encoded data removed]",
      "text/plain": [
       "<Figure size 432x288 with 1 Axes>"
      ]
     },
     "metadata": {
      "needs_background": "light"
     },
     "output_type": "display_data"
    }
   ],
   "source": [
    "(x_values, y_values) = zip(*hist_elect)\n",
    "plt.bar(x_values, y_values)\n",
    "plt.title('Histogram of repetitions (up to 10)')\n",
    "plt.xlabel('Month')\n",
    "plt.ylabel('Sum of Appliance Energy')\n",
    "plt.show()"
   ]
  },
  {
   "cell_type": "markdown",
   "metadata": {
    "deletable": false,
    "editable": false,
    "nbgrader": {
     "cell_type": "markdown",
     "checksum": "83748e0da71c609d736c2160a1b04e30",
     "grade": false,
     "grade_id": "cell-75f1197b0325c06d",
     "locked": true,
     "schema_version": 3,
     "solution": false,
     "task": false
    }
   },
   "source": [
    "As we don't seem to have all the data from the 1st of January, well, we have less consumption in that particular months, so probably the month is not a good feature, don't you think? we are going to remove it from the dataframe and the training and test data frames too!"
   ]
  },
  {
   "cell_type": "code",
   "execution_count": 15,
   "metadata": {
    "deletable": false,
    "nbgrader": {
     "cell_type": "code",
     "checksum": "6cc65609cd209c7db20af9ef09de38ac",
     "grade": false,
     "grade_id": "cell-fad68e0bbfd1e59f",
     "locked": false,
     "schema_version": 3,
     "solution": true,
     "task": false
    }
   },
   "outputs": [
    {
     "name": "stdout",
     "output_type": "stream",
     "text": [
      "+----------+------+-----+---------+---------+---------+----+-----+-----+---------+---------+---------+----+--------+---------+---------+---------+---------+---------+---------+--------+-----------+------+---------+----------+---------+---------+---------+---------+----+-----+\n",
      "|Appliances|lights|   T1|     RH_1|       T2|     RH_2|  T3| RH_3|   T4|     RH_4|       T5|     RH_5|  T6|    RH_6|       T7|     RH_7|       T8|     RH_8|       T9|     RH_9|   T_out|Press_mm_hg|RH_out|Windspeed|Visibility|Tdewpoint|      rv1|      rv2|dayofyear|hour|month|\n",
      "+----------+------+-----+---------+---------+---------+----+-----+-----+---------+---------+---------+----+--------+---------+---------+---------+---------+---------+---------+--------+-----------+------+---------+----------+---------+---------+---------+---------+----+-----+\n",
      "|      10.0|   0.0| 18.0|     43.7|17.166666|    44.29|19.1| 42.0|16.89|    44.09|16.688889|    50.28|7.66|83.85667|     17.0|    39.29|17.127777|    45.79|    16.29|    43.59|     7.2|   763.8333|  82.0| 8.666667|      40.0|4.3333335|2.8742998|2.8742998|       29|  11|    1|\n",
      "|      10.0|   0.0| 19.1|45.826668|    18.39|    45.26|19.7|44.56| 18.2|    45.59|     17.2|   52.334| 6.4|97.42333|17.957222|41.461113|   17.945|47.669445|16.963333|46.626667|     7.3|      765.2|  74.0|      2.0|      40.0|      2.9|28.884975|28.884975|       28|  13|    1|\n",
      "|      20.0|   0.0| 17.2|43.326668|    16.29|     43.7|17.6| 41.5| 15.3|42.966667|     15.5|    49.09|5.76|    99.9|    15.69|     38.5|16.594444|     46.4|     15.1|     42.9|     5.6|      767.8|  99.0|      3.0|      43.0|      5.5| 30.93875| 30.93875|       23|   8|    1|\n",
      "|      20.0|   0.0|17.29|     43.2|    16.29|43.363335|17.6| 41.2| 15.3|    42.59|15.566667|     49.0|6.59|    99.9|    15.69|38.157223| 16.63889|   46.035|    15.13|     42.5|     5.9|      767.0|  99.5|      4.0|      24.0|      5.8| 47.69137| 47.69137|       23|   6|    1|\n",
      "|      20.0|   0.0| 17.6|   41.145|     16.6|     41.7|18.0| 40.2| 15.6|    40.79|15.720555|48.433334| 4.5|99.72667|    15.89|     36.2|17.022223|43.927776|    15.39|     40.5|4.366667|   762.8333| 100.0|      5.0|       8.0| 4.366667|37.400826|37.400826|       22|  23|    1|\n",
      "+----------+------+-----+---------+---------+---------+----+-----+-----+---------+---------+---------+----+--------+---------+---------+---------+---------+---------+---------+--------+-----------+------+---------+----------+---------+---------+---------+---------+----+-----+\n",
      "only showing top 5 rows\n",
      "\n"
     ]
    }
   ],
   "source": [
    "# update the variables `df`, `train` and `test`, removing the column 'month'\n",
    "# <FILL-IN WITH YOUR CODE>\n",
    "df = df.drop('month')\n",
    "train_df = train_df.drop('month')\n",
    "train_df = test_df.drop('month')\n",
    "test_df.show(5)"
   ]
  },
  {
   "cell_type": "markdown",
   "metadata": {
    "deletable": false,
    "editable": false,
    "nbgrader": {
     "cell_type": "markdown",
     "checksum": "af460873762e3c8617ffb7f7580eac0b",
     "grade": false,
     "grade_id": "cell-d8aab95c80f20932",
     "locked": true,
     "schema_version": 3,
     "solution": false,
     "task": false
    }
   },
   "source": [
    "You could do other plots to understand better the data and practice with Spark :-). This is a good opportunity to practice with the DataFrame API, although if you are running this on Databricks, some plots can be generated very easily by yourself."
   ]
  },
  {
   "cell_type": "code",
   "execution_count": 16,
   "metadata": {
    "deletable": false,
    "nbgrader": {
     "cell_type": "code",
     "checksum": "3a49870c2cc216fe0d7e91b74a868e21",
     "grade": true,
     "grade_id": "cell-13f6aa1e22b192f1",
     "locked": false,
     "points": 0,
     "schema_version": 3,
     "solution": true,
     "task": false
    }
   },
   "outputs": [],
   "source": [
    "# <FILL-IN WITH YOUR CODE>"
   ]
  },
  {
   "cell_type": "markdown",
   "metadata": {
    "deletable": false,
    "editable": false,
    "nbgrader": {
     "cell_type": "markdown",
     "checksum": "8d4048ac5928490fe33a851497606173",
     "grade": false,
     "grade_id": "cell-e49995e14a31fa47",
     "locked": true,
     "schema_version": 3,
     "solution": false,
     "task": false
    }
   },
   "source": [
    "## Create a Pipeline with Spark ML [20 marks]\n",
    "\n",
    "As you know, we can't feed the data frame directly to a machine learning algorithm, as we need to put all the input features as an Array, and indicate which one is the output feature (in our case, the 'Appliances' column!).\n",
    "\n",
    "We will put together a simple Pipeline with the following stages:\n",
    "\n",
    "- VectorAssembler: To combine all the input columns into a single vector column (i.e. all the columns but the 'Appliances' one.\n",
    "- Learning algorithm: I feel like using Gradient-Boosted Trees [GBTs](https://en.wikipedia.org/wiki/Gradient_boosting) for this example, but feel free to use anything else.\n",
    "- CrossValidator: I will use cross validation to tune the parameters of the GBT model. Yes, this can be added as part of a pipeline!  This is going to change the way we access the best model later!  "
   ]
  },
  {
   "cell_type": "markdown",
   "metadata": {
    "deletable": false,
    "editable": false,
    "nbgrader": {
     "cell_type": "markdown",
     "checksum": "807c3b691e51f5dca0e276c18f79b137",
     "grade": false,
     "grade_id": "cell-3f24c59f54a6cf35",
     "locked": true,
     "schema_version": 3,
     "solution": false,
     "task": false
    }
   },
   "source": [
    "Step 1: Create the `VectorAssembler`:"
   ]
  },
  {
   "cell_type": "code",
   "execution_count": 17,
   "metadata": {
    "deletable": false,
    "nbgrader": {
     "cell_type": "code",
     "checksum": "5a64a21121df4fea431a96eb1a193767",
     "grade": true,
     "grade_id": "cell-706de5b087873dcc",
     "locked": false,
     "points": 0,
     "schema_version": 3,
     "solution": true,
     "task": false
    }
   },
   "outputs": [],
   "source": [
    "from pyspark.ml.feature import VectorAssembler\n",
    "feature_cols = train_df.columns\n",
    "feature_cols.remove('Appliances')\n",
    "assembler = VectorAssembler(inputCols=feature_cols, outputCol=\"features\")\n",
    "\n",
    "# <FILL-IN WITH YOUR CODE>"
   ]
  },
  {
   "cell_type": "code",
   "execution_count": 18,
   "metadata": {},
   "outputs": [
    {
     "name": "stdout",
     "output_type": "stream",
     "text": [
      "+----------+------+-----+---------+---------+---------+----+-----+-----+---------+---------+---------+----+--------+---------+---------+---------+---------+---------+---------+--------+-----------+------+---------+----------+---------+---------+---------+---------+----+-----------------------------------------------------------------------------------------------------------------------------------------------------------------------------------------------------------------------------------------------------------------------------------------------------------------------------------------------------------------------------------------------------------------------------------------------------------------+\n",
      "|Appliances|lights|T1   |RH_1     |T2       |RH_2     |T3  |RH_3 |T4   |RH_4     |T5       |RH_5     |T6  |RH_6    |T7       |RH_7     |T8       |RH_8     |T9       |RH_9     |T_out   |Press_mm_hg|RH_out|Windspeed|Visibility|Tdewpoint|rv1      |rv2      |dayofyear|hour|features                                                                                                                                                                                                                                                                                                                                                                                                                                                         |\n",
      "+----------+------+-----+---------+---------+---------+----+-----+-----+---------+---------+---------+----+--------+---------+---------+---------+---------+---------+---------+--------+-----------+------+---------+----------+---------+---------+---------+---------+----+-----------------------------------------------------------------------------------------------------------------------------------------------------------------------------------------------------------------------------------------------------------------------------------------------------------------------------------------------------------------------------------------------------------------------------------------------------------------+\n",
      "|10.0      |0.0   |18.0 |43.7     |17.166666|44.29    |19.1|42.0 |16.89|44.09    |16.688889|50.28    |7.66|83.85667|17.0     |39.29    |17.127777|45.79    |16.29    |43.59    |7.2     |763.8333   |82.0  |8.666667 |40.0      |4.3333335|2.8742998|2.8742998|29       |11  |[0.0,18.0,43.70000076293945,17.16666603088379,44.290000915527344,19.100000381469727,42.0,16.889999389648438,44.09000015258789,16.688888549804688,50.279998779296875,7.659999847412109,83.8566665649414,17.0,39.290000915527344,17.127777099609375,45.790000915527344,16.290000915527344,43.59000015258789,7.199999809265137,763.8333129882812,82.0,8.666666984558105,40.0,4.333333492279053,2.8742997646331787,2.8742997646331787,29.0,11.0]                     |\n",
      "|10.0      |0.0   |19.1 |45.826668|18.39    |45.26    |19.7|44.56|18.2 |45.59    |17.2     |52.334   |6.4 |97.42333|17.957222|41.461113|17.945   |47.669445|16.963333|46.626667|7.3     |765.2      |74.0  |2.0      |40.0      |2.9      |28.884975|28.884975|28       |13  |[0.0,19.100000381469727,45.82666778564453,18.389999389648438,45.2599983215332,19.700000762939453,44.560001373291016,18.200000762939453,45.59000015258789,17.200000762939453,52.33399963378906,6.400000095367432,97.42333221435547,17.95722198486328,41.46111297607422,17.94499969482422,47.6694450378418,16.963333129882812,46.62666702270508,7.300000190734863,765.2000122070312,74.0,2.0,40.0,2.9000000953674316,28.88497543334961,28.88497543334961,28.0,13.0]|\n",
      "|20.0      |0.0   |17.2 |43.326668|16.29    |43.7     |17.6|41.5 |15.3 |42.966667|15.5     |49.09    |5.76|99.9    |15.69    |38.5     |16.594444|46.4     |15.1     |42.9     |5.6     |767.8      |99.0  |3.0      |43.0      |5.5      |30.93875 |30.93875 |23       |8   |[0.0,17.200000762939453,43.32666778564453,16.290000915527344,43.70000076293945,17.600000381469727,41.5,15.300000190734863,42.96666717529297,15.5,49.09000015258789,5.760000228881836,99.9000015258789,15.6899995803833,38.5,16.594444274902344,46.400001525878906,15.100000381469727,42.900001525878906,5.599999904632568,767.7999877929688,99.0,3.0,43.0,5.5,30.938749313354492,30.938749313354492,23.0,8.0]                                                    |\n",
      "|20.0      |0.0   |17.29|43.2     |16.29    |43.363335|17.6|41.2 |15.3 |42.59    |15.566667|49.0     |6.59|99.9    |15.69    |38.157223|16.63889 |46.035   |15.13    |42.5     |5.9     |767.0      |99.5  |4.0      |24.0      |5.8      |47.69137 |47.69137 |23       |6   |[0.0,17.290000915527344,43.20000076293945,16.290000915527344,43.36333465576172,17.600000381469727,41.20000076293945,15.300000190734863,42.59000015258789,15.566666603088379,49.0,6.590000152587891,99.9000015258789,15.6899995803833,38.157222747802734,16.63888931274414,46.03499984741211,15.130000114440918,42.5,5.900000095367432,767.0,99.5,4.0,24.0,5.800000190734863,47.691368103027344,47.691368103027344,23.0,6.0]                                      |\n",
      "|20.0      |0.0   |17.6 |41.145   |16.6     |41.7     |18.0|40.2 |15.6 |40.79    |15.720555|48.433334|4.5 |99.72667|15.89    |36.2     |17.022223|43.927776|15.39    |40.5     |4.366667|762.8333   |100.0 |5.0      |8.0       |4.366667 |37.400826|37.400826|22       |23  |[0.0,17.600000381469727,41.14500045776367,16.600000381469727,41.70000076293945,18.0,40.20000076293945,15.600000381469727,40.790000915527344,15.720555305480957,48.43333435058594,4.5,99.72666931152344,15.890000343322754,36.20000076293945,17.0222225189209,43.92777633666992,15.390000343322754,40.5,4.366666793823242,762.8333129882812,100.0,5.0,8.0,4.366666793823242,37.40082550048828,37.40082550048828,22.0,23.0]                                        |\n",
      "+----------+------+-----+---------+---------+---------+----+-----+-----+---------+---------+---------+----+--------+---------+---------+---------+---------+---------+---------+--------+-----------+------+---------+----------+---------+---------+---------+---------+----+-----------------------------------------------------------------------------------------------------------------------------------------------------------------------------------------------------------------------------------------------------------------------------------------------------------------------------------------------------------------------------------------------------------------------------------------------------------------+\n",
      "only showing top 5 rows\n",
      "\n"
     ]
    }
   ],
   "source": [
    "assembler.transform(train_df).show(5, truncate=False)"
   ]
  },
  {
   "cell_type": "code",
   "execution_count": 19,
   "metadata": {},
   "outputs": [
    {
     "name": "stdout",
     "output_type": "stream",
     "text": [
      "root\n",
      " |-- Appliances: float (nullable = true)\n",
      " |-- lights: float (nullable = true)\n",
      " |-- T1: float (nullable = true)\n",
      " |-- RH_1: float (nullable = true)\n",
      " |-- T2: float (nullable = true)\n",
      " |-- RH_2: float (nullable = true)\n",
      " |-- T3: float (nullable = true)\n",
      " |-- RH_3: float (nullable = true)\n",
      " |-- T4: float (nullable = true)\n",
      " |-- RH_4: float (nullable = true)\n",
      " |-- T5: float (nullable = true)\n",
      " |-- RH_5: float (nullable = true)\n",
      " |-- T6: float (nullable = true)\n",
      " |-- RH_6: float (nullable = true)\n",
      " |-- T7: float (nullable = true)\n",
      " |-- RH_7: float (nullable = true)\n",
      " |-- T8: float (nullable = true)\n",
      " |-- RH_8: float (nullable = true)\n",
      " |-- T9: float (nullable = true)\n",
      " |-- RH_9: float (nullable = true)\n",
      " |-- T_out: float (nullable = true)\n",
      " |-- Press_mm_hg: float (nullable = true)\n",
      " |-- RH_out: float (nullable = true)\n",
      " |-- Windspeed: float (nullable = true)\n",
      " |-- Visibility: float (nullable = true)\n",
      " |-- Tdewpoint: float (nullable = true)\n",
      " |-- rv1: float (nullable = true)\n",
      " |-- rv2: float (nullable = true)\n",
      " |-- dayofyear: integer (nullable = true)\n",
      " |-- hour: integer (nullable = true)\n",
      " |-- features: vector (nullable = true)\n",
      "\n"
     ]
    }
   ],
   "source": [
    "assembler.transform(train_df).printSchema()"
   ]
  },
  {
   "cell_type": "markdown",
   "metadata": {
    "deletable": false,
    "editable": false,
    "nbgrader": {
     "cell_type": "markdown",
     "checksum": "e24f36f23ecaf217b3432950daeb9c66",
     "grade": false,
     "grade_id": "cell-68a3d374f4a70c38",
     "locked": true,
     "schema_version": 3,
     "solution": false,
     "task": false
    }
   },
   "source": [
    "Step 2: Create an instance of `GBTRegressor` in which you don't indicate any parameters but the class label (i.e. `labelCol`) to 'Appliances'."
   ]
  },
  {
   "cell_type": "code",
   "execution_count": 20,
   "metadata": {
    "deletable": false,
    "nbgrader": {
     "cell_type": "code",
     "checksum": "7092e1add42c762bdf9ee6e5b4805438",
     "grade": true,
     "grade_id": "cell-8db3898a09503ca1",
     "locked": false,
     "points": 0,
     "schema_version": 3,
     "solution": true,
     "task": false
    }
   },
   "outputs": [],
   "source": [
    "from pyspark.ml.regression import GBTRegressor\n",
    "\n",
    "#name the variable `gbt` \n",
    "gbt = GBTRegressor(featuresCol='features', labelCol='Appliances')\n",
    "\n",
    "# <FILL-IN WITH YOUR CODE>"
   ]
  },
  {
   "cell_type": "markdown",
   "metadata": {
    "deletable": false,
    "editable": false,
    "nbgrader": {
     "cell_type": "markdown",
     "checksum": "ae0da55026f2e2364b2c86baa0321b22",
     "grade": false,
     "grade_id": "cell-102cc339bfa52fe2",
     "locked": true,
     "schema_version": 3,
     "solution": false,
     "task": false
    }
   },
   "source": [
    "Step 3: Create a `CrossValidator` for `gbt`."
   ]
  },
  {
   "cell_type": "markdown",
   "metadata": {
    "deletable": false,
    "editable": false,
    "nbgrader": {
     "cell_type": "markdown",
     "checksum": "7db6e70f1b1d7db78c5d932f1a793b4c",
     "grade": false,
     "grade_id": "cell-a46ae0c64349795f",
     "locked": true,
     "schema_version": 3,
     "solution": false,
     "task": false
    }
   },
   "source": [
    "You can explore the parameters you like for GBT. Full documentation [here](https://spark.apache.org/docs/latest/api/python/reference/api/pyspark.ml.regression.GBTRegressor.html). I would suggest to create a 'grid' for at least the depth of the tree and the number of iterations. Don't investigate more than 4-8 combinations! :-)"
   ]
  },
  {
   "cell_type": "markdown",
   "metadata": {
    "deletable": false,
    "editable": false,
    "nbgrader": {
     "cell_type": "markdown",
     "checksum": "68b41ab2e6c2018ea7179476cecf99a9",
     "grade": false,
     "grade_id": "cell-154bc279b7bc636a",
     "locked": true,
     "schema_version": 3,
     "solution": false,
     "task": false
    }
   },
   "source": [
    "Import the right libraries:"
   ]
  },
  {
   "cell_type": "code",
   "execution_count": 21,
   "metadata": {},
   "outputs": [],
   "source": [
    "from pyspark.ml.tuning import CrossValidator, ParamGridBuilder"
   ]
  },
  {
   "cell_type": "code",
   "execution_count": 22,
   "metadata": {
    "deletable": false,
    "nbgrader": {
     "cell_type": "code",
     "checksum": "dc15a04567a0efe4bfbc8036616d723b",
     "grade": true,
     "grade_id": "cell-bc9e2db69dde356f",
     "locked": false,
     "points": 0,
     "schema_version": 3,
     "solution": true,
     "task": false
    },
    "scrolled": false
   },
   "outputs": [
    {
     "name": "stdout",
     "output_type": "stream",
     "text": [
      "{Param(parent='GBTRegressor_5342eeeb64fe', name='maxDepth', doc='Maximum depth of the tree. (>= 0) E.g., depth 0 means 1 leaf node; depth 1 means 1 internal node + 2 leaf nodes. Must be in range [0, 30].'): 3, Param(parent='GBTRegressor_5342eeeb64fe', name='maxIter', doc='max number of iterations (>= 0).'): 5}\n",
      "{Param(parent='GBTRegressor_5342eeeb64fe', name='maxDepth', doc='Maximum depth of the tree. (>= 0) E.g., depth 0 means 1 leaf node; depth 1 means 1 internal node + 2 leaf nodes. Must be in range [0, 30].'): 3, Param(parent='GBTRegressor_5342eeeb64fe', name='maxIter', doc='max number of iterations (>= 0).'): 10}\n",
      "{Param(parent='GBTRegressor_5342eeeb64fe', name='maxDepth', doc='Maximum depth of the tree. (>= 0) E.g., depth 0 means 1 leaf node; depth 1 means 1 internal node + 2 leaf nodes. Must be in range [0, 30].'): 3, Param(parent='GBTRegressor_5342eeeb64fe', name='maxIter', doc='max number of iterations (>= 0).'): 20}\n",
      "{Param(parent='GBTRegressor_5342eeeb64fe', name='maxDepth', doc='Maximum depth of the tree. (>= 0) E.g., depth 0 means 1 leaf node; depth 1 means 1 internal node + 2 leaf nodes. Must be in range [0, 30].'): 5, Param(parent='GBTRegressor_5342eeeb64fe', name='maxIter', doc='max number of iterations (>= 0).'): 5}\n",
      "{Param(parent='GBTRegressor_5342eeeb64fe', name='maxDepth', doc='Maximum depth of the tree. (>= 0) E.g., depth 0 means 1 leaf node; depth 1 means 1 internal node + 2 leaf nodes. Must be in range [0, 30].'): 5, Param(parent='GBTRegressor_5342eeeb64fe', name='maxIter', doc='max number of iterations (>= 0).'): 10}\n",
      "{Param(parent='GBTRegressor_5342eeeb64fe', name='maxDepth', doc='Maximum depth of the tree. (>= 0) E.g., depth 0 means 1 leaf node; depth 1 means 1 internal node + 2 leaf nodes. Must be in range [0, 30].'): 5, Param(parent='GBTRegressor_5342eeeb64fe', name='maxIter', doc='max number of iterations (>= 0).'): 20}\n",
      "{Param(parent='GBTRegressor_5342eeeb64fe', name='maxDepth', doc='Maximum depth of the tree. (>= 0) E.g., depth 0 means 1 leaf node; depth 1 means 1 internal node + 2 leaf nodes. Must be in range [0, 30].'): 8, Param(parent='GBTRegressor_5342eeeb64fe', name='maxIter', doc='max number of iterations (>= 0).'): 5}\n",
      "{Param(parent='GBTRegressor_5342eeeb64fe', name='maxDepth', doc='Maximum depth of the tree. (>= 0) E.g., depth 0 means 1 leaf node; depth 1 means 1 internal node + 2 leaf nodes. Must be in range [0, 30].'): 8, Param(parent='GBTRegressor_5342eeeb64fe', name='maxIter', doc='max number of iterations (>= 0).'): 10}\n",
      "{Param(parent='GBTRegressor_5342eeeb64fe', name='maxDepth', doc='Maximum depth of the tree. (>= 0) E.g., depth 0 means 1 leaf node; depth 1 means 1 internal node + 2 leaf nodes. Must be in range [0, 30].'): 8, Param(parent='GBTRegressor_5342eeeb64fe', name='maxIter', doc='max number of iterations (>= 0).'): 20}\n"
     ]
    }
   ],
   "source": [
    "# define a variable `paramGrid` with some parameters, e.g. for maxDepth, range [5,8], and for maxIter [10,20]\n",
    "paramGrid = ParamGridBuilder()\\\n",
    "            .addGrid(gbt.maxDepth, [3,5,8])\\\n",
    "            .addGrid(gbt.maxIter, [5,10,20])\\\n",
    "            .build()\n",
    "\n",
    "for params in paramGrid:\n",
    "    print(params)\n",
    "# <FILL-IN WITH YOUR CODE>"
   ]
  },
  {
   "cell_type": "markdown",
   "metadata": {
    "deletable": false,
    "editable": false,
    "nbgrader": {
     "cell_type": "markdown",
     "checksum": "a58ec61535cd230c92ea770ec5f3e244",
     "grade": false,
     "grade_id": "cell-4ed184ef97131b35",
     "locked": true,
     "schema_version": 3,
     "solution": false,
     "task": false
    }
   },
   "source": [
    "Create a RegressionEvaluator that uses the [Root Mean Squared Error (RMSE)](https://en.wikipedia.org/wiki/Root-mean-square_deviation) as our performance metric. Import the right package first:"
   ]
  },
  {
   "cell_type": "code",
   "execution_count": 23,
   "metadata": {},
   "outputs": [],
   "source": [
    "from pyspark.ml.evaluation import RegressionEvaluator"
   ]
  },
  {
   "cell_type": "code",
   "execution_count": 24,
   "metadata": {
    "deletable": false,
    "nbgrader": {
     "cell_type": "code",
     "checksum": "9753990f3a78afe1f0ce7170ee768f6c",
     "grade": false,
     "grade_id": "cell-a292d5c29d2d317c",
     "locked": false,
     "schema_version": 3,
     "solution": true,
     "task": false
    }
   },
   "outputs": [],
   "source": [
    "# create a variable `evaluator` with a rmse as metric for the prediction column given by `gbt`.\n",
    "evaluator = RegressionEvaluator(metricName='mae', labelCol='Appliances', predictionCol='prediction')\n",
    "# <FILL-IN WITH YOUR CODE>"
   ]
  },
  {
   "cell_type": "markdown",
   "metadata": {
    "deletable": false,
    "editable": false,
    "nbgrader": {
     "cell_type": "markdown",
     "checksum": "2ef34bfd6d4b77c178d862bdd6c67136",
     "grade": false,
     "grade_id": "cell-85da592a82153cc7",
     "locked": true,
     "schema_version": 3,
     "solution": false,
     "task": false
    }
   },
   "source": [
    "We can now create a CrossValidator `cv` that uses the `gbt` as estimator, as well as the evaluator and grid we defined above."
   ]
  },
  {
   "cell_type": "code",
   "execution_count": 25,
   "metadata": {
    "deletable": false,
    "nbgrader": {
     "cell_type": "code",
     "checksum": "546ad288c8f0f53d93e9805f36a9a3e2",
     "grade": true,
     "grade_id": "cell-ff22f5dbf35b6e2f",
     "locked": false,
     "points": 0,
     "schema_version": 3,
     "solution": true,
     "task": false
    }
   },
   "outputs": [],
   "source": [
    "# <FILL-IN WITH YOUR CODE>\n",
    "cv = CrossValidator(estimator=gbt, estimatorParamMaps=paramGrid, evaluator=evaluator, numFolds=3)"
   ]
  },
  {
   "cell_type": "markdown",
   "metadata": {
    "deletable": false,
    "editable": false,
    "nbgrader": {
     "cell_type": "markdown",
     "checksum": "749133c857046d1bc2e11ebf65eeada1",
     "grade": false,
     "grade_id": "cell-2b33520df40a8ee9",
     "locked": true,
     "schema_version": 3,
     "solution": false,
     "task": false
    }
   },
   "source": [
    "Step 4. Create a Pipeline (`pipeline`) that contains the two stages: `vectorAssembler` and `cv`"
   ]
  },
  {
   "cell_type": "code",
   "execution_count": 26,
   "metadata": {
    "deletable": false,
    "nbgrader": {
     "cell_type": "code",
     "checksum": "a93c0e13420d8c7ddf6408fd963ca1e3",
     "grade": true,
     "grade_id": "cell-c772c77b96ea0299",
     "locked": false,
     "points": 0,
     "schema_version": 3,
     "solution": true,
     "task": false
    }
   },
   "outputs": [],
   "source": [
    "from pyspark.ml import Pipeline\n",
    "pipline = Pipeline(stages=[assembler, cv])\n",
    "# <FILL-IN WITH YOUR CODE>"
   ]
  },
  {
   "cell_type": "markdown",
   "metadata": {
    "deletable": false,
    "editable": false,
    "nbgrader": {
     "cell_type": "markdown",
     "checksum": "a9c8a01711759f1b834f1778033cb9b3",
     "grade": false,
     "grade_id": "cell-83983f3ad8703821",
     "locked": true,
     "schema_version": 3,
     "solution": false,
     "task": false
    }
   },
   "source": [
    "Step 5. Finally, `fit` the model, and store in a `pipelineModel` variable. This might take quite a bit of time!"
   ]
  },
  {
   "cell_type": "code",
   "execution_count": 27,
   "metadata": {
    "deletable": false,
    "nbgrader": {
     "cell_type": "code",
     "checksum": "82cacba754d5f00e687e19bbad0ec903",
     "grade": true,
     "grade_id": "cell-4865af895712af5e",
     "locked": false,
     "points": 0,
     "schema_version": 3,
     "solution": true,
     "task": false
    }
   },
   "outputs": [],
   "source": [
    "# <FILL-IN WITH YOUR CODE>\n",
    "pipline_model = pipline.fit(train_df)"
   ]
  },
  {
   "cell_type": "markdown",
   "metadata": {},
   "source": [
    "It could be a good idea to save this to disk, in case it takes too long, so we can read it later."
   ]
  },
  {
   "cell_type": "code",
   "execution_count": 28,
   "metadata": {},
   "outputs": [],
   "source": [
    "#pipline_model.save(\"Model-lab4\")"
   ]
  },
  {
   "cell_type": "markdown",
   "metadata": {
    "deletable": false,
    "editable": false,
    "nbgrader": {
     "cell_type": "markdown",
     "checksum": "3fa1fc36e0f0972102cd0635baf8f304",
     "grade": false,
     "grade_id": "cell-77849593b37442d8",
     "locked": true,
     "schema_version": 3,
     "solution": false,
     "task": false
    }
   },
   "source": [
    "## Evaluate the results [10 marks]"
   ]
  },
  {
   "cell_type": "markdown",
   "metadata": {},
   "source": [
    "To obtain the predictions in the test set, apply the method `transform()` of the trained pipeline on the test DataFrame! This will not apply the cross-validation of course!"
   ]
  },
  {
   "cell_type": "code",
   "execution_count": 29,
   "metadata": {
    "deletable": false,
    "nbgrader": {
     "cell_type": "code",
     "checksum": "12bd28a5ab908cbbd54f5d83be53c812",
     "grade": false,
     "grade_id": "cell-d2a232d67c0b332b",
     "locked": false,
     "schema_version": 3,
     "solution": true,
     "task": false
    }
   },
   "outputs": [
    {
     "name": "stdout",
     "output_type": "stream",
     "text": [
      "+----------+------+-----+---------+---------+---------+----+-----+-----+---------+---------+---------+----+--------+---------+---------+---------+---------+---------+---------+--------+-----------+------+---------+----------+---------+---------+---------+---------+----+-----+\n",
      "|Appliances|lights|   T1|     RH_1|       T2|     RH_2|  T3| RH_3|   T4|     RH_4|       T5|     RH_5|  T6|    RH_6|       T7|     RH_7|       T8|     RH_8|       T9|     RH_9|   T_out|Press_mm_hg|RH_out|Windspeed|Visibility|Tdewpoint|      rv1|      rv2|dayofyear|hour|month|\n",
      "+----------+------+-----+---------+---------+---------+----+-----+-----+---------+---------+---------+----+--------+---------+---------+---------+---------+---------+---------+--------+-----------+------+---------+----------+---------+---------+---------+---------+----+-----+\n",
      "|      10.0|   0.0| 18.0|     43.7|17.166666|    44.29|19.1| 42.0|16.89|    44.09|16.688889|    50.28|7.66|83.85667|     17.0|    39.29|17.127777|    45.79|    16.29|    43.59|     7.2|   763.8333|  82.0| 8.666667|      40.0|4.3333335|2.8742998|2.8742998|       29|  11|    1|\n",
      "|      10.0|   0.0| 19.1|45.826668|    18.39|    45.26|19.7|44.56| 18.2|    45.59|     17.2|   52.334| 6.4|97.42333|17.957222|41.461113|   17.945|47.669445|16.963333|46.626667|     7.3|      765.2|  74.0|      2.0|      40.0|      2.9|28.884975|28.884975|       28|  13|    1|\n",
      "|      20.0|   0.0| 17.2|43.326668|    16.29|     43.7|17.6| 41.5| 15.3|42.966667|     15.5|    49.09|5.76|    99.9|    15.69|     38.5|16.594444|     46.4|     15.1|     42.9|     5.6|      767.8|  99.0|      3.0|      43.0|      5.5| 30.93875| 30.93875|       23|   8|    1|\n",
      "|      20.0|   0.0|17.29|     43.2|    16.29|43.363335|17.6| 41.2| 15.3|    42.59|15.566667|     49.0|6.59|    99.9|    15.69|38.157223| 16.63889|   46.035|    15.13|     42.5|     5.9|      767.0|  99.5|      4.0|      24.0|      5.8| 47.69137| 47.69137|       23|   6|    1|\n",
      "|      20.0|   0.0| 17.6|   41.145|     16.6|     41.7|18.0| 40.2| 15.6|    40.79|15.720555|48.433334| 4.5|99.72667|    15.89|     36.2|17.022223|43.927776|    15.39|     40.5|4.366667|   762.8333| 100.0|      5.0|       8.0| 4.366667|37.400826|37.400826|       22|  23|    1|\n",
      "+----------+------+-----+---------+---------+---------+----+-----+-----+---------+---------+---------+----+--------+---------+---------+---------+---------+---------+---------+--------+-----------+------+---------+----------+---------+---------+---------+---------+----+-----+\n",
      "only showing top 5 rows\n",
      "\n"
     ]
    }
   ],
   "source": [
    "# create a variable `predictions`:\n",
    "predictions = pipline_model.transform(test_df)\n",
    "# <FILL-IN WITH YOUR CODE>\n",
    "test_df.show(5)"
   ]
  },
  {
   "cell_type": "markdown",
   "metadata": {
    "deletable": false,
    "editable": false,
    "nbgrader": {
     "cell_type": "markdown",
     "checksum": "16cf332bde6d4413e31ab0d18074be4f",
     "grade": false,
     "grade_id": "cell-a868d56e37754041",
     "locked": true,
     "schema_version": 3,
     "solution": false,
     "task": false
    }
   },
   "source": [
    "It is easier to view the results when we limit the columns displayed to:\n",
    "\n",
    "- `Appliances`: the consumption of the Appliances in Wh\n",
    "- `prediction`: our predicted prediction\n",
    "\n",
    "Find a way to show the output only for these two features (only for the first 5 rows):"
   ]
  },
  {
   "cell_type": "code",
   "execution_count": 30,
   "metadata": {
    "deletable": false,
    "nbgrader": {
     "cell_type": "code",
     "checksum": "d9ddd0f690a496176b60d3ffd625c60b",
     "grade": true,
     "grade_id": "cell-9846c3a76797db6e",
     "locked": false,
     "points": 0,
     "schema_version": 3,
     "solution": true,
     "task": false
    }
   },
   "outputs": [
    {
     "name": "stdout",
     "output_type": "stream",
     "text": [
      "+----------+------------------+\n",
      "|Appliances|        prediction|\n",
      "+----------+------------------+\n",
      "|      10.0|  79.2914018219913|\n",
      "|      10.0| 39.17598969074051|\n",
      "|      20.0| 90.83193170125831|\n",
      "|      20.0|34.990365591868496|\n",
      "|      20.0| 39.26994041230047|\n",
      "+----------+------------------+\n",
      "only showing top 5 rows\n",
      "\n"
     ]
    }
   ],
   "source": [
    "# <FILL-IN WITH YOUR CODE>\n",
    "predictions.select('Appliances', 'prediction').show(5)"
   ]
  },
  {
   "cell_type": "markdown",
   "metadata": {
    "deletable": false,
    "editable": false,
    "nbgrader": {
     "cell_type": "markdown",
     "checksum": "f79ba06b3b7ef738dbad136fbf046e0c",
     "grade": false,
     "grade_id": "cell-f37cc71440a8edf2",
     "locked": true,
     "schema_version": 3,
     "solution": false,
     "task": false
    }
   },
   "source": [
    "Are these results any good? Let's compute the RMSE using the evaluator we created before! Store the result in a `rmse` variable."
   ]
  },
  {
   "cell_type": "code",
   "execution_count": 31,
   "metadata": {
    "deletable": false,
    "nbgrader": {
     "cell_type": "code",
     "checksum": "5ef11de44ab722e8d128816e771dee1e",
     "grade": true,
     "grade_id": "cell-1250797f2aae0195",
     "locked": false,
     "points": 0,
     "schema_version": 3,
     "solution": true,
     "task": false
    }
   },
   "outputs": [],
   "source": [
    "# <FILL-IN WITH YOUR CODE>\n",
    "rmse = evaluator.evaluate(predictions)"
   ]
  },
  {
   "cell_type": "code",
   "execution_count": 32,
   "metadata": {},
   "outputs": [
    {
     "name": "stdout",
     "output_type": "stream",
     "text": [
      "41.538888200156606\n"
     ]
    }
   ],
   "source": [
    "print(rmse)"
   ]
  },
  {
   "cell_type": "markdown",
   "metadata": {
    "deletable": false,
    "editable": false,
    "nbgrader": {
     "cell_type": "markdown",
     "checksum": "5f5e0f65ad9d1b9cd59fa7aaa0079c58",
     "grade": false,
     "grade_id": "cell-a6d64a5f7cdccf1c",
     "locked": true,
     "schema_version": 3,
     "solution": false,
     "task": false
    }
   },
   "source": [
    "Seems a bit high?  Well, this number is closer to what it is reported in the original paper with RF (RMSE around 69).\n",
    "\n",
    "But maybe you can investigate a bit more if you can improve that. Can you find out the importance of the features from the GBTs?  "
   ]
  },
  {
   "cell_type": "markdown",
   "metadata": {
    "deletable": false,
    "editable": false,
    "nbgrader": {
     "cell_type": "markdown",
     "checksum": "68a14ed17d1a59fd2fc9537279a13736",
     "grade": false,
     "grade_id": "cell-98af8ec7cf0709ae",
     "locked": true,
     "schema_version": 3,
     "solution": false,
     "task": false
    }
   },
   "source": [
    "You first need to find out the best model!! In the way we trained the pipeline, you can find the trained cvModel as one of the stages of the `pipelineModel`:"
   ]
  },
  {
   "cell_type": "code",
   "execution_count": 33,
   "metadata": {},
   "outputs": [],
   "source": [
    "cvModel = pipline_model.stages[1]"
   ]
  },
  {
   "cell_type": "code",
   "execution_count": 34,
   "metadata": {},
   "outputs": [
    {
     "data": {
      "text/plain": [
       "GBTRegressionModel: uid=GBTRegressor_5342eeeb64fe, numTrees=20, numFeatures=29"
      ]
     },
     "execution_count": 34,
     "metadata": {},
     "output_type": "execute_result"
    }
   ],
   "source": [
    "cvModel.bestModel"
   ]
  },
  {
   "cell_type": "markdown",
   "metadata": {},
   "source": [
    "Check the feature importances of that `cvModel`:"
   ]
  },
  {
   "cell_type": "code",
   "execution_count": 35,
   "metadata": {},
   "outputs": [
    {
     "data": {
      "text/plain": [
       "SparseVector(29, {0: 0.041, 1: 0.028, 2: 0.0466, 3: 0.0335, 4: 0.0532, 5: 0.0625, 6: 0.0615, 7: 0.0333, 8: 0.0401, 9: 0.038, 10: 0.0253, 11: 0.0404, 12: 0.0465, 13: 0.0316, 14: 0.0177, 15: 0.0374, 16: 0.0253, 17: 0.0075, 18: 0.0142, 19: 0.0221, 20: 0.0403, 21: 0.036, 22: 0.0402, 23: 0.0157, 24: 0.0315, 25: 0.0195, 27: 0.0137, 28: 0.0974})"
      ]
     },
     "execution_count": 35,
     "metadata": {},
     "output_type": "execute_result"
    }
   ],
   "source": [
    "cvModel.bestModel.featureImportances"
   ]
  },
  {
   "cell_type": "markdown",
   "metadata": {},
   "source": [
    "Uhm, looks like our model gave feature #28 quite a bit of importance, which is the hour of the day if I recall correctly.  Features #25 and #26 were random, and the model noticed that 26 was completely useless, but gave some importance to 'rv1'. GBTs perform somehow an implicit feature selection, so those low importance features won't affect much their performance, but I wonder if we could just remove low importance features?"
   ]
  },
  {
   "cell_type": "markdown",
   "metadata": {
    "deletable": false,
    "editable": false,
    "nbgrader": {
     "cell_type": "markdown",
     "checksum": "387f5e9cea0dc12361fe6dff8638445c",
     "grade": false,
     "grade_id": "cell-397368093280ee02",
     "locked": true,
     "schema_version": 3,
     "solution": false,
     "task": false
    }
   },
   "source": [
    "*Task*: Create a list of those features with less than for example 0.05. "
   ]
  },
  {
   "cell_type": "code",
   "execution_count": 36,
   "metadata": {},
   "outputs": [
    {
     "name": "stdout",
     "output_type": "stream",
     "text": [
      "(29,[0,1,2,3,4,5,6,7,8,9,10,11,12,13,14,15,16,17,18,19,20,21,22,23,24,25,27,28],[0.04097247955342678,0.02796088866103442,0.04663467602547514,0.03352834982561123,0.053241313012667074,0.062478790166915744,0.06145094779844561,0.033266523501396805,0.040072478930092595,0.03796303438183131,0.025287876826011815,0.04044237183263133,0.04648017324505158,0.03161090450567628,0.017694997546048204,0.037362434292521826,0.02532980931242519,0.007453742436310882,0.014168577233315972,0.02211966754610988,0.04034131192874055,0.03604016599152696,0.04024815831825427,0.015653405159860717,0.0315042113985211,0.019545504950565413,0.013739226019771391,0.09740797959975989])\n"
     ]
    }
   ],
   "source": [
    "pairs = cvModel.bestModel.featureImportances\n",
    "print(pairs)"
   ]
  },
  {
   "cell_type": "code",
   "execution_count": 37,
   "metadata": {
    "deletable": false,
    "nbgrader": {
     "cell_type": "code",
     "checksum": "867337febcb76e54ad8d895dc6fe3139",
     "grade": true,
     "grade_id": "cell-6b1e6b9006205fb3",
     "locked": false,
     "points": 0,
     "schema_version": 3,
     "solution": true,
     "task": false
    }
   },
   "outputs": [],
   "source": [
    "# create a list `to_remove` that contains the feature names that must be removed because their confidence is less than 0.05 \n",
    "# <FILL-IN WITH YOUR CODE>\n",
    "to_remove = []\n",
    "feature_names = [col for col in df.columns if col != 'Appliances']\n",
    "\n",
    "for indices, values in enumerate(pairs.values):\n",
    "    # if importances less than 0.05，append its name to the list\n",
    "    if values < 0.05:\n",
    "        to_remove.append(feature_names[indices])\n",
    "        # to_remove.append(indices)"
   ]
  },
  {
   "cell_type": "code",
   "execution_count": 38,
   "metadata": {},
   "outputs": [
    {
     "name": "stdout",
     "output_type": "stream",
     "text": [
      "['lights', 'T1', 'RH_1', 'T2', 'T4', 'RH_4', 'T5', 'RH_5', 'T6', 'RH_6', 'T7', 'RH_7', 'T8', 'RH_8', 'T9', 'RH_9', 'T_out', 'Press_mm_hg', 'RH_out', 'Windspeed', 'Visibility', 'Tdewpoint', 'rv1', 'rv2']\n"
     ]
    }
   ],
   "source": [
    "print(to_remove)"
   ]
  },
  {
   "cell_type": "markdown",
   "metadata": {
    "deletable": false,
    "editable": false,
    "nbgrader": {
     "cell_type": "markdown",
     "checksum": "06dcc50590c58211670c7d1c71d8e6aa",
     "grade": false,
     "grade_id": "cell-32a9d061f3e5a666",
     "locked": true,
     "schema_version": 3,
     "solution": false,
     "task": false
    }
   },
   "source": [
    "## Removing low importance features [10 marks]"
   ]
  },
  {
   "cell_type": "markdown",
   "metadata": {
    "deletable": false,
    "editable": false,
    "nbgrader": {
     "cell_type": "markdown",
     "checksum": "e8982e88b3b7cf537087ca9bf62568aa",
     "grade": false,
     "grade_id": "cell-c6802214fa240a6f",
     "locked": true,
     "schema_version": 3,
     "solution": false,
     "task": false
    }
   },
   "source": [
    "Check the current schema of the training data:"
   ]
  },
  {
   "cell_type": "code",
   "execution_count": 39,
   "metadata": {
    "deletable": false,
    "nbgrader": {
     "cell_type": "code",
     "checksum": "21398aafc0621aaaeeb1fefd9bf33808",
     "grade": true,
     "grade_id": "cell-7eaf394a6020cdcd",
     "locked": false,
     "points": 0,
     "schema_version": 3,
     "solution": true,
     "task": false
    }
   },
   "outputs": [
    {
     "name": "stdout",
     "output_type": "stream",
     "text": [
      "root\n",
      " |-- Appliances: float (nullable = true)\n",
      " |-- lights: float (nullable = true)\n",
      " |-- T1: float (nullable = true)\n",
      " |-- RH_1: float (nullable = true)\n",
      " |-- T2: float (nullable = true)\n",
      " |-- RH_2: float (nullable = true)\n",
      " |-- T3: float (nullable = true)\n",
      " |-- RH_3: float (nullable = true)\n",
      " |-- T4: float (nullable = true)\n",
      " |-- RH_4: float (nullable = true)\n",
      " |-- T5: float (nullable = true)\n",
      " |-- RH_5: float (nullable = true)\n",
      " |-- T6: float (nullable = true)\n",
      " |-- RH_6: float (nullable = true)\n",
      " |-- T7: float (nullable = true)\n",
      " |-- RH_7: float (nullable = true)\n",
      " |-- T8: float (nullable = true)\n",
      " |-- RH_8: float (nullable = true)\n",
      " |-- T9: float (nullable = true)\n",
      " |-- RH_9: float (nullable = true)\n",
      " |-- T_out: float (nullable = true)\n",
      " |-- Press_mm_hg: float (nullable = true)\n",
      " |-- RH_out: float (nullable = true)\n",
      " |-- Windspeed: float (nullable = true)\n",
      " |-- Visibility: float (nullable = true)\n",
      " |-- Tdewpoint: float (nullable = true)\n",
      " |-- rv1: float (nullable = true)\n",
      " |-- rv2: float (nullable = true)\n",
      " |-- dayofyear: integer (nullable = true)\n",
      " |-- hour: integer (nullable = true)\n",
      "\n"
     ]
    }
   ],
   "source": [
    "# <FILL-IN WITH YOUR CODE>\n",
    "train_df.printSchema()"
   ]
  },
  {
   "cell_type": "markdown",
   "metadata": {
    "deletable": false,
    "editable": false,
    "nbgrader": {
     "cell_type": "markdown",
     "checksum": "6c99759a0ca11680f487af8069bc4e3d",
     "grade": false,
     "grade_id": "cell-8b82deb2dd980d57",
     "locked": true,
     "schema_version": 3,
     "solution": false,
     "task": false
    }
   },
   "source": [
    "You don't need to remove the columns from train and test partitions as you won't be able to re-train the pipeline without modifying the VectorAssemble. You simply need to indicate the columns you want to use when creating a new `vectorAssembler2`:"
   ]
  },
  {
   "cell_type": "code",
   "execution_count": 40,
   "metadata": {
    "deletable": false,
    "nbgrader": {
     "cell_type": "code",
     "checksum": "f2e765a19df205df05c2bfa10a68ceea",
     "grade": true,
     "grade_id": "cell-9452a5dfa044d94e",
     "locked": false,
     "points": 0,
     "schema_version": 3,
     "solution": true,
     "task": false
    }
   },
   "outputs": [
    {
     "name": "stdout",
     "output_type": "stream",
     "text": [
      "['RH_2', 'T3', 'RH_3', 'dayofyear', 'hour']\n"
     ]
    }
   ],
   "source": [
    "# <FILL-IN WITH YOUR CODE>\n",
    "feature_cols = [col for col in df.columns if col != 'Appliances' and col not in to_remove]\n",
    "assembler2 = VectorAssembler(inputCols=feature_cols, outputCol='features')\n",
    "print(feature_cols)"
   ]
  },
  {
   "cell_type": "markdown",
   "metadata": {
    "deletable": false,
    "editable": false,
    "nbgrader": {
     "cell_type": "markdown",
     "checksum": "a33293e5f47ea37aba1f604d7b2ff33b",
     "grade": false,
     "grade_id": "cell-b545a033a4bed177",
     "locked": true,
     "schema_version": 3,
     "solution": false,
     "task": false
    }
   },
   "source": [
    "and create a new pipeline, `pipeline2`, with that new `vectorAssemble2`: "
   ]
  },
  {
   "cell_type": "code",
   "execution_count": 41,
   "metadata": {
    "deletable": false,
    "nbgrader": {
     "cell_type": "code",
     "checksum": "76db7fbdde7bf0e9a426ffcdb1ec7040",
     "grade": true,
     "grade_id": "cell-d4a3e8633542f9e6",
     "locked": false,
     "points": 0,
     "schema_version": 3,
     "solution": true,
     "task": false
    }
   },
   "outputs": [],
   "source": [
    "# <FILL-IN WITH YOUR CODE>\n",
    "pipline2 = Pipeline(stages=[assembler2, cv])"
   ]
  },
  {
   "cell_type": "markdown",
   "metadata": {
    "deletable": false,
    "editable": false,
    "nbgrader": {
     "cell_type": "markdown",
     "checksum": "f076896e775194a1828f8508640bfa43",
     "grade": false,
     "grade_id": "cell-29d90e5cdfccfd71",
     "locked": true,
     "schema_version": 3,
     "solution": false,
     "task": false
    }
   },
   "source": [
    "And `fit` the new pipeline:"
   ]
  },
  {
   "cell_type": "code",
   "execution_count": 42,
   "metadata": {
    "deletable": false,
    "nbgrader": {
     "cell_type": "code",
     "checksum": "23057298ae3e9fd642b3ae25efc2145f",
     "grade": true,
     "grade_id": "cell-45887160f551fcad",
     "locked": false,
     "points": 0,
     "schema_version": 3,
     "solution": true,
     "task": false
    }
   },
   "outputs": [],
   "source": [
    "# <FILL-IN WITH YOUR CODE>\n",
    "pipline_model2 = pipline2.fit(train_df)"
   ]
  },
  {
   "cell_type": "markdown",
   "metadata": {},
   "source": [
    "Finally, make predictions and compute the error:"
   ]
  },
  {
   "cell_type": "code",
   "execution_count": 43,
   "metadata": {
    "deletable": false,
    "nbgrader": {
     "cell_type": "code",
     "checksum": "b8701482b4062335061a2eb764002993",
     "grade": true,
     "grade_id": "cell-5c708eda14fa475e",
     "locked": false,
     "points": 0,
     "schema_version": 3,
     "solution": true,
     "task": false
    }
   },
   "outputs": [
    {
     "name": "stdout",
     "output_type": "stream",
     "text": [
      "+----------+------------------+\n",
      "|Appliances|        prediction|\n",
      "+----------+------------------+\n",
      "|      10.0|51.226135393876376|\n",
      "|      10.0|58.668897768214926|\n",
      "|      20.0|  87.8012489999656|\n",
      "|      20.0|49.370262243552155|\n",
      "|      20.0|20.351317060547455|\n",
      "+----------+------------------+\n",
      "only showing top 5 rows\n",
      "\n"
     ]
    }
   ],
   "source": [
    "# <FILL-IN WITH YOUR CODE>\n",
    "predictions2 = pipline_model2.transform(test_df)\n",
    "predictions2.select('Appliances', 'prediction').show(5)\n",
    "rmse2 = evaluator.evaluate(predictions2)"
   ]
  },
  {
   "cell_type": "code",
   "execution_count": 44,
   "metadata": {},
   "outputs": [
    {
     "name": "stdout",
     "output_type": "stream",
     "text": [
      "28.97002156759338\n"
     ]
    }
   ],
   "source": [
    "print(rmse2)"
   ]
  },
  {
   "cell_type": "markdown",
   "metadata": {
    "deletable": false,
    "editable": false,
    "nbgrader": {
     "cell_type": "markdown",
     "checksum": "131d2bf7444af671154be9c460455b0b",
     "grade": false,
     "grade_id": "cell-fd71263ad7f3c709",
     "locked": true,
     "schema_version": 3,
     "solution": false,
     "task": false
    }
   },
   "source": [
    "Check the features of the best model and feature importances:"
   ]
  },
  {
   "cell_type": "code",
   "execution_count": 45,
   "metadata": {},
   "outputs": [],
   "source": [
    "cvModel2 = pipline_model2.stages[1]"
   ]
  },
  {
   "cell_type": "code",
   "execution_count": 46,
   "metadata": {},
   "outputs": [
    {
     "data": {
      "text/plain": [
       "GBTRegressionModel: uid=GBTRegressor_5342eeeb64fe, numTrees=20, numFeatures=5"
      ]
     },
     "execution_count": 46,
     "metadata": {},
     "output_type": "execute_result"
    }
   ],
   "source": [
    "cvModel2.bestModel# "
   ]
  },
  {
   "cell_type": "code",
   "execution_count": 47,
   "metadata": {},
   "outputs": [
    {
     "data": {
      "text/plain": [
       "SparseVector(5, {0: 0.2038, 1: 0.2506, 2: 0.19, 3: 0.1614, 4: 0.1942})"
      ]
     },
     "execution_count": 47,
     "metadata": {},
     "output_type": "execute_result"
    }
   ],
   "source": [
    "cvModel2.bestModel.featureImportances"
   ]
  },
  {
   "cell_type": "markdown",
   "metadata": {
    "deletable": false,
    "editable": false,
    "nbgrader": {
     "cell_type": "markdown",
     "checksum": "2edc686f1ee60293d728331abe08958d",
     "grade": false,
     "grade_id": "cell-d0777fc1ab7a64af",
     "locked": true,
     "schema_version": 3,
     "solution": false,
     "task": false
    }
   },
   "source": [
    "In my case, I got the same performance as before, but this time my model only considered 3 input features! This might not have made our model more precise (Because GBTs already ignored those features), but makes it more interpretable!"
   ]
  },
  {
   "cell_type": "markdown",
   "metadata": {},
   "source": [
    "# Improving further your model [20 marks]"
   ]
  },
  {
   "cell_type": "markdown",
   "metadata": {
    "deletable": false,
    "editable": false,
    "nbgrader": {
     "cell_type": "markdown",
     "checksum": "95987f6845ee31a2a836ffb6848a390b",
     "grade": false,
     "grade_id": "cell-ffeb040b4832b189",
     "locked": true,
     "schema_version": 3,
     "solution": false,
     "task": false
    }
   },
   "source": [
    "There might be many ways to improve the results we obtained here. \n",
    "\n",
    "A few ideas for you to think about:\n",
    "\n",
    "- Parameter tuning: I have used a relatively small set of parameters, and I haven't investigated what happened in training and test, is there overfitting of the training? would we be able to use a large number of trees?\n",
    "- The features of this dataset are numerical, are there other classifiers that may be more appropriate than GBTs?\n",
    "- We haven't really done any careful pre-processing of the data. Are there outliers or noise that might be having an impact in the results? \n",
    "- Do we need any normalisation?"
   ]
  },
  {
   "cell_type": "code",
   "execution_count": 48,
   "metadata": {},
   "outputs": [
    {
     "data": {
      "text/plain": [
       "['Appliances',\n",
       " 'lights',\n",
       " 'T1',\n",
       " 'RH_1',\n",
       " 'T2',\n",
       " 'RH_2',\n",
       " 'T3',\n",
       " 'RH_3',\n",
       " 'T4',\n",
       " 'RH_4',\n",
       " 'T5',\n",
       " 'RH_5',\n",
       " 'T6',\n",
       " 'RH_6',\n",
       " 'T7',\n",
       " 'RH_7',\n",
       " 'T8',\n",
       " 'RH_8',\n",
       " 'T9',\n",
       " 'RH_9',\n",
       " 'T_out',\n",
       " 'Press_mm_hg',\n",
       " 'RH_out',\n",
       " 'Windspeed',\n",
       " 'Visibility',\n",
       " 'Tdewpoint',\n",
       " 'rv1',\n",
       " 'rv2',\n",
       " 'dayofyear',\n",
       " 'hour']"
      ]
     },
     "execution_count": 48,
     "metadata": {},
     "output_type": "execute_result"
    }
   ],
   "source": [
    "df.columns"
   ]
  },
  {
   "cell_type": "code",
   "execution_count": 105,
   "metadata": {},
   "outputs": [
    {
     "name": "stdout",
     "output_type": "stream",
     "text": [
      "+----------+------+-----+---------+----+---------+-----+---------+---------+---------+---------+-----+---------+--------+---------+---------+----+---------+---------+-----+--------+-----------+------+---------+----------+---------+---------+---------+---------+----+-------------------------------------------------------------------+\n",
      "|Appliances|lights|T1   |RH_1     |T2  |RH_2     |T3   |RH_3     |T4       |RH_4     |T5       |RH_5 |T6       |RH_6    |T7       |RH_7     |T8  |RH_8     |T9       |RH_9 |T_out   |Press_mm_hg|RH_out|Windspeed|Visibility|Tdewpoint|rv1      |rv2      |dayofyear|hour|features                                                           |\n",
      "+----------+------+-----+---------+----+---------+-----+---------+---------+---------+---------+-----+---------+--------+---------+---------+----+---------+---------+-----+--------+-----------+------+---------+----------+---------+---------+---------+---------+----+-------------------------------------------------------------------+\n",
      "|60.0      |30.0  |19.89|47.59667 |19.2|44.79    |19.79|44.73    |19.0     |45.566666|17.166666|55.2 |7.0266666|84.25667|17.2     |41.626667|18.2|48.9     |17.033333|45.53|6.6     |733.5      |92.0  |7.0      |63.0      |5.3      |13.275434|13.275434|11       |17  |[44.790000915527344,19.790000915527344,44.72999954223633,11.0,17.0]|\n",
      "|60.0      |30.0  |19.89|46.693333|19.2|44.7225  |19.79|44.79    |19.0     |45.9925  |17.166666|55.2 |6.8333335|84.06333|17.2     |41.56    |18.2|48.863335|17.066668|45.56|6.483333|733.6      |92.0  |6.6666665|59.166668 |5.2      |18.606195|18.606195|11       |17  |[44.72249984741211,19.790000915527344,44.790000915527344,11.0,17.0]|\n",
      "|50.0      |30.0  |19.89|46.3     |19.2|44.626667|19.79|44.933334|18.926666|45.89    |17.166666|55.09|6.56     |83.15667|17.2     |41.433334|18.2|48.73    |17.0     |45.5 |6.366667|733.7      |92.0  |6.3333335|55.333332 |5.1      |28.642668|28.642668|11       |17  |[44.62666702270508,19.790000915527344,44.93333435058594,11.0,17.0] |\n",
      "|50.0      |40.0  |19.89|46.066666|19.2|44.59    |19.79|45.0     |18.89    |45.72333 |17.166666|55.09|6.4333334|83.42333|17.133333|41.29    |18.1|48.59    |17.0     |45.4 |6.25    |733.8      |92.0  |6.0      |51.5      |5.0      |45.41039 |45.41039 |11       |17  |[44.59000015258789,19.790000915527344,45.0,11.0,17.0]              |\n",
      "|60.0      |40.0  |19.89|46.333332|19.2|44.53    |19.79|45.0     |18.89    |45.53    |17.2     |55.09|6.366667 |84.89333|17.2     |41.23    |18.1|48.59    |17.0     |45.4 |6.133333|733.9      |92.0  |5.6666665|47.666668 |4.9      |10.084097|10.084097|11       |17  |[44.529998779296875,19.790000915527344,45.0,11.0,17.0]             |\n",
      "+----------+------+-----+---------+----+---------+-----+---------+---------+---------+---------+-----+---------+--------+---------+---------+----+---------+---------+-----+--------+-----------+------+---------+----------+---------+---------+---------+---------+----+-------------------------------------------------------------------+\n",
      "only showing top 5 rows\n",
      "\n"
     ]
    }
   ],
   "source": [
    "feature_vectors = assembler2.transform(df)\n",
    "feature_vectors.show(5, truncate = False)"
   ]
  },
  {
   "cell_type": "code",
   "execution_count": 106,
   "metadata": {
    "deletable": false,
    "nbgrader": {
     "cell_type": "code",
     "checksum": "9c2c3bbf137d07c19ab4af009c981563",
     "grade": true,
     "grade_id": "cell-4fe4f316d22ce863",
     "locked": false,
     "points": 0,
     "schema_version": 3,
     "solution": true,
     "task": false
    }
   },
   "outputs": [
    {
     "name": "stdout",
     "output_type": "stream",
     "text": [
      "+----------+------+-----+---------+----+---------+-----+---------+---------+---------+---------+-----+---------+--------+---------+---------+----+---------+---------+-----+--------+-----------+------+---------+----------+---------+---------+---------+---------+----+-------------------------------------------------------------------+---------------------------------------------------------------------------------+\n",
      "|Appliances|lights|T1   |RH_1     |T2  |RH_2     |T3   |RH_3     |T4       |RH_4     |T5       |RH_5 |T6       |RH_6    |T7       |RH_7     |T8  |RH_8     |T9       |RH_9 |T_out   |Press_mm_hg|RH_out|Windspeed|Visibility|Tdewpoint|rv1      |rv2      |dayofyear|hour|features                                                           |scaled_features                                                                  |\n",
      "+----------+------+-----+---------+----+---------+-----+---------+---------+---------+---------+-----+---------+--------+---------+---------+----+---------+---------+-----+--------+-----------+------+---------+----------+---------+---------+---------+---------+----+-------------------------------------------------------------------+---------------------------------------------------------------------------------+\n",
      "|60.0      |30.0  |19.89|47.59667 |19.2|44.79    |19.79|44.73    |19.0     |45.566666|17.166666|55.2 |7.0266666|84.25667|17.2     |41.626667|18.2|48.9     |17.033333|45.53|6.6     |733.5      |92.0  |7.0      |63.0      |5.3      |13.275434|13.275434|11       |17  |[44.790000915527344,19.790000915527344,44.72999954223633,11.0,17.0]|[0.6840378580703154,0.2151877952500107,0.7460663275930431,0.0,0.7391304347826086]|\n",
      "|60.0      |30.0  |19.89|46.693333|19.2|44.7225  |19.79|44.79    |19.0     |45.9925  |17.166666|55.2 |6.8333335|84.06333|17.2     |41.56    |18.2|48.863335|17.066668|45.56|6.483333|733.6      |92.0  |6.6666665|59.166668 |5.2      |18.606195|18.606195|11       |17  |[44.72249984741211,19.790000915527344,44.790000915527344,11.0,17.0]|[0.6821398058398224,0.2151877952500107,0.7488705667740178,0.0,0.7391304347826086]|\n",
      "|50.0      |30.0  |19.89|46.3     |19.2|44.626667|19.79|44.933334|18.926666|45.89    |17.166666|55.09|6.56     |83.15667|17.2     |41.433334|18.2|48.73    |17.0     |45.5 |6.366667|733.7      |92.0  |6.3333335|55.333332 |5.1      |28.642668|28.642668|11       |17  |[44.62666702270508,19.790000915527344,44.93333435058594,11.0,17.0] |[0.679445097270484,0.2151877952500107,0.7555694340246973,0.0,0.7391304347826086] |\n",
      "|50.0      |40.0  |19.89|46.066666|19.2|44.59    |19.79|45.0     |18.89    |45.72333 |17.166666|55.09|6.4333334|83.42333|17.133333|41.29    |18.1|48.59    |17.0     |45.4 |6.25    |733.8      |92.0  |6.0      |51.5      |5.0      |45.41039 |45.41039 |11       |17  |[44.59000015258789,19.790000915527344,45.0,11.0,17.0]              |[0.6784140671467486,0.2151877952500107,0.7586851364804614,0.0,0.7391304347826086]|\n",
      "|60.0      |40.0  |19.89|46.333332|19.2|44.53    |19.79|45.0     |18.89    |45.53    |17.2     |55.09|6.366667 |84.89333|17.2     |41.23    |18.1|48.59    |17.0     |45.4 |6.133333|733.9      |92.0  |5.6666665|47.666668 |4.9      |10.084097|10.084097|11       |17  |[44.529998779296875,19.790000915527344,45.0,11.0,17.0]             |[0.6767268976902114,0.2151877952500107,0.7586851364804614,0.0,0.7391304347826086]|\n",
      "+----------+------+-----+---------+----+---------+-----+---------+---------+---------+---------+-----+---------+--------+---------+---------+----+---------+---------+-----+--------+-----------+------+---------+----------+---------+---------+---------+---------+----+-------------------------------------------------------------------+---------------------------------------------------------------------------------+\n",
      "only showing top 5 rows\n",
      "\n"
     ]
    }
   ],
   "source": [
    "# <FILL-IN WITH YOUR CODE>\n",
    "#Creating the correlation matrix\n",
    "from pyspark.ml.feature import MinMaxScaler\n",
    "\n",
    "scaler = MinMaxScaler(inputCol = \"features\", outputCol = \"scaled_features\")\n",
    "scaler_model = scaler.fit(feature_vectors)\n",
    "scaled_df = scaler_model.transform(feature_vectors)\n",
    "scaled_df.show(5, truncate = False)"
   ]
  },
  {
   "cell_type": "code",
   "execution_count": 107,
   "metadata": {},
   "outputs": [
    {
     "name": "stdout",
     "output_type": "stream",
     "text": [
      "[0.4477038437508238,0.3831446727765937,0.13041124242018573,0.02641785787102675,0.012322383181370038]\n"
     ]
    }
   ],
   "source": [
    "from pyspark.ml.feature import PCA\n",
    "\n",
    "K = 5 #Number of principal components to retain\n",
    "pca = PCA(k = K, inputCol = \"scaled_features\", outputCol = \"pca_features\")\n",
    "pca_model = pca.fit(scaled_df)\n",
    "pca_data = pca_model.transform(scaled_df)\n",
    "print(pca_model.explainedVariance)"
   ]
  },
  {
   "cell_type": "code",
   "execution_count": 108,
   "metadata": {},
   "outputs": [
    {
     "name": "stdout",
     "output_type": "stream",
     "text": [
      "+----------+------+-----+---------+----+---------+-----+---------+---------+---------+---------+-----+---------+--------+---------+---------+----+---------+---------+-----+--------+-----------+------+---------+----------+---------+---------+---------+---------+----+-------------------------------------------------------------------+---------------------------------------------------------------------------------+------------------------------------------------------------------------------------------------------+\n",
      "|Appliances|lights|T1   |RH_1     |T2  |RH_2     |T3   |RH_3     |T4       |RH_4     |T5       |RH_5 |T6       |RH_6    |T7       |RH_7     |T8  |RH_8     |T9       |RH_9 |T_out   |Press_mm_hg|RH_out|Windspeed|Visibility|Tdewpoint|rv1      |rv2      |dayofyear|hour|features                                                           |scaled_features                                                                  |pca_features                                                                                          |\n",
      "+----------+------+-----+---------+----+---------+-----+---------+---------+---------+---------+-----+---------+--------+---------+---------+----+---------+---------+-----+--------+-----------+------+---------+----------+---------+---------+---------+---------+----+-------------------------------------------------------------------+---------------------------------------------------------------------------------+------------------------------------------------------------------------------------------------------+\n",
      "|60.0      |30.0  |19.89|47.59667 |19.2|44.79    |19.79|44.73    |19.0     |45.566666|17.166666|55.2 |7.0266666|84.25667|17.2     |41.626667|18.2|48.9     |17.033333|45.53|6.6     |733.5      |92.0  |7.0      |63.0      |5.3      |13.275434|13.275434|11       |17  |[44.790000915527344,19.790000915527344,44.72999954223633,11.0,17.0]|[0.6840378580703154,0.2151877952500107,0.7460663275930431,0.0,0.7391304347826086]|[-0.05264828934205627,0.6522730855777006,1.054308401782346,-0.2773235623154362,0.02087482848350636]   |\n",
      "|60.0      |30.0  |19.89|46.693333|19.2|44.7225  |19.79|44.79    |19.0     |45.9925  |17.166666|55.2 |6.8333335|84.06333|17.2     |41.56    |18.2|48.863335|17.066668|45.56|6.483333|733.6      |92.0  |6.6666665|59.166668 |5.2      |18.606195|18.606195|11       |17  |[44.72249984741211,19.790000915527344,44.790000915527344,11.0,17.0]|[0.6821398058398224,0.2151877952500107,0.7488705667740178,0.0,0.7391304347826086]|[-0.05314576028251011,0.6523470201126177,1.0553987269160272,-0.27557387043209425,0.02351361332088395] |\n",
      "|50.0      |30.0  |19.89|46.3     |19.2|44.626667|19.79|44.933334|18.926666|45.89    |17.166666|55.09|6.56     |83.15667|17.2     |41.433334|18.2|48.73    |17.0     |45.5 |6.366667|733.7      |92.0  |6.3333335|55.333332 |5.1      |28.642668|28.642668|11       |17  |[44.62666702270508,19.790000915527344,44.93333435058594,11.0,17.0] |[0.679445097270484,0.2151877952500107,0.7555694340246973,0.0,0.7391304347826086] |[-0.05442047374811103,0.6523717237555626,1.0589660754036747,-0.27267839748011385,0.028935885278150823]|\n",
      "|50.0      |40.0  |19.89|46.066666|19.2|44.59    |19.79|45.0     |18.89    |45.72333 |17.166666|55.09|6.4333334|83.42333|17.133333|41.29    |18.1|48.59    |17.0     |45.4 |6.25    |733.8      |92.0  |6.0      |51.5      |5.0      |45.41039 |45.41039 |11       |17  |[44.59000015258789,19.790000915527344,45.0,11.0,17.0]              |[0.6784140671467486,0.2151877952500107,0.7586851364804614,0.0,0.7391304347826086]|[-0.055023788467094006,0.6523648541948002,1.060741632138462,-0.27148689501601636,0.03135131675668608] |\n",
      "|60.0      |40.0  |19.89|46.333332|19.2|44.53    |19.79|45.0     |18.89    |45.53    |17.2     |55.09|6.366667 |84.89333|17.2     |41.23    |18.1|48.59    |17.0     |45.4 |6.133333|733.9      |92.0  |5.6666665|47.666668 |4.9      |10.084097|10.084097|11       |17  |[44.529998779296875,19.790000915527344,45.0,11.0,17.0]             |[0.6767268976902114,0.2151877952500107,0.7586851364804614,0.0,0.7391304347826086]|[-0.05494459793539502,0.6525041934599025,1.0598585816845163,-0.27030894440711906,0.032159715459521745]|\n",
      "+----------+------+-----+---------+----+---------+-----+---------+---------+---------+---------+-----+---------+--------+---------+---------+----+---------+---------+-----+--------+-----------+------+---------+----------+---------+---------+---------+---------+----+-------------------------------------------------------------------+---------------------------------------------------------------------------------+------------------------------------------------------------------------------------------------------+\n",
      "only showing top 5 rows\n",
      "\n"
     ]
    }
   ],
   "source": [
    "pca_data.show(5, truncate = False)"
   ]
  },
  {
   "cell_type": "code",
   "execution_count": 109,
   "metadata": {},
   "outputs": [],
   "source": [
    "from pyspark.ml.regression import RandomForestRegressor\n",
    "\n",
    "rf = RandomForestRegressor(labelCol = \"Appliances\", featuresCol = \"pca_features\")"
   ]
  },
  {
   "cell_type": "code",
   "execution_count": 115,
   "metadata": {},
   "outputs": [],
   "source": [
    "paramGrid3 = ParamGridBuilder() \\\n",
    "    .addGrid(rf.numTrees, [5, 50]) \\\n",
    "    .addGrid(rf.maxDepth, [5, 25]) \\\n",
    "    .build()"
   ]
  },
  {
   "cell_type": "code",
   "execution_count": 111,
   "metadata": {},
   "outputs": [],
   "source": [
    "evaluator3 = RegressionEvaluator(metricName='mae', labelCol='Appliances', predictionCol='prediction')"
   ]
  },
  {
   "cell_type": "code",
   "execution_count": 116,
   "metadata": {},
   "outputs": [],
   "source": [
    "cv3 = CrossValidator(estimator=rf, estimatorParamMaps=paramGrid3, evaluator=evaluator3, numFolds=10)\n",
    "pipeline3 = Pipeline(stages=[assembler2, scaler_model, pca_model, cv3])\n",
    "pipeline_model3 = pipeline3.fit(train_df)"
   ]
  },
  {
   "cell_type": "code",
   "execution_count": 117,
   "metadata": {},
   "outputs": [],
   "source": [
    "predictions = pipeline_model3.transform(test_df)"
   ]
  },
  {
   "cell_type": "code",
   "execution_count": 118,
   "metadata": {},
   "outputs": [
    {
     "name": "stdout",
     "output_type": "stream",
     "text": [
      "+----------+------------------+\n",
      "|Appliances|        prediction|\n",
      "+----------+------------------+\n",
      "|      10.0| 23.15309523809524|\n",
      "|      10.0|27.082380952380955|\n",
      "|      20.0| 51.04395648211438|\n",
      "|      20.0| 34.64246031746032|\n",
      "|      20.0| 37.06333333333333|\n",
      "+----------+------------------+\n",
      "only showing top 5 rows\n",
      "\n"
     ]
    }
   ],
   "source": [
    "predictions.select('Appliances', 'prediction').show(5)"
   ]
  },
  {
   "cell_type": "code",
   "execution_count": 119,
   "metadata": {},
   "outputs": [],
   "source": [
    "rmse = evaluator.evaluate(predictions)"
   ]
  },
  {
   "cell_type": "code",
   "execution_count": 120,
   "metadata": {},
   "outputs": [
    {
     "name": "stdout",
     "output_type": "stream",
     "text": [
      "19.257284453267882\n"
     ]
    }
   ],
   "source": [
    "print(rmse)"
   ]
  }
 ],
 "metadata": {
  "anaconda-cloud": {},
  "kernelspec": {
   "display_name": "Python 3 (ipykernel)",
   "language": "python",
   "name": "python3"
  },
  "language_info": {
   "codemirror_mode": {
    "name": "ipython",
    "version": 3
   },
   "file_extension": ".py",
   "mimetype": "text/x-python",
   "name": "python",
   "nbconvert_exporter": "python",
   "pygments_lexer": "ipython3",
   "version": "3.9.12"
  },
  "name": "MLPipeline Bike Dataset",
  "notebookId": 3638908530782568
 },
 "nbformat": 4,
 "nbformat_minor": 1
}
