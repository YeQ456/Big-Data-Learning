{
 "cells": [
  {
   "cell_type": "markdown",
   "metadata": {
    "deletable": false,
    "editable": false,
    "nbgrader": {
     "cell_type": "markdown",
     "checksum": "f0adc4065b1b8db86b577781b2de5fef",
     "grade": false,
     "grade_id": "cell-12059b68c07e81bd",
     "locked": true,
     "schema_version": 3,
     "solution": false,
     "task": false
    }
   },
   "source": [
    "# Spark MLlib\n",
    "## Lab assignment: Example with the MLlib\n",
    "\n",
    "The aim of this notebook is to play with the MLlib of Apache Spark to create a Machine Learning pipeline that preprocess a dataset, train a model and make predictions. In particular, we are going to deal with a regression problem. The content of this lab has been inspired by the sample provided in the [DataBricks documentation](https://databricks-prod-cloudfront.cloud.databricks.com/public/4027ec902e239c93eaaa8714f173bcfc/2854662143668609/2084788691983918/6837869239396014/latest.html).\n",
    "\n",
    "\n",
    "## Appliances Energy Prediction\n",
    "\n",
    "**Data**: This dataset contains Energy consumption from appliances at 10 min resolution for about 4.5 months. The house temperature and humidity conditions were monitored with a wireless sensor network. Each wireless node transmitted the temperature and humidity conditions around 3.3 min. Then, the wireless data was averaged for 10 minutes periods. The energy data was logged every 10 minutes. Weather from the nearest airport weather station (Chievres Airport, Belgium) was also logged. This dataset is from [Candanedo et al](http://dx.doi.org/10.1016/j.enbuild.2017.01.083) and is hosted by the UCI Machine Learning Repository. [UCI Machine Learning Repository](http://archive.ics.uci.edu/ml/datasets/Appliances+energy+prediction).\n",
    "\n",
    "\n",
    "**Goal**: We want to learn to predict appliances' energy consumption based on weather information. It would also be nice to know which input features are the most relevant to make predictions.\n",
    "\n",
    "**Approach**: We will use Spark ML Pipelines, which help users piece together parts of a workflow such as feature processing and model training. We will also demonstrate model selection (a.k.a. hyperparameter tuning) using Cross Validation in order to fine-tune and improve our ML model."
   ]
  },
  {
   "cell_type": "markdown",
   "metadata": {},
   "source": [
    "## Submission and marking criteria\n",
    "\n",
    "You should complete this notebook and add your solutions to it. When you are done, rename your completed notebook as `ex04.ipynb`. \n",
    "\n",
    "Important notes:\n",
    "- The **group leader** must submit the `ex04.ipynb` file on Moodle.\n",
    "- **Each member of the group** must complete the peer review survey and their contribution statement using this [link](https://forms.office.com/Pages/ResponsePage.aspx?id=7qe9Z4D970GskTWEGCkKHjZupmfSK6JKqlvGZrucaoBURFJJWllYWVhQS09PMFNBVzlCT05JUjM4VCQlQCN0PWcu). **You can only submit this survey ONCE**.\n",
    "- This lab is marked out of 100 marks, and each section is allocated a number of marks that are indicated below.\n",
    "- The marking will be focused on the efficiency of the solution and its functionality. Minor mistakes will deduct marks from each exercise.\n",
    "\n",
    "- **Submission deadline: 8th April 2024 at 3pm**"
   ]
  },
  {
   "cell_type": "markdown",
   "metadata": {
    "deletable": false,
    "editable": false,
    "nbgrader": {
     "cell_type": "markdown",
     "checksum": "cf2627390795c147f1b0b52a2fda98d5",
     "grade": false,
     "grade_id": "cell-a106ca0b67125ec8",
     "locked": true,
     "schema_version": 3,
     "solution": false,
     "task": false
    }
   },
   "source": [
    "The first thing we need to do to start working with Spark is to initialize the `SparkSession`. We will also import a few libraries we will use. *Remember if you are using Databricks that `spark` and `sc` are already available to you and don't need initializing.* "
   ]
  },
  {
   "cell_type": "code",
   "execution_count": 2,
   "metadata": {
    "ExecuteTime": {
     "end_time": "2024-03-31T10:11:58.285676300Z",
     "start_time": "2024-03-31T10:11:57.682544600Z"
    }
   },
   "outputs": [],
   "source": [
    "from pyspark.sql import SparkSession\n",
    "\n",
    "spark = SparkSession \\\n",
    "    .builder \\\n",
    "    .master(\"local[*]\") \\\n",
    "    .appName(\"MLlib lab\") \\\n",
    "    .getOrCreate()\n",
    "\n",
    "sc = spark.sparkContext"
   ]
  },
  {
   "cell_type": "code",
   "execution_count": 3,
   "metadata": {
    "ExecuteTime": {
     "end_time": "2024-03-31T10:12:00.315629500Z",
     "start_time": "2024-03-31T10:11:59.785326200Z"
    }
   },
   "outputs": [],
   "source": [
    "%matplotlib inline \n",
    "import matplotlib.pyplot as plt\n",
    "import pyspark.sql.functions as F\n",
    "from pyspark.sql import Row\n",
    "\n",
    "# Helper function to test the correctness of the solutions\n",
    "def test(var, val, msg=\"\"):\n",
    "    print(\"1 test passed.\") if var == val else print(\"1 test failed. \" + msg)"
   ]
  },
  {
   "cell_type": "markdown",
   "metadata": {
    "deletable": false,
    "editable": false,
    "nbgrader": {
     "cell_type": "markdown",
     "checksum": "632d5f2de7960dfc5d178a675e8e7499",
     "grade": false,
     "grade_id": "cell-8937897c4473abfa",
     "locked": true,
     "schema_version": 3,
     "solution": false,
     "task": false
    }
   },
   "source": [
    "## Load and understand the data  [10 marks]\n",
    "\n",
    "We begin by loading the data, which is in Comma-Separated Value (CSV) format. For that, you should use `spark.read` to read the file. Then, you should also cache the data so that we only read it from disk once."
   ]
  },
  {
   "cell_type": "code",
   "execution_count": 6,
   "metadata": {
    "deletable": false,
    "nbgrader": {
     "cell_type": "code",
     "checksum": "6152d43a83ada31996ee66e1f65cc4a8",
     "grade": false,
     "grade_id": "cell-3aadc724e217ea88",
     "locked": false,
     "schema_version": 3,
     "solution": true,
     "task": false
    },
    "ExecuteTime": {
     "end_time": "2024-03-31T10:17:00.462559900Z",
     "start_time": "2024-03-31T10:16:58.470562300Z"
    }
   },
   "outputs": [
    {
     "data": {
      "text/plain": "DataFrame[date: string, Appliances: string, lights: string, T1: string, RH_1: string, T2: string, RH_2: string, T3: string, RH_3: string, T4: string, RH_4: string, T5: string, RH_5: string, T6: string, RH_6: string, T7: string, RH_7: string, T8: string, RH_8: string, T9: string, RH_9: string, T_out: string, Press_mm_hg: string, RH_out: string, Windspeed: string, Visibility: string, Tdewpoint: string, rv1: string, rv2: string]"
     },
     "execution_count": 6,
     "metadata": {},
     "output_type": "execute_result"
    }
   ],
   "source": [
    "# <FILL-IN WITH YOUR CODE>\n",
    "df = spark.read.format(\"csv\").option(\"header\", \"true\").load(\"data/energydata_complete.csv\")\n",
    "# Cache your DataFrame\n",
    "# <FILL-IN WITH YOUR CODE>\n",
    "df.cache()"
   ]
  },
  {
   "cell_type": "code",
   "execution_count": 7,
   "metadata": {
    "deletable": false,
    "editable": false,
    "nbgrader": {
     "cell_type": "code",
     "checksum": "d7d9cebbd79c647f5e4c382bedb3ea68",
     "grade": true,
     "grade_id": "cell-28b65c981c65a16d",
     "locked": true,
     "points": 0,
     "schema_version": 3,
     "solution": false,
     "task": false
    },
    "ExecuteTime": {
     "end_time": "2024-03-31T10:17:06.057854800Z",
     "start_time": "2024-03-31T10:17:05.226038900Z"
    }
   },
   "outputs": [
    {
     "name": "stdout",
     "output_type": "stream",
     "text": [
      "1 test passed.\n",
      "1 test passed.\n"
     ]
    }
   ],
   "source": [
    "test(df.count(), 19735, 'Incorrect number of rows')\n",
    "test(df.is_cached, True, 'df not cached')"
   ]
  },
  {
   "cell_type": "markdown",
   "metadata": {
    "deletable": false,
    "editable": false,
    "nbgrader": {
     "cell_type": "markdown",
     "checksum": "0bf8ff1c31febe73356ef34d9909c796",
     "grade": false,
     "grade_id": "cell-c8a8f77c243d18c0",
     "locked": true,
     "schema_version": 3,
     "solution": false,
     "task": false
    }
   },
   "source": [
    "#### Data description\n",
    "\n",
    "From the UCI ML Repository description, we know that the columns have the following meanings.\n",
    "\n",
    "**Attribute information**:\n",
    "```\n",
    "date time year-month-day hour:minute:second\n",
    "Appliances, energy use in Wh\n",
    "lights, energy use of light fixtures in the house in Wh\n",
    "T1, Temperature in kitchen area, in Celsius\n",
    "RH_1, Humidity in kitchen area, in %\n",
    "T2, Temperature in living room area, in Celsius\n",
    "RH_2, Humidity in living room area, in %\n",
    "T3, Temperature in laundry room area\n",
    "RH_3, Humidity in laundry room area, in %\n",
    "T4, Temperature in office room, in Celsius\n",
    "RH_4, Humidity in office room, in %\n",
    "T5, Temperature in bathroom, in Celsius\n",
    "RH_5, Humidity in bathroom, in %\n",
    "T6, Temperature outside the building (north side), in Celsius\n",
    "RH_6, Humidity outside the building (north side), in %\n",
    "T7, Temperature in ironing room , in Celsius\n",
    "RH_7, Humidity in ironing room, in %\n",
    "T8, Temperature in teenager room 2, in Celsius\n",
    "RH_8, Humidity in teenager room 2, in %\n",
    "T9, Temperature in parents room, in Celsius\n",
    "RH_9, Humidity in parents room, in %\n",
    "To, Temperature outside (from Chievres weather station), in Celsius\n",
    "Pressure (from Chievres weather station), in mm Hg\n",
    "RH_out, Humidity outside (from Chievres weather station), in %\n",
    "Wind speed (from Chievres weather station), in m/s\n",
    "Visibility (from Chievres weather station), in km\n",
    "Tdewpoint (from Chievres weather station), Â°C\n",
    "rv1, Random variable 1, nondimensional\n",
    "rv2, Random variable 2, nondimensional\n",
    "```\n",
    "\n",
    "**The target variable is the energy use of the Appliances.**\n",
    "\n",
    "For now, we will leave the two variables `rv1` and `rv2` in our dataset, to see if they are affecting much our methods, then we can try to remove them and see if we improve the results."
   ]
  },
  {
   "cell_type": "markdown",
   "metadata": {
    "deletable": false,
    "editable": false,
    "nbgrader": {
     "cell_type": "markdown",
     "checksum": "88d022c810ed35b8e96cbf869d6e7f7b",
     "grade": false,
     "grade_id": "cell-5c3b6f3c781e12af",
     "locked": true,
     "schema_version": 3,
     "solution": false,
     "task": false
    }
   },
   "source": [
    "Use `show` to visualise the data. Be careful not to show the entire data frame :-), only 5 rows!"
   ]
  },
  {
   "cell_type": "code",
   "execution_count": 25,
   "metadata": {
    "deletable": false,
    "nbgrader": {
     "cell_type": "code",
     "checksum": "878e1d8e3b57f231ba0b3d5f11fcf209",
     "grade": false,
     "grade_id": "cell-0bc3c84df797cc37",
     "locked": false,
     "schema_version": 3,
     "solution": true,
     "task": false
    },
    "ExecuteTime": {
     "end_time": "2024-03-31T10:31:54.867194Z",
     "start_time": "2024-03-31T10:31:54.805230Z"
    }
   },
   "outputs": [
    {
     "name": "stdout",
     "output_type": "stream",
     "text": [
      "+-------------------+----------+------+------------------+------------------+------------------+------------------+------------------+------------------+------------------+------------------+------------------+------------------+--------------------+-------------------+------------------+------------------+------------------+------------------+------------------+------------------+--------------------+------------------+-------------------+--------------------+-------------------+--------------------+--------------------+--------------------+-------------------+---------+----+-----+\n",
      "|               date|Appliances|lights|                T1|              RH_1|                T2|              RH_2|                T3|              RH_3|                T4|              RH_4|                T5|              RH_5|                  T6|               RH_6|                T7|              RH_7|                T8|              RH_8|                T9|              RH_9|               T_out|       Press_mm_hg|             RH_out|           Windspeed|         Visibility|           Tdewpoint|                 rv1|                 rv2|          timestamp|dayofyear|hour|month|\n",
      "+-------------------+----------+------+------------------+------------------+------------------+------------------+------------------+------------------+------------------+------------------+------------------+------------------+--------------------+-------------------+------------------+------------------+------------------+------------------+------------------+------------------+--------------------+------------------+-------------------+--------------------+-------------------+--------------------+--------------------+--------------------+-------------------+---------+----+-----+\n",
      "|2016-01-11 17:00:00|        60|    30|19.890000000000001|47.596666666666700|19.199999999999999|44.789999999999999|19.789999999999999|44.729999999999997|19.000000000000000|45.566666666666698|17.166666666666700|55.200000000000003| 7.02666666666666...|84.2566666666667032|17.199999999999999|41.626666666666701|18.199999999999999|48.899999999999999|17.033333333333299|45.530000000000001| 6.59999999999999...|733.50000000000000| 92.000000000000000| 7.00000000000000000|63.0000000000000000| 5.29999999999999...|13.27543315710499...|13.27543315710499...|2016-01-11 17:00:00|       11|  17|    1|\n",
      "|2016-01-11 17:10:00|        60|    30|19.890000000000001|46.693333333333300|19.199999999999999|44.722499999999997|19.789999999999999|44.789999999999999|19.000000000000000|45.992500000000000|17.166666666666700|55.200000000000003| 6.83333333333333...|84.0633333333333042|17.199999999999999|41.560000000000002|18.199999999999999|48.863333333333301|17.066666666666698|45.560000000000002| 6.48333333333332...|733.60000000000002| 92.000000000000000| 6.66666666666666963|59.1666666666666998| 5.20000000000000...|18.60619498183950...|18.60619498183950...|2016-01-11 17:10:00|       11|  17|    1|\n",
      "|2016-01-11 17:20:00|        50|    30|19.890000000000001|46.299999999999997|19.199999999999999|44.626666666666701|19.789999999999999|44.933333333333302|18.926666666666701|45.890000000000001|17.166666666666700|55.090000000000003| 6.55999999999999...|83.1566666666666947|17.199999999999999|41.433333333333302|18.199999999999999|48.729999999999997|17.000000000000000|45.500000000000000| 6.36666666666666...|733.70000000000005| 92.000000000000000| 6.33333333333333037|55.3333333333333002| 5.09999999999999...|28.64266816759482...|28.64266816759482...|2016-01-11 17:20:00|       11|  17|    1|\n",
      "|2016-01-11 17:30:00|        50|    40|19.890000000000001|46.066666666666698|19.199999999999999|44.590000000000003|19.789999999999999|45.000000000000000|18.890000000000001|45.723333333333301|17.166666666666700|55.090000000000003| 6.43333333333333...|83.4233333333333036|17.133333333333301|41.289999999999999|18.100000000000001|48.590000000000003|17.000000000000000|45.399999999999999| 6.25000000000000...|733.79999999999995| 92.000000000000000| 6.00000000000000000|51.5000000000000000| 5.00000000000000...|45.41038949973881...|45.41038949973881...|2016-01-11 17:30:00|       11|  17|    1|\n",
      "|2016-01-11 17:40:00|        60|    40|19.890000000000001|46.333333333333300|19.199999999999999|44.530000000000001|19.789999999999999|45.000000000000000|18.890000000000001|45.530000000000001|17.199999999999999|55.090000000000003| 6.36666666666666...|84.8933333333333024|17.199999999999999|41.229999999999997|18.100000000000001|48.590000000000003|17.000000000000000|45.399999999999999| 6.13333333333333...|733.89999999999998| 92.000000000000000| 5.66666666666666963|47.6666666666666998| 4.90000000000000...|10.08409655187278...|10.08409655187278...|2016-01-11 17:40:00|       11|  17|    1|\n",
      "+-------------------+----------+------+------------------+------------------+------------------+------------------+------------------+------------------+------------------+------------------+------------------+------------------+--------------------+-------------------+------------------+------------------+------------------+------------------+------------------+------------------+--------------------+------------------+-------------------+--------------------+-------------------+--------------------+--------------------+--------------------+-------------------+---------+----+-----+\n"
     ]
    }
   ],
   "source": [
    "# <FILL-IN WITH YOUR CODE>\n",
    "df.show(5)"
   ]
  },
  {
   "cell_type": "markdown",
   "metadata": {
    "deletable": false,
    "editable": false,
    "nbgrader": {
     "cell_type": "markdown",
     "checksum": "05cd3b9f24849db9e42ef79841c0e720",
     "grade": false,
     "grade_id": "cell-6a7113523db1a125",
     "locked": true,
     "schema_version": 3,
     "solution": false,
     "task": false
    }
   },
   "source": [
    "# Data preprocessing [10 marks]"
   ]
  },
  {
   "cell_type": "markdown",
   "metadata": {
    "deletable": false,
    "editable": false,
    "nbgrader": {
     "cell_type": "markdown",
     "checksum": "970010c7e6d30c24b9ca1ad857187d49",
     "grade": false,
     "grade_id": "cell-74870c89983edfb6",
     "locked": true,
     "schema_version": 3,
     "solution": false,
     "task": false
    }
   },
   "source": [
    "This dataset is nicely prepared for Machine Learning and required very little preprocessing. However, rather than keeping the date as a timestamp, we would like to have some additional columns, including 'day of the year', 'hour', and 'month of the year'. Please use the naming `dayofyear`, `hour` and `month`, respectively.\n",
    "\n",
    "**Hint**: Of course the SparkSQL library has a function to transform strings with datetime!\n",
    "\n",
    "Would you like to have any other information from the datetime? Feel free to add other features."
   ]
  },
  {
   "cell_type": "code",
   "execution_count": 27,
   "metadata": {
    "deletable": false,
    "nbgrader": {
     "cell_type": "code",
     "checksum": "07e65cfc87797b262029012fc92ea89a",
     "grade": false,
     "grade_id": "cell-1f648a6d01eb2952",
     "locked": false,
     "schema_version": 3,
     "solution": true,
     "task": false
    },
    "ExecuteTime": {
     "end_time": "2024-03-31T10:33:20.135507400Z",
     "start_time": "2024-03-31T10:33:20.060747600Z"
    }
   },
   "outputs": [
    {
     "name": "stdout",
     "output_type": "stream",
     "text": [
      "+-------------------+----------+------+------------------+------------------+------------------+------------------+------------------+------------------+------------------+------------------+------------------+------------------+--------------------+-------------------+------------------+------------------+------------------+------------------+------------------+------------------+--------------------+------------------+-------------------+--------------------+-------------------+--------------------+--------------------+--------------------+---------+----+-----+\n",
      "|               date|Appliances|lights|                T1|              RH_1|                T2|              RH_2|                T3|              RH_3|                T4|              RH_4|                T5|              RH_5|                  T6|               RH_6|                T7|              RH_7|                T8|              RH_8|                T9|              RH_9|               T_out|       Press_mm_hg|             RH_out|           Windspeed|         Visibility|           Tdewpoint|                 rv1|                 rv2|dayofyear|hour|month|\n",
      "+-------------------+----------+------+------------------+------------------+------------------+------------------+------------------+------------------+------------------+------------------+------------------+------------------+--------------------+-------------------+------------------+------------------+------------------+------------------+------------------+------------------+--------------------+------------------+-------------------+--------------------+-------------------+--------------------+--------------------+--------------------+---------+----+-----+\n",
      "|2016-01-11 17:00:00|        60|    30|19.890000000000001|47.596666666666700|19.199999999999999|44.789999999999999|19.789999999999999|44.729999999999997|19.000000000000000|45.566666666666698|17.166666666666700|55.200000000000003| 7.02666666666666...|84.2566666666667032|17.199999999999999|41.626666666666701|18.199999999999999|48.899999999999999|17.033333333333299|45.530000000000001| 6.59999999999999...|733.50000000000000| 92.000000000000000| 7.00000000000000000|63.0000000000000000| 5.29999999999999...|13.27543315710499...|13.27543315710499...|       11|  17|    1|\n",
      "|2016-01-11 17:10:00|        60|    30|19.890000000000001|46.693333333333300|19.199999999999999|44.722499999999997|19.789999999999999|44.789999999999999|19.000000000000000|45.992500000000000|17.166666666666700|55.200000000000003| 6.83333333333333...|84.0633333333333042|17.199999999999999|41.560000000000002|18.199999999999999|48.863333333333301|17.066666666666698|45.560000000000002| 6.48333333333332...|733.60000000000002| 92.000000000000000| 6.66666666666666963|59.1666666666666998| 5.20000000000000...|18.60619498183950...|18.60619498183950...|       11|  17|    1|\n",
      "|2016-01-11 17:20:00|        50|    30|19.890000000000001|46.299999999999997|19.199999999999999|44.626666666666701|19.789999999999999|44.933333333333302|18.926666666666701|45.890000000000001|17.166666666666700|55.090000000000003| 6.55999999999999...|83.1566666666666947|17.199999999999999|41.433333333333302|18.199999999999999|48.729999999999997|17.000000000000000|45.500000000000000| 6.36666666666666...|733.70000000000005| 92.000000000000000| 6.33333333333333037|55.3333333333333002| 5.09999999999999...|28.64266816759482...|28.64266816759482...|       11|  17|    1|\n",
      "|2016-01-11 17:30:00|        50|    40|19.890000000000001|46.066666666666698|19.199999999999999|44.590000000000003|19.789999999999999|45.000000000000000|18.890000000000001|45.723333333333301|17.166666666666700|55.090000000000003| 6.43333333333333...|83.4233333333333036|17.133333333333301|41.289999999999999|18.100000000000001|48.590000000000003|17.000000000000000|45.399999999999999| 6.25000000000000...|733.79999999999995| 92.000000000000000| 6.00000000000000000|51.5000000000000000| 5.00000000000000...|45.41038949973881...|45.41038949973881...|       11|  17|    1|\n",
      "|2016-01-11 17:40:00|        60|    40|19.890000000000001|46.333333333333300|19.199999999999999|44.530000000000001|19.789999999999999|45.000000000000000|18.890000000000001|45.530000000000001|17.199999999999999|55.090000000000003| 6.36666666666666...|84.8933333333333024|17.199999999999999|41.229999999999997|18.100000000000001|48.590000000000003|17.000000000000000|45.399999999999999| 6.13333333333333...|733.89999999999998| 92.000000000000000| 5.66666666666666963|47.6666666666666998| 4.90000000000000...|10.08409655187278...|10.08409655187278...|       11|  17|    1|\n",
      "+-------------------+----------+------+------------------+------------------+------------------+------------------+------------------+------------------+------------------+------------------+------------------+------------------+--------------------+-------------------+------------------+------------------+------------------+------------------+------------------+------------------+--------------------+------------------+-------------------+--------------------+-------------------+--------------------+--------------------+--------------------+---------+----+-----+\n"
     ]
    }
   ],
   "source": [
    "# <FILL-IN WITH YOUR CODE>\n",
    "from pyspark.sql.functions import col, dayofyear, hour, month\n",
    "\n",
    "df = df.withColumn(\"dayofyear\", dayofyear(col(\"date\")))\n",
    "df = df.withColumn(\"hour\", hour(col(\"date\")))\n",
    "df = df.withColumn(\"month\", month(col(\"date\")))\n",
    "df.show(5)\n"
   ]
  },
  {
   "cell_type": "markdown",
   "metadata": {
    "deletable": false,
    "editable": false,
    "nbgrader": {
     "cell_type": "markdown",
     "checksum": "a237d70ebe45116a4ab9989acab8793a",
     "grade": false,
     "grade_id": "cell-2561535e29742ef2",
     "locked": true,
     "schema_version": 3,
     "solution": false,
     "task": false
    }
   },
   "source": [
    "When you dataframe `df` has the additional columns, please remove the column `date`:"
   ]
  },
  {
   "cell_type": "code",
   "execution_count": 28,
   "metadata": {
    "deletable": false,
    "nbgrader": {
     "cell_type": "code",
     "checksum": "dd69e01e8acc0c2713da407a568d68ec",
     "grade": false,
     "grade_id": "cell-96bed972cec4c7a1",
     "locked": false,
     "schema_version": 3,
     "solution": true,
     "task": false
    },
    "ExecuteTime": {
     "end_time": "2024-03-31T10:33:44.148510600Z",
     "start_time": "2024-03-31T10:33:44.083535600Z"
    }
   },
   "outputs": [
    {
     "name": "stdout",
     "output_type": "stream",
     "text": [
      "+----------+------+------------------+------------------+------------------+------------------+------------------+------------------+------------------+------------------+------------------+------------------+--------------------+-------------------+------------------+------------------+------------------+------------------+------------------+------------------+--------------------+------------------+-------------------+--------------------+-------------------+--------------------+--------------------+--------------------+---------+----+-----+\n",
      "|Appliances|lights|                T1|              RH_1|                T2|              RH_2|                T3|              RH_3|                T4|              RH_4|                T5|              RH_5|                  T6|               RH_6|                T7|              RH_7|                T8|              RH_8|                T9|              RH_9|               T_out|       Press_mm_hg|             RH_out|           Windspeed|         Visibility|           Tdewpoint|                 rv1|                 rv2|dayofyear|hour|month|\n",
      "+----------+------+------------------+------------------+------------------+------------------+------------------+------------------+------------------+------------------+------------------+------------------+--------------------+-------------------+------------------+------------------+------------------+------------------+------------------+------------------+--------------------+------------------+-------------------+--------------------+-------------------+--------------------+--------------------+--------------------+---------+----+-----+\n",
      "|        60|    30|19.890000000000001|47.596666666666700|19.199999999999999|44.789999999999999|19.789999999999999|44.729999999999997|19.000000000000000|45.566666666666698|17.166666666666700|55.200000000000003| 7.02666666666666...|84.2566666666667032|17.199999999999999|41.626666666666701|18.199999999999999|48.899999999999999|17.033333333333299|45.530000000000001| 6.59999999999999...|733.50000000000000| 92.000000000000000| 7.00000000000000000|63.0000000000000000| 5.29999999999999...|13.27543315710499...|13.27543315710499...|       11|  17|    1|\n",
      "|        60|    30|19.890000000000001|46.693333333333300|19.199999999999999|44.722499999999997|19.789999999999999|44.789999999999999|19.000000000000000|45.992500000000000|17.166666666666700|55.200000000000003| 6.83333333333333...|84.0633333333333042|17.199999999999999|41.560000000000002|18.199999999999999|48.863333333333301|17.066666666666698|45.560000000000002| 6.48333333333332...|733.60000000000002| 92.000000000000000| 6.66666666666666963|59.1666666666666998| 5.20000000000000...|18.60619498183950...|18.60619498183950...|       11|  17|    1|\n",
      "|        50|    30|19.890000000000001|46.299999999999997|19.199999999999999|44.626666666666701|19.789999999999999|44.933333333333302|18.926666666666701|45.890000000000001|17.166666666666700|55.090000000000003| 6.55999999999999...|83.1566666666666947|17.199999999999999|41.433333333333302|18.199999999999999|48.729999999999997|17.000000000000000|45.500000000000000| 6.36666666666666...|733.70000000000005| 92.000000000000000| 6.33333333333333037|55.3333333333333002| 5.09999999999999...|28.64266816759482...|28.64266816759482...|       11|  17|    1|\n",
      "|        50|    40|19.890000000000001|46.066666666666698|19.199999999999999|44.590000000000003|19.789999999999999|45.000000000000000|18.890000000000001|45.723333333333301|17.166666666666700|55.090000000000003| 6.43333333333333...|83.4233333333333036|17.133333333333301|41.289999999999999|18.100000000000001|48.590000000000003|17.000000000000000|45.399999999999999| 6.25000000000000...|733.79999999999995| 92.000000000000000| 6.00000000000000000|51.5000000000000000| 5.00000000000000...|45.41038949973881...|45.41038949973881...|       11|  17|    1|\n",
      "|        60|    40|19.890000000000001|46.333333333333300|19.199999999999999|44.530000000000001|19.789999999999999|45.000000000000000|18.890000000000001|45.530000000000001|17.199999999999999|55.090000000000003| 6.36666666666666...|84.8933333333333024|17.199999999999999|41.229999999999997|18.100000000000001|48.590000000000003|17.000000000000000|45.399999999999999| 6.13333333333333...|733.89999999999998| 92.000000000000000| 5.66666666666666963|47.6666666666666998| 4.90000000000000...|10.08409655187278...|10.08409655187278...|       11|  17|    1|\n",
      "+----------+------+------------------+------------------+------------------+------------------+------------------+------------------+------------------+------------------+------------------+------------------+--------------------+-------------------+------------------+------------------+------------------+------------------+------------------+------------------+--------------------+------------------+-------------------+--------------------+-------------------+--------------------+--------------------+--------------------+---------+----+-----+\n"
     ]
    }
   ],
   "source": [
    "# <FILL-IN WITH YOUR CODE>\n",
    "df=df.drop('date')\n",
    "df.show(5)"
   ]
  },
  {
   "cell_type": "code",
   "execution_count": 29,
   "metadata": {
    "deletable": false,
    "editable": false,
    "nbgrader": {
     "cell_type": "code",
     "checksum": "953bd28b595e05ed7f44ab32a6fea599",
     "grade": true,
     "grade_id": "cell-78b3ae64d5564833",
     "locked": true,
     "points": 0,
     "schema_version": 3,
     "solution": false,
     "task": false
    },
    "ExecuteTime": {
     "end_time": "2024-03-31T10:33:47.018266300Z",
     "start_time": "2024-03-31T10:33:47.009747100Z"
    }
   },
   "outputs": [
    {
     "name": "stdout",
     "output_type": "stream",
     "text": [
      "1 test passed.\n",
      "1 test passed.\n",
      "1 test passed.\n",
      "1 test passed.\n"
     ]
    }
   ],
   "source": [
    "test(\"date\" in df.columns, False, \"Column date has not been remove!\")\n",
    "test(\"hour\" in df.columns, True, \"The hour hasn't been added\")\n",
    "test(\"dayofyear\" in df.columns, True, \"The dayofyear hasn't been added\")\n",
    "test(\"month\" in df.columns, True, \"The month hasn't been added\")"
   ]
  },
  {
   "cell_type": "markdown",
   "metadata": {
    "deletable": false,
    "editable": false,
    "nbgrader": {
     "cell_type": "markdown",
     "checksum": "49da810aa91d5bc53aaa1808269c1c68",
     "grade": false,
     "grade_id": "cell-2e4f9de42e7d939c",
     "locked": true,
     "schema_version": 3,
     "solution": false,
     "task": false
    }
   },
   "source": [
    "Check the schema of your dataframe:"
   ]
  },
  {
   "cell_type": "code",
   "execution_count": 30,
   "metadata": {
    "deletable": false,
    "nbgrader": {
     "cell_type": "code",
     "checksum": "c81ba660837e2c443af0b45e2927987d",
     "grade": false,
     "grade_id": "cell-f5ee1e564ac14dff",
     "locked": false,
     "schema_version": 3,
     "solution": true,
     "task": false
    },
    "ExecuteTime": {
     "end_time": "2024-03-31T10:34:07.879825200Z",
     "start_time": "2024-03-31T10:34:07.872313100Z"
    }
   },
   "outputs": [
    {
     "name": "stdout",
     "output_type": "stream",
     "text": [
      "root\n",
      " |-- Appliances: string (nullable = true)\n",
      " |-- lights: string (nullable = true)\n",
      " |-- T1: string (nullable = true)\n",
      " |-- RH_1: string (nullable = true)\n",
      " |-- T2: string (nullable = true)\n",
      " |-- RH_2: string (nullable = true)\n",
      " |-- T3: string (nullable = true)\n",
      " |-- RH_3: string (nullable = true)\n",
      " |-- T4: string (nullable = true)\n",
      " |-- RH_4: string (nullable = true)\n",
      " |-- T5: string (nullable = true)\n",
      " |-- RH_5: string (nullable = true)\n",
      " |-- T6: string (nullable = true)\n",
      " |-- RH_6: string (nullable = true)\n",
      " |-- T7: string (nullable = true)\n",
      " |-- RH_7: string (nullable = true)\n",
      " |-- T8: string (nullable = true)\n",
      " |-- RH_8: string (nullable = true)\n",
      " |-- T9: string (nullable = true)\n",
      " |-- RH_9: string (nullable = true)\n",
      " |-- T_out: string (nullable = true)\n",
      " |-- Press_mm_hg: string (nullable = true)\n",
      " |-- RH_out: string (nullable = true)\n",
      " |-- Windspeed: string (nullable = true)\n",
      " |-- Visibility: string (nullable = true)\n",
      " |-- Tdewpoint: string (nullable = true)\n",
      " |-- rv1: string (nullable = true)\n",
      " |-- rv2: string (nullable = true)\n",
      " |-- dayofyear: integer (nullable = true)\n",
      " |-- hour: integer (nullable = true)\n",
      " |-- month: integer (nullable = true)\n"
     ]
    }
   ],
   "source": [
    "# <FILL-IN WITH YOUR CODE>\n",
    "df.printSchema()"
   ]
  },
  {
   "cell_type": "markdown",
   "metadata": {
    "deletable": false,
    "editable": false,
    "nbgrader": {
     "cell_type": "markdown",
     "checksum": "fde4e3d21705e439d696d67b156e5db4",
     "grade": false,
     "grade_id": "cell-6bb2857862d64352",
     "locked": true,
     "schema_version": 3,
     "solution": false,
     "task": false
    }
   },
   "source": [
    "Dammit, all the input features have been inferred as strings rather than numeric values. This is because we read the data from a CSV file with the data in between quotes.\n",
    "\n",
    "Your task now is to transform that into numerical values. All of the features are actually numeric, so you could cast all of them. You are recommended to use functions like `cast` and `col` to do this. You could try to leave out the datetime columns we created, but it's fine if you transform them to float."
   ]
  },
  {
   "cell_type": "code",
   "execution_count": 31,
   "metadata": {
    "deletable": false,
    "nbgrader": {
     "cell_type": "code",
     "checksum": "fc404f3266ba831cad5a3757dd1a204e",
     "grade": false,
     "grade_id": "cell-f72f135db795ec70",
     "locked": false,
     "schema_version": 3,
     "solution": true,
     "task": false
    },
    "ExecuteTime": {
     "end_time": "2024-03-31T10:35:34.335907Z",
     "start_time": "2024-03-31T10:35:34.151626200Z"
    }
   },
   "outputs": [],
   "source": [
    "# <FILL-IN WITH YOUR CODE>\n",
    "from pyspark.sql.functions import col\n",
    "\n",
    "datetime_columns = [\"timestamp\", \"dayofyear\", \"hour\", \"month\"]\n",
    "all_columns = df.columns\n",
    "\n",
    "numeric_columns = [col_name for col_name in all_columns if col_name not in datetime_columns]\n",
    "\n",
    "for col_name in numeric_columns:\n",
    "    df = df.withColumn(col_name, col(col_name).cast(\"double\"))\n"
   ]
  },
  {
   "cell_type": "code",
   "execution_count": 32,
   "metadata": {
    "deletable": false,
    "nbgrader": {
     "cell_type": "code",
     "checksum": "05cde717adfaa2f94bf219ef440e1ec9",
     "grade": false,
     "grade_id": "cell-6291c14f0a17fcf0",
     "locked": false,
     "schema_version": 3,
     "solution": true,
     "task": false
    },
    "ExecuteTime": {
     "end_time": "2024-03-31T10:35:35.609664900Z",
     "start_time": "2024-03-31T10:35:35.593781200Z"
    }
   },
   "outputs": [
    {
     "name": "stdout",
     "output_type": "stream",
     "text": [
      "root\n",
      " |-- Appliances: double (nullable = true)\n",
      " |-- lights: double (nullable = true)\n",
      " |-- T1: double (nullable = true)\n",
      " |-- RH_1: double (nullable = true)\n",
      " |-- T2: double (nullable = true)\n",
      " |-- RH_2: double (nullable = true)\n",
      " |-- T3: double (nullable = true)\n",
      " |-- RH_3: double (nullable = true)\n",
      " |-- T4: double (nullable = true)\n",
      " |-- RH_4: double (nullable = true)\n",
      " |-- T5: double (nullable = true)\n",
      " |-- RH_5: double (nullable = true)\n",
      " |-- T6: double (nullable = true)\n",
      " |-- RH_6: double (nullable = true)\n",
      " |-- T7: double (nullable = true)\n",
      " |-- RH_7: double (nullable = true)\n",
      " |-- T8: double (nullable = true)\n",
      " |-- RH_8: double (nullable = true)\n",
      " |-- T9: double (nullable = true)\n",
      " |-- RH_9: double (nullable = true)\n",
      " |-- T_out: double (nullable = true)\n",
      " |-- Press_mm_hg: double (nullable = true)\n",
      " |-- RH_out: double (nullable = true)\n",
      " |-- Windspeed: double (nullable = true)\n",
      " |-- Visibility: double (nullable = true)\n",
      " |-- Tdewpoint: double (nullable = true)\n",
      " |-- rv1: double (nullable = true)\n",
      " |-- rv2: double (nullable = true)\n",
      " |-- dayofyear: integer (nullable = true)\n",
      " |-- hour: integer (nullable = true)\n",
      " |-- month: integer (nullable = true)\n"
     ]
    }
   ],
   "source": [
    "#print the schema again.\n",
    "# <FILL-IN WITH YOUR CODE>\n",
    "df.printSchema()"
   ]
  },
  {
   "cell_type": "markdown",
   "metadata": {
    "deletable": false,
    "editable": false,
    "nbgrader": {
     "cell_type": "markdown",
     "checksum": "9aa8da36c2f5aad4873cd224f39fc192",
     "grade": false,
     "grade_id": "cell-c937a928bbbec3d7",
     "locked": true,
     "schema_version": 3,
     "solution": false,
     "task": false
    }
   },
   "source": [
    "## Split data into training and test sets [10 marks]\n",
    "\n",
    "Our final data preparation step is to split our dataset into training and test sets. We will train and tune our model on the training set, and then see how well we do in the test."
   ]
  },
  {
   "cell_type": "markdown",
   "metadata": {
    "deletable": false,
    "editable": false,
    "nbgrader": {
     "cell_type": "markdown",
     "checksum": "7f65b3344ebf606806a358c7646592cd",
     "grade": false,
     "grade_id": "cell-557ed884643dbca0",
     "locked": true,
     "schema_version": 3,
     "solution": false,
     "task": false
    }
   },
   "source": [
    "Your task is to split the dataframe `df` into 70% for training and 30% for test. Please use the same random seed."
   ]
  },
  {
   "cell_type": "code",
   "execution_count": 34,
   "metadata": {
    "deletable": false,
    "nbgrader": {
     "cell_type": "code",
     "checksum": "eb421493c6c4f2ab70a5af3b768541a6",
     "grade": false,
     "grade_id": "cell-56849a52128319c8",
     "locked": false,
     "schema_version": 3,
     "solution": true,
     "task": false
    },
    "ExecuteTime": {
     "end_time": "2024-03-31T10:37:54.217365400Z",
     "start_time": "2024-03-31T10:37:53.840077800Z"
    }
   },
   "outputs": [
    {
     "name": "stdout",
     "output_type": "stream",
     "text": [
      "Number of rows in training set: 13941\n",
      "Number of rows in test set: 5794\n"
     ]
    }
   ],
   "source": [
    "# <FILL-IN WITH YOUR CODE>\n",
    "# Define the seed\n",
    "seed = 56\n",
    "\n",
    "# Split the DataFrame\n",
    "train_df, test_df = df.randomSplit([0.7, 0.3], seed=seed)\n",
    "\n",
    "print(\"Number of rows in training set:\", train_df.count())\n",
    "print(\"Number of rows in test set:\", test_df.count())"
   ]
  },
  {
   "cell_type": "markdown",
   "metadata": {
    "deletable": false,
    "editable": false,
    "nbgrader": {
     "cell_type": "markdown",
     "checksum": "de538983c5838ffdcae437945b597825",
     "grade": false,
     "grade_id": "cell-1fb4a0da2280473a",
     "locked": true,
     "schema_version": 3,
     "solution": false,
     "task": false
    }
   },
   "source": [
    "Even though we have fixed the random seed, you will not get the exact same split. "
   ]
  },
  {
   "cell_type": "markdown",
   "metadata": {
    "deletable": false,
    "editable": false,
    "nbgrader": {
     "cell_type": "markdown",
     "checksum": "e6221ab1e4248679667e9c967a15b7d1",
     "grade": false,
     "grade_id": "cell-d4c519e050e792fd",
     "locked": true,
     "schema_version": 3,
     "solution": false,
     "task": false
    }
   },
   "source": [
    "Note that this is the simplest way of validating your results. You may want to carry out a [k-fold cross validation](https://en.wikipedia.org/wiki/Cross-validation_(statistics)) and split the dataset into *k* folds, and build and test *k* models. We will do later cross validation but for parameter tuning! not to validate our approach!"
   ]
  },
  {
   "cell_type": "markdown",
   "metadata": {
    "deletable": false,
    "editable": false,
    "nbgrader": {
     "cell_type": "markdown",
     "checksum": "a40fd1e90f18d39214e084d3a966dee6",
     "grade": false,
     "grade_id": "cell-254b4625d65edbab",
     "locked": true,
     "schema_version": 3,
     "solution": false,
     "task": false
    }
   },
   "source": [
    "## Data visualisation [10 marks]\n",
    "\n",
    "Before applying any machine learning algorithm, it is a good practice to try to visualise your data. For example, we could see how much energy is spent in appliances depending on the month. "
   ]
  },
  {
   "cell_type": "code",
   "execution_count": null,
   "metadata": {
    "deletable": false,
    "nbgrader": {
     "cell_type": "code",
     "checksum": "8415b6e2ff9d674308ace1f95366681e",
     "grade": false,
     "grade_id": "cell-5521c415bf5963be",
     "locked": false,
     "schema_version": 3,
     "solution": true,
     "task": false
    }
   },
   "outputs": [],
   "source": [
    "# create a variable `hist_elect` that contains the histogram of total energy consumed by the Appliances, grouped by month\n",
    "# <FILL-IN WITH YOUR CODE>"
   ]
  },
  {
   "cell_type": "code",
   "execution_count": null,
   "metadata": {},
   "outputs": [],
   "source": [
    "(x_values, y_values) = zip(*hist_elect)\n",
    "plt.bar(x_values, y_values)\n",
    "plt.title('Histogram of repetitions (up to 10)')\n",
    "plt.xlabel('Month')\n",
    "plt.ylabel('Sum of Appliance Energy')\n",
    "plt.show()"
   ]
  },
  {
   "cell_type": "markdown",
   "metadata": {
    "deletable": false,
    "editable": false,
    "nbgrader": {
     "cell_type": "markdown",
     "checksum": "83748e0da71c609d736c2160a1b04e30",
     "grade": false,
     "grade_id": "cell-75f1197b0325c06d",
     "locked": true,
     "schema_version": 3,
     "solution": false,
     "task": false
    }
   },
   "source": [
    "As we don't seem to have all the data from the 1st of January, well, we have less consumption in that particular months, so probably the month is not a good feature, don't you think? we are going to remove it from the dataframe and the training and test data frames too!"
   ]
  },
  {
   "cell_type": "code",
   "execution_count": null,
   "metadata": {
    "deletable": false,
    "nbgrader": {
     "cell_type": "code",
     "checksum": "6cc65609cd209c7db20af9ef09de38ac",
     "grade": false,
     "grade_id": "cell-fad68e0bbfd1e59f",
     "locked": false,
     "schema_version": 3,
     "solution": true,
     "task": false
    }
   },
   "outputs": [],
   "source": [
    "# update the variables `df`, `train` and `test`, removing the column 'month'\n",
    "# <FILL-IN WITH YOUR CODE>"
   ]
  },
  {
   "cell_type": "markdown",
   "metadata": {
    "deletable": false,
    "editable": false,
    "nbgrader": {
     "cell_type": "markdown",
     "checksum": "af460873762e3c8617ffb7f7580eac0b",
     "grade": false,
     "grade_id": "cell-d8aab95c80f20932",
     "locked": true,
     "schema_version": 3,
     "solution": false,
     "task": false
    }
   },
   "source": [
    "You could do other plots to understand better the data and practice with Spark :-). This is a good opportunity to practice with the DataFrame API, although if you are running this on Databricks, some plots can be generated very easily by yourself."
   ]
  },
  {
   "cell_type": "code",
   "execution_count": null,
   "metadata": {
    "deletable": false,
    "nbgrader": {
     "cell_type": "code",
     "checksum": "3a49870c2cc216fe0d7e91b74a868e21",
     "grade": true,
     "grade_id": "cell-13f6aa1e22b192f1",
     "locked": false,
     "points": 0,
     "schema_version": 3,
     "solution": true,
     "task": false
    }
   },
   "outputs": [],
   "source": [
    "# <FILL-IN WITH YOUR CODE>"
   ]
  },
  {
   "cell_type": "markdown",
   "metadata": {
    "deletable": false,
    "editable": false,
    "nbgrader": {
     "cell_type": "markdown",
     "checksum": "8d4048ac5928490fe33a851497606173",
     "grade": false,
     "grade_id": "cell-e49995e14a31fa47",
     "locked": true,
     "schema_version": 3,
     "solution": false,
     "task": false
    }
   },
   "source": [
    "## Create a Pipeline with Spark ML [20 marks]\n",
    "\n",
    "As you know, we can't feed the data frame directly to a machine learning algorithm, as we need to put all the input features as an Array, and indicate which one is the output feature (in our case, the 'Appliances' column!).\n",
    "\n",
    "We will put together a simple Pipeline with the following stages:\n",
    "\n",
    "- VectorAssembler: To combine all the input columns into a single vector column (i.e. all the columns but the 'Appliances' one.\n",
    "- Learning algorithm: I feel like using Gradient-Boosted Trees [GBTs](https://en.wikipedia.org/wiki/Gradient_boosting) for this example, but feel free to use anything else.\n",
    "- CrossValidator: I will use cross validation to tune the parameters of the GBT model. Yes, this can be added as part of a pipeline!  This is going to change the way we access the best model later!  "
   ]
  },
  {
   "cell_type": "markdown",
   "metadata": {
    "deletable": false,
    "editable": false,
    "nbgrader": {
     "cell_type": "markdown",
     "checksum": "807c3b691e51f5dca0e276c18f79b137",
     "grade": false,
     "grade_id": "cell-3f24c59f54a6cf35",
     "locked": true,
     "schema_version": 3,
     "solution": false,
     "task": false
    }
   },
   "source": [
    "Step 1: Create the `VectorAssembler`:"
   ]
  },
  {
   "cell_type": "code",
   "execution_count": null,
   "metadata": {
    "deletable": false,
    "nbgrader": {
     "cell_type": "code",
     "checksum": "5a64a21121df4fea431a96eb1a193767",
     "grade": true,
     "grade_id": "cell-706de5b087873dcc",
     "locked": false,
     "points": 0,
     "schema_version": 3,
     "solution": true,
     "task": false
    }
   },
   "outputs": [],
   "source": [
    "from pyspark.ml.feature import VectorAssembler\n",
    "\n",
    "# <FILL-IN WITH YOUR CODE>"
   ]
  },
  {
   "cell_type": "markdown",
   "metadata": {
    "deletable": false,
    "editable": false,
    "nbgrader": {
     "cell_type": "markdown",
     "checksum": "e24f36f23ecaf217b3432950daeb9c66",
     "grade": false,
     "grade_id": "cell-68a3d374f4a70c38",
     "locked": true,
     "schema_version": 3,
     "solution": false,
     "task": false
    }
   },
   "source": [
    "Step 2: Create an instance of `GBTRegressor` in which you don't indicate any parameters but the class label (i.e. `labelCol`) to 'Appliances'."
   ]
  },
  {
   "cell_type": "code",
   "execution_count": null,
   "metadata": {
    "deletable": false,
    "nbgrader": {
     "cell_type": "code",
     "checksum": "7092e1add42c762bdf9ee6e5b4805438",
     "grade": true,
     "grade_id": "cell-8db3898a09503ca1",
     "locked": false,
     "points": 0,
     "schema_version": 3,
     "solution": true,
     "task": false
    }
   },
   "outputs": [],
   "source": [
    "from pyspark.ml.regression import GBTRegressor\n",
    "\n",
    "#name the variable `gbt` \n",
    "# <FILL-IN WITH YOUR CODE>"
   ]
  },
  {
   "cell_type": "markdown",
   "metadata": {
    "deletable": false,
    "editable": false,
    "nbgrader": {
     "cell_type": "markdown",
     "checksum": "ae0da55026f2e2364b2c86baa0321b22",
     "grade": false,
     "grade_id": "cell-102cc339bfa52fe2",
     "locked": true,
     "schema_version": 3,
     "solution": false,
     "task": false
    }
   },
   "source": [
    "Step 3: Create a `CrossValidator` for `gbt`."
   ]
  },
  {
   "cell_type": "markdown",
   "metadata": {
    "deletable": false,
    "editable": false,
    "nbgrader": {
     "cell_type": "markdown",
     "checksum": "7db6e70f1b1d7db78c5d932f1a793b4c",
     "grade": false,
     "grade_id": "cell-a46ae0c64349795f",
     "locked": true,
     "schema_version": 3,
     "solution": false,
     "task": false
    }
   },
   "source": [
    "You can explore the parameters you like for GBT. Full documentation [here](https://spark.apache.org/docs/latest/api/python/reference/api/pyspark.ml.regression.GBTRegressor.html). I would suggest to create a 'grid' for at least the depth of the tree and the number of iterations. Don't investigate more than 4-8 combinations! :-)"
   ]
  },
  {
   "cell_type": "markdown",
   "metadata": {
    "deletable": false,
    "editable": false,
    "nbgrader": {
     "cell_type": "markdown",
     "checksum": "68b41ab2e6c2018ea7179476cecf99a9",
     "grade": false,
     "grade_id": "cell-154bc279b7bc636a",
     "locked": true,
     "schema_version": 3,
     "solution": false,
     "task": false
    }
   },
   "source": [
    "Import the right libraries:"
   ]
  },
  {
   "cell_type": "code",
   "execution_count": null,
   "metadata": {},
   "outputs": [],
   "source": [
    "from pyspark.ml.tuning import CrossValidator, ParamGridBuilder"
   ]
  },
  {
   "cell_type": "code",
   "execution_count": null,
   "metadata": {
    "deletable": false,
    "nbgrader": {
     "cell_type": "code",
     "checksum": "dc15a04567a0efe4bfbc8036616d723b",
     "grade": true,
     "grade_id": "cell-bc9e2db69dde356f",
     "locked": false,
     "points": 0,
     "schema_version": 3,
     "solution": true,
     "task": false
    }
   },
   "outputs": [],
   "source": [
    "# define a variable `paramGrid` with some parameters, e.g. for maxDepth, range [5,8], and for maxIter [10,20]\n",
    "\n",
    "# <FILL-IN WITH YOUR CODE>"
   ]
  },
  {
   "cell_type": "markdown",
   "metadata": {
    "deletable": false,
    "editable": false,
    "nbgrader": {
     "cell_type": "markdown",
     "checksum": "a58ec61535cd230c92ea770ec5f3e244",
     "grade": false,
     "grade_id": "cell-4ed184ef97131b35",
     "locked": true,
     "schema_version": 3,
     "solution": false,
     "task": false
    }
   },
   "source": [
    "Create a RegressionEvaluator that uses the [Root Mean Squared Error (RMSE)](https://en.wikipedia.org/wiki/Root-mean-square_deviation) as our performance metric. Import the right package first:"
   ]
  },
  {
   "cell_type": "code",
   "execution_count": null,
   "metadata": {},
   "outputs": [],
   "source": [
    "from pyspark.ml.evaluation import RegressionEvaluator"
   ]
  },
  {
   "cell_type": "code",
   "execution_count": null,
   "metadata": {
    "deletable": false,
    "nbgrader": {
     "cell_type": "code",
     "checksum": "9753990f3a78afe1f0ce7170ee768f6c",
     "grade": false,
     "grade_id": "cell-a292d5c29d2d317c",
     "locked": false,
     "schema_version": 3,
     "solution": true,
     "task": false
    }
   },
   "outputs": [],
   "source": [
    "# create a variable `evaluator` with a rmse as metric for the prediction column given by `gbt`.\n",
    "# <FILL-IN WITH YOUR CODE>"
   ]
  },
  {
   "cell_type": "markdown",
   "metadata": {
    "deletable": false,
    "editable": false,
    "nbgrader": {
     "cell_type": "markdown",
     "checksum": "2ef34bfd6d4b77c178d862bdd6c67136",
     "grade": false,
     "grade_id": "cell-85da592a82153cc7",
     "locked": true,
     "schema_version": 3,
     "solution": false,
     "task": false
    }
   },
   "source": [
    "We can now create a CrossValidator `cv` that uses the `gbt` as estimator, as well as the evaluator and grid we defined above."
   ]
  },
  {
   "cell_type": "code",
   "execution_count": null,
   "metadata": {
    "deletable": false,
    "nbgrader": {
     "cell_type": "code",
     "checksum": "546ad288c8f0f53d93e9805f36a9a3e2",
     "grade": true,
     "grade_id": "cell-ff22f5dbf35b6e2f",
     "locked": false,
     "points": 0,
     "schema_version": 3,
     "solution": true,
     "task": false
    }
   },
   "outputs": [],
   "source": [
    "# <FILL-IN WITH YOUR CODE>"
   ]
  },
  {
   "cell_type": "markdown",
   "metadata": {
    "deletable": false,
    "editable": false,
    "nbgrader": {
     "cell_type": "markdown",
     "checksum": "749133c857046d1bc2e11ebf65eeada1",
     "grade": false,
     "grade_id": "cell-2b33520df40a8ee9",
     "locked": true,
     "schema_version": 3,
     "solution": false,
     "task": false
    }
   },
   "source": [
    "Step 4. Create a Pipeline (`pipeline`) that contains the two stages: `vectorAssembler` and `cv`"
   ]
  },
  {
   "cell_type": "code",
   "execution_count": null,
   "metadata": {
    "deletable": false,
    "nbgrader": {
     "cell_type": "code",
     "checksum": "a93c0e13420d8c7ddf6408fd963ca1e3",
     "grade": true,
     "grade_id": "cell-c772c77b96ea0299",
     "locked": false,
     "points": 0,
     "schema_version": 3,
     "solution": true,
     "task": false
    }
   },
   "outputs": [],
   "source": [
    "from pyspark.ml import Pipeline\n",
    "\n",
    "# <FILL-IN WITH YOUR CODE>"
   ]
  },
  {
   "cell_type": "markdown",
   "metadata": {
    "deletable": false,
    "editable": false,
    "nbgrader": {
     "cell_type": "markdown",
     "checksum": "a9c8a01711759f1b834f1778033cb9b3",
     "grade": false,
     "grade_id": "cell-83983f3ad8703821",
     "locked": true,
     "schema_version": 3,
     "solution": false,
     "task": false
    }
   },
   "source": [
    "Step 5. Finally, `fit` the model, and store in a `pipelineModel` variable. This might take quite a bit of time!"
   ]
  },
  {
   "cell_type": "code",
   "execution_count": null,
   "metadata": {
    "deletable": false,
    "nbgrader": {
     "cell_type": "code",
     "checksum": "82cacba754d5f00e687e19bbad0ec903",
     "grade": true,
     "grade_id": "cell-4865af895712af5e",
     "locked": false,
     "points": 0,
     "schema_version": 3,
     "solution": true,
     "task": false
    }
   },
   "outputs": [],
   "source": [
    "# <FILL-IN WITH YOUR CODE>"
   ]
  },
  {
   "cell_type": "markdown",
   "metadata": {},
   "source": [
    "It could be a good idea to save this to disk, in case it takes too long, so we can read it later."
   ]
  },
  {
   "cell_type": "code",
   "execution_count": null,
   "metadata": {},
   "outputs": [],
   "source": [
    "pipelineModel.save(\"Model-lab4\")"
   ]
  },
  {
   "cell_type": "markdown",
   "metadata": {
    "deletable": false,
    "editable": false,
    "nbgrader": {
     "cell_type": "markdown",
     "checksum": "3fa1fc36e0f0972102cd0635baf8f304",
     "grade": false,
     "grade_id": "cell-77849593b37442d8",
     "locked": true,
     "schema_version": 3,
     "solution": false,
     "task": false
    }
   },
   "source": [
    "## Evaluate the results [10 marks]"
   ]
  },
  {
   "cell_type": "markdown",
   "metadata": {},
   "source": [
    "To obtain the predictions in the test set, apply the method `transform()` of the trained pipeline on the test DataFrame! This will not apply the cross-validation of course!"
   ]
  },
  {
   "cell_type": "code",
   "execution_count": null,
   "metadata": {
    "deletable": false,
    "nbgrader": {
     "cell_type": "code",
     "checksum": "12bd28a5ab908cbbd54f5d83be53c812",
     "grade": false,
     "grade_id": "cell-d2a232d67c0b332b",
     "locked": false,
     "schema_version": 3,
     "solution": true,
     "task": false
    }
   },
   "outputs": [],
   "source": [
    "# create a variable `predictions`:\n",
    "\n",
    "# <FILL-IN WITH YOUR CODE>"
   ]
  },
  {
   "cell_type": "markdown",
   "metadata": {
    "deletable": false,
    "editable": false,
    "nbgrader": {
     "cell_type": "markdown",
     "checksum": "16cf332bde6d4413e31ab0d18074be4f",
     "grade": false,
     "grade_id": "cell-a868d56e37754041",
     "locked": true,
     "schema_version": 3,
     "solution": false,
     "task": false
    }
   },
   "source": [
    "It is easier to view the results when we limit the columns displayed to:\n",
    "\n",
    "- `Appliances`: the consumption of the Appliances in Wh\n",
    "- `prediction`: our predicted prediction\n",
    "\n",
    "Find a way to show the output only for these two features (only for the first 5 rows):"
   ]
  },
  {
   "cell_type": "code",
   "execution_count": null,
   "metadata": {
    "deletable": false,
    "nbgrader": {
     "cell_type": "code",
     "checksum": "d9ddd0f690a496176b60d3ffd625c60b",
     "grade": true,
     "grade_id": "cell-9846c3a76797db6e",
     "locked": false,
     "points": 0,
     "schema_version": 3,
     "solution": true,
     "task": false
    }
   },
   "outputs": [],
   "source": [
    "# <FILL-IN WITH YOUR CODE>"
   ]
  },
  {
   "cell_type": "markdown",
   "metadata": {
    "deletable": false,
    "editable": false,
    "nbgrader": {
     "cell_type": "markdown",
     "checksum": "f79ba06b3b7ef738dbad136fbf046e0c",
     "grade": false,
     "grade_id": "cell-f37cc71440a8edf2",
     "locked": true,
     "schema_version": 3,
     "solution": false,
     "task": false
    }
   },
   "source": [
    "Are these results any good? Let's compute the RMSE using the evaluator we created before! Store the result in a `rmse` variable."
   ]
  },
  {
   "cell_type": "code",
   "execution_count": null,
   "metadata": {
    "deletable": false,
    "nbgrader": {
     "cell_type": "code",
     "checksum": "5ef11de44ab722e8d128816e771dee1e",
     "grade": true,
     "grade_id": "cell-1250797f2aae0195",
     "locked": false,
     "points": 0,
     "schema_version": 3,
     "solution": true,
     "task": false
    }
   },
   "outputs": [],
   "source": [
    "# <FILL-IN WITH YOUR CODE>"
   ]
  },
  {
   "cell_type": "code",
   "execution_count": null,
   "metadata": {},
   "outputs": [],
   "source": [
    "print(rmse)"
   ]
  },
  {
   "cell_type": "markdown",
   "metadata": {
    "deletable": false,
    "editable": false,
    "nbgrader": {
     "cell_type": "markdown",
     "checksum": "5f5e0f65ad9d1b9cd59fa7aaa0079c58",
     "grade": false,
     "grade_id": "cell-a6d64a5f7cdccf1c",
     "locked": true,
     "schema_version": 3,
     "solution": false,
     "task": false
    }
   },
   "source": [
    "Seems a bit high?  Well, this number is closer to what it is reported in the original paper with RF (RMSE around 69).\n",
    "\n",
    "But maybe you can investigate a bit more if you can improve that. Can you find out the importance of the features from the GBTs?  "
   ]
  },
  {
   "cell_type": "markdown",
   "metadata": {
    "deletable": false,
    "editable": false,
    "nbgrader": {
     "cell_type": "markdown",
     "checksum": "68a14ed17d1a59fd2fc9537279a13736",
     "grade": false,
     "grade_id": "cell-98af8ec7cf0709ae",
     "locked": true,
     "schema_version": 3,
     "solution": false,
     "task": false
    }
   },
   "source": [
    "You first need to find out the best model!! In the way we trained the pipeline, you can find the trained cvModel as one of the stages of the `pipelineModel`:"
   ]
  },
  {
   "cell_type": "code",
   "execution_count": null,
   "metadata": {},
   "outputs": [],
   "source": [
    "cvModel = pipelineModel.stages[1]"
   ]
  },
  {
   "cell_type": "code",
   "execution_count": null,
   "metadata": {},
   "outputs": [],
   "source": [
    "cvModel.bestModel"
   ]
  },
  {
   "cell_type": "markdown",
   "metadata": {},
   "source": [
    "Check the feature importances of that `cvModel`:"
   ]
  },
  {
   "cell_type": "code",
   "execution_count": null,
   "metadata": {},
   "outputs": [],
   "source": [
    "cvModel.bestModel.featureImportances"
   ]
  },
  {
   "cell_type": "markdown",
   "metadata": {},
   "source": [
    "Uhm, looks like our model gave feature #28 quite a bit of importance, which is the hour of the day if I recall correctly.  Features #25 and #26 were random, and the model noticed that 26 was completely useless, but gave some importance to 'rv1'. GBTs perform somehow an implicit feature selection, so those low importance features won't affect much their performance, but I wonder if we could just remove low importance features?"
   ]
  },
  {
   "cell_type": "markdown",
   "metadata": {
    "deletable": false,
    "editable": false,
    "nbgrader": {
     "cell_type": "markdown",
     "checksum": "387f5e9cea0dc12361fe6dff8638445c",
     "grade": false,
     "grade_id": "cell-397368093280ee02",
     "locked": true,
     "schema_version": 3,
     "solution": false,
     "task": false
    }
   },
   "source": [
    "*Task*: Create a list of those features with less than for example 0.05. "
   ]
  },
  {
   "cell_type": "code",
   "execution_count": null,
   "metadata": {},
   "outputs": [],
   "source": [
    "pairs = cvModel.bestModel.featureImportances"
   ]
  },
  {
   "cell_type": "code",
   "execution_count": null,
   "metadata": {
    "deletable": false,
    "nbgrader": {
     "cell_type": "code",
     "checksum": "867337febcb76e54ad8d895dc6fe3139",
     "grade": true,
     "grade_id": "cell-6b1e6b9006205fb3",
     "locked": false,
     "points": 0,
     "schema_version": 3,
     "solution": true,
     "task": false
    }
   },
   "outputs": [],
   "source": [
    "# create a list `to_remove` that contains the feature names that must be removed because their confidence is less than 0.05 \n",
    "# <FILL-IN WITH YOUR CODE>"
   ]
  },
  {
   "cell_type": "code",
   "execution_count": null,
   "metadata": {},
   "outputs": [],
   "source": [
    "print(to_remove)"
   ]
  },
  {
   "cell_type": "markdown",
   "metadata": {
    "deletable": false,
    "editable": false,
    "nbgrader": {
     "cell_type": "markdown",
     "checksum": "06dcc50590c58211670c7d1c71d8e6aa",
     "grade": false,
     "grade_id": "cell-32a9d061f3e5a666",
     "locked": true,
     "schema_version": 3,
     "solution": false,
     "task": false
    }
   },
   "source": [
    "## Removing low importance features [10 marks]"
   ]
  },
  {
   "cell_type": "markdown",
   "metadata": {
    "deletable": false,
    "editable": false,
    "nbgrader": {
     "cell_type": "markdown",
     "checksum": "e8982e88b3b7cf537087ca9bf62568aa",
     "grade": false,
     "grade_id": "cell-c6802214fa240a6f",
     "locked": true,
     "schema_version": 3,
     "solution": false,
     "task": false
    }
   },
   "source": [
    "Check the current schema of the training data:"
   ]
  },
  {
   "cell_type": "code",
   "execution_count": null,
   "metadata": {
    "deletable": false,
    "nbgrader": {
     "cell_type": "code",
     "checksum": "21398aafc0621aaaeeb1fefd9bf33808",
     "grade": true,
     "grade_id": "cell-7eaf394a6020cdcd",
     "locked": false,
     "points": 0,
     "schema_version": 3,
     "solution": true,
     "task": false
    }
   },
   "outputs": [],
   "source": [
    "# <FILL-IN WITH YOUR CODE>"
   ]
  },
  {
   "cell_type": "markdown",
   "metadata": {
    "deletable": false,
    "editable": false,
    "nbgrader": {
     "cell_type": "markdown",
     "checksum": "6c99759a0ca11680f487af8069bc4e3d",
     "grade": false,
     "grade_id": "cell-8b82deb2dd980d57",
     "locked": true,
     "schema_version": 3,
     "solution": false,
     "task": false
    }
   },
   "source": [
    "You don't need to remove the columns from train and test partitions as you won't be able to re-train the pipeline without modifying the VectorAssemble. You simply need to indicate the columns you want to use when creating a new `vectorAssembler2`:"
   ]
  },
  {
   "cell_type": "code",
   "execution_count": null,
   "metadata": {
    "deletable": false,
    "nbgrader": {
     "cell_type": "code",
     "checksum": "f2e765a19df205df05c2bfa10a68ceea",
     "grade": true,
     "grade_id": "cell-9452a5dfa044d94e",
     "locked": false,
     "points": 0,
     "schema_version": 3,
     "solution": true,
     "task": false
    }
   },
   "outputs": [],
   "source": [
    "# <FILL-IN WITH YOUR CODE>"
   ]
  },
  {
   "cell_type": "markdown",
   "metadata": {
    "deletable": false,
    "editable": false,
    "nbgrader": {
     "cell_type": "markdown",
     "checksum": "a33293e5f47ea37aba1f604d7b2ff33b",
     "grade": false,
     "grade_id": "cell-b545a033a4bed177",
     "locked": true,
     "schema_version": 3,
     "solution": false,
     "task": false
    }
   },
   "source": [
    "and create a new pipeline, `pipeline2`, with that new `vectorAssemble2`: "
   ]
  },
  {
   "cell_type": "code",
   "execution_count": null,
   "metadata": {
    "deletable": false,
    "nbgrader": {
     "cell_type": "code",
     "checksum": "76db7fbdde7bf0e9a426ffcdb1ec7040",
     "grade": true,
     "grade_id": "cell-d4a3e8633542f9e6",
     "locked": false,
     "points": 0,
     "schema_version": 3,
     "solution": true,
     "task": false
    }
   },
   "outputs": [],
   "source": [
    "# <FILL-IN WITH YOUR CODE>"
   ]
  },
  {
   "cell_type": "markdown",
   "metadata": {
    "deletable": false,
    "editable": false,
    "nbgrader": {
     "cell_type": "markdown",
     "checksum": "f076896e775194a1828f8508640bfa43",
     "grade": false,
     "grade_id": "cell-29d90e5cdfccfd71",
     "locked": true,
     "schema_version": 3,
     "solution": false,
     "task": false
    }
   },
   "source": [
    "And `fit` the new pipeline:"
   ]
  },
  {
   "cell_type": "code",
   "execution_count": null,
   "metadata": {
    "deletable": false,
    "nbgrader": {
     "cell_type": "code",
     "checksum": "23057298ae3e9fd642b3ae25efc2145f",
     "grade": true,
     "grade_id": "cell-45887160f551fcad",
     "locked": false,
     "points": 0,
     "schema_version": 3,
     "solution": true,
     "task": false
    }
   },
   "outputs": [],
   "source": [
    "# <FILL-IN WITH YOUR CODE>"
   ]
  },
  {
   "cell_type": "markdown",
   "metadata": {},
   "source": [
    "Finally, make predictions and compute the error:"
   ]
  },
  {
   "cell_type": "code",
   "execution_count": null,
   "metadata": {
    "deletable": false,
    "nbgrader": {
     "cell_type": "code",
     "checksum": "b8701482b4062335061a2eb764002993",
     "grade": true,
     "grade_id": "cell-5c708eda14fa475e",
     "locked": false,
     "points": 0,
     "schema_version": 3,
     "solution": true,
     "task": false
    }
   },
   "outputs": [],
   "source": [
    "# <FILL-IN WITH YOUR CODE>"
   ]
  },
  {
   "cell_type": "code",
   "execution_count": null,
   "metadata": {},
   "outputs": [],
   "source": [
    "print(rmse)"
   ]
  },
  {
   "cell_type": "markdown",
   "metadata": {
    "deletable": false,
    "editable": false,
    "nbgrader": {
     "cell_type": "markdown",
     "checksum": "131d2bf7444af671154be9c460455b0b",
     "grade": false,
     "grade_id": "cell-fd71263ad7f3c709",
     "locked": true,
     "schema_version": 3,
     "solution": false,
     "task": false
    }
   },
   "source": [
    "Check the features of the best model and feature importances:"
   ]
  },
  {
   "cell_type": "code",
   "execution_count": null,
   "metadata": {},
   "outputs": [],
   "source": [
    "cvModel2 = pipelineModel2.stages[1]"
   ]
  },
  {
   "cell_type": "code",
   "execution_count": null,
   "metadata": {},
   "outputs": [],
   "source": [
    "cvModel2.bestModel# "
   ]
  },
  {
   "cell_type": "code",
   "execution_count": null,
   "metadata": {},
   "outputs": [],
   "source": [
    "cvModel2.bestModel.featureImportances"
   ]
  },
  {
   "cell_type": "markdown",
   "metadata": {
    "deletable": false,
    "editable": false,
    "nbgrader": {
     "cell_type": "markdown",
     "checksum": "2edc686f1ee60293d728331abe08958d",
     "grade": false,
     "grade_id": "cell-d0777fc1ab7a64af",
     "locked": true,
     "schema_version": 3,
     "solution": false,
     "task": false
    }
   },
   "source": [
    "In my case, I got the same performance as before, but this time my model only considered 3 input features! This might not have made our model more precise (Because GBTs already ignored those features), but makes it more interpretable!"
   ]
  },
  {
   "cell_type": "markdown",
   "metadata": {},
   "source": [
    "# Improving further your model [20 marks]"
   ]
  },
  {
   "cell_type": "markdown",
   "metadata": {
    "deletable": false,
    "editable": false,
    "nbgrader": {
     "cell_type": "markdown",
     "checksum": "95987f6845ee31a2a836ffb6848a390b",
     "grade": false,
     "grade_id": "cell-ffeb040b4832b189",
     "locked": true,
     "schema_version": 3,
     "solution": false,
     "task": false
    }
   },
   "source": [
    "There might be many ways to improve the results we obtained here. \n",
    "\n",
    "A few ideas for you to think about:\n",
    "\n",
    "- Parameter tuning: I have used a relatively small set of parameters, and I haven't investigated what happened in training and test, is there overfitting of the training? would we be able to use a large number of trees?\n",
    "- The features of this dataset are numerical, are there other classifiers that may be more appropriate than GBTs?\n",
    "- We haven't really done any careful pre-processing of the data. Are there outliers or noise that might be having an impact in the results? \n",
    "- Do we need any normalisation?"
   ]
  },
  {
   "cell_type": "code",
   "execution_count": null,
   "metadata": {
    "deletable": false,
    "nbgrader": {
     "cell_type": "code",
     "checksum": "9c2c3bbf137d07c19ab4af009c981563",
     "grade": true,
     "grade_id": "cell-4fe4f316d22ce863",
     "locked": false,
     "points": 0,
     "schema_version": 3,
     "solution": true,
     "task": false
    }
   },
   "outputs": [],
   "source": [
    "# <FILL-IN WITH YOUR CODE>"
   ]
  }
 ],
 "metadata": {
  "anaconda-cloud": {},
  "kernelspec": {
   "display_name": "Python 3 (ipykernel)",
   "language": "python",
   "name": "python3"
  },
  "language_info": {
   "codemirror_mode": {
    "name": "ipython",
    "version": 3
   },
   "file_extension": ".py",
   "mimetype": "text/x-python",
   "name": "python",
   "nbconvert_exporter": "python",
   "pygments_lexer": "ipython3",
   "version": "3.8.5"
  },
  "name": "MLPipeline Bike Dataset",
  "notebookId": 3638908530782568
 },
 "nbformat": 4,
 "nbformat_minor": 1
}
