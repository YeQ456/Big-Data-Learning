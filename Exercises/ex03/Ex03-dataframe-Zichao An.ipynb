{
 "cells": [
  {
   "cell_type": "markdown",
   "metadata": {
    "deletable": false,
    "editable": false,
    "nbgrader": {
     "cell_type": "markdown",
     "checksum": "90c054d37f6d207b6c795082e660f097",
     "grade": false,
     "grade_id": "cell-e05969ec582a0b26",
     "locked": true,
     "schema_version": 3,
     "solution": false,
     "task": false
    }
   },
   "source": [
    "# Spark SQL\n",
    "## Lab assignment: Exercises with MapReduce on Spark SQL - Dataframes\n",
    "\n",
    "The aim of this notebook is to play with the DataFrame API of Apache Spark, aiming to solve the same MapReduce exercises we did for the previous labs.\n",
    "\n",
    "The key difference will be the programming style, which will be more SQL-like. You should always use the functions provided by SparkSQL, I will import these functions as 'F', so we know for sure we are using Spark functions and not Python functions!\n",
    "\n",
    "**Note**: I have decided to leave out the exercise about the list of common friends between pairs of friends with DataFrames. Whilst definitely possible, I don't see much point in doing so. You could try and let me know how you get on with it, but you might need to use User-Defined Functions, or other functions I didn't explain."
   ]
  },
  {
   "cell_type": "markdown",
   "metadata": {
    "deletable": false,
    "editable": false,
    "nbgrader": {
     "cell_type": "markdown",
     "checksum": "f9d8fa43bd5d45e9dd31f766244ea7a8",
     "grade": false,
     "grade_id": "cell-77734fdb789e84f6",
     "locked": true,
     "schema_version": 3,
     "solution": false,
     "task": false
    }
   },
   "source": [
    "## Submission and marking criteria\n",
    "\n",
    "You should complete this notebook and add your solutions to it. When you are done, rename your completed notebook as `ex03.ipynb`. \n",
    "\n",
    "Important notes:\n",
    "- The **group leader** must submit the `ex03.ipynb` file on Moodle.\n",
    "- **Each member of the group** must complete the peer review survey and their contribution statement using this [link](https://forms.office.com/e/aAFaCQ2uxU). **You can only submit this survey ONCE**.\n",
    "- This lab is marked out of 100 marks. We give you 10 marks for completing exercise 0 with our help, and the three remaining exercises are worth 30 marks each.\n",
    "- The marking will be focused on:\n",
    "    - Code that does solve the task correctly (15 marks).\n",
    "    - Efficiency of the solution (15 marks).\n",
    "    - Minor mistakes will deduct marks from each exercise.\n",
    "- **Submission deadline: 15th March 2024 at 3pm**"
   ]
  },
  {
   "cell_type": "markdown",
   "metadata": {
    "deletable": false,
    "editable": false,
    "nbgrader": {
     "cell_type": "markdown",
     "checksum": "b9943afb7a5f822050995c1ba038ce4d",
     "grade": false,
     "grade_id": "cell-2cec9fd6229659a2",
     "locked": true,
     "schema_version": 3,
     "solution": false,
     "task": false
    }
   },
   "source": [
    "## Set-up"
   ]
  },
  {
   "cell_type": "markdown",
   "metadata": {
    "deletable": false,
    "editable": false,
    "nbgrader": {
     "cell_type": "markdown",
     "checksum": "cede54f3c493570a8b81ff2e2103faa4",
     "grade": false,
     "grade_id": "cell-40a6e2427a09ad72",
     "locked": true,
     "schema_version": 3,
     "solution": false,
     "task": false
    }
   },
   "source": [
    "The first thing we need to do to start working with Spark is to initialize the `SparkSession`. We will also import a few libraries we will use. *Remember if you are using Databricks that `spark` and `sc` are already available to you and don't need initializing.* "
   ]
  },
  {
   "cell_type": "code",
   "execution_count": 1,
   "metadata": {
    "ExecuteTime": {
     "end_time": "2024-03-12T11:24:05.099750400Z",
     "start_time": "2024-03-12T11:24:02.177538400Z"
    }
   },
   "outputs": [],
   "source": [
    "from pyspark.sql import SparkSession\n",
    "\n",
    "spark = SparkSession \\\n",
    "    .builder \\\n",
    "    .master(\"local[*]\") \\\n",
    "    .appName(\"Spark SQL Lab\") \\\n",
    "    .getOrCreate() \n",
    "\n",
    "sc = spark.sparkContext "
   ]
  },
  {
   "cell_type": "code",
   "execution_count": 2,
   "metadata": {
    "ExecuteTime": {
     "end_time": "2024-03-12T11:26:12.699735800Z",
     "start_time": "2024-03-12T11:26:12.161189200Z"
    }
   },
   "outputs": [],
   "source": [
    "%matplotlib inline \n",
    "import matplotlib.pyplot as plt\n",
    "from pyspark.sql import functions as F  # I import all Spark Functions, like length, when, explode...\n",
    "from pyspark.sql import Row\n",
    "\n",
    "# Helper function to test the correctness of the solutions\n",
    "def test(var, val, msg=\"\"):\n",
    "    print(\"1 test passed.\") if var == val else print(\"1 test failed. \" + msg)"
   ]
  },
  {
   "cell_type": "markdown",
   "metadata": {
    "deletable": false,
    "editable": false,
    "nbgrader": {
     "cell_type": "markdown",
     "checksum": "c5b54d35fcd453b8d0e605376a51d483",
     "grade": false,
     "grade_id": "cell-284cbe6140883e04",
     "locked": true,
     "schema_version": 3,
     "solution": false,
     "task": false
    }
   },
   "source": [
    "## Exercise 0: Word Count with DataFrames\n",
    "\n",
    "As a warm-up, let's implement the Word Count with DataFrames. As in the previous lab, you're as asked to implement a `word_count(file_path)` function that counts the number of words in a document or a number of text documents provided in the input path.\n",
    "\n",
    "**Input:** The path to a text file\n",
    "\n",
    "**Output:** (word, count) - only the 10 words with the highest frequency!\n",
    "\n",
    "Recommended steps:\n",
    "1. Read the file or files. Each line should be an element of the DataFrame.\n",
    "2. Split the lines into words. (*transformation*)\n",
    "3. Filter empty words (`''`) resulting from previous steps. (*transformation*)\n",
    "4. Count the number of occurrences of each word. (*action*)\n",
    "5. Return to the driver program the 10 most repeated words. (*action*)\n",
    "\n",
    "**Additional challenge**: Improve the word count, eliminating any punctuation marks and avoid word duplicated due to capitalisation. *Advice*: Use SQL functions like: regexp_replace, trim, col or lower.\n",
    "\n",
    "We are providing a step-by-step solution for this exercise below (yes! we are this nice!), but we suggest you try it yourself first.\n",
    "\n",
    "                                                                                                       [10 marks]"
   ]
  },
  {
   "cell_type": "code",
   "execution_count": 100,
   "metadata": {
    "deletable": false,
    "nbgrader": {
     "cell_type": "code",
     "checksum": "5144d45aab8c1b1c7cc0c98431635141",
     "grade": false,
     "grade_id": "cell-75b6d31821a2b65a",
     "locked": false,
     "schema_version": 3,
     "solution": true,
     "task": false
    },
    "ExecuteTime": {
     "end_time": "2024-03-12T14:55:03.601115600Z",
     "start_time": "2024-03-12T14:55:03.225277900Z"
    }
   },
   "outputs": [
    {
     "data": {
      "text/plain": "[Row(word='the', count=20923),\n Row(word='and', count=16606),\n Row(word='to', count=13492),\n Row(word='of', count=12866),\n Row(word='that', count=7164),\n Row(word='a', count=7003),\n Row(word='in', count=6860),\n Row(word='I', count=5756),\n Row(word='he', count=5640),\n Row(word='for', count=4534)]"
     },
     "execution_count": 100,
     "metadata": {},
     "output_type": "execute_result"
    }
   ],
   "source": [
    "def word_count(file_path):\n",
    "    df=spark.read.text(file_path)\n",
    "    df=df.select(F.explode(F.split(\"value\",\" \")).alias(\"word\")).filter(\"word != ''\")\n",
    "    cf=df.groupBy(\"word\").count().sort(F.desc(\"count\"))\n",
    "    #cf.show(10)\n",
    "    result= cf.collect()\n",
    "    return result[:10]\n",
    "\n",
    "# Test the function with quixote.txt file\n",
    "word_count(\"data/quixote.txt\")    "
   ]
  },
  {
   "cell_type": "markdown",
   "metadata": {
    "deletable": false,
    "editable": false,
    "nbgrader": {
     "cell_type": "markdown",
     "checksum": "e8a532106b3b344effb6eaebcd823835",
     "grade": false,
     "grade_id": "cell-7620a7a5daf517e3",
     "locked": true,
     "schema_version": 3,
     "solution": false,
     "task": false
    }
   },
   "source": [
    "The program should pass the following test:"
   ]
  },
  {
   "cell_type": "code",
   "execution_count": 101,
   "metadata": {
    "deletable": false,
    "editable": false,
    "nbgrader": {
     "cell_type": "code",
     "checksum": "f709c96a3dc96d23af1f7bc13f6890e8",
     "grade": true,
     "grade_id": "cell-ef044fd580a494e6",
     "locked": true,
     "points": 5,
     "schema_version": 3,
     "solution": false
    },
    "ExecuteTime": {
     "end_time": "2024-03-12T14:55:05.571117700Z",
     "start_time": "2024-03-12T14:55:05.133133Z"
    }
   },
   "outputs": [
    {
     "name": "stdout",
     "output_type": "stream",
     "text": [
      "[Row(word='the', count=20923), Row(word='and', count=16606), Row(word='to', count=13492), Row(word='of', count=12866), Row(word='that', count=7164), Row(word='a', count=7003), Row(word='in', count=6860), Row(word='I', count=5756), Row(word='he', count=5640), Row(word='for', count=4534)]\n",
      "1 test passed.\n"
     ]
    }
   ],
   "source": [
    "top10_quixote = word_count(\"data/quixote.txt\")\n",
    "print(top10_quixote)\n",
    "test(top10_quixote, [('the', 20923), ('and', 16606), ('to', 13492), ('of', 12866), \n",
    "                                  ('that', 7164), ('a', 7003), ('in', 6860), ('I', 5756), ('he', 5640), \n",
    "                                  ('for', 4534)], \"Try again!\")"
   ]
  },
  {
   "cell_type": "markdown",
   "metadata": {},
   "source": [
    "### Step-by-step Solution"
   ]
  },
  {
   "cell_type": "code",
   "execution_count": 3,
   "metadata": {
    "ExecuteTime": {
     "end_time": "2024-03-12T11:26:21.692958400Z",
     "start_time": "2024-03-12T11:26:20.509728200Z"
    }
   },
   "outputs": [],
   "source": [
    "df_text = spark.read.text(\"data/quixote.txt\")"
   ]
  },
  {
   "cell_type": "markdown",
   "metadata": {},
   "source": [
    "We are going to play with this for a bit, so let's cache it."
   ]
  },
  {
   "cell_type": "code",
   "execution_count": 4,
   "metadata": {
    "ExecuteTime": {
     "end_time": "2024-03-12T11:26:23.570678300Z",
     "start_time": "2024-03-12T11:26:23.322429500Z"
    }
   },
   "outputs": [
    {
     "data": {
      "text/plain": "DataFrame[value: string]"
     },
     "execution_count": 4,
     "metadata": {},
     "output_type": "execute_result"
    }
   ],
   "source": [
    "df_text.cache()"
   ]
  },
  {
   "cell_type": "markdown",
   "metadata": {},
   "source": [
    "Let's see the content of this file:"
   ]
  },
  {
   "cell_type": "code",
   "execution_count": 5,
   "metadata": {
    "ExecuteTime": {
     "end_time": "2024-03-12T11:26:28.130412200Z",
     "start_time": "2024-03-12T11:26:26.420091500Z"
    }
   },
   "outputs": [
    {
     "name": "stdout",
     "output_type": "stream",
     "text": [
      "+--------------------------------------------------------------------------------+\n",
      "|value                                                                           |\n",
      "+--------------------------------------------------------------------------------+\n",
      "|                                                                                |\n",
      "|The Project Gutenberg EBook of The History of Don Quixote by Miguel de Cervantes|\n",
      "|                                                                                |\n",
      "|This eBook is for the use of anyone anywhere at no cost and with                |\n",
      "|almost no restrictions whatsoever.  You may copy it, give it away or            |\n",
      "|re-use it under the terms of the Project Gutenberg License included             |\n",
      "|with this eBook or online at www.gutenberg.org                                  |\n",
      "|                                                                                |\n",
      "|                                                                                |\n",
      "|Title: The History of Don Quixote                                               |\n",
      "+--------------------------------------------------------------------------------+\n"
     ]
    }
   ],
   "source": [
    "df_text.select(\"*\").show(10, False)"
   ]
  },
  {
   "cell_type": "code",
   "execution_count": 6,
   "metadata": {
    "ExecuteTime": {
     "end_time": "2024-03-12T11:26:37.040513700Z",
     "start_time": "2024-03-12T11:26:37.026335800Z"
    }
   },
   "outputs": [
    {
     "name": "stdout",
     "output_type": "stream",
     "text": [
      "root\n",
      " |-- value: string (nullable = true)\n"
     ]
    }
   ],
   "source": [
    "df_text.printSchema()"
   ]
  },
  {
   "cell_type": "markdown",
   "metadata": {},
   "source": [
    "As you can see, there isn't much structure in that DataFrame. Spark has inferred a single column, as a string, and every row is a line of the text."
   ]
  },
  {
   "cell_type": "markdown",
   "metadata": {},
   "source": [
    "As we did before, let's try to split this by blank space. To do so, we can use the `split` function from SparkSQL. This function takes two arguments: the column name where you want to apply the split, and the 'pattern' you want to use to split the string upon. This function returns an array of Column type. Similar to Column operations, this function needs to be used in conjunction with a transformation (e.g. `select`)."
   ]
  },
  {
   "cell_type": "code",
   "execution_count": 7,
   "metadata": {
    "ExecuteTime": {
     "end_time": "2024-03-12T11:29:24.110322400Z",
     "start_time": "2024-03-12T11:29:24.026279600Z"
    }
   },
   "outputs": [
    {
     "name": "stdout",
     "output_type": "stream",
     "text": [
      "+-----------------------------------------------------------------------------------------------+\n",
      "|split(value,  , -1)                                                                            |\n",
      "+-----------------------------------------------------------------------------------------------+\n",
      "|[]                                                                                             |\n",
      "|[The, Project, Gutenberg, EBook, of, The, History, of, Don, Quixote, by, Miguel, de, Cervantes]|\n",
      "|[]                                                                                             |\n",
      "|[This, eBook, is, for, the, use, of, anyone, anywhere, at, no, cost, and, with]                |\n",
      "|[almost, no, restrictions, whatsoever., , You, may, copy, it,, give, it, away, or]             |\n",
      "|[re-use, it, under, the, terms, of, the, Project, Gutenberg, License, included]                |\n",
      "|[with, this, eBook, or, online, at, www.gutenberg.org]                                         |\n",
      "|[]                                                                                             |\n",
      "|[]                                                                                             |\n",
      "|[Title:, The, History, of, Don, Quixote]                                                       |\n",
      "+-----------------------------------------------------------------------------------------------+\n"
     ]
    }
   ],
   "source": [
    "df_text.select(F.split(\"value\", \" \")).show(10, False)"
   ]
  },
  {
   "cell_type": "markdown",
   "metadata": {},
   "source": [
    "We can now use `explode` to expand each one of the elements of the lists, so that, we create a Row for each element of the arrays in the column `value`. We will call the split function inside of the explode!"
   ]
  },
  {
   "cell_type": "code",
   "execution_count": 10,
   "metadata": {
    "ExecuteTime": {
     "end_time": "2024-03-12T11:39:26.577601100Z",
     "start_time": "2024-03-12T11:39:26.519229200Z"
    }
   },
   "outputs": [
    {
     "name": "stdout",
     "output_type": "stream",
     "text": [
      "+---------+\n",
      "|      col|\n",
      "+---------+\n",
      "|         |\n",
      "|      The|\n",
      "|  Project|\n",
      "|Gutenberg|\n",
      "|    EBook|\n",
      "|       of|\n",
      "|      The|\n",
      "|  History|\n",
      "|       of|\n",
      "|      Don|\n",
      "|  Quixote|\n",
      "|       by|\n",
      "|   Miguel|\n",
      "|       de|\n",
      "|Cervantes|\n",
      "|         |\n",
      "|     This|\n",
      "|    eBook|\n",
      "|       is|\n",
      "|      for|\n",
      "+---------+\n"
     ]
    }
   ],
   "source": [
    "df_text.select(F.explode(F.split(\"value\", \" \"))).show(20)"
   ]
  },
  {
   "cell_type": "markdown",
   "metadata": {},
   "source": [
    "We can use `alias()` to give a new name, e.g. `word`:"
   ]
  },
  {
   "cell_type": "code",
   "execution_count": 11,
   "metadata": {
    "ExecuteTime": {
     "end_time": "2024-03-12T11:40:36.779982Z",
     "start_time": "2024-03-12T11:40:36.711203600Z"
    }
   },
   "outputs": [
    {
     "name": "stdout",
     "output_type": "stream",
     "text": [
      "+---------+\n",
      "|     word|\n",
      "+---------+\n",
      "|         |\n",
      "|      The|\n",
      "|  Project|\n",
      "|Gutenberg|\n",
      "|    EBook|\n",
      "|       of|\n",
      "|      The|\n",
      "|  History|\n",
      "|       of|\n",
      "|      Don|\n",
      "+---------+\n"
     ]
    }
   ],
   "source": [
    "df_text.select(F.explode(F.split(\"value\", \" \")).alias(\"word\")).show(10)"
   ]
  },
  {
   "cell_type": "markdown",
   "metadata": {},
   "source": [
    "Let's filter out empty words. That's very similar to what we did with RDDs."
   ]
  },
  {
   "cell_type": "code",
   "execution_count": 12,
   "metadata": {
    "ExecuteTime": {
     "end_time": "2024-03-12T11:41:16.934508900Z",
     "start_time": "2024-03-12T11:41:16.805435300Z"
    }
   },
   "outputs": [
    {
     "name": "stdout",
     "output_type": "stream",
     "text": [
      "+---------+\n",
      "|     word|\n",
      "+---------+\n",
      "|      The|\n",
      "|  Project|\n",
      "|Gutenberg|\n",
      "|    EBook|\n",
      "|       of|\n",
      "|      The|\n",
      "|  History|\n",
      "|       of|\n",
      "|      Don|\n",
      "|  Quixote|\n",
      "+---------+\n"
     ]
    }
   ],
   "source": [
    "df_text.select(F.explode(F.split(\"value\", \" \")).alias(\"word\")).filter(\"word != ''\").show(10)"
   ]
  },
  {
   "cell_type": "markdown",
   "metadata": {},
   "source": [
    "With RDDs, we needed to transform this into a tuple k,value. But with DataFrames, we can do the same operation by telling Spark which one is the attribute that will be used to group the DataFrame (i.e. the only column: `word`).\n",
    "We can use `groupBy`, but this is a transformation that allows us to perform aggregations, it needs to be used together with an aggregation operation like count, max, avg, etc."
   ]
  },
  {
   "cell_type": "code",
   "execution_count": 13,
   "metadata": {
    "ExecuteTime": {
     "end_time": "2024-03-12T11:41:31.698254100Z",
     "start_time": "2024-03-12T11:41:31.669572400Z"
    }
   },
   "outputs": [
    {
     "data": {
      "text/plain": "DataFrame[word: string, count: bigint]"
     },
     "execution_count": 13,
     "metadata": {},
     "output_type": "execute_result"
    }
   ],
   "source": [
    "df_text.select(F.explode(F.split(\"value\", \" \")).alias(\"word\")).filter(\"word != ''\").groupBy(\"word\").count() "
   ]
  },
  {
   "cell_type": "markdown",
   "metadata": {},
   "source": [
    "Oh, we didn't get the word count, why? the method `count` as an aggregation is NOT an action! but a transformation. We still need to take it back to the driver program, by using `collect` or `show`. "
   ]
  },
  {
   "cell_type": "code",
   "execution_count": 14,
   "metadata": {
    "ExecuteTime": {
     "end_time": "2024-03-12T11:41:42.111464100Z",
     "start_time": "2024-03-12T11:41:41.264209200Z"
    }
   },
   "outputs": [
    {
     "name": "stdout",
     "output_type": "stream",
     "text": [
      "+----------+-----+\n",
      "|      word|count|\n",
      "+----------+-----+\n",
      "|    online|    4|\n",
      "|      July|    1|\n",
      "|    CASTLE|    8|\n",
      "|      XVII|    2|\n",
      "|      AWAY|    2|\n",
      "|      hope|   65|\n",
      "|     those|  652|\n",
      "|       few|   79|\n",
      "|Duffield’s|    1|\n",
      "|  everyday|    3|\n",
      "+----------+-----+\n"
     ]
    }
   ],
   "source": [
    "df_text.select( \\\n",
    "              F.explode(F.split(\"value\", \" \")) \\\n",
    "              .alias(\"word\")) \\\n",
    "        .filter(\"word != ''\") \\\n",
    "        .groupBy(\"word\").count().show(10)"
   ]
  },
  {
   "cell_type": "markdown",
   "metadata": {},
   "source": [
    "The output is not quite there yet, we wanted this to be in descending order. What we could do is to transform that aggregated DataFrame using `sort` (or `OrderBy`).  To use `sort`, we need to indicate the column in which we want to apply the operation (i.e. `count`), and we also want to do it in descending order. You could do this in different ways:\n",
    "\n",
    "`.sort(df.count.desc())`  or `sort(desc(\"count\"))`, or `sort(\"count\", ascending=False)`. "
   ]
  },
  {
   "cell_type": "code",
   "execution_count": 15,
   "metadata": {
    "ExecuteTime": {
     "end_time": "2024-03-12T11:51:26.136188100Z",
     "start_time": "2024-03-12T11:51:25.789291300Z"
    }
   },
   "outputs": [
    {
     "name": "stdout",
     "output_type": "stream",
     "text": [
      "+----+-----+\n",
      "|word|count|\n",
      "+----+-----+\n",
      "| the|20923|\n",
      "| and|16606|\n",
      "|  to|13492|\n",
      "|  of|12866|\n",
      "|that| 7164|\n",
      "|   a| 7003|\n",
      "|  in| 6860|\n",
      "|   I| 5756|\n",
      "|  he| 5640|\n",
      "| for| 4534|\n",
      "+----+-----+\n"
     ]
    }
   ],
   "source": [
    "df_text.select( \\\n",
    "              F.explode(F.split(\"value\", \" \")) \\\n",
    "              .alias(\"word\")) \\\n",
    "        .filter(\"word != ''\") \\\n",
    "        .groupBy(\"word\").count() \\\n",
    "        .sort(F.desc(\"count\")) \\\n",
    "        .show(10)"
   ]
  },
  {
   "cell_type": "markdown",
   "metadata": {},
   "source": [
    "Don't forget to unpersist your DataFrame"
   ]
  },
  {
   "cell_type": "code",
   "execution_count": 16,
   "metadata": {
    "ExecuteTime": {
     "end_time": "2024-03-12T11:51:32.959945200Z",
     "start_time": "2024-03-12T11:51:32.945301100Z"
    }
   },
   "outputs": [
    {
     "data": {
      "text/plain": "DataFrame[value: string]"
     },
     "execution_count": 16,
     "metadata": {},
     "output_type": "execute_result"
    }
   ],
   "source": [
    "df_text.unpersist()"
   ]
  },
  {
   "cell_type": "markdown",
   "metadata": {},
   "source": [
    "### Additional challenge:"
   ]
  },
  {
   "cell_type": "markdown",
   "metadata": {},
   "source": [
    "If you were to remove any punctuation marks, you need a function to correct all sentences."
   ]
  },
  {
   "cell_type": "code",
   "execution_count": 17,
   "metadata": {
    "ExecuteTime": {
     "end_time": "2024-03-12T11:55:57.344050300Z",
     "start_time": "2024-03-12T11:55:57.330942300Z"
    }
   },
   "outputs": [],
   "source": [
    "def remove_punctuation(column):\n",
    "    return F.lower(F.trim(F.regexp_replace(column, r'[^0-9a-zA-ZñÑáéíóúÁÉÍÓÚ ]+', ''))).alias('value')"
   ]
  },
  {
   "cell_type": "markdown",
   "metadata": {},
   "source": [
    "Let's test it:"
   ]
  },
  {
   "cell_type": "code",
   "execution_count": 22,
   "metadata": {
    "ExecuteTime": {
     "end_time": "2024-03-12T11:57:19.583980600Z",
     "start_time": "2024-03-12T11:57:19.564092100Z"
    }
   },
   "outputs": [],
   "source": [
    "sentence = spark.createDataFrame([(u'Hello!, how is it going?',),\n",
    "                                         (u' removing underscore_!',),\n",
    "                                         (u' *      Removing punctuation and blank spaces  * ,',)], ['sentence'])"
   ]
  },
  {
   "cell_type": "code",
   "execution_count": 19,
   "metadata": {
    "ExecuteTime": {
     "end_time": "2024-03-12T11:56:22.647649800Z",
     "start_time": "2024-03-12T11:56:12.654413Z"
    }
   },
   "outputs": [
    {
     "name": "stdout",
     "output_type": "stream",
     "text": [
      "+--------------------+\n",
      "|            sentence|\n",
      "+--------------------+\n",
      "|Hello!, how is it...|\n",
      "| removing undersc...|\n",
      "| *      Removing ...|\n",
      "+--------------------+\n"
     ]
    }
   ],
   "source": [
    "sentence.show()"
   ]
  },
  {
   "cell_type": "markdown",
   "metadata": {},
   "source": [
    "We can simply transform the DataFrame with that function applying the function to the column."
   ]
  },
  {
   "cell_type": "code",
   "execution_count": 21,
   "metadata": {
    "ExecuteTime": {
     "end_time": "2024-03-12T11:57:19.572757700Z",
     "start_time": "2024-03-12T11:57:09.774542Z"
    }
   },
   "outputs": [
    {
     "name": "stdout",
     "output_type": "stream",
     "text": [
      "+--------------------+\n",
      "|               value|\n",
      "+--------------------+\n",
      "|hello how is it g...|\n",
      "| removing underscore|\n",
      "|removing punctuat...|\n",
      "+--------------------+\n"
     ]
    }
   ],
   "source": [
    "sentence.select(remove_punctuation(F.col(\"sentence\"))).show()"
   ]
  },
  {
   "cell_type": "markdown",
   "metadata": {
    "deletable": false,
    "editable": false,
    "nbgrader": {
     "cell_type": "markdown",
     "checksum": "7c15f07906bb1fd48a51d1ce7427b1fa",
     "grade": false,
     "grade_id": "cell-024c26d2f51c3d48",
     "locked": true,
     "schema_version": 3,
     "solution": false,
     "task": false
    }
   },
   "source": [
    "Putting this into our word count function:"
   ]
  },
  {
   "cell_type": "code",
   "execution_count": null,
   "metadata": {
    "deletable": false,
    "nbgrader": {
     "cell_type": "code",
     "checksum": "b9428c200908e5651b29090770e57f7e",
     "grade": true,
     "grade_id": "cell-d9afc18d9f1004e1",
     "locked": false,
     "points": 0,
     "schema_version": 3,
     "solution": true,
     "task": false
    }
   },
   "outputs": [],
   "source": [
    "def enhanced_word_count(file_path):\n",
    "    # <FILL-IN WITH YOUR CODE>\n",
    "enhanced_word_count(\"data/quixote.txt\")"
   ]
  },
  {
   "cell_type": "markdown",
   "metadata": {
    "deletable": false,
    "editable": false,
    "nbgrader": {
     "cell_type": "markdown",
     "checksum": "8e5f4cfcbfbf94108fc6b671ab7c9a3d",
     "grade": false,
     "grade_id": "cell-cd1ed4f3427ea1cd",
     "locked": true,
     "schema_version": 3,
     "solution": false,
     "task": false
    }
   },
   "source": [
    "## Exercise 1. Histogram of word repetition\n",
    "\n",
    "Provide a histogram of word repetitions, that is, the number of words that are repeated X times:\n",
    "\n",
    "* 1 time - 3 words\n",
    "* 2 times - 10 words\n",
    "* 3 times, 20 words\n",
    "...\n",
    "\n",
    "You are asked to implement a `histogram_reps(file_path)` function in Spark that **must not** use the function `word_count(file_path)`, but it could use part of the code you did before. All the processing must be done with **DataFrames**, and there should be a single `collect()` at the end to return a list. The list must be ordered by the number of times.\n",
    "\n",
    "**Input**: The path to a text file\n",
    "\n",
    "**Output**: (number of repetitions, number of words)\n",
    "\n",
    "                                                                                                       [30 marks]\n"
   ]
  },
  {
   "cell_type": "code",
   "execution_count": 65,
   "metadata": {
    "deletable": false,
    "nbgrader": {
     "cell_type": "code",
     "checksum": "96c253124c1be82aba643bfcb5bdac48",
     "grade": false,
     "grade_id": "cell-38476d16f40954cd",
     "locked": false,
     "schema_version": 3,
     "solution": true,
     "task": false
    },
    "ExecuteTime": {
     "end_time": "2024-03-12T12:42:55.437352100Z",
     "start_time": "2024-03-12T12:42:54.886928100Z"
    }
   },
   "outputs": [
    {
     "name": "stdout",
     "output_type": "stream",
     "text": [
      "[Row(repetitions=1, words=17817), Row(repetitions=2, words=5146), Row(repetitions=3, words=2291), Row(repetitions=4, words=1520), Row(repetitions=5, words=998), Row(repetitions=6, words=737), Row(repetitions=7, words=589), Row(repetitions=8, words=439), Row(repetitions=9, words=333), Row(repetitions=10, words=288), Row(repetitions=11, words=227), Row(repetitions=12, words=216), Row(repetitions=13, words=184), Row(repetitions=14, words=199), Row(repetitions=15, words=143), Row(repetitions=16, words=128), Row(repetitions=17, words=109), Row(repetitions=18, words=97), Row(repetitions=19, words=91), Row(repetitions=20, words=90), Row(repetitions=21, words=84), Row(repetitions=22, words=73), Row(repetitions=23, words=72), Row(repetitions=24, words=63), Row(repetitions=25, words=60), Row(repetitions=26, words=38), Row(repetitions=27, words=56), Row(repetitions=28, words=42), Row(repetitions=29, words=51), Row(repetitions=30, words=40), Row(repetitions=31, words=47), Row(repetitions=32, words=27), Row(repetitions=33, words=37), Row(repetitions=34, words=43), Row(repetitions=35, words=25), Row(repetitions=36, words=23), Row(repetitions=37, words=27), Row(repetitions=38, words=28), Row(repetitions=39, words=25), Row(repetitions=40, words=16), Row(repetitions=41, words=15), Row(repetitions=42, words=16), Row(repetitions=43, words=14), Row(repetitions=44, words=14), Row(repetitions=45, words=13), Row(repetitions=46, words=19), Row(repetitions=47, words=19), Row(repetitions=48, words=9), Row(repetitions=49, words=19), Row(repetitions=50, words=17), Row(repetitions=51, words=9), Row(repetitions=52, words=17), Row(repetitions=53, words=12), Row(repetitions=54, words=12), Row(repetitions=55, words=14), Row(repetitions=56, words=8), Row(repetitions=57, words=17), Row(repetitions=58, words=14), Row(repetitions=59, words=8), Row(repetitions=60, words=13), Row(repetitions=61, words=12), Row(repetitions=62, words=11), Row(repetitions=63, words=9), Row(repetitions=64, words=7), Row(repetitions=65, words=13), Row(repetitions=66, words=6), Row(repetitions=67, words=11), Row(repetitions=68, words=10), Row(repetitions=69, words=6), Row(repetitions=70, words=9), Row(repetitions=71, words=15), Row(repetitions=72, words=4), Row(repetitions=73, words=4), Row(repetitions=74, words=10), Row(repetitions=75, words=5), Row(repetitions=76, words=9), Row(repetitions=77, words=7), Row(repetitions=78, words=7), Row(repetitions=79, words=6), Row(repetitions=80, words=6), Row(repetitions=81, words=5), Row(repetitions=82, words=4), Row(repetitions=83, words=4), Row(repetitions=84, words=6), Row(repetitions=85, words=6), Row(repetitions=86, words=10), Row(repetitions=87, words=5), Row(repetitions=88, words=4), Row(repetitions=89, words=7), Row(repetitions=90, words=5), Row(repetitions=91, words=2), Row(repetitions=92, words=5), Row(repetitions=93, words=2), Row(repetitions=94, words=6), Row(repetitions=95, words=5), Row(repetitions=96, words=2), Row(repetitions=97, words=11), Row(repetitions=98, words=3), Row(repetitions=99, words=4), Row(repetitions=100, words=1), Row(repetitions=102, words=4), Row(repetitions=103, words=3), Row(repetitions=104, words=6), Row(repetitions=105, words=4), Row(repetitions=106, words=7), Row(repetitions=107, words=4), Row(repetitions=108, words=7), Row(repetitions=109, words=4), Row(repetitions=110, words=6), Row(repetitions=111, words=2), Row(repetitions=112, words=3), Row(repetitions=113, words=4), Row(repetitions=115, words=1), Row(repetitions=116, words=2), Row(repetitions=117, words=6), Row(repetitions=118, words=4), Row(repetitions=119, words=2), Row(repetitions=120, words=1), Row(repetitions=122, words=4), Row(repetitions=123, words=3), Row(repetitions=124, words=3), Row(repetitions=125, words=4), Row(repetitions=126, words=3), Row(repetitions=127, words=1), Row(repetitions=128, words=4), Row(repetitions=129, words=4), Row(repetitions=131, words=2), Row(repetitions=132, words=2), Row(repetitions=133, words=1), Row(repetitions=134, words=2), Row(repetitions=135, words=1), Row(repetitions=136, words=2), Row(repetitions=137, words=1), Row(repetitions=138, words=2), Row(repetitions=139, words=3), Row(repetitions=141, words=3), Row(repetitions=142, words=2), Row(repetitions=143, words=2), Row(repetitions=144, words=1), Row(repetitions=146, words=3), Row(repetitions=147, words=3), Row(repetitions=148, words=1), Row(repetitions=149, words=2), Row(repetitions=150, words=1), Row(repetitions=151, words=1), Row(repetitions=152, words=2), Row(repetitions=154, words=1), Row(repetitions=155, words=1), Row(repetitions=156, words=2), Row(repetitions=157, words=2), Row(repetitions=158, words=2), Row(repetitions=159, words=2), Row(repetitions=160, words=1), Row(repetitions=161, words=2), Row(repetitions=162, words=2), Row(repetitions=163, words=2), Row(repetitions=165, words=1), Row(repetitions=166, words=2), Row(repetitions=167, words=2), Row(repetitions=168, words=3), Row(repetitions=169, words=1), Row(repetitions=171, words=1), Row(repetitions=173, words=1), Row(repetitions=174, words=2), Row(repetitions=175, words=1), Row(repetitions=176, words=3), Row(repetitions=177, words=1), Row(repetitions=179, words=2), Row(repetitions=180, words=1), Row(repetitions=181, words=2), Row(repetitions=182, words=3), Row(repetitions=183, words=1), Row(repetitions=185, words=2), Row(repetitions=186, words=2), Row(repetitions=187, words=1), Row(repetitions=188, words=1), Row(repetitions=190, words=2), Row(repetitions=191, words=1), Row(repetitions=192, words=2), Row(repetitions=193, words=3), Row(repetitions=195, words=1), Row(repetitions=196, words=2), Row(repetitions=197, words=2), Row(repetitions=199, words=2), Row(repetitions=200, words=3), Row(repetitions=201, words=1), Row(repetitions=203, words=1), Row(repetitions=204, words=3), Row(repetitions=206, words=1), Row(repetitions=207, words=1), Row(repetitions=208, words=1), Row(repetitions=209, words=1), Row(repetitions=210, words=2), Row(repetitions=212, words=1), Row(repetitions=215, words=2), Row(repetitions=216, words=2), Row(repetitions=219, words=1), Row(repetitions=221, words=1), Row(repetitions=225, words=1), Row(repetitions=229, words=1), Row(repetitions=230, words=1), Row(repetitions=231, words=1), Row(repetitions=234, words=1), Row(repetitions=236, words=1), Row(repetitions=238, words=1), Row(repetitions=241, words=1), Row(repetitions=242, words=1), Row(repetitions=244, words=1), Row(repetitions=248, words=1), Row(repetitions=252, words=1), Row(repetitions=255, words=1), Row(repetitions=259, words=1), Row(repetitions=260, words=1), Row(repetitions=261, words=1), Row(repetitions=262, words=2), Row(repetitions=263, words=1), Row(repetitions=268, words=1), Row(repetitions=274, words=1), Row(repetitions=276, words=1), Row(repetitions=278, words=2), Row(repetitions=289, words=1), Row(repetitions=290, words=1), Row(repetitions=291, words=2), Row(repetitions=295, words=1), Row(repetitions=298, words=2), Row(repetitions=299, words=1), Row(repetitions=306, words=1), Row(repetitions=308, words=1), Row(repetitions=311, words=1), Row(repetitions=312, words=2), Row(repetitions=313, words=1), Row(repetitions=321, words=2), Row(repetitions=326, words=1), Row(repetitions=327, words=1), Row(repetitions=334, words=1), Row(repetitions=336, words=1), Row(repetitions=340, words=1), Row(repetitions=342, words=1), Row(repetitions=343, words=2), Row(repetitions=347, words=1), Row(repetitions=349, words=1), Row(repetitions=351, words=1), Row(repetitions=356, words=1), Row(repetitions=364, words=1), Row(repetitions=385, words=1), Row(repetitions=388, words=1), Row(repetitions=391, words=1), Row(repetitions=397, words=1), Row(repetitions=400, words=3), Row(repetitions=404, words=2), Row(repetitions=420, words=1), Row(repetitions=421, words=1), Row(repetitions=424, words=1), Row(repetitions=443, words=1), Row(repetitions=450, words=1), Row(repetitions=459, words=1), Row(repetitions=469, words=2), Row(repetitions=470, words=1), Row(repetitions=479, words=1), Row(repetitions=484, words=2), Row(repetitions=486, words=1), Row(repetitions=490, words=1), Row(repetitions=500, words=1), Row(repetitions=509, words=1), Row(repetitions=510, words=1), Row(repetitions=513, words=2), Row(repetitions=514, words=1), Row(repetitions=518, words=2), Row(repetitions=523, words=1), Row(repetitions=525, words=1), Row(repetitions=527, words=1), Row(repetitions=530, words=1), Row(repetitions=532, words=1), Row(repetitions=546, words=1), Row(repetitions=549, words=1), Row(repetitions=553, words=1), Row(repetitions=559, words=1), Row(repetitions=581, words=1), Row(repetitions=583, words=1), Row(repetitions=607, words=1), Row(repetitions=609, words=1), Row(repetitions=611, words=1), Row(repetitions=617, words=1), Row(repetitions=626, words=1), Row(repetitions=634, words=1), Row(repetitions=641, words=1), Row(repetitions=646, words=1), Row(repetitions=647, words=1), Row(repetitions=648, words=1), Row(repetitions=649, words=1), Row(repetitions=652, words=1), Row(repetitions=669, words=1), Row(repetitions=676, words=1), Row(repetitions=715, words=1), Row(repetitions=720, words=1), Row(repetitions=723, words=1), Row(repetitions=736, words=1), Row(repetitions=762, words=1), Row(repetitions=764, words=1), Row(repetitions=773, words=1), Row(repetitions=788, words=1), Row(repetitions=839, words=1), Row(repetitions=849, words=1), Row(repetitions=852, words=1), Row(repetitions=864, words=1), Row(repetitions=875, words=1), Row(repetitions=877, words=1), Row(repetitions=888, words=1), Row(repetitions=912, words=1), Row(repetitions=938, words=1), Row(repetitions=968, words=1), Row(repetitions=1000, words=1), Row(repetitions=1001, words=1), Row(repetitions=1012, words=1), Row(repetitions=1014, words=1), Row(repetitions=1078, words=1), Row(repetitions=1093, words=1), Row(repetitions=1137, words=1), Row(repetitions=1218, words=1), Row(repetitions=1227, words=1), Row(repetitions=1270, words=1), Row(repetitions=1274, words=1), Row(repetitions=1288, words=1), Row(repetitions=1310, words=1), Row(repetitions=1510, words=1), Row(repetitions=1522, words=1), Row(repetitions=1547, words=1), Row(repetitions=1613, words=1), Row(repetitions=1683, words=1), Row(repetitions=1703, words=1), Row(repetitions=1726, words=1), Row(repetitions=1749, words=1), Row(repetitions=1777, words=1), Row(repetitions=1863, words=1), Row(repetitions=1930, words=1), Row(repetitions=1968, words=1), Row(repetitions=2038, words=1), Row(repetitions=2174, words=1), Row(repetitions=2183, words=1), Row(repetitions=2193, words=1), Row(repetitions=2209, words=1), Row(repetitions=2289, words=1), Row(repetitions=2386, words=1), Row(repetitions=2419, words=1), Row(repetitions=2459, words=1), Row(repetitions=2532, words=1), Row(repetitions=2542, words=1), Row(repetitions=2713, words=1), Row(repetitions=3067, words=1), Row(repetitions=3419, words=1), Row(repetitions=3422, words=1), Row(repetitions=3508, words=1), Row(repetitions=3524, words=1), Row(repetitions=4199, words=1), Row(repetitions=4252, words=1), Row(repetitions=4518, words=1), Row(repetitions=4534, words=1), Row(repetitions=5640, words=1), Row(repetitions=5756, words=1), Row(repetitions=6860, words=1), Row(repetitions=7003, words=1), Row(repetitions=7164, words=1), Row(repetitions=7596, words=1), Row(repetitions=12866, words=1), Row(repetitions=13492, words=1), Row(repetitions=16606, words=1), Row(repetitions=20923, words=1)]\n"
     ]
    },
    {
     "data": {
      "text/plain": "[Row(repetitions=1, words=17817),\n Row(repetitions=2, words=5146),\n Row(repetitions=3, words=2291),\n Row(repetitions=4, words=1520),\n Row(repetitions=5, words=998),\n Row(repetitions=6, words=737),\n Row(repetitions=7, words=589),\n Row(repetitions=8, words=439),\n Row(repetitions=9, words=333),\n Row(repetitions=10, words=288)]"
     },
     "execution_count": 65,
     "metadata": {},
     "output_type": "execute_result"
    }
   ],
   "source": [
    "def histogram_reps(file_path):\n",
    "    df = spark.read.text(file_path)\n",
    "    wordf=df.select(F.explode(F.split(\"value\",\" \")).alias(\"word\")).groupBy(\"word\").count()\n",
    "    countf=wordf.select(F.col(\"count\").alias(\"repetitions\")).groupBy(\"repetitions\").count().select(F.col(\"repetitions\"),F.col(\"count\").alias(\"words\")).orderBy(\"repetitions\")\n",
    "    print(countf.collect())\n",
    "    return countf.collect()\n",
    "histogram_reps('data/quixote.txt')[:10] # look at the first 20 results    "
   ]
  },
  {
   "cell_type": "code",
   "execution_count": 64,
   "metadata": {
    "deletable": false,
    "editable": false,
    "nbgrader": {
     "cell_type": "code",
     "checksum": "a544c7eef583dce482f2602922816325",
     "grade": true,
     "grade_id": "cell-bdde40e488c56163",
     "locked": true,
     "points": 0,
     "schema_version": 3,
     "solution": false,
     "task": false
    },
    "ExecuteTime": {
     "end_time": "2024-03-12T12:42:24.898252Z",
     "start_time": "2024-03-12T12:42:24.366368500Z"
    }
   },
   "outputs": [
    {
     "name": "stdout",
     "output_type": "stream",
     "text": [
      "1 test passed.\n"
     ]
    }
   ],
   "source": [
    "hist_quixote = histogram_reps(\"data/quixote.txt\")\n",
    "test(hist_quixote[:10],[(1, 17817), (2, 5146), (3, 2291), (4, 1520), \n",
    "                                     (5, 998), (6, 737), (7, 589), (8, 439), (9, 333), (10, 288)], \"Try again!\")"
   ]
  },
  {
   "cell_type": "markdown",
   "metadata": {},
   "source": [
    "You could plot this with the matplotlib library:"
   ]
  },
  {
   "cell_type": "code",
   "execution_count": 66,
   "metadata": {
    "ExecuteTime": {
     "end_time": "2024-03-12T12:43:46.415649900Z",
     "start_time": "2024-03-12T12:43:46.179586400Z"
    }
   },
   "outputs": [
    {
     "data": {
      "text/plain": "<Figure size 640x480 with 1 Axes>",
      "image/png": "[encoded data removed]"
     },
     "metadata": {},
     "output_type": "display_data"
    }
   ],
   "source": [
    "(x_values, y_values) = zip(*hist_quixote[:10])\n",
    "plt.bar(x_values, y_values)\n",
    "plt.title('Histogram of repetitions (up to 10)')\n",
    "plt.xlabel('Number of repetitions')\n",
    "plt.ylabel('Number of words')\n",
    "plt.show()"
   ]
  },
  {
   "cell_type": "markdown",
   "metadata": {
    "deletable": false,
    "editable": false,
    "nbgrader": {
     "cell_type": "markdown",
     "checksum": "dc16f0ec55f3c445756d2dfdb8ad91a4",
     "grade": false,
     "grade_id": "cell-5f7c2d07ff5e0889",
     "locked": true,
     "schema_version": 3,
     "solution": false,
     "task": false
    }
   },
   "source": [
    "## Exercise 2. Histogram of the length of the words\n",
    "\n",
    "\n",
    "Provide a histogram of the length of the words. Word repetition is not a problem, so if you have the word 'bye' twice in your document, you would add 2 to the number of words of length 3.\n",
    "\n",
    "* Length 1 - 100 times\n",
    "* Length 2 - 300 times\n",
    "* Length 3 - 400 times\n",
    "...\n",
    "\n",
    "You are asked to implement a `histogram_length(file_path)` function in Spark. All the processing must be done with **DataFrames**, and there should be a single `collect()` at the end to return a list. The list must be ordered by the length of the words.\n",
    "\n",
    "**Input**: A text document or multiple text documents\n",
    "\n",
    "**Output**: (Length, number of words)\n",
    "\n",
    "**Note: We are going to assume that the maximum word length is 16 characters, so anything above that shouldn't appear in the result.**\n",
    "\n",
    "                                                                                                       [30 marks]"
   ]
  },
  {
   "cell_type": "code",
   "execution_count": 127,
   "metadata": {
    "deletable": false,
    "nbgrader": {
     "cell_type": "code",
     "checksum": "efee1ed48b1a2144673c4af16a59233b",
     "grade": false,
     "grade_id": "cell-7cccb15c1a1e97fb",
     "locked": false,
     "schema_version": 3,
     "solution": true,
     "task": false
    },
    "ExecuteTime": {
     "end_time": "2024-03-12T15:22:55.229605600Z",
     "start_time": "2024-03-12T15:22:55.042273600Z"
    }
   },
   "outputs": [
    {
     "name": "stdout",
     "output_type": "stream",
     "text": [
      "[Row(Length=1, count=12978), Row(Length=2, count=80003), Row(Length=3, count=98414), Row(Length=4, count=80717), Row(Length=5, count=45809), Row(Length=6, count=33672), Row(Length=7, count=30995), Row(Length=8, count=19570), Row(Length=9, count=12350), Row(Length=10, count=7929), Row(Length=11, count=3849), Row(Length=12, count=2043), Row(Length=13, count=963), Row(Length=14, count=539), Row(Length=15, count=251), Row(Length=16, count=110)]\n"
     ]
    },
    {
     "data": {
      "text/plain": "[Row(Length=1, count=12978),\n Row(Length=2, count=80003),\n Row(Length=3, count=98414),\n Row(Length=4, count=80717),\n Row(Length=5, count=45809),\n Row(Length=6, count=33672),\n Row(Length=7, count=30995),\n Row(Length=8, count=19570),\n Row(Length=9, count=12350),\n Row(Length=10, count=7929),\n Row(Length=11, count=3849),\n Row(Length=12, count=2043),\n Row(Length=13, count=963),\n Row(Length=14, count=539),\n Row(Length=15, count=251),\n Row(Length=16, count=110)]"
     },
     "execution_count": 127,
     "metadata": {},
     "output_type": "execute_result"
    }
   ],
   "source": [
    "def histogram_length(file_path):\n",
    "    df=spark.read.text(file_path)\n",
    "    df=df.select(F.explode(F.split(\"value\",\" \")).alias(\"word\")).filter(\"word != ''\").filter(F.length(\"word\")<=16)\n",
    "    df=df.select(F.length(\"word\").alias(\"Length\"),F.col(\"word\")).groupBy(\"Length\").count().orderBy(\"Length\")\n",
    "    print(df.collect())\n",
    "    return df.collect()\n",
    "    # <FILL-IN WITH YOUR CODE>\n",
    "histogram_length(\"data/quixote.txt\")"
   ]
  },
  {
   "cell_type": "code",
   "execution_count": 128,
   "metadata": {
    "deletable": false,
    "editable": false,
    "nbgrader": {
     "cell_type": "code",
     "checksum": "48968bcb54f2e2fde4cf4371d8d68292",
     "grade": true,
     "grade_id": "cell-e460ec12b208f800",
     "locked": true,
     "points": 0,
     "schema_version": 3,
     "solution": false,
     "task": false
    },
    "ExecuteTime": {
     "end_time": "2024-03-12T15:22:58.377977700Z",
     "start_time": "2024-03-12T15:22:58.190982100Z"
    }
   },
   "outputs": [
    {
     "name": "stdout",
     "output_type": "stream",
     "text": [
      "[Row(Length=1, count=12978), Row(Length=2, count=80003), Row(Length=3, count=98414), Row(Length=4, count=80717), Row(Length=5, count=45809), Row(Length=6, count=33672), Row(Length=7, count=30995), Row(Length=8, count=19570), Row(Length=9, count=12350), Row(Length=10, count=7929), Row(Length=11, count=3849), Row(Length=12, count=2043), Row(Length=13, count=963), Row(Length=14, count=539), Row(Length=15, count=251), Row(Length=16, count=110)]\n",
      "[Row(Length=1, count=12978), Row(Length=2, count=80003), Row(Length=3, count=98414), Row(Length=4, count=80717), Row(Length=5, count=45809), Row(Length=6, count=33672), Row(Length=7, count=30995), Row(Length=8, count=19570), Row(Length=9, count=12350), Row(Length=10, count=7929), Row(Length=11, count=3849), Row(Length=12, count=2043), Row(Length=13, count=963), Row(Length=14, count=539), Row(Length=15, count=251), Row(Length=16, count=110)]\n",
      "1 test passed.\n"
     ]
    }
   ],
   "source": [
    "length_quixote = histogram_length(\"data/quixote.txt\")\n",
    "print(length_quixote)\n",
    "test(length_quixote, [(1, 12978), (2, 80003), (3, 98414), (4, 80717), (5, 45809), \n",
    "                                   (6, 33672), (7, 30995), (8, 19570), (9, 12350), (10, 7929),\n",
    "                                   (11, 3849), (12, 2043), (13, 963), (14, 539), (15, 251), (16, 110)],\"Try again!\")"
   ]
  },
  {
   "cell_type": "markdown",
   "metadata": {
    "deletable": false,
    "editable": false,
    "nbgrader": {
     "cell_type": "markdown",
     "checksum": "93c0dc5f92724d7291a7b99be64e2e59",
     "grade": false,
     "grade_id": "cell-4246a9f0a617488f",
     "locked": true,
     "schema_version": 3,
     "solution": false,
     "task": false
    }
   },
   "source": [
    "## Exercise 3. Average length of the words in a document\n",
    "\n",
    "You are now asked to implement an `average_length(file_path)` function in Spark that provides the average length of the words in a document or documents. All the processing must be done with  using **DataFrames**., and the last instruction must be the only one returning a result to the driver. \n",
    "\n",
    "**Input**: The path to a text file\n",
    "\n",
    "**Output**: Average length of the words\n",
    "\n",
    "**Note: Again, we are going to assume that the maximum word length is 16 characters, so anything above that shouldn't be used to compute the average**\n",
    "\n",
    "**Hint**: You might be able to use some built-in functions from Spark!\n",
    "\n",
    "                                                                                                       [30 marks]"
   ]
  },
  {
   "cell_type": "code",
   "execution_count": 160,
   "metadata": {
    "deletable": false,
    "nbgrader": {
     "cell_type": "code",
     "checksum": "42fa941a9167c743ab567552f0327b9a",
     "grade": false,
     "grade_id": "cell-c584893574d599e2",
     "locked": false,
     "schema_version": 3,
     "solution": true
    },
    "ExecuteTime": {
     "end_time": "2024-03-12T17:49:48.533107300Z",
     "start_time": "2024-03-12T17:49:47.562962900Z"
    }
   },
   "outputs": [
    {
     "name": "stdout",
     "output_type": "stream",
     "text": [
      "[Row(Length=1, count=12978), Row(Length=2, count=80003), Row(Length=3, count=98414), Row(Length=4, count=80717), Row(Length=5, count=45809), Row(Length=6, count=33672), Row(Length=7, count=30995), Row(Length=8, count=19570), Row(Length=9, count=12350), Row(Length=10, count=7929), Row(Length=11, count=3849), Row(Length=12, count=2043), Row(Length=13, count=963), Row(Length=14, count=539), Row(Length=15, count=251), Row(Length=16, count=110)]\n",
      "4.366843177000037\n"
     ]
    },
    {
     "data": {
      "text/plain": "4.366843177000037"
     },
     "execution_count": 160,
     "metadata": {},
     "output_type": "execute_result"
    }
   ],
   "source": [
    "def average_length(file_path):\n",
    "    df=spark.read.text(file_path)\n",
    "    df=df.select(F.explode(F.split(\"value\",\" \")).alias(\"word\")).filter(\"word != ''\").filter(F.length(\"word\")<=16)\n",
    "    df=df.select(F.length(\"word\").alias(\"Length\"),F.col(\"word\")).groupBy(\"Length\").count().orderBy(\"Length\")\n",
    "    print(df.collect())\n",
    "    total_length = df.select((F.col(\"Length\")*F.col(\"count\")).alias(\"total\"))\n",
    "    result=total_length.select(F.sum(\"total\")).collect()[0][0]/df.select(F.sum(\"count\")).collect()[0][0]\n",
    "    print(result)\n",
    "    return result\n",
    "average_length(\"data/quixote.txt\")"
   ]
  },
  {
   "cell_type": "markdown",
   "metadata": {
    "deletable": false,
    "editable": false,
    "nbgrader": {
     "cell_type": "markdown",
     "checksum": "2274135a27bb41ba871722281a093978",
     "grade": false,
     "grade_id": "cell-d5d1b9609cbb789b",
     "locked": true,
     "schema_version": 3,
     "solution": false,
     "task": false
    }
   },
   "source": [
    "The program should pass the following test:"
   ]
  },
  {
   "cell_type": "code",
   "execution_count": 161,
   "metadata": {
    "deletable": false,
    "editable": false,
    "nbgrader": {
     "cell_type": "code",
     "checksum": "0b36a83b8a46e83c5c34a0467409b584",
     "grade": true,
     "grade_id": "cell-b707812456f2ad27",
     "locked": true,
     "points": 5,
     "schema_version": 3,
     "solution": false
    },
    "ExecuteTime": {
     "end_time": "2024-03-12T17:49:51.583502100Z",
     "start_time": "2024-03-12T17:49:50.665501300Z"
    }
   },
   "outputs": [
    {
     "name": "stdout",
     "output_type": "stream",
     "text": [
      "[Row(Length=1, count=12978), Row(Length=2, count=80003), Row(Length=3, count=98414), Row(Length=4, count=80717), Row(Length=5, count=45809), Row(Length=6, count=33672), Row(Length=7, count=30995), Row(Length=8, count=19570), Row(Length=9, count=12350), Row(Length=10, count=7929), Row(Length=11, count=3849), Row(Length=12, count=2043), Row(Length=13, count=963), Row(Length=14, count=539), Row(Length=15, count=251), Row(Length=16, count=110)]\n",
      "4.366843177000037\n",
      "1 test passed.\n"
     ]
    }
   ],
   "source": [
    "avg = average_length(\"data/quixote.txt\")\n",
    "test(round(avg,2), 4.37,'Try again!')"
   ]
  }
 ],
 "metadata": {
  "kernelspec": {
   "display_name": "Python 3 (ipykernel)",
   "language": "python",
   "name": "python3"
  },
  "language_info": {
   "codemirror_mode": {
    "name": "ipython",
    "version": 3
   },
   "file_extension": ".py",
   "mimetype": "text/x-python",
   "name": "python",
   "nbconvert_exporter": "python",
   "pygments_lexer": "ipython3",
   "version": "3.9.7"
  }
 },
 "nbformat": 4,
 "nbformat_minor": 2
}
