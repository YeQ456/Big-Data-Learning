{
 "cells": [
  {
   "cell_type": "markdown",
   "metadata": {
    "deletable": false,
    "editable": false,
    "nbgrader": {
     "cell_type": "markdown",
     "checksum": "a39d36b0e98a5a2b0bb7db44fbf0ba3d",
     "grade": false,
     "grade_id": "cell-34556ecbf3be9299",
     "locked": true,
     "schema_version": 3,
     "solution": false,
     "task": false
    }
   },
   "source": [
    "# Spark RDD\n",
    "## Lab assignment: Exercises with MapReduce on Apache Spark\n",
    "\n",
    "The aim of this notebook is to play with the RDD API of Apache Spark, aiming to solve the same four MapReduce exercises we did for the first lab. \n",
    "\n",
    "Note that in the previous lab, we solved the exercises at a conceptual level, tackling most exercises with **a single Map followed by a single Reduce function**. In Spark, we may be able to concatenate multiple `map` (or `flatMap`) functions to transform the input data into what we want, letting Spark optimize the whole job, which is going to be easier (and more efficient) to implement. Moreover, we will have a lot more functions available apart from Map and Reduce."
   ]
  },
  {
   "cell_type": "markdown",
   "metadata": {
    "deletable": false,
    "editable": false,
    "nbgrader": {
     "cell_type": "markdown",
     "checksum": "d0940e388760ccf5e1c087185b666a04",
     "grade": false,
     "grade_id": "cell-41d8f418a3488649",
     "locked": true,
     "schema_version": 3,
     "solution": false,
     "task": false
    }
   },
   "source": [
    "## Submission and marking criteria\n",
    "\n",
    "You should complete this notebook and add your solutions to it. When you are done, rename your completed notebook as `ex02.ipynb`. \n",
    "\n",
    "Important notes:\n",
    "- The **group leader** must submit the `ex02.ipynb` file on Moodle.\n",
    "- **Each member of the group** must complete the peer review survey and their contribution statement using this [link](https://forms.office.com/Pages/ResponsePage.aspx?id=7qe9Z4D970GskTWEGCkKHjZupmfSK6JKqlvGZrucaoBUNlJETExBQU1EN1pST0ZQS0xEN1gyTjYyMSQlQCN0PWcu). **You can only submit this survey ONCE**.\n",
    "- This lab is marked out of 100 marks, and each exercise is worth 25 marks.\n",
    "- The marking will be focused on:\n",
    "    - Code that does solve the task correctly (10 marks).\n",
    "    - Efficiency of the solution (15 marks).\n",
    "    - Minor mistakes will deduct marks from each exercise.\n",
    "- **Submission deadline: 4th March 2022 at 3pm**"
   ]
  },
  {
   "cell_type": "markdown",
   "metadata": {
    "deletable": false,
    "editable": false,
    "nbgrader": {
     "cell_type": "markdown",
     "checksum": "56d1dc68ea55559695c6609107f5061a",
     "grade": false,
     "grade_id": "cell-1525f00aaf6b41a3",
     "locked": true,
     "schema_version": 3,
     "solution": false,
     "task": false
    }
   },
   "source": [
    "## Set-up"
   ]
  },
  {
   "cell_type": "markdown",
   "metadata": {
    "deletable": false,
    "editable": false,
    "nbgrader": {
     "cell_type": "markdown",
     "checksum": "9cfb2fac2b6f9e548fb96bf41ddd5b54",
     "grade": false,
     "grade_id": "cell-f996e77963026a8e",
     "locked": true,
     "schema_version": 3,
     "solution": false,
     "task": false
    }
   },
   "source": [
    "The first thing we need to do to start working with Spark is to initialize the `SparkContext`. We will also import a few libraries we will use. *Remember if you are using Databricks that `spark` and `sc` are already available to you and don't need initializing.* "
   ]
  },
  {
   "cell_type": "code",
   "execution_count": 2,
   "metadata": {},
   "outputs": [
    {
     "name": "stdout",
     "output_type": "stream",
     "text": [
      "Defaulting to user installation because normal site-packages is not writeable\n",
      "Collecting pyspark\n",
      "  Downloading pyspark-3.5.0.tar.gz (316.9 MB)\n",
      "     ---------------------------------------- 0.0/316.9 MB ? eta -:--:--\n",
      "     -------------------------------------- 0.0/316.9 MB 991.0 kB/s eta 0:05:20\n",
      "     ---------------------------------------- 0.4/316.9 MB 5.1 MB/s eta 0:01:02\n",
      "     ---------------------------------------- 1.0/316.9 MB 7.8 MB/s eta 0:00:41\n",
      "     --------------------------------------- 1.8/316.9 MB 10.7 MB/s eta 0:00:30\n",
      "     --------------------------------------- 3.0/316.9 MB 13.7 MB/s eta 0:00:23\n",
      "      -------------------------------------- 4.7/316.9 MB 17.7 MB/s eta 0:00:18\n",
      "      -------------------------------------- 7.4/316.9 MB 23.6 MB/s eta 0:00:14\n",
      "     - ------------------------------------ 11.1/316.9 MB 43.7 MB/s eta 0:00:07\n",
      "     - ------------------------------------ 15.2/316.9 MB 72.6 MB/s eta 0:00:05\n",
      "     -- ----------------------------------- 19.1/316.9 MB 81.8 MB/s eta 0:00:04\n",
      "     -- ----------------------------------- 23.5/316.9 MB 81.8 MB/s eta 0:00:04\n",
      "     --- ---------------------------------- 27.0/316.9 MB 81.8 MB/s eta 0:00:04\n",
      "     --- ---------------------------------- 30.3/316.9 MB 93.9 MB/s eta 0:00:04\n",
      "     ---- --------------------------------- 34.5/316.9 MB 81.8 MB/s eta 0:00:04\n",
      "     ---- --------------------------------- 38.0/316.9 MB 81.8 MB/s eta 0:00:04\n",
      "     ----- -------------------------------- 42.0/316.9 MB 81.8 MB/s eta 0:00:04\n",
      "     ----- -------------------------------- 46.3/316.9 MB 81.8 MB/s eta 0:00:04\n",
      "     ------ ------------------------------- 50.2/316.9 MB 93.9 MB/s eta 0:00:03\n",
      "     ------ ------------------------------- 54.2/316.9 MB 93.9 MB/s eta 0:00:03\n",
      "     ------- ------------------------------ 58.4/316.9 MB 93.0 MB/s eta 0:00:03\n",
      "     ------- ------------------------------ 62.7/316.9 MB 93.0 MB/s eta 0:00:03\n",
      "     -------- ----------------------------- 66.8/316.9 MB 93.0 MB/s eta 0:00:03\n",
      "     -------- ----------------------------- 70.8/316.9 MB 93.9 MB/s eta 0:00:03\n",
      "     -------- ----------------------------- 73.9/316.9 MB 93.0 MB/s eta 0:00:03\n",
      "     --------- ---------------------------- 77.9/316.9 MB 81.8 MB/s eta 0:00:03\n",
      "     --------- ---------------------------- 82.2/316.9 MB 81.8 MB/s eta 0:00:03\n",
      "     ---------- --------------------------- 85.9/316.9 MB 81.8 MB/s eta 0:00:03\n",
      "     ---------- --------------------------- 90.1/316.9 MB 81.8 MB/s eta 0:00:03\n",
      "     ----------- -------------------------- 94.4/316.9 MB 93.0 MB/s eta 0:00:03\n",
      "     ----------- -------------------------- 98.9/316.9 MB 93.0 MB/s eta 0:00:03\n",
      "     ------------ ------------------------ 102.9/316.9 MB 93.9 MB/s eta 0:00:03\n",
      "     ------------ ------------------------ 107.2/316.9 MB 81.8 MB/s eta 0:00:03\n",
      "     ------------ ------------------------ 111.2/316.9 MB 81.8 MB/s eta 0:00:03\n",
      "     ------------- ----------------------- 115.3/316.9 MB 81.8 MB/s eta 0:00:03\n",
      "     ------------- ----------------------- 119.7/316.9 MB 93.9 MB/s eta 0:00:03\n",
      "     -------------- ---------------------- 123.8/316.9 MB 93.0 MB/s eta 0:00:03\n",
      "     -------------- ---------------------- 128.0/316.9 MB 81.8 MB/s eta 0:00:03\n",
      "     --------------- --------------------- 132.2/316.9 MB 93.0 MB/s eta 0:00:02\n",
      "     --------------- --------------------- 136.4/316.9 MB 93.9 MB/s eta 0:00:02\n",
      "     ---------------- -------------------- 140.3/316.9 MB 81.8 MB/s eta 0:00:03\n",
      "     ---------------- -------------------- 144.7/316.9 MB 81.8 MB/s eta 0:00:03\n",
      "     ----------------- ------------------- 148.9/316.9 MB 93.9 MB/s eta 0:00:02\n",
      "     ----------------- ------------------- 152.8/316.9 MB 81.8 MB/s eta 0:00:03\n",
      "     ------------------ ------------------ 157.1/316.9 MB 93.0 MB/s eta 0:00:02\n",
      "     ------------------ ------------------ 161.2/316.9 MB 81.8 MB/s eta 0:00:02\n",
      "     ------------------- ----------------- 165.0/316.9 MB 93.9 MB/s eta 0:00:02\n",
      "     ------------------- ----------------- 169.2/316.9 MB 93.0 MB/s eta 0:00:02\n",
      "     -------------------- ---------------- 173.7/316.9 MB 93.0 MB/s eta 0:00:02\n",
      "     -------------------- ---------------- 178.0/316.9 MB 93.0 MB/s eta 0:00:02\n",
      "     --------------------- --------------- 182.1/316.9 MB 93.9 MB/s eta 0:00:02\n",
      "     --------------------- --------------- 186.1/316.9 MB 93.9 MB/s eta 0:00:02\n",
      "     ---------------------- -------------- 189.9/316.9 MB 93.9 MB/s eta 0:00:02\n",
      "     ---------------------- -------------- 193.6/316.9 MB 81.8 MB/s eta 0:00:02\n",
      "     ----------------------- ------------- 197.5/316.9 MB 93.9 MB/s eta 0:00:02\n",
      "     ----------------------- ------------- 201.9/316.9 MB 81.8 MB/s eta 0:00:02\n",
      "     ------------------------ ------------ 206.1/316.9 MB 93.0 MB/s eta 0:00:02\n",
      "     ------------------------ ------------ 210.0/316.9 MB 93.0 MB/s eta 0:00:02\n",
      "     ------------------------- ----------- 214.5/316.9 MB 93.9 MB/s eta 0:00:02\n",
      "     ------------------------- ----------- 218.6/316.9 MB 93.9 MB/s eta 0:00:02\n",
      "     -------------------------- ---------- 223.0/316.9 MB 93.9 MB/s eta 0:00:02\n",
      "     -------------------------- ---------- 227.3/316.9 MB 93.9 MB/s eta 0:00:01\n",
      "     --------------------------- --------- 231.6/316.9 MB 93.9 MB/s eta 0:00:01\n",
      "     --------------------------- --------- 235.9/316.9 MB 93.0 MB/s eta 0:00:01\n",
      "     ---------------------------- -------- 240.3/316.9 MB 93.0 MB/s eta 0:00:01\n",
      "     ---------------------------- -------- 244.3/316.9 MB 93.0 MB/s eta 0:00:01\n",
      "     ----------------------------- ------- 248.4/316.9 MB 93.9 MB/s eta 0:00:01\n",
      "     ----------------------------- ------- 252.8/316.9 MB 93.9 MB/s eta 0:00:01\n",
      "     ------------------------------ ------ 257.4/316.9 MB 93.9 MB/s eta 0:00:01\n",
      "     ------------------------------ ------ 261.6/316.9 MB 93.9 MB/s eta 0:00:01\n",
      "     ------------------------------ ------ 265.3/316.9 MB 93.9 MB/s eta 0:00:01\n",
      "     ------------------------------- ----- 269.3/316.9 MB 93.0 MB/s eta 0:00:01\n",
      "     ------------------------------- ----- 273.4/316.9 MB 81.8 MB/s eta 0:00:01\n",
      "     -------------------------------- ---- 277.8/316.9 MB 93.0 MB/s eta 0:00:01\n",
      "     -------------------------------- ---- 282.1/316.9 MB 93.9 MB/s eta 0:00:01\n",
      "     -------------------------------- ---- 282.6/316.9 MB 65.6 MB/s eta 0:00:01\n",
      "     --------------------------------- --- 286.3/316.9 MB 65.6 MB/s eta 0:00:01\n",
      "     --------------------------------- --- 290.1/316.9 MB 65.6 MB/s eta 0:00:01\n",
      "     ---------------------------------- -- 293.6/316.9 MB 81.8 MB/s eta 0:00:01\n",
      "     ---------------------------------- -- 297.8/316.9 MB 81.8 MB/s eta 0:00:01\n",
      "     ----------------------------------- - 302.1/316.9 MB 93.0 MB/s eta 0:00:01\n",
      "     ----------------------------------- - 306.3/316.9 MB 93.0 MB/s eta 0:00:01\n",
      "     ------------------------------------  310.3/316.9 MB 93.9 MB/s eta 0:00:01\n",
      "     ------------------------------------  315.0/316.9 MB 93.9 MB/s eta 0:00:01\n",
      "     ------------------------------------  316.9/316.9 MB 93.9 MB/s eta 0:00:01\n",
      "     ------------------------------------  316.9/316.9 MB 93.9 MB/s eta 0:00:01\n",
      "     ------------------------------------  316.9/316.9 MB 93.9 MB/s eta 0:00:01\n",
      "     ------------------------------------  316.9/316.9 MB 93.9 MB/s eta 0:00:01\n",
      "     ------------------------------------  316.9/316.9 MB 93.9 MB/s eta 0:00:01\n",
      "     ------------------------------------  316.9/316.9 MB 93.9 MB/s eta 0:00:01\n",
      "     ------------------------------------  316.9/316.9 MB 93.9 MB/s eta 0:00:01\n",
      "     ------------------------------------  316.9/316.9 MB 93.9 MB/s eta 0:00:01\n",
      "     ------------------------------------- 316.9/316.9 MB 18.2 MB/s eta 0:00:00\n",
      "  Preparing metadata (setup.py): started\n",
      "  Preparing metadata (setup.py): finished with status 'done'\n",
      "Collecting py4j==0.10.9.7 (from pyspark)\n",
      "  Obtaining dependency information for py4j==0.10.9.7 from https://files.pythonhosted.org/packages/10/30/a58b32568f1623aaad7db22aa9eafc4c6c194b429ff35bdc55ca2726da47/py4j-0.10.9.7-py2.py3-none-any.whl.metadata\n",
      "  Downloading py4j-0.10.9.7-py2.py3-none-any.whl.metadata (1.5 kB)\n",
      "Downloading py4j-0.10.9.7-py2.py3-none-any.whl (200 kB)\n",
      "   ---------------------------------------- 0.0/200.5 kB ? eta -:--:--\n",
      "   ---------------------------------------- 200.5/200.5 kB ? eta 0:00:00\n",
      "Building wheels for collected packages: pyspark\n",
      "  Building wheel for pyspark (setup.py): started\n",
      "  Building wheel for pyspark (setup.py): finished with status 'done'\n",
      "  Created wheel for pyspark: filename=pyspark-3.5.0-py2.py3-none-any.whl size=317425388 sha256=6216a8c4654d593882d6bed50a094d65ca133ea393a139564c54574077510b36\n",
      "  Stored in directory: c:\\users\\allen an\\appdata\\local\\pip\\cache\\wheels\\38\\df\\61\\8c121f50c3cffd77f8178180dd232d90b3b99d1bd61fb6d6be\n",
      "Successfully built pyspark\n",
      "Installing collected packages: py4j, pyspark\n",
      "Successfully installed py4j-0.10.9.7 pyspark-3.5.0\n",
      "Note: you may need to restart the kernel to use updated packages.\n"
     ]
    }
   ],
   "source": [
    "pip install pyspark"
   ]
  },
  {
   "cell_type": "code",
   "execution_count": 2,
   "metadata": {},
   "outputs": [],
   "source": [
    "from pyspark import SparkConf, SparkContext\n",
    "conf = SparkConf().setMaster(\"local[*]\").setAppName(\"RDD Lab\")\n",
    "sc = SparkContext(conf = conf)"
   ]
  },
  {
   "cell_type": "code",
   "execution_count": 3,
   "metadata": {},
   "outputs": [],
   "source": [
    "%matplotlib inline \n",
    "import matplotlib.pyplot as plt\n",
    "import numpy as np\n",
    "\n",
    "# Helper function to test the correctness of the solutions\n",
    "def test(var, val, msg=\"\"):\n",
    "    print(\"1 test passed.\") if var == val else print(\"1 test failed. \" + msg)"
   ]
  },
  {
   "cell_type": "code",
   "execution_count": 4,
   "metadata": {},
   "outputs": [
    {
     "data": {
      "text/html": [
       "\n",
       "        <div>\n",
       "            <p><b>SparkContext</b></p>\n",
       "\n",
       "            <p><a href=\"http://DESKTOP-8SBMAPL:4040\">Spark UI</a></p>\n",
       "\n",
       "            <dl>\n",
       "              <dt>Version</dt>\n",
       "                <dd><code>v3.5.0</code></dd>\n",
       "              <dt>Master</dt>\n",
       "                <dd><code>local[*]</code></dd>\n",
       "              <dt>AppName</dt>\n",
       "                <dd><code>RDD Lab</code></dd>\n",
       "            </dl>\n",
       "        </div>\n",
       "        "
      ],
      "text/plain": [
       "<SparkContext master=local[*] appName=RDD Lab>"
      ]
     },
     "execution_count": 4,
     "metadata": {},
     "output_type": "execute_result"
    }
   ],
   "source": [
    "sc"
   ]
  },
  {
   "cell_type": "markdown",
   "metadata": {
    "deletable": false,
    "editable": false,
    "nbgrader": {
     "cell_type": "markdown",
     "checksum": "6c9abac50c3c0a52dd3db1a33383dbc4",
     "grade": false,
     "grade_id": "cell-zzz8f418a3488649",
     "locked": true,
     "schema_version": 3,
     "solution": false
    }
   },
   "source": [
    "# Useful tips for programming exercises\n",
    "\n",
    "When programming in Spark with Jupyter Notebooks it is useful to make use of its interactivity. That is, instead of addressing the exercise as a whole, try to divide it into smaller pieces and program it incrementally, checking that every step is being performed as expected. \n",
    "\n",
    "To illustrate this, we are going to implement the Word Count program step by step, and you will later be asked to put everything together as part of Exercise 0. \n",
    "\n",
    "We already know that to count words we need to first divide each sentence (string) of the RDD into words. But before that, we should read the data from a file. We can implement a simple function that takes the filename (and its path) as input, and creates an RDD with it. To check that this works, we could use a `take` action right after loading the file and see the first 10 lines of the file. Let's do this."
   ]
  },
  {
   "cell_type": "code",
   "execution_count": 5,
   "metadata": {
    "scrolled": false
   },
   "outputs": [
    {
     "data": {
      "text/plain": [
       "['',\n",
       " 'The Project Gutenberg EBook of The History of Don Quixote by Miguel de Cervantes',\n",
       " '',\n",
       " 'This eBook is for the use of anyone anywhere at no cost and with',\n",
       " 'almost no restrictions whatsoever.  You may copy it, give it away or',\n",
       " 're-use it under the terms of the Project Gutenberg License included',\n",
       " 'with this eBook or online at www.gutenberg.org',\n",
       " '',\n",
       " '',\n",
       " 'Title: The History of Don Quixote']"
      ]
     },
     "execution_count": 5,
     "metadata": {},
     "output_type": "execute_result"
    }
   ],
   "source": [
    "# First step, check the reading\n",
    "def word_count(file_path):\n",
    "    lines = sc.textFile(file_path)\n",
    "    \n",
    "    output = lines.take(10) # trigger the reading of the file \n",
    "    return output\n",
    "    \n",
    "# Test the function with quixote.txt file\n",
    "word_count(\"quixote.txt\")"
   ]
  },
  {
   "cell_type": "markdown",
   "metadata": {
    "deletable": false,
    "editable": false,
    "nbgrader": {
     "cell_type": "markdown",
     "checksum": "685704f0344b5235862bfd738a48c9ab",
     "grade": false,
     "grade_id": "cell-0ae9fe835f50a10c",
     "locked": true,
     "schema_version": 3,
     "solution": false,
     "task": false
    }
   },
   "source": [
    "Doing this allows us to see the first 10 elements from the RDD, so we can understand that each element is a string containing a line of the book.\n",
    "\n",
    "The next step is to divide those lines into words using the `split` function for Strings from Python."
   ]
  },
  {
   "cell_type": "code",
   "execution_count": 5,
   "metadata": {},
   "outputs": [
    {
     "data": {
      "text/plain": [
       "[[''],\n",
       " ['The',\n",
       "  'Project',\n",
       "  'Gutenberg',\n",
       "  'EBook',\n",
       "  'of',\n",
       "  'The',\n",
       "  'History',\n",
       "  'of',\n",
       "  'Don',\n",
       "  'Quixote',\n",
       "  'by',\n",
       "  'Miguel',\n",
       "  'de',\n",
       "  'Cervantes'],\n",
       " [''],\n",
       " ['This',\n",
       "  'eBook',\n",
       "  'is',\n",
       "  'for',\n",
       "  'the',\n",
       "  'use',\n",
       "  'of',\n",
       "  'anyone',\n",
       "  'anywhere',\n",
       "  'at',\n",
       "  'no',\n",
       "  'cost',\n",
       "  'and',\n",
       "  'with'],\n",
       " ['almost',\n",
       "  'no',\n",
       "  'restrictions',\n",
       "  'whatsoever.',\n",
       "  '',\n",
       "  'You',\n",
       "  'may',\n",
       "  'copy',\n",
       "  'it,',\n",
       "  'give',\n",
       "  'it',\n",
       "  'away',\n",
       "  'or'],\n",
       " ['re-use',\n",
       "  'it',\n",
       "  'under',\n",
       "  'the',\n",
       "  'terms',\n",
       "  'of',\n",
       "  'the',\n",
       "  'Project',\n",
       "  'Gutenberg',\n",
       "  'License',\n",
       "  'included'],\n",
       " ['with', 'this', 'eBook', 'or', 'online', 'at', 'www.gutenberg.org'],\n",
       " [''],\n",
       " [''],\n",
       " ['Title:', 'The', 'History', 'of', 'Don', 'Quixote']]"
      ]
     },
     "execution_count": 5,
     "metadata": {},
     "output_type": "execute_result"
    }
   ],
   "source": [
    "# Next, we check the split\n",
    "def word_count(file_path):\n",
    "    lines = sc.textFile(file_path)\n",
    "    words = lines.map(lambda line: line.split(' '))\n",
    "    \n",
    "    output = words.take(10)\n",
    "    return output\n",
    "    \n",
    "# Test the function with quixote.txt file\n",
    "word_count(\"quixote.txt\")"
   ]
  },
  {
   "cell_type": "markdown",
   "metadata": {
    "deletable": false,
    "editable": false,
    "nbgrader": {
     "cell_type": "markdown",
     "checksum": "36381e5bbe0583381f773d88ce950df3",
     "grade": false,
     "grade_id": "cell-502zzzeb035b95bd",
     "locked": true,
     "schema_version": 3,
     "solution": false,
     "task": false
    }
   },
   "source": [
    "Well, in this case, we get a new RDD composed of lists. Is this what we need? Not really, we want an RDD of words. So looking at that output we can see that we should change something. You may recall that `split` returns a list of words that is split by the character given as argument. Hence, if we just want the words in the RDD we must use `flatMap` instead of `map`."
   ]
  },
  {
   "cell_type": "code",
   "execution_count": 11,
   "metadata": {},
   "outputs": [
    {
     "data": {
      "text/plain": [
       "['',\n",
       " 'The',\n",
       " 'Project',\n",
       " 'Gutenberg',\n",
       " 'EBook',\n",
       " 'of',\n",
       " 'The',\n",
       " 'History',\n",
       " 'of',\n",
       " 'Don',\n",
       " 'Quixote',\n",
       " 'by',\n",
       " 'Miguel',\n",
       " 'de',\n",
       " 'Cervantes',\n",
       " '',\n",
       " 'This',\n",
       " 'eBook',\n",
       " 'is',\n",
       " 'for',\n",
       " 'the',\n",
       " 'use',\n",
       " 'of',\n",
       " 'anyone',\n",
       " 'anywhere',\n",
       " 'at',\n",
       " 'no',\n",
       " 'cost',\n",
       " 'and',\n",
       " 'with',\n",
       " 'almost',\n",
       " 'no',\n",
       " 'restrictions',\n",
       " 'whatsoever.',\n",
       " '',\n",
       " 'You',\n",
       " 'may',\n",
       " 'copy',\n",
       " 'it,',\n",
       " 'give',\n",
       " 'it',\n",
       " 'away',\n",
       " 'or',\n",
       " 're-use',\n",
       " 'it',\n",
       " 'under',\n",
       " 'the',\n",
       " 'terms',\n",
       " 'of',\n",
       " 'the',\n",
       " 'Project',\n",
       " 'Gutenberg',\n",
       " 'License',\n",
       " 'included',\n",
       " 'with',\n",
       " 'this',\n",
       " 'eBook',\n",
       " 'or',\n",
       " 'online',\n",
       " 'at',\n",
       " 'www.gutenberg.org',\n",
       " '',\n",
       " '',\n",
       " 'Title:',\n",
       " 'The',\n",
       " 'History',\n",
       " 'of',\n",
       " 'Don',\n",
       " 'Quixote',\n",
       " '',\n",
       " 'Author:',\n",
       " 'Miguel',\n",
       " 'de',\n",
       " 'Cervantes',\n",
       " 'Saavedra',\n",
       " '',\n",
       " 'Release',\n",
       " 'Date:',\n",
       " 'July',\n",
       " '27,',\n",
       " '2004',\n",
       " '[EBook',\n",
       " '#996]',\n",
       " 'Last',\n",
       " 'Updated:',\n",
       " 'August',\n",
       " '26,',\n",
       " '2019',\n",
       " '',\n",
       " 'Language:',\n",
       " 'English',\n",
       " '',\n",
       " 'Character',\n",
       " 'set',\n",
       " 'encoding:',\n",
       " 'UTF-8',\n",
       " '',\n",
       " '***',\n",
       " 'START',\n",
       " 'OF']"
      ]
     },
     "execution_count": 11,
     "metadata": {},
     "output_type": "execute_result"
    }
   ],
   "source": [
    "# Next, we check the split\n",
    "def word_count(file_path):\n",
    "    lines = sc.textFile(file_path)\n",
    "    words = lines.flatMap(lambda line: line.split(' '))\n",
    "    \n",
    "    output = words.take(10)\n",
    "    return output\n",
    "    \n",
    "# Test the function with quixote.txt file\n",
    "word_count(\"quixote.txt\")"
   ]
  },
  {
   "cell_type": "markdown",
   "metadata": {
    "deletable": false,
    "editable": false,
    "nbgrader": {
     "cell_type": "markdown",
     "checksum": "5facafafc2fc7cb3f2d62193619a1de6",
     "grade": false,
     "grade_id": "cell-db7d3fzzz86352",
     "locked": true,
     "schema_version": 3,
     "solution": false,
     "task": false
    }
   },
   "source": [
    "Brilliant! Much better now. What is left to finish this? We will ask you to think about it in the next section.\n",
    "\n",
    "In summary, all exercises can usually be implemented incrementally, which eases finding bugs and problems. If we tried to program the whole Word Count and tested it at the end, we might get an error and could spend much more time trying to correct it and looking to understand where the error comes from. We suggest you test each step of the way to ensure that you are getting what you expect."
   ]
  },
  {
   "cell_type": "markdown",
   "metadata": {
    "deletable": false,
    "editable": false,
    "nbgrader": {
     "cell_type": "markdown",
     "checksum": "b41a7223a6b9e713853366b41c439c94",
     "grade": false,
     "grade_id": "cell-8cdb21azzzf3d35e",
     "locked": true,
     "schema_version": 3,
     "solution": false,
     "task": false
    }
   },
   "source": [
    "## Exercise 0: Word Count with Spark\n",
    "\n",
    "Let's now implement the complete Word Count program in Spark, considering a few additional things we may need when working with real data. Thus, you're asked to implement a `word_count(file_path)` function that counts the number of words in a document or a number of text documents provided in the input path. The function `word_count(file_path)` should give as an output the 10 most repeated words in descending order of repetitions.\n",
    "\n",
    "**Input:** The path to a text file\n",
    "\n",
    "**Output:** (word, count) - only the 10 words with the highest frequency!\n",
    "\n",
    "Recommended steps:\n",
    "1. Read the file or files. Each line should be an element of the RDD. (*transformation*)\n",
    "2. Split the lines into words. (*transformation*)\n",
    "3. Filter empty words (`''`) resulting from previous steps. (*transformation*)\n",
    "4. Count the number of occurrences of each word. (*transformation*)\n",
    "5. Return to the driver program the 10 most repeated words. (*action*)\n",
    "\n",
    "                                                                                                       [0 marks]"
   ]
  },
  {
   "cell_type": "code",
   "execution_count": null,
   "metadata": {
    "deletable": false,
    "nbgrader": {
     "cell_type": "code",
     "checksum": "bcfd60a458abf57df4850989c8015038",
     "grade": false,
     "grade_id": "cell-5b42f769d37azzz2",
     "locked": false,
     "schema_version": 3,
     "solution": true
    }
   },
   "outputs": [],
   "source": [
    "def word_count(file_path):\n",
    "    # <FILL-IN WITH YOUR CODE>\n",
    "    lines = sc.textFile(file_path)\n",
    "    words = lines.flatMap(lambda line: line.split(' '))\n",
    "    \n",
    "# Test the function with quixote.txt file\n",
    "word_count(\"data/quixote.txt\")"
   ]
  },
  {
   "cell_type": "markdown",
   "metadata": {
    "deletable": false,
    "editable": false,
    "nbgrader": {
     "cell_type": "markdown",
     "checksum": "c54636a09e3371a5eb56f43e50bd55f5",
     "grade": false,
     "grade_id": "cell-8c19ebc1352dbf17",
     "locked": true,
     "schema_version": 3,
     "solution": false,
     "task": false
    }
   },
   "source": [
    "The program should pass the following test:"
   ]
  },
  {
   "cell_type": "code",
   "execution_count": null,
   "metadata": {
    "deletable": false,
    "editable": false,
    "nbgrader": {
     "cell_type": "code",
     "checksum": "ed47f49915b742fb5b4322a172e5f554",
     "grade": true,
     "grade_id": "cell-ef044zzz0a494e9",
     "locked": true,
     "points": 5,
     "schema_version": 3,
     "solution": false
    }
   },
   "outputs": [],
   "source": [
    "top10_quixote = word_count(\"data/quixote.txt\")\n",
    "print(top10_quixote)\n",
    "test(top10_quixote, [('the', 20923), ('and', 16606), ('to', 13492), ('of', 12866), \n",
    "                                  ('that', 7164), ('a', 7003), ('in', 6860), ('I', 5756), ('he', 5640), \n",
    "                                  ('for', 4534)], \"Try again!\")"
   ]
  },
  {
   "cell_type": "markdown",
   "metadata": {
    "deletable": false,
    "editable": false,
    "nbgrader": {
     "cell_type": "markdown",
     "checksum": "a20f918c3c74bc9247a6a3019178cd47",
     "grade": false,
     "grade_id": "cell-11511dda4bdazzz2",
     "locked": true,
     "schema_version": 3,
     "solution": false,
     "task": false
    }
   },
   "source": [
    "## Exercise 1. Histogram of word repetition\n",
    "\n",
    "Provide a histogram of word repetitions, that is, the number of words that are repeated X times:\n",
    "\n",
    "* 1 time - 3 words\n",
    "* 2 times - 10 words\n",
    "* 3 times, 20 words\n",
    "...\n",
    "\n",
    "You are asked to implement a `histogram_reps(file_path)` function in Spark that **must not** use the function `word_count(file_path)`, but it could use part of the code you did before. All the processing must be done with RDDs, and there should be a single `collect()` at the end to return a list. The list must be ordered by the number of times. \n",
    "\n",
    "**Input**: The path to a text file\n",
    "\n",
    "**Output**: (X times, number of words)\n",
    "\n",
    "                                                                                                       [25 marks]"
   ]
  },
  {
   "cell_type": "code",
   "execution_count": null,
   "metadata": {
    "deletable": false,
    "nbgrader": {
     "cell_type": "code",
     "checksum": "540671cc612e521f4dcc0d75ae00eca3",
     "grade": false,
     "grade_id": "cell-f6f39xxx672c31b0",
     "locked": false,
     "schema_version": 3,
     "solution": true
    }
   },
   "outputs": [],
   "source": [
    "def histogram_reps(file_path):\n",
    "    # <FILL-IN WITH YOUR CODE>\n",
    "    \n",
    "histogram_reps('data/quixote.txt')[:20] # look at the first 20 results"
   ]
  },
  {
   "cell_type": "markdown",
   "metadata": {
    "deletable": false,
    "editable": false,
    "nbgrader": {
     "cell_type": "markdown",
     "checksum": "d7dcbb4eb13423d01a3234881c8ebe91",
     "grade": false,
     "grade_id": "cell-fxxxxx5ac45bd7b5",
     "locked": true,
     "schema_version": 3,
     "solution": false,
     "task": false
    }
   },
   "source": [
    "The program should pass the following test:"
   ]
  },
  {
   "cell_type": "code",
   "execution_count": null,
   "metadata": {
    "deletable": false,
    "editable": false,
    "nbgrader": {
     "cell_type": "code",
     "checksum": "c465622cfaeffc27210e788a9a43dbbd",
     "grade": true,
     "grade_id": "cell-72qqqqfcbcf69d29",
     "locked": true,
     "points": 0,
     "schema_version": 3,
     "solution": false,
     "task": false
    }
   },
   "outputs": [],
   "source": [
    "hist_quixote = histogram_reps(\"data/quixote.txt\")\n",
    "test(hist_quixote[:10],[(1, 17817), (2, 5146), (3, 2291), (4, 1520), \n",
    "                                     (5, 998), (6, 737), (7, 589), (8, 439), (9, 333), (10, 288)], \"Try again!\")"
   ]
  },
  {
   "cell_type": "markdown",
   "metadata": {
    "deletable": false,
    "editable": false,
    "nbgrader": {
     "cell_type": "markdown",
     "checksum": "ea5d53971e69c74f788ee2601ef6d353",
     "grade": false,
     "grade_id": "cell-fd97145f212433e6b",
     "locked": true,
     "schema_version": 3,
     "solution": false,
     "task": false
    }
   },
   "source": [
    "You could plot this with the matplotlib library:"
   ]
  },
  {
   "cell_type": "code",
   "execution_count": null,
   "metadata": {},
   "outputs": [],
   "source": [
    "(x_values, y_values) = zip(*hist_quixote[:10])\n",
    "plt.bar(x_values, y_values)\n",
    "plt.title('Histogram of repetitions (up to 10)')\n",
    "plt.xlabel('Number of repetitions')\n",
    "plt.ylabel('Number of words')\n",
    "plt.show()"
   ]
  },
  {
   "cell_type": "markdown",
   "metadata": {
    "deletable": false,
    "editable": false,
    "nbgrader": {
     "cell_type": "markdown",
     "checksum": "86f08afa859e036f86720396b569bd13",
     "grade": false,
     "grade_id": "cell-fbf53529a525252e",
     "locked": true,
     "schema_version": 3,
     "solution": false,
     "task": false
    }
   },
   "source": [
    "## Exercise 2. Histogram of the length of the words\n",
    "\n",
    "Provide a histogram of the length of the words. Word repetition is not a problem, so if you have the word 'bye' twice in your document, you would add 2 to the number of words of length 3.\n",
    "\n",
    "* Length 1 - 100 times\n",
    "* Length 2 - 300 times\n",
    "* Length 3 - 400 times\n",
    "...\n",
    "\n",
    "You are asked to implement a `histogram_length(file_path)` function in Spark. All the processing must be done with RDDs, and there should be a single `collect()` at the end to return a list. The list must be ordered by the length of the words.\n",
    "\n",
    "**Input**: The path to a text file\n",
    "\n",
    "**Output**: (Length, number of words)\n",
    "\n",
    "**Note: We are going to assume that the maximum word length is 16 characters, so anything above that shouldn't appear in the result.**\n",
    "\n",
    "                                                                                                       [25 marks]"
   ]
  },
  {
   "cell_type": "code",
   "execution_count": 19,
   "metadata": {
    "deletable": false,
    "nbgrader": {
     "cell_type": "code",
     "checksum": "cc3c3326fa3b4f7895dc678245239fe1",
     "grade": false,
     "grade_id": "cell-c8afo46146af50c4b",
     "locked": false,
     "schema_version": 3,
     "solution": true
    }
   },
   "outputs": [
    {
     "name": "stdout",
     "output_type": "stream",
     "text": [
      "[(1, 12978), (2, 80003), (3, 98414), (4, 80717), (5, 45809), (6, 33672), (7, 30995), (8, 19570), (9, 12350), (10, 7929), (11, 3849), (12, 2043), (13, 963), (14, 539), (15, 251), (16, 110)]\n"
     ]
    },
    {
     "data": {
      "text/plain": [
       "[(1, 12978),\n",
       " (2, 80003),\n",
       " (3, 98414),\n",
       " (4, 80717),\n",
       " (5, 45809),\n",
       " (6, 33672),\n",
       " (7, 30995),\n",
       " (8, 19570),\n",
       " (9, 12350),\n",
       " (10, 7929),\n",
       " (11, 3849),\n",
       " (12, 2043),\n",
       " (13, 963),\n",
       " (14, 539),\n",
       " (15, 251),\n",
       " (16, 110)]"
      ]
     },
     "execution_count": 19,
     "metadata": {},
     "output_type": "execute_result"
    }
   ],
   "source": [
    "from operator import add\n",
    "def histogram_length(file_path):\n",
    "    # <FILL-IN WITH YOUR CODE>\n",
    "    lines = sc.textFile(file_path)\n",
    "    words = lines.flatMap(lambda line: line.split(\" \"))\n",
    "    splitdata = words.filter(lambda w:len(w)<=16 and len(w)>0).map(lambda w: (len(w), 1))\n",
    "    reducedata=splitdata.reduceByKey(add)\n",
    "    sortdata=reducedata.sortByKey(ascending=True).collect()\n",
    "    print(sortdata)\n",
    "    return sortdata\n",
    "histogram_length(\"data/quixote.txt\")"
   ]
  },
  {
   "cell_type": "markdown",
   "metadata": {
    "deletable": false,
    "editable": false,
    "nbgrader": {
     "cell_type": "markdown",
     "checksum": "1e8cb382de01c41ab939331fe567a045",
     "grade": false,
     "grade_id": "cell-74d9340329b15db9",
     "locked": true,
     "schema_version": 3,
     "solution": false,
     "task": false
    }
   },
   "source": [
    "The program should pass the following test:"
   ]
  },
  {
   "cell_type": "code",
   "execution_count": 20,
   "metadata": {
    "deletable": false,
    "editable": false,
    "nbgrader": {
     "cell_type": "code",
     "checksum": "98ce233576c70e918d772750b8de1677",
     "grade": true,
     "grade_id": "cell-733bbe2050000f87",
     "locked": true,
     "points": 0,
     "schema_version": 3,
     "solution": false,
     "task": false
    }
   },
   "outputs": [
    {
     "name": "stdout",
     "output_type": "stream",
     "text": [
      "[(1, 12978), (2, 80003), (3, 98414), (4, 80717), (5, 45809), (6, 33672), (7, 30995), (8, 19570), (9, 12350), (10, 7929), (11, 3849), (12, 2043), (13, 963), (14, 539), (15, 251), (16, 110)]\n",
      "[(1, 12978), (2, 80003), (3, 98414), (4, 80717), (5, 45809), (6, 33672), (7, 30995), (8, 19570), (9, 12350), (10, 7929), (11, 3849), (12, 2043), (13, 963), (14, 539), (15, 251), (16, 110)]\n",
      "1 test passed.\n"
     ]
    }
   ],
   "source": [
    "length_quixote = histogram_length(\"data/quixote.txt\")\n",
    "print(length_quixote)\n",
    "test(length_quixote, [(1, 12978), (2, 80003), (3, 98414), (4, 80717), (5, 45809), \n",
    "                                   (6, 33672), (7, 30995), (8, 19570), (9, 12350), (10, 7929),\n",
    "                                   (11, 3849), (12, 2043), (13, 963), (14, 539), (15, 251), (16, 110)],\"Try again!\")"
   ]
  },
  {
   "cell_type": "markdown",
   "metadata": {
    "deletable": false,
    "editable": false,
    "nbgrader": {
     "cell_type": "markdown",
     "checksum": "e7a17862e258fefd1c06f7070792961a",
     "grade": false,
     "grade_id": "cell-8bb0158c3410eb08",
     "locked": true,
     "schema_version": 3,
     "solution": false,
     "task": false
    }
   },
   "source": [
    "### Task: Draw the histogram"
   ]
  },
  {
   "cell_type": "code",
   "execution_count": 21,
   "metadata": {
    "deletable": false,
    "nbgrader": {
     "cell_type": "code",
     "checksum": "c184121169ad199227d893c86dc526e2",
     "grade": false,
     "grade_id": "cell-zws6fa570692b4fc",
     "locked": false,
     "schema_version": 3,
     "solution": true
    }
   },
   "outputs": [
    {
     "data": {
      "image/png": "[encoded data removed]",
      "text/plain": [
       "<Figure size 640x480 with 1 Axes>"
      ]
     },
     "metadata": {},
     "output_type": "display_data"
    }
   ],
   "source": [
    "# <FILL-IN WITH YOUR CODE>\n",
    "(x_values, y_values) = zip(*length_quixote)\n",
    "plt.bar(x_values,y_values)\n",
    "plt.title('Histogram of words repetition')\n",
    "plt.xlabel('Number of length')\n",
    "plt.ylabel('Number of words')\n",
    "plt.show()"
   ]
  },
  {
   "cell_type": "markdown",
   "metadata": {
    "deletable": false,
    "editable": false,
    "nbgrader": {
     "cell_type": "markdown",
     "checksum": "9b02c67d8e37f501ab9a3a3818e92597",
     "grade": false,
     "grade_id": "cell-7c0a25f4d71b15a4",
     "locked": true,
     "schema_version": 3,
     "solution": false,
     "task": false
    }
   },
   "source": [
    "## Exercise 3. Average length of the words in a document\n",
    "\n",
    "You are now asked to implement an `average_length(file_path)` function in Spark that provides the average length of the words in a document or documents. All the processing must be done with RDDs, and the last instruction must be the only one returning a result to the driver. \n",
    "\n",
    "**Input**: The path to a text file\n",
    "\n",
    "**Output**: Average length of the words\n",
    "\n",
    "**Note: Again, we are going to assume that the maximum word length is 16 characters, so anything above that shouldn't be used to compute the average**\n",
    "\n",
    "You can do it in two different ways (you can try both and check possible differences): \n",
    "\n",
    "- **Option 1**. As we have done in the previous lab: you will need to get the total length of the words in the text and the total number of words in just one MapReduce job. Then, you just need to make the division.\n",
    "\n",
    "\n",
    "                                                                                                       [15 marks]"
   ]
  },
  {
   "cell_type": "code",
   "execution_count": null,
   "metadata": {
    "deletable": false,
    "nbgrader": {
     "cell_type": "code",
     "checksum": "d41bbe12130a270bf5a4aa0583e980dd",
     "grade": false,
     "grade_id": "cell-c599988574d599e2",
     "locked": false,
     "schema_version": 3,
     "solution": true
    }
   },
   "outputs": [],
   "source": [
    "def average_length(file_path):\n",
    "    # <FILL-IN WITH YOUR CODE>\n",
    "    \n",
    "average_length(\"data/quixote.txt\")"
   ]
  },
  {
   "cell_type": "markdown",
   "metadata": {
    "deletable": false,
    "editable": false,
    "nbgrader": {
     "cell_type": "markdown",
     "checksum": "15121fcdfebe057f1325e22c484a71d5",
     "grade": false,
     "grade_id": "cell-227fe933ccc94d5",
     "locked": true,
     "schema_version": 3,
     "solution": false,
     "task": false
    }
   },
   "source": [
    "The program should pass the following test:"
   ]
  },
  {
   "cell_type": "code",
   "execution_count": null,
   "metadata": {
    "deletable": false,
    "editable": false,
    "nbgrader": {
     "cell_type": "code",
     "checksum": "16f7f28859a9dca8147d1d2c32827316",
     "grade": true,
     "grade_id": "cell-b70iii2456f2ad27",
     "locked": true,
     "points": 5,
     "schema_version": 3,
     "solution": false
    }
   },
   "outputs": [],
   "source": [
    "avg = average_length(\"data/quixote.txt\")\n",
    "test(round(avg,5), 4.36684,'Try again!')"
   ]
  },
  {
   "cell_type": "markdown",
   "metadata": {
    "deletable": false,
    "editable": false,
    "nbgrader": {
     "cell_type": "markdown",
     "checksum": "a1b6d43546d3e14913af54abddbab98d",
     "grade": false,
     "grade_id": "cell-062d11caf5156ppp",
     "locked": true,
     "schema_version": 3,
     "solution": false,
     "task": false
    }
   },
   "source": [
    "- **Option 2**. Using some built-in functions from Spark: you can think of a function available from Spark API that can simplify the implementation.\n",
    "\n",
    "                                                                                                       [10 marks]"
   ]
  },
  {
   "cell_type": "code",
   "execution_count": null,
   "metadata": {
    "deletable": false,
    "nbgrader": {
     "cell_type": "code",
     "checksum": "b213b01354be0e3f9c9b79591ab9baa3",
     "grade": false,
     "grade_id": "cell-016b9a4b1d83yyy8",
     "locked": false,
     "schema_version": 3,
     "solution": true,
     "task": false
    }
   },
   "outputs": [],
   "source": [
    "def average_length(file_path):\n",
    "    # <FILL-IN WITH YOUR CODE>\n",
    "    \n",
    "average_length(\"data/quixote.txt\")"
   ]
  },
  {
   "cell_type": "markdown",
   "metadata": {
    "deletable": false,
    "editable": false,
    "nbgrader": {
     "cell_type": "markdown",
     "checksum": "0695b212d56267e50a2db36a8151644b",
     "grade": false,
     "grade_id": "cell-9db0ad40555a2b69",
     "locked": true,
     "schema_version": 3,
     "solution": false,
     "task": false
    }
   },
   "source": [
    "The program should pass the following test:"
   ]
  },
  {
   "cell_type": "code",
   "execution_count": null,
   "metadata": {
    "deletable": false,
    "editable": false,
    "nbgrader": {
     "cell_type": "code",
     "checksum": "1641b156f9e5c8607cc607214935612f",
     "grade": true,
     "grade_id": "cell-7f77mmma2bbef40b",
     "locked": true,
     "points": 0,
     "schema_version": 3,
     "solution": false,
     "task": false
    }
   },
   "outputs": [],
   "source": [
    "avg = average_length(\"data/quixote.txt\")\n",
    "test(round(avg,5), 4.36684,'Try again!')"
   ]
  },
  {
   "cell_type": "markdown",
   "metadata": {
    "deletable": false,
    "editable": false,
    "nbgrader": {
     "cell_type": "markdown",
     "checksum": "d567f5e9d2e0d2db48693eecaf0557e9",
     "grade": false,
     "grade_id": "cell-7111d2ea9f467ae9",
     "locked": true,
     "schema_version": 3,
     "solution": false,
     "task": false
    }
   },
   "source": [
    "## Exercise 4. Find a list of common friends between pairs of friends\n",
    "\n",
    "Obtain a list of common friends for each pair of friends. That is, for each two people that are friends (assuming friendship is bi-directional), you need to find the friends in common.\n",
    "\n",
    "You are asked to implement a function `common_friends(file_path)` that reads a file that contains a list of friends for each person. The function should output for each pair of friends, the list of common friends.\n",
    "\n",
    "**Input**: A file with the following format: Person -> List of friends. \n",
    "\n",
    "```\n",
    "Isaac -> Mikel John Lucy\n",
    "Mikel -> Isaac John Lucy Claudia\n",
    "John -> Isaac Mikel Lucy Claudia\n",
    "Lucy -> Isaac Mikel John Claudia\n",
    "Claudia -> Mikel John Lucy\n",
    "```\n",
    "\n",
    "**Output**: (pair of friends, list of common friends)\n",
    "```\n",
    "(Isaac, Mikel)    -> [John, Lucy]\n",
    "(Claudia, Mikel)  -> [John, Lucy]\n",
    "(John, Lucy)      -> [Claudia, Isaac, Mikel]\n",
    "(Isaac, John)     -> [Lucy, Mikel]\n",
    "(Isaac, Lucy)     -> [John, Mikel]\n",
    "(John, Mikel)     -> [Claudia, Isaac, Lucy]\n",
    "(Lucy, Mikel)     -> [Claudia, Isaac, John]\n",
    "(Claudia, John)   -> [Lucy, Mikel]\n",
    "(Claudia, Lucy)   -> [John, Mikel]\n",
    "\n",
    "```\n",
    "\n",
    "You could follow similar steps to the ones in the previous exercise:\n",
    "\n",
    "- Parse the input file to create an RDD of tuples like this: \n",
    "\n",
    "```\n",
    "[\n",
    " ('Isaac', ['Mikel', 'John', 'Lucy']),\n",
    " ('Mikel', ['Isaac', 'John', 'Lucy', 'Claudia']),\n",
    " ('John', ['Isaac', 'Mikel', 'Lucy', 'Claudia']),\n",
    " ('Lucy', ['Isaac', 'Mikel', 'John', 'Claudia']),\n",
    " ('Claudia', ['Mikel', 'John', 'Lucy'])\n",
    "]\n",
    "```\n",
    "\n",
    "- For each one of these, we would recommend a function to create a list of tuples that looks like this:\n",
    "\n",
    "```\n",
    "[\n",
    " (('Isaac', 'Mikel'), ['Mikel', 'John', 'Lucy']),\n",
    " (('Isaac', 'John'), ['Mikel', 'John', 'Lucy']),\n",
    " (('Isaac', 'Lucy'), ['Mikel', 'John', 'Lucy'])\n",
    "]\n",
    "```\n",
    "\n",
    "**Note**:  Make sure you sort the tuples that will be acting as keys. Lists cannot be used as keys in Spark because they are mutable. When you sort a tuple with `sorted`, you will get a list, which must be converted back to a tuple.\n",
    " \n",
    "- You will have to aggregate those results by key and perform the final intersection of list of friends.\n",
    "\n",
    "                                                                                                       [25 marks]"
   ]
  },
  {
   "cell_type": "code",
   "execution_count": 8,
   "metadata": {
    "deletable": false,
    "nbgrader": {
     "cell_type": "code",
     "checksum": "f66057038cd9019ca79cb09fc8912f93",
     "grade": false,
     "grade_id": "cell-1f34f7d187fd5679",
     "locked": false,
     "schema_version": 3,
     "solution": true
    }
   },
   "outputs": [
    {
     "name": "stdout",
     "output_type": "stream",
     "text": [
      "[(('Mikel', 'John'), ['Isaac', 'Lucy', 'Claudia']), (('Mikel', 'Lucy'), ['Isaac', 'John', 'Claudia']), (('John', 'Lucy'), ['Isaac', 'Mikel', 'Claudia']), (('Isaac', 'John'), ['Mikel', 'Lucy']), (('Isaac', 'Lucy'), ['Mikel', 'John']), (('Isaac', 'Mikel'), ['John', 'Lucy']), (('Isaac', 'Claudia'), ['Mikel', 'John', 'Lucy']), (('John', 'Claudia'), ['Mikel', 'Lucy']), (('Lucy', 'Claudia'), ['Mikel', 'John']), (('Mikel', 'Claudia'), ['John', 'Lucy'])]\n"
     ]
    },
    {
     "data": {
      "text/plain": [
       "[(('Mikel', 'John'), ['Isaac', 'Lucy', 'Claudia']),\n",
       " (('Mikel', 'Lucy'), ['Isaac', 'John', 'Claudia']),\n",
       " (('John', 'Lucy'), ['Isaac', 'Mikel', 'Claudia']),\n",
       " (('Isaac', 'John'), ['Mikel', 'Lucy']),\n",
       " (('Isaac', 'Lucy'), ['Mikel', 'John']),\n",
       " (('Isaac', 'Mikel'), ['John', 'Lucy']),\n",
       " (('Isaac', 'Claudia'), ['Mikel', 'John', 'Lucy']),\n",
       " (('John', 'Claudia'), ['Mikel', 'Lucy']),\n",
       " (('Lucy', 'Claudia'), ['Mikel', 'John']),\n",
       " (('Mikel', 'Claudia'), ['John', 'Lucy'])]"
      ]
     },
     "execution_count": 8,
     "metadata": {},
     "output_type": "execute_result"
    }
   ],
   "source": [
    "import itertools\n",
    "#ex4\n",
    "def commonsplit(line):\n",
    "    combinationdata = itertools.combinations(line[1], 2)\n",
    "    combinationdata = list(combinationdata)\n",
    "    print(combinationdata)\n",
    "    t=[]\n",
    "    for combine in combinationdata:\n",
    "        t.append((combine, line[0]))\n",
    "    return t\n",
    "\n",
    "def common_friends(file_path):\n",
    "    # <FILL-IN WITH YOUR CODE>\n",
    "    lines = sc.textFile(file_path)\n",
    "    words = lines.map(lambda line: line.split(\" \"))\n",
    "\n",
    "    relationship=words.map(lambda word:(word[0],word[2:]))\n",
    "\n",
    "    commonship = relationship.flatMap(commonsplit)\n",
    "\n",
    "    result=commonship.groupByKey().mapValues(list).collect()\n",
    "    print(result)\n",
    "    return result\n",
    "\n",
    "\n",
    "\n",
    "\n",
    "common_friends(\"data/friends.txt\")"
   ]
  },
  {
   "cell_type": "markdown",
   "metadata": {
    "deletable": false,
    "editable": false,
    "nbgrader": {
     "cell_type": "markdown",
     "checksum": "cbecac8a21455cd5f0963116853e51d4",
     "grade": false,
     "grade_id": "cell-cca79e0781rrr4bf",
     "locked": true,
     "schema_version": 3,
     "solution": false,
     "task": false
    }
   },
   "source": [
    "The program should pass the following test."
   ]
  },
  {
   "cell_type": "code",
   "execution_count": 9,
   "metadata": {
    "deletable": false,
    "editable": false,
    "nbgrader": {
     "cell_type": "code",
     "checksum": "3a97da27dabe340704c7dcc8200939ea",
     "grade": true,
     "grade_id": "cell-220e62dc94rr30e",
     "locked": true,
     "points": 0,
     "schema_version": 3,
     "solution": false,
     "task": false
    }
   },
   "outputs": [
    {
     "name": "stdout",
     "output_type": "stream",
     "text": [
      "[(('Mikel', 'John'), ['Isaac', 'Lucy', 'Claudia']), (('Mikel', 'Lucy'), ['Isaac', 'John', 'Claudia']), (('John', 'Lucy'), ['Isaac', 'Mikel', 'Claudia']), (('Isaac', 'John'), ['Mikel', 'Lucy']), (('Isaac', 'Lucy'), ['Mikel', 'John']), (('Isaac', 'Mikel'), ['John', 'Lucy']), (('Isaac', 'Claudia'), ['Mikel', 'John', 'Lucy']), (('John', 'Claudia'), ['Mikel', 'Lucy']), (('Lucy', 'Claudia'), ['Mikel', 'John']), (('Mikel', 'Claudia'), ['John', 'Lucy'])]\n",
      "1 test failed. Try again!\n"
     ]
    }
   ],
   "source": [
    "test(sorted(map(lambda t: (t[0], sorted(t[1])), common_friends(\"data/friends.txt\"))), \n",
    "                  sorted(map(lambda t: (t[0], sorted(t[1])), [(('Isaac', 'Mikel'), ['John', 'Lucy']),\n",
    "                                                              (('Claudia', 'Mikel'), ['John', 'Lucy']),\n",
    "                                                              (('John', 'Lucy'), ['Claudia', 'Isaac', 'Mikel']),\n",
    "                                                              (('Isaac', 'John'), ['Lucy', 'Mikel']),\n",
    "                                                              (('Isaac', 'Lucy'), ['John', 'Mikel']),\n",
    "                                                              (('John', 'Mikel'), ['Claudia', 'Isaac', 'Lucy']),\n",
    "                                                              (('Lucy', 'Mikel'), ['Claudia', 'Isaac', 'John']),\n",
    "                                                              (('Claudia', 'John'), ['Lucy', 'Mikel']),\n",
    "                                                              (('Claudia', 'Lucy'), ['John', 'Mikel'])])), \n",
    "                  'Try again!')"
   ]
  },
  {
   "cell_type": "code",
   "execution_count": null,
   "metadata": {},
   "outputs": [],
   "source": []
  }
 ],
 "metadata": {
  "kernelspec": {
   "display_name": "Python 3 (ipykernel)",
   "language": "python",
   "name": "python3"
  },
  "language_info": {
   "codemirror_mode": {
    "name": "ipython",
    "version": 3
   },
   "file_extension": ".py",
   "mimetype": "text/x-python",
   "name": "python",
   "nbconvert_exporter": "python",
   "pygments_lexer": "ipython3",
   "version": "3.11.5"
  }
 },
 "nbformat": 4,
 "nbformat_minor": 2
}
